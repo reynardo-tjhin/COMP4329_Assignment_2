{
 "cells": [
  {
   "cell_type": "code",
   "execution_count": 1,
   "id": "4911e523",
   "metadata": {},
   "outputs": [
    {
     "name": "stderr",
     "output_type": "stream",
     "text": [
      "/home/reynardo/.local/lib/python3.10/site-packages/tqdm/auto.py:21: TqdmWarning: IProgress not found. Please update jupyter and ipywidgets. See https://ipywidgets.readthedocs.io/en/stable/user_install.html\n",
      "  from .autonotebook import tqdm as notebook_tqdm\n"
     ]
    }
   ],
   "source": [
    "import os\n",
    "import re\n",
    "import csv\n",
    "import string\n",
    "import pandas as pd\n",
    "import numpy as np\n",
    "import statistics\n",
    "import itertools\n",
    "from PIL import Image\n",
    "import time\n",
    "from io import StringIO\n",
    "from skimage import io\n",
    "import matplotlib.pyplot as plt\n",
    "import torch\n",
    "from torch import nn\n",
    "import torchvision\n",
    "from torchvision import models\n",
    "import torch.nn.functional as F\n",
    "from torch.utils.data import Dataset, DataLoader, random_split, WeightedRandomSampler\n",
    "from torchvision.transforms import ToTensor, Lambda, Resize, Compose, ToPILImage, Normalize, RandomCrop, RandomHorizontalFlip, RandomVerticalFlip\n",
    "import matplotlib.pyplot as plt\n",
    "import csv\n",
    "from sklearn.metrics import f1_score, confusion_matrix, precision_score, recall_score\n",
    "from sklearn.metrics import accuracy_score\n",
    "from torchvision import transforms\n",
    "from sklearn.model_selection import train_test_split\n",
    "\n",
    "from tqdm import tqdm\n"
   ]
  },
  {
   "cell_type": "code",
   "execution_count": 2,
   "id": "1cb439e6",
   "metadata": {},
   "outputs": [],
   "source": [
    "import os\n",
    "import pandas as pd\n",
    "import numpy as np\n",
    "\n",
    "# Define directories and file paths\n",
    "DIR = 'dataset/'\n",
    "TRAIN_CSV = os.path.join(DIR, \"train.csv\")\n",
    "TEST_CSV = os.path.join(DIR, \"test.csv\")\n",
    "image_dir = os.path.join(DIR, \"data\")\n",
    "\n",
    "# List all files in the image directory\n",
    "all_files = set(os.listdir(image_dir))\n",
    "\n",
    "def parse_labels(label_string, num_classes):\n",
    "\tlabels = np.zeros(num_classes)\n",
    "\tfor label in label_string.split():\n",
    "\t\tlabels[int(label)] = 1\n",
    "\treturn labels\n",
    "\n",
    "# Load the CSV files with error handling\n",
    "try:\n",
    "\ttrain_df = pd.read_csv(TRAIN_CSV, on_bad_lines='skip')\n",
    "\ttest_df = pd.read_csv(TEST_CSV, on_bad_lines='skip')\n",
    "except pd.errors.ParserError as e:\n",
    "\tprint(f\"Error reading CSV file: {e}\")\n",
    "\n",
    "# Save the cleaned CSV files\n",
    "train_clean_csv = os.path.join(DIR, 'train_clean.csv')\n",
    "test_clean_csv = os.path.join(DIR, 'test_clean.csv')\n",
    "train_df.to_csv(train_clean_csv, index=False)\n",
    "test_df.to_csv(test_clean_csv, index=False)\n",
    "\n",
    "# Reload the cleaned CSV files\n",
    "train_df = pd.read_csv(train_clean_csv)\n",
    "test_df = pd.read_csv(test_clean_csv)\n"
   ]
  },
  {
   "cell_type": "code",
   "execution_count": 3,
   "id": "0db99aab",
   "metadata": {},
   "outputs": [
    {
     "name": "stdout",
     "output_type": "stream",
     "text": [
      "[0. 1. 1. 0. 0. 0. 0. 0. 0. 0. 0. 0. 0. 1. 0. 0. 0. 0. 0. 0.]\n"
     ]
    }
   ],
   "source": [
    "import numpy as np\n",
    "\n",
    "def parse_labels(label_string, num_classes):\n",
    "\tlabels = np.zeros(num_classes)\n",
    "\tfor label in label_string.split():\n",
    "\t\tlabels[int(label)] = 1\n",
    "\treturn labels\n",
    "\n",
    "# Example usage\n",
    "num_classes = 20  # Adjust this based on your dataset\n",
    "sample_label = '1 2 13'\n",
    "binary_vector = parse_labels(sample_label, num_classes)\n",
    "print(binary_vector)"
   ]
  },
  {
   "cell_type": "code",
   "execution_count": 4,
   "id": "0c448b21",
   "metadata": {},
   "outputs": [
    {
     "name": "stdout",
     "output_type": "stream",
     "text": [
      "Training set size: 23996\n",
      "Validation set size: 6000\n",
      "Test set size: 9999\n"
     ]
    }
   ],
   "source": [
    "train_indices, val_indices = train_test_split(train_df.index, test_size=0.2, random_state=42)\n",
    "\n",
    "# Create dataframes for training and validation sets\n",
    "train_data = train_df.loc[train_indices].reset_index(drop=True)\n",
    "val_data = train_df.loc[val_indices].reset_index(drop=True)\n",
    "\n",
    "# Verify the splits\n",
    "print(f\"Training set size: {len(train_data)}\")\n",
    "print(f\"Validation set size: {len(val_data)}\")\n",
    "print(f\"Test set size: {len(test_df)}\")\n",
    "\n",
    "# Function to parse multi-label strings\n",
    "def parse_labels(label_string, num_classes):\n",
    "\tlabels = np.zeros(num_classes)\n",
    "\tfor label in label_string.split():\n",
    "\t\tlabels[int(label)] = 1\n",
    "\treturn labels"
   ]
  },
  {
   "cell_type": "code",
   "execution_count": 5,
   "id": "f0be72b8",
   "metadata": {},
   "outputs": [],
   "source": [
    "class MultiLabelDataset(Dataset):\n",
    "\tdef __init__(self, dataframe, img_dir, num_classes, transform=None):\n",
    "\t\tself.dataframe = dataframe\n",
    "\t\tself.img_dir = img_dir\n",
    "\t\tself.num_classes = num_classes\n",
    "\t\tself.transform = transform\n",
    "\t\tself.all_files = set(os.listdir(img_dir))\n",
    "\n",
    "\tdef __len__(self):\n",
    "\t\treturn len(self.dataframe)\n",
    "\n",
    "\tdef __getitem__(self, idx):\n",
    "\t\timg_name = self.dataframe.iloc[idx, 0].strip()\n",
    "\t\timg_path = os.path.join(self.img_dir, img_name)\n",
    "\t\tif img_name not in self.all_files:\n",
    "\t\t\tprint(f\"Warning: {img_name} not found, skipping.\")\n",
    "\t\t\treturn self.__getitem__((idx + 1) % len(self.dataframe))  # Skip to next item\n",
    "\t\timage = Image.open(img_path).convert(\"RGB\")\n",
    "\t\tif self.transform:\n",
    "\t\t\timage = self.transform(image)\n",
    "\t\tlabels = parse_labels(self.dataframe.iloc[idx, 1], self.num_classes)\n",
    "\t\treturn image, labels\n",
    "\n",
    "\n",
    "\n",
    "\n"
   ]
  },
  {
   "cell_type": "code",
   "execution_count": 6,
   "id": "6461b795",
   "metadata": {},
   "outputs": [
    {
     "name": "stdout",
     "output_type": "stream",
     "text": [
      "Missing files: []\n"
     ]
    }
   ],
   "source": [
    "# Check which files are missing\n",
    "missing_files = []\n",
    "for img_name in train_df.iloc[:, 0]:\n",
    "\tif img_name.strip() not in all_files:\n",
    "\t\tmissing_files.append(img_name.strip())\n",
    "\n",
    "print(f\"Missing files: {missing_files}\")"
   ]
  },
  {
   "cell_type": "markdown",
   "id": "41b97f87",
   "metadata": {},
   "source": [
    "## Data Preprocessing- Data Agumentation"
   ]
  },
  {
   "cell_type": "code",
   "execution_count": 7,
   "id": "da3e0f4c",
   "metadata": {},
   "outputs": [
    {
     "name": "stdout",
     "output_type": "stream",
     "text": [
      "Number of classes: 20\n"
     ]
    }
   ],
   "source": [
    "#num_classes = 20\n",
    "max_label_index = train_df.iloc[:, 1].apply(lambda x: max(map(int, x.split()))).max()\n",
    "num_classes = max_label_index + 1  # The number of classes should be one more than the maximum label index\n",
    "print(f\"Number of classes: {num_classes}\")"
   ]
  },
  {
   "cell_type": "code",
   "execution_count": 8,
   "id": "f5aa3989",
   "metadata": {},
   "outputs": [
    {
     "name": "stdout",
     "output_type": "stream",
     "text": [
      "Unique labels in the dataset: [1, 2, 3, 4, 5, 6, 7, 8, 9, 10, 11, 13, 14, 15, 16, 17, 18, 19]\n"
     ]
    }
   ],
   "source": [
    "unique_labels = set()\n",
    "train_df.iloc[:, 1].apply(lambda x: unique_labels.update(map(int, x.split())))\n",
    "\n",
    "print(f\"Unique labels in the dataset: {sorted(unique_labels)}\")"
   ]
  },
  {
   "cell_type": "code",
   "execution_count": 9,
   "id": "dd8d0eba",
   "metadata": {},
   "outputs": [],
   "source": [
    "\n",
    "train_transform = transforms.Compose([\n",
    "\ttransforms.Resize((224, 224)),\n",
    "\ttransforms.RandomHorizontalFlip(),       # Randomly flip the image horizontally\n",
    "\ttransforms.RandomRotation(10),           # Randomly rotate the image by up to 10 degrees\n",
    "\ttransforms.ColorJitter(brightness=0.2, contrast=0.2, saturation=0.2, hue=0.2),\n",
    "\ttransforms.ToTensor(),                   # Convert image to tensor\n",
    "\ttransforms.Normalize([0.485, 0.456, 0.406], [0.229, 0.224, 0.225]),\n",
    "])\n"
   ]
  },
  {
   "cell_type": "code",
   "execution_count": 10,
   "id": "eb929cd2",
   "metadata": {},
   "outputs": [],
   "source": [
    "test_transform = transforms.Compose([\n",
    "\ttransforms.Resize((224, 224)),\n",
    "\ttransforms.ToTensor(),\n",
    "\ttransforms.Normalize([0.485, 0.456, 0.406], [0.229, 0.224, 0.225]),\n",
    "])"
   ]
  },
  {
   "cell_type": "markdown",
   "id": "1e4b58fa",
   "metadata": {},
   "source": [
    "### Handling Data Imbalance"
   ]
  },
  {
   "cell_type": "code",
   "execution_count": 11,
   "id": "fa47a42f",
   "metadata": {},
   "outputs": [],
   "source": [
    "from sklearn.utils.class_weight import compute_class_weight\n",
    "import torch\n",
    "import torch.nn as nn\n",
    "labels = train_df.iloc[:, 1].apply(lambda x: list(map(int, x.split())))\n",
    "all_labels = [item for sublist in labels for item in sublist]\n",
    "class_weights = compute_class_weight('balanced', classes=np.unique(all_labels), y=all_labels)\n",
    "class_weights_tensor = torch.tensor(class_weights, dtype=torch.float)\n"
   ]
  },
  {
   "cell_type": "code",
   "execution_count": 12,
   "id": "19d3a9fa",
   "metadata": {},
   "outputs": [],
   "source": [
    "classes = sorted(unique_labels)\n",
    "\n",
    "# Calculate class weights\n",
    "labels = train_df.iloc[:, 1].apply(lambda x: list(map(int, x.split())))\n",
    "all_labels = [item for sublist in labels for item in sublist]\n",
    "class_weights = compute_class_weight('balanced', classes=np.array(classes), y=all_labels)\n",
    "class_weights_tensor = torch.tensor(class_weights, dtype=torch.float)"
   ]
  },
  {
   "cell_type": "code",
   "execution_count": 13,
   "id": "357f5ab1",
   "metadata": {},
   "outputs": [],
   "source": [
    "label_to_index = {label: index for index, label in enumerate(classes)}\n",
    "\n",
    "sample_weights = []\n",
    "for label_str in train_df.iloc[:, 1]:\n",
    "\tlabels = list(map(int, label_str.split()))\n",
    "\tweight = sum(class_weights[label_to_index[label]] for label in labels) / len(labels)\n",
    "\tsample_weights.append(weight)"
   ]
  },
  {
   "cell_type": "code",
   "execution_count": 14,
   "id": "89545557",
   "metadata": {},
   "outputs": [],
   "source": [
    "sample_weights_tensor = torch.tensor(sample_weights, dtype=torch.float)\n",
    "sampler = WeightedRandomSampler(weights=sample_weights_tensor, num_samples=len(sample_weights_tensor), replacement=True)\n"
   ]
  },
  {
   "cell_type": "markdown",
   "id": "4fd9a270",
   "metadata": {},
   "source": [
    "### Create Dataset and DataLoader for training data and testing data"
   ]
  },
  {
   "cell_type": "code",
   "execution_count": 15,
   "id": "df28f63d",
   "metadata": {},
   "outputs": [],
   "source": [
    "train_dataset = MultiLabelDataset(train_data, image_dir, num_classes, train_transform)\n",
    "val_dataset = MultiLabelDataset(val_data, image_dir, num_classes, test_transform)\n",
    "test_dataset = MultiLabelDataset(test_df, image_dir, num_classes, test_transform)"
   ]
  },
  {
   "cell_type": "code",
   "execution_count": 16,
   "id": "d085c554",
   "metadata": {},
   "outputs": [],
   "source": [
    "\n",
    "#train_dataset = MultiLabelDataset(train_df, image_dir, num_classes, train_transform)\n",
    "#train_loader = DataLoader(train_dataset, batch_size=32, sampler=sampler)\n",
    "\n",
    "#test_dataset = MultiLabelDataset(test_df, image_dir, num_classes, test_transform)\n",
    "#test_loader = DataLoader(test_dataset, batch_size=32, shuffle=False)\n",
    "train_loader = DataLoader(train_dataset, batch_size=8, shuffle=True)\n",
    "val_loader = DataLoader(val_dataset, batch_size=8, shuffle=False)\n",
    "test_loader = DataLoader(test_dataset, batch_size=8, shuffle=False)"
   ]
  },
  {
   "cell_type": "code",
   "execution_count": 17,
   "id": "35c7c70c",
   "metadata": {},
   "outputs": [
    {
     "name": "stdout",
     "output_type": "stream",
     "text": [
      "torch.Size([8, 3, 224, 224])\n",
      "torch.Size([8, 20])\n",
      "tensor([0., 1., 0., 0., 0., 0., 0., 0., 0., 0., 0., 0., 0., 0., 0., 0., 1., 0.,\n",
      "        0., 0.], dtype=torch.float64)\n"
     ]
    }
   ],
   "source": [
    "# Verify data preparation by iterating through the DataLoader\n",
    "for images, labels in train_loader:\n",
    "\tprint(images.shape)\n",
    "\tprint(labels.shape)\n",
    "\tprint(labels[0])  # Print the first label for verification\n",
    "\tbreak  # Print only the first batch"
   ]
  },
  {
   "cell_type": "markdown",
   "id": "b58d5cc1",
   "metadata": {},
   "source": [
    "## Model Selection and Architecture"
   ]
  },
  {
   "cell_type": "markdown",
   "id": "2dcff57f",
   "metadata": {},
   "source": [
    "### Model 1: CNN"
   ]
  },
  {
   "cell_type": "code",
   "execution_count": 18,
   "id": "a446c91b",
   "metadata": {},
   "outputs": [],
   "source": [
    "def calculate_accuracy(outputs, targets):\n",
    "\toutputs = torch.sigmoid(outputs) > 0.5\n",
    "\ttargets = targets > 0.5\n",
    "\taccuracy = accuracy_score(targets.cpu().numpy(), outputs.cpu().numpy())\n",
    "\treturn accuracy\n",
    "\n",
    "# Function to calculate F1 score\n",
    "def calculate_f1_score(outputs, targets):\n",
    "\toutputs = torch.sigmoid(outputs) > 0.5\n",
    "\ttargets = targets > 0.5\n",
    "\tf1 = f1_score(targets.cpu().numpy(), outputs.cpu().numpy(), average='micro')\n",
    "\treturn f1\n"
   ]
  },
  {
   "cell_type": "code",
   "execution_count": 19,
   "id": "a70343fc",
   "metadata": {},
   "outputs": [],
   "source": [
    "def train_model(model, train_loader, val_loader, criterion, optimizer, num_epochs=10):\n",
    "\thistory = {\n",
    "\t\t'train_loss': [],\n",
    "\t\t'val_loss': [],\n",
    "\t\t'train_acc': [],\n",
    "\t\t'val_acc': [],\n",
    "\t\t'train_f1': [],\n",
    "\t\t'val_f1': []\n",
    "\t}\n",
    "\t\n",
    "\tfor epoch in range(num_epochs):\n",
    "\t\tmodel.train()\n",
    "\t\trunning_loss = 0.0\n",
    "\t\trunning_acc = 0.0\n",
    "\t\trunning_f1 = 0.0\n",
    "\t\t\n",
    "\t\tfor images, labels in tqdm(train_loader, desc=\"Training: \"):\n",
    "\t\t\t\n",
    "\t\t\tif (torch.cuda.is_available()):\n",
    "\t\t\t\timages = images.to('cuda')\n",
    "\t\t\t\tlabels = labels.to('cuda')\n",
    "\n",
    "\t\t\toutputs = model(images)\n",
    "\t\t\tloss = criterion(outputs, labels.float())\n",
    "\n",
    "\t\t\toptimizer.zero_grad()\n",
    "\t\t\tloss.backward()\n",
    "\t\t\toptimizer.step()\n",
    "\t\t\trunning_loss += loss.item() * images.size(0)\n",
    "\t\t\trunning_acc += calculate_accuracy(outputs, labels) * images.size(0)\n",
    "\t\t\trunning_f1 += calculate_f1_score(outputs, labels) * images.size(0)\n",
    "\t\t\n",
    "\t\tepoch_loss = running_loss / len(train_loader.dataset)\n",
    "\t\tepoch_acc = running_acc / len(train_loader.dataset)\n",
    "\t\tepoch_f1 = running_f1 / len(train_loader.dataset)\n",
    "\t\t\n",
    "\t\thistory['train_loss'].append(epoch_loss)\n",
    "\t\thistory['train_acc'].append(epoch_acc)\n",
    "\t\thistory['train_f1'].append(epoch_f1)\n",
    "\t\t\n",
    "\t\t# Validate the model\n",
    "\t\tmodel.eval()\n",
    "\t\tval_loss = 0.0\n",
    "\t\tval_acc = 0.0\n",
    "\t\tval_f1 = 0.0\n",
    "\t\t\n",
    "\t\twith torch.no_grad():\n",
    "\t\t\tfor images, labels in tqdm(val_loader, desc=\"Validating: \"):\n",
    "\t\t\t\t\n",
    "\t\t\t\tif (torch.cuda.is_available()):\n",
    "\t\t\t\t\timages = images.to('cuda')\n",
    "\t\t\t\t\tlabels = labels.to('cuda')\n",
    "\n",
    "\t\t\t\toutputs = model(images)\n",
    "\t\t\t\tloss = criterion(outputs, labels.float())\n",
    "\t\t\t\tval_loss += loss.item() * images.size(0)\n",
    "\t\t\t\tval_acc += calculate_accuracy(outputs, labels) * images.size(0)\n",
    "\t\t\t\tval_f1 += calculate_f1_score(outputs, labels) * images.size(0)\n",
    "\t\t\n",
    "\t\tval_loss /= len(val_loader.dataset)\n",
    "\t\tval_acc /= len(val_loader.dataset)\n",
    "\t\tval_f1 /= len(val_loader.dataset)\n",
    "\t\t\n",
    "\t\thistory['val_loss'].append(val_loss)\n",
    "\t\thistory['val_acc'].append(val_acc)\n",
    "\t\thistory['val_f1'].append(val_f1)\n",
    "\t\t\n",
    "\t\tprint(f'Epoch {epoch+1}/{num_epochs}, Loss: {epoch_loss:.4f}, Acc: {epoch_acc:.4f}, F1: {epoch_f1:.4f}, Val Loss: {val_loss:.4f}, Val Acc: {val_acc:.4f}, Val F1: {val_f1:.4f}')\n",
    "\t\n",
    "\treturn model, history\n"
   ]
  },
  {
   "cell_type": "code",
   "execution_count": 20,
   "id": "2f8b2123",
   "metadata": {},
   "outputs": [],
   "source": [
    "import torch\n",
    "import torch.nn as nn\n",
    "\n",
    "class CustomCNN(nn.Module):\n",
    "\tdef __init__(self, num_classes):\n",
    "\t\tsuper(CustomCNN, self).__init__()\n",
    "\t\tself.features = nn.Sequential(\n",
    "\t\t\tnn.Conv2d(3, 64, kernel_size=3, stride=1, padding=1),\n",
    "\t\t\tnn.ReLU(inplace=True),\n",
    "\t\t\tnn.MaxPool2d(kernel_size=2, stride=2),\n",
    "\t\t\t\n",
    "\t\t\tnn.Conv2d(64, 128, kernel_size=3, stride=1, padding=1),\n",
    "\t\t\tnn.ReLU(inplace=True),\n",
    "\t\t\tnn.MaxPool2d(kernel_size=2, stride=2),\n",
    "\t\t\t\n",
    "\t\t\tnn.Conv2d(128, 256, kernel_size=3, stride=1, padding=1),\n",
    "\t\t\tnn.ReLU(inplace=True),\n",
    "\t\t\tnn.MaxPool2d(kernel_size=2, stride=2),\n",
    "\t\t\t\n",
    "\t\t\tnn.Conv2d(256, 512, kernel_size=3, stride=1, padding=1),\n",
    "\t\t\tnn.ReLU(inplace=True),\n",
    "\t\t\tnn.MaxPool2d(kernel_size=2, stride=2)\n",
    "\t\t)\n",
    "\t\tself.classifier = nn.Sequential(\n",
    "\t\t\tnn.Linear(512 * 14 * 14, 1024),\n",
    "\t\t\tnn.ReLU(inplace=True),\n",
    "\t\t\tnn.Dropout(0.5),\n",
    "\t\t\tnn.Linear(1024, num_classes)\n",
    "\t\t)\n",
    "\t\n",
    "\tdef forward(self, x):\n",
    "\t\tx = self.features(x)\n",
    "\t\tx = x.view(x.size(0), -1)  # Flatten the tensor\n",
    "\t\tx = self.classifier(x)\n",
    "\t\treturn x\n",
    "\n",
    "\n",
    "custom_cnn_model = CustomCNN(num_classes)\n"
   ]
  },
  {
   "cell_type": "code",
   "execution_count": 21,
   "id": "60510245",
   "metadata": {},
   "outputs": [],
   "source": [
    "# Define the loss function and optimizer\n",
    "criterion = nn.BCEWithLogitsLoss()\n",
    "optimizer = torch.optim.Adam(custom_cnn_model.parameters(), lr=0.001)\n"
   ]
  },
  {
   "cell_type": "markdown",
   "id": "e44da743",
   "metadata": {},
   "source": [
    "### AlexNet"
   ]
  },
  {
   "cell_type": "code",
   "execution_count": 22,
   "id": "66dd31f7",
   "metadata": {},
   "outputs": [],
   "source": [
    "import torchvision.models as models\n",
    "\n",
    "# Define the AlexNet-based model\n",
    "class AlexNetMultiLabel(nn.Module):\n",
    "\tdef __init__(self, num_classes):\n",
    "\t\tsuper(AlexNetMultiLabel, self).__init__()\n",
    "\t\tself.alexnet = models.alexnet(weights=models.AlexNet_Weights.IMAGENET1K_V1)\n",
    "\t\tself.alexnet.classifier[6] = nn.Linear(4096, num_classes)\n",
    "\t\n",
    "\tdef forward(self, x):\n",
    "\t\treturn self.alexnet(x)\n",
    "\n",
    "# Define the ResNet-based model\n",
    "class ResNetMultiLabel(nn.Module):\n",
    "\tdef __init__(self, num_classes):\n",
    "\t\tsuper(ResNetMultiLabel, self).__init__()\n",
    "\t\tself.resnet = models.resnet50(weights=models.ResNet50_Weights.IMAGENET1K_V1)\n",
    "\t\tself.resnet.fc = nn.Linear(2048, num_classes)\n",
    "\t\n",
    "\tdef forward(self, x):\n",
    "\t\treturn self.resnet(x)\n",
    "\n",
    "\n",
    "alexnet_model = AlexNetMultiLabel(num_classes)\n",
    "resnet_model = ResNetMultiLabel(num_classes)\n"
   ]
  },
  {
   "cell_type": "markdown",
   "id": "ff26484e",
   "metadata": {},
   "source": [
    "### Train and Evaluate"
   ]
  },
  {
   "cell_type": "code",
   "execution_count": 23,
   "id": "938ac90c",
   "metadata": {},
   "outputs": [],
   "source": [
    "# Plot metrics\n",
    "def plot_metrics(history, title):\n",
    "\tepochs = range(1, len(history['train_loss']) + 1)\n",
    "\n",
    "\tplt.figure(figsize=(12, 4))\n",
    "\n",
    "\tplt.subplot(1, 3, 1)\n",
    "\tplt.plot(epochs, history['train_loss'], label='Training Loss')\n",
    "\tplt.plot(epochs, history['val_loss'], label='Validation Loss')\n",
    "\tplt.xlabel('Epochs')\n",
    "\tplt.ylabel('Loss')\n",
    "\tplt.title(f'{title} Loss')\n",
    "\tplt.legend()\n",
    "\n",
    "\tplt.subplot(1, 3, 2)\n",
    "\tplt.plot(epochs, history['train_acc'], label='Training Accuracy')\n",
    "\tplt.plot(epochs, history['val_acc'], label='Validation Accuracy')\n",
    "\tplt.xlabel('Epochs')\n",
    "\tplt.ylabel('Accuracy')\n",
    "\tplt.title(f'{title} Accuracy')\n",
    "\tplt.legend()\n",
    "\n",
    "\tplt.subplot(1, 3, 3)\n",
    "\tplt.plot(epochs, history['train_f1'], label='Training F1 Score')\n",
    "\tplt.plot(epochs, history['val_f1'], label='Validation F1 Score')\n",
    "\tplt.xlabel('Epochs')\n",
    "\tplt.ylabel('F1 Score')\n",
    "\tplt.title(f'{title} F1 Score')\n",
    "\tplt.legend()\n",
    "\n",
    "\tplt.tight_layout()\n",
    "\tplt.show()\n",
    "\n"
   ]
  },
  {
   "cell_type": "code",
   "execution_count": 24,
   "id": "91d2d31c",
   "metadata": {},
   "outputs": [
    {
     "name": "stdout",
     "output_type": "stream",
     "text": [
      "Using GPU\n"
     ]
    },
    {
     "name": "stderr",
     "output_type": "stream",
     "text": [
      "Training: 100%|██████████| 3000/3000 [06:17<00:00,  7.95it/s]\n",
      "Validating: 100%|██████████| 750/750 [00:22<00:00, 33.92it/s]\n"
     ]
    },
    {
     "name": "stdout",
     "output_type": "stream",
     "text": [
      "Epoch 1/1, Loss: 0.1861, Acc: 0.4699, F1: 0.6032, Val Loss: 0.1824, Val Acc: 0.4620, Val F1: 0.5983\n"
     ]
    },
    {
     "data": {
      "image/png": "[encoded data removed]",
      "text/plain": [
       "<Figure size 1200x400 with 3 Axes>"
      ]
     },
     "metadata": {},
     "output_type": "display_data"
    },
    {
     "name": "stderr",
     "output_type": "stream",
     "text": [
      "Training: 100%|██████████| 3000/3000 [03:36<00:00, 13.84it/s]\n",
      "Validating: 100%|██████████| 750/750 [00:13<00:00, 53.96it/s]\n"
     ]
    },
    {
     "name": "stdout",
     "output_type": "stream",
     "text": [
      "Epoch 1/1, Loss: 0.2026, Acc: 0.4696, F1: 0.6027, Val Loss: 0.1856, Val Acc: 0.4617, Val F1: 0.5972\n"
     ]
    },
    {
     "data": {
      "image/png": "[encoded data removed]",
      "text/plain": [
       "<Figure size 1200x400 with 3 Axes>"
      ]
     },
     "metadata": {},
     "output_type": "display_data"
    }
   ],
   "source": [
    "if (torch.cuda.is_available()):\n",
    "    print(\"Using GPU\")\n",
    "    custom_cnn_model = custom_cnn_model.to('cuda')\n",
    "    alexnet_model = alexnet_model.to('cuda')\n",
    "    resnet_model = resnet_model.to('cuda')\n",
    "\n",
    "# Custom CNN\n",
    "optimizer_custom = torch.optim.Adam(custom_cnn_model.parameters(), lr=0.001)\n",
    "custom_cnn_model, custom_cnn_history = train_model(custom_cnn_model, train_loader, val_loader, criterion, optimizer_custom, num_epochs=1)\n",
    "plot_metrics(custom_cnn_history, \"Custom CNN\")\n",
    "\n",
    "# AlexNet\n",
    "optimizer_alexnet = torch.optim.Adam(alexnet_model.parameters(), lr=0.001)\n",
    "alexnet_model, alexnet_history = train_model(alexnet_model, train_loader, val_loader, criterion, optimizer_alexnet, num_epochs=1)\n",
    "plot_metrics(alexnet_history, \"AlexNet\")\n",
    "\n",
    "# ResNet\n",
    "# optimizer_resnet = torch.optim.Adam(resnet_model.parameters(), lr=0.001)\n",
    "# resnet_model, resnet_history = train_model(resnet_model, train_loader, val_loader, criterion, optimizer_resnet, num_epochs=1)\n",
    "# plot_metrics(resnet_history, \"ResNet\")"
   ]
  },
  {
   "cell_type": "markdown",
   "id": "a295edb5",
   "metadata": {},
   "source": [
    "## Hybrid Approach"
   ]
  },
  {
   "cell_type": "code",
   "execution_count": 24,
   "id": "09707da5",
   "metadata": {},
   "outputs": [
    {
     "name": "stderr",
     "output_type": "stream",
     "text": [
      "/home/reynardo/.local/lib/python3.10/site-packages/huggingface_hub/file_download.py:1132: FutureWarning: `resume_download` is deprecated and will be removed in version 1.0.0. Downloads always resume when possible. If you want to force a new download, use `force_download=True`.\n",
      "  warnings.warn(\n"
     ]
    }
   ],
   "source": [
    "from transformers import BertTokenizer, BertModel\n",
    "tokenizer = BertTokenizer.from_pretrained('bert-base-uncased')\n",
    "bert_model = BertModel.from_pretrained('bert-base-uncased')\n",
    "\n",
    "# Function to tokenize and embed text\n",
    "def tokenize_text(text, max_length=128):\n",
    "\tencoding = tokenizer.encode_plus(\n",
    "\t\ttext,\n",
    "\t\tadd_special_tokens=True,\n",
    "\t\tmax_length=max_length,\n",
    "\t\treturn_token_type_ids=False,\n",
    "\t\tpadding='max_length',\n",
    "\t\treturn_attention_mask=True,\n",
    "\t\treturn_tensors='pt',\n",
    "\t)\n",
    "\treturn encoding['input_ids'].flatten(), encoding['attention_mask'].flatten()\n"
   ]
  },
  {
   "cell_type": "code",
   "execution_count": 25,
   "id": "6268d7de",
   "metadata": {},
   "outputs": [],
   "source": [
    "class MultiModalDataset(Dataset):\n",
    "\tdef __init__(self, dataframe, img_dir, num_classes, transform=None, max_length=128):\n",
    "\t\tself.dataframe = dataframe\n",
    "\t\tself.img_dir = img_dir\n",
    "\t\tself.num_classes = num_classes\n",
    "\t\tself.transform = transform\n",
    "\t\tself.max_length = max_length\n",
    "\t\tself.all_files = set(os.listdir(img_dir))\n",
    "\n",
    "\tdef __len__(self):\n",
    "\t\treturn len(self.dataframe)\n",
    "\n",
    "\tdef __getitem__(self, idx):\n",
    "\t\timg_name = self.dataframe.iloc[idx, 0].strip()\n",
    "\t\timg_path = os.path.join(self.img_dir, img_name)\n",
    "\t\tif img_name not in self.all_files:\n",
    "\t\t\tprint(f\"Warning: {img_name} not found, skipping.\")\n",
    "\t\t\treturn self.__getitem__((idx + 1) % len(self.dataframe))  # Skip to next item\n",
    "\t\timage = Image.open(img_path).convert(\"RGB\")\n",
    "\t\tif self.transform:\n",
    "\t\t\timage = self.transform(image)\n",
    "\t\t\n",
    "\t\ttext = self.dataframe.iloc[idx, 2]  # Assuming the text is in the third column\n",
    "\t\tinput_ids, attention_mask = tokenize_text(text, self.max_length)\n",
    "\t\tlabels = parse_labels(self.dataframe.iloc[idx, 1], self.num_classes)\n",
    "\t\t\n",
    "\t\treturn {\n",
    "\t\t\t'image': image,\n",
    "\t\t\t'input_ids': input_ids,\n",
    "\t\t\t'attention_mask': attention_mask,\n",
    "\t\t\t'labels': torch.tensor(labels, dtype=torch.float)\n",
    "\t\t}"
   ]
  },
  {
   "cell_type": "code",
   "execution_count": 26,
   "id": "543dc74c",
   "metadata": {},
   "outputs": [],
   "source": [
    "\n",
    "train_dataset = MultiModalDataset(train_data, image_dir, num_classes, train_transform)\n",
    "val_dataset = MultiModalDataset(val_data, image_dir, num_classes, test_transform)\n",
    "test_dataset = MultiModalDataset(test_df, image_dir, num_classes, test_transform)\n",
    "\n",
    "# Create DataLoader instances\n",
    "train_loader = DataLoader(train_dataset, batch_size=8, shuffle=True)\n",
    "val_loader = DataLoader(val_dataset, batch_size=8, shuffle=False)\n",
    "test_loader = DataLoader(test_dataset, batch_size=8, shuffle=False)"
   ]
  },
  {
   "cell_type": "code",
   "execution_count": 27,
   "id": "05b2413d",
   "metadata": {},
   "outputs": [],
   "source": [
    "class CNNExtractor(nn.Module):\n",
    "\tdef __init__(self):\n",
    "\t\tsuper(CNNExtractor, self).__init__()\n",
    "\t\tself.resnet = models.resnet50(weights=models.ResNet50_Weights.IMAGENET1K_V1)\n",
    "\t\tself.resnet.fc = nn.Identity()  # Remove the final classification layer\n",
    "\t\n",
    "\tdef forward(self, x):\n",
    "\t\treturn self.resnet(x)\n"
   ]
  },
  {
   "cell_type": "code",
   "execution_count": 28,
   "id": "19400b2b",
   "metadata": {},
   "outputs": [],
   "source": [
    "class BERTExtractor(nn.Module):\n",
    "\tdef __init__(self, bert_model):\n",
    "\t\tsuper(BERTExtractor, self).__init__()\n",
    "\t\tself.bert = bert_model\n",
    "\t\n",
    "\tdef forward(self, input_ids, attention_mask):\n",
    "\t\toutputs = self.bert(input_ids=input_ids, attention_mask=attention_mask)\n",
    "\t\treturn outputs.last_hidden_state[:, 0, :]  # Use the [CLS] token representation\n"
   ]
  },
  {
   "cell_type": "code",
   "execution_count": 29,
   "id": "61ffbce3",
   "metadata": {},
   "outputs": [],
   "source": [
    "class MultiModalModel(nn.Module):\n",
    "\tdef __init__(self, cnn_model, bert_model, num_classes):\n",
    "\t\tsuper(MultiModalModel, self).__init__()\n",
    "\t\tself.cnn_extractor = cnn_model\n",
    "\t\tself.bert_extractor = BERTExtractor(bert_model)\n",
    "\t\tself.fc = nn.Sequential(\n",
    "\t\t\tnn.Linear(2048 + 768, 1024),  # Assuming ResNet and BERT dimensions\n",
    "\t\t\tnn.ReLU(),\n",
    "\t\t\tnn.Dropout(0.5),\n",
    "\t\t\tnn.Linear(1024, num_classes)\n",
    "\t\t)\n",
    "\t\n",
    "\tdef forward(self, image, input_ids, attention_mask):\n",
    "\t\timage_features = self.cnn_extractor(image)\n",
    "\t\ttext_features = self.bert_extractor(input_ids, attention_mask)\n",
    "\t\tcombined_features = torch.cat((image_features, text_features), dim=1)\n",
    "\t\treturn self.fc(combined_features)\n",
    "\n",
    "# Instantiate the model\n",
    "cnn_model = CNNExtractor()\n",
    "bert_model = bert_model\n",
    "multi_modal_model = MultiModalModel(cnn_model, bert_model, num_classes)\n"
   ]
  },
  {
   "cell_type": "code",
   "execution_count": 30,
   "id": "71df3861",
   "metadata": {},
   "outputs": [],
   "source": [
    "# Define the loss function and optimizer\n",
    "criterion = nn.BCEWithLogitsLoss()\n",
    "optimizer = torch.optim.Adam(multi_modal_model.parameters(), lr=0.001)\n",
    "\n",
    "# Training loop\n",
    "def train_model(model, train_loader, val_loader, criterion, optimizer, num_epochs=10):\n",
    "\thistory = {\n",
    "\t\t'train_loss': [],\n",
    "\t\t'val_loss': [],\n",
    "\t\t'train_acc': [],\n",
    "\t\t'val_acc': [],\n",
    "\t\t'train_f1': [],\n",
    "\t\t'val_f1': []\n",
    "\t}\n",
    "\t\n",
    "\tfor epoch in range(num_epochs):\n",
    "\t\tmodel.train()\n",
    "\t\trunning_loss = 0.0\n",
    "\t\trunning_acc = 0.0\n",
    "\t\trunning_f1 = 0.0\n",
    "\t\t\n",
    "\t\tfor batch in tqdm(train_loader, desc=\"Training: \"):\n",
    "\n",
    "\t\t\timages = batch['image']\n",
    "\t\t\tinput_ids = batch['input_ids']\n",
    "\t\t\tattention_mask = batch['attention_mask']\n",
    "\t\t\tlabels = batch['labels']\n",
    "\n",
    "\t\t\tif (torch.cuda.is_available()):\n",
    "\t\t\t\timages = images.to('cuda')\n",
    "\t\t\t\tinput_ids = input_ids.to('cuda')\n",
    "\t\t\t\tattention_mask = attention_mask.to('cuda')\n",
    "\t\t\t\tlabels = labels.to('cuda')\n",
    "\t\t\t\n",
    "\t\t\toutputs = model(images, input_ids, attention_mask)\n",
    "\t\t\tloss = criterion(outputs, labels)\n",
    "\t\t\toptimizer.zero_grad()\n",
    "\t\t\tloss.backward()\n",
    "\t\t\toptimizer.step()\n",
    "\t\t\trunning_loss += loss.item() * images.size(0)\n",
    "\t\t\trunning_acc += calculate_accuracy(outputs, labels) * images.size(0)\n",
    "\t\t\trunning_f1 += calculate_f1_score(outputs, labels) * images.size(0)\n",
    "\t\t\n",
    "\t\tepoch_loss = running_loss / len(train_loader.dataset)\n",
    "\t\tepoch_acc = running_acc / len(train_loader.dataset)\n",
    "\t\tepoch_f1 = running_f1 / len(train_loader.dataset)\n",
    "\t\t\n",
    "\t\thistory['train_loss'].append(epoch_loss)\n",
    "\t\thistory['train_acc'].append(epoch_acc)\n",
    "\t\thistory['train_f1'].append(epoch_f1)\n",
    "\t\t\n",
    "\t\t# Validate the model\n",
    "\t\tmodel.eval()\n",
    "\t\tval_loss = 0.0\n",
    "\t\tval_acc = 0.0\n",
    "\t\tval_f1 = 0.0\n",
    "\t\t\n",
    "\t\twith torch.no_grad():\n",
    "\t\t\tfor batch in tqdm(val_loader, desc=\"Validating: \"):\n",
    "\t\t\t\timages = batch['image']\n",
    "\t\t\t\tinput_ids = batch['input_ids']\n",
    "\t\t\t\tattention_mask = batch['attention_mask']\n",
    "\t\t\t\tlabels = batch['labels']\n",
    "\n",
    "\t\t\t\tif (torch.cuda.is_available()):\n",
    "\t\t\t\t\timages = images.to('cuda')\n",
    "\t\t\t\t\tinput_ids = input_ids.to('cuda')\n",
    "\t\t\t\t\tattention_mask = attention_mask.to('cuda')\n",
    "\t\t\t\t\tlabels = labels.to('cuda')\n",
    "\t\t\t\t\n",
    "\t\t\t\toutputs = model(images, input_ids, attention_mask)\n",
    "\t\t\t\tloss = criterion(outputs, labels)\n",
    "\t\t\t\tval_loss += loss.item() * images.size(0)\n",
    "\t\t\t\tval_acc += calculate_accuracy(outputs, labels) * images.size(0)\n",
    "\t\t\t\tval_f1 += calculate_f1_score(outputs, labels) * images.size(0)\n",
    "\t\t\n",
    "\t\tval_loss /= len(val_loader.dataset)\n",
    "\t\tval_acc /= len(val_loader.dataset)\n",
    "\t\tval_f1 /= len(val_loader.dataset)\n",
    "\t\t\n",
    "\t\thistory['val_loss'].append(val_loss)\n",
    "\t\thistory['val_acc'].append(val_acc)\n",
    "\t\thistory['val_f1'].append(val_f1)\n",
    "\t\t\n",
    "\t\tprint(f'Epoch {epoch+1}/{num_epochs}, Loss: {epoch_loss:.4f}, Acc: {epoch_acc:.4f}, F1: {epoch_f1:.4f}, Val Loss: {val_loss:.4f}, Val Acc: {val_acc:.4f}, Val F1: {val_f1:.4f}')\n",
    "\t\n",
    "\treturn model, history\n",
    "\n",
    "\n"
   ]
  },
  {
   "cell_type": "code",
   "execution_count": 31,
   "id": "21b53c9e",
   "metadata": {},
   "outputs": [
    {
     "name": "stderr",
     "output_type": "stream",
     "text": [
      "Training: 100%|██████████| 3000/3000 [16:20<00:00,  3.06it/s]\n",
      "Validating: 100%|██████████| 750/750 [01:10<00:00, 10.70it/s]"
     ]
    },
    {
     "name": "stdout",
     "output_type": "stream",
     "text": [
      "Epoch 1/1, Loss: 0.1852, Acc: 0.4690, F1: 0.6020, Val Loss: 0.1736, Val Acc: 0.4620, Val F1: 0.5983\n"
     ]
    },
    {
     "name": "stderr",
     "output_type": "stream",
     "text": [
      "\n"
     ]
    }
   ],
   "source": [
    "# Train the multi-modal model\n",
    "if (torch.cuda.is_available()):\n",
    "    multi_modal_model = multi_modal_model.to('cuda')\n",
    "\n",
    "multi_modal_model, history = train_model(multi_modal_model, train_loader, val_loader, criterion, optimizer, num_epochs=1)\n"
   ]
  },
  {
   "cell_type": "code",
   "execution_count": 32,
   "id": "cdf856e4",
   "metadata": {},
   "outputs": [
    {
     "data": {
      "image/png": "[encoded data removed]",
      "text/plain": [
       "<Figure size 1200x400 with 3 Axes>"
      ]
     },
     "metadata": {},
     "output_type": "display_data"
    }
   ],
   "source": [
    "def plot_metrics(history, title):\n",
    "\tepochs = range(1, len(history['train_loss']) + 1)\n",
    "\n",
    "\tplt.figure(figsize=(12, 4))\n",
    "\n",
    "\tplt.subplot(1, 3, 1)\n",
    "\tplt.plot(epochs, history['train_loss'], label='Training Loss')\n",
    "\tplt.plot(epochs, history['val_loss'], label='Validation Loss')\n",
    "\tplt.xlabel('Epochs')\n",
    "\tplt.ylabel('Loss')\n",
    "\tplt.title(f'{title} Loss')\n",
    "\tplt.legend()\n",
    "\n",
    "\tplt.subplot(1, 3, 2)\n",
    "\tplt.plot(epochs, history['train_acc'], label='Training Accuracy')\n",
    "\tplt.plot(epochs, history['val_acc'], label='Validation Accuracy')\n",
    "\tplt.xlabel('Epochs')\n",
    "\tplt.ylabel('Accuracy')\n",
    "\tplt.title(f'{title} Accuracy')\n",
    "\tplt.legend()\n",
    "\n",
    "\tplt.subplot(1, 3, 3)\n",
    "\tplt.plot(epochs, history['train_f1'], label='Training F1 Score')\n",
    "\tplt.plot(epochs, history['val_f1'], label='Validation F1 Score')\n",
    "\tplt.xlabel('Epochs')\n",
    "\tplt.ylabel('F1 Score')\n",
    "\tplt.title(f'{title} F1 Score')\n",
    "\tplt.legend()\n",
    "\n",
    "\tplt.tight_layout()\n",
    "\tplt.show()\n",
    "\n",
    "plot_metrics(history, \"Multi-Modal Model\")\n"
   ]
  },
  {
   "cell_type": "markdown",
   "id": "828feaa9",
   "metadata": {},
   "source": [
    "### Pretrained Data"
   ]
  },
  {
   "cell_type": "code",
   "execution_count": 33,
   "id": "1d8ecf43",
   "metadata": {},
   "outputs": [
    {
     "ename": "ModuleNotFoundError",
     "evalue": "No module named 'optuna'",
     "output_type": "error",
     "traceback": [
      "\u001b[0;31m---------------------------------------------------------------------------\u001b[0m",
      "\u001b[0;31mModuleNotFoundError\u001b[0m                       Traceback (most recent call last)",
      "Cell \u001b[0;32mIn[33], line 1\u001b[0m\n\u001b[0;32m----> 1\u001b[0m \u001b[38;5;28;01mimport\u001b[39;00m \u001b[38;5;21;01moptuna\u001b[39;00m\n\u001b[1;32m      3\u001b[0m \u001b[38;5;66;03m# Ensure bert_model is defined globally\u001b[39;00m\n\u001b[1;32m      4\u001b[0m bert_model \u001b[38;5;241m=\u001b[39m BertModel\u001b[38;5;241m.\u001b[39mfrom_pretrained(\u001b[38;5;124m'\u001b[39m\u001b[38;5;124mbert-base-uncased\u001b[39m\u001b[38;5;124m'\u001b[39m)\n",
      "\u001b[0;31mModuleNotFoundError\u001b[0m: No module named 'optuna'"
     ]
    }
   ],
   "source": [
    "import optuna\n",
    "\n",
    "# Ensure bert_model is defined globally\n",
    "bert_model = BertModel.from_pretrained('bert-base-uncased')\n",
    "\n",
    "def objective(trial):\n",
    "\t# Hyperparameters to tune\n",
    "\tlr = trial.suggest_float('lr', 1e-5, 1e-3, log=True)\n",
    "\tdropout_rate = trial.suggest_float('dropout_rate', 0.1, 0.5)\n",
    "\tbatch_size = trial.suggest_categorical('batch_size', [8, 16, 32])\n",
    "\t\n",
    "\t# Update DataLoader with new batch size\n",
    "\ttrain_loader = DataLoader(train_dataset, batch_size=batch_size, shuffle=True)\n",
    "\tval_loader = DataLoader(val_dataset, batch_size=batch_size, shuffle=False)\n",
    "\t\n",
    "\t# Define the model\n",
    "\tclass MultiModalModel(nn.Module):\n",
    "\t\tdef __init__(self, cnn_model, bert_model, num_classes, dropout_rate):\n",
    "\t\t\tsuper(MultiModalModel, self).__init__()\n",
    "\t\t\tself.cnn_extractor = cnn_model\n",
    "\t\t\tself.bert_extractor = BERTExtractor(bert_model)\n",
    "\t\t\tself.fc = nn.Sequential(\n",
    "\t\t\t\tnn.Linear(2048 + 768, 1024),  # Assuming ResNet and BERT dimensions\n",
    "\t\t\t\tnn.ReLU(),\n",
    "\t\t\t\tnn.Dropout(dropout_rate),\n",
    "\t\t\t\tnn.Linear(1024, num_classes)\n",
    "\t\t\t)\n",
    "\t\t\n",
    "\t\tdef forward(self, image, input_ids, attention_mask):\n",
    "\t\t\timage_features = self.cnn_extractor(image)\n",
    "\t\t\ttext_features = self.bert_extractor(input_ids, attention_mask)\n",
    "\t\t\tcombined_features = torch.cat((image_features, text_features), dim=1)\n",
    "\t\t\treturn self.fc(combined_features)\n",
    "\t\n",
    "\t# Instantiate the model\n",
    "\tcnn_model = CNNExtractor()\n",
    "\tnum_classes = 20  # Adjust this based on your dataset\n",
    "\tmodel = MultiModalModel(cnn_model, bert_model, num_classes, dropout_rate)\n",
    "\t\n",
    "\t# Define the loss function and optimizer\n",
    "\tcriterion = nn.BCEWithLogitsLoss()\n",
    "\toptimizer = torch.optim.Adam(model.parameters(), lr=lr)\n",
    "\t\n",
    "\t# Training loop\n",
    "\tdef train_model(model, train_loader, val_loader, criterion, optimizer, num_epochs=10):\n",
    "\t\tbest_val_loss = float('inf')\n",
    "\t\t\n",
    "\t\tfor epoch in range(num_epochs):\n",
    "\t\t\tmodel.train()\n",
    "\t\t\trunning_loss = 0.0\n",
    "\t\t\tfor batch in train_loader:\n",
    "\t\t\t\timages = batch['image']\n",
    "\t\t\t\tinput_ids = batch['input_ids']\n",
    "\t\t\t\tattention_mask = batch['attention_mask']\n",
    "\t\t\t\tlabels = batch['labels']\n",
    "\t\t\t\t\n",
    "\t\t\t\toutputs = model(images, input_ids, attention_mask)\n",
    "\t\t\t\tloss = criterion(outputs, labels)\n",
    "\t\t\t\toptimizer.zero_grad()\n",
    "\t\t\t\tloss.backward()\n",
    "\t\t\t\toptimizer.step()\n",
    "\t\t\t\trunning_loss += loss.item() * images.size(0)\n",
    "\t\t\t\n",
    "\t\t\tepoch_loss = running_loss / len(train_loader.dataset)\n",
    "\t\t\t\n",
    "\t\t\t# Validate the model\n",
    "\t\t\tmodel.eval()\n",
    "\t\t\tval_loss = 0.0\n",
    "\t\t\twith torch.no_grad():\n",
    "\t\t\t\tfor batch in val_loader:\n",
    "\t\t\t\t\timages = batch['image']\n",
    "\t\t\t\t\tinput_ids = batch['input_ids']\n",
    "\t\t\t\t\tattention_mask = batch['attention_mask']\n",
    "\t\t\t\t\tlabels = batch['labels']\n",
    "\t\t\t\t\t\n",
    "\t\t\t\t\toutputs = model(images, input_ids, attention_mask)\n",
    "\t\t\t\t\tloss = criterion(outputs, labels)\n",
    "\t\t\t\t\tval_loss += loss.item() * images.size(0)\n",
    "\t\t\t\n",
    "\t\t\tval_loss /= len(val_loader.dataset)\n",
    "\t\t\t\n",
    "\t\t\tif val_loss < best_val_loss:\n",
    "\t\t\t\tbest_val_loss = val_loss\n",
    "\t\t\t\n",
    "\t\t\tprint(f'Epoch {epoch+1}/{num_epochs}, Loss: {epoch_loss:.4f}, Val Loss: {val_loss:.4f}')\n",
    "\t\t\n",
    "\t\treturn best_val_loss\n",
    "\t\n",
    "\tbest_val_loss = train_model(model, train_loader, val_loader, criterion, optimizer)\n",
    "\t\n",
    "\treturn best_val_loss\n",
    "\n",
    "# Perform hyperparameter tuning\n",
    "study = optuna.create_study(direction='minimize')\n",
    "study.optimize(objective, n_trials=20)\n",
    "\n",
    "print(\"Best hyperparameters: \", study.best_params)\n",
    "best_params = study.best_params\n",
    "\n"
   ]
  },
  {
   "cell_type": "code",
   "execution_count": null,
   "id": "6600381d",
   "metadata": {},
   "outputs": [],
   "source": [
    "class CNNExtractor(nn.Module):\n",
    "\tdef __init__(self):\n",
    "\t\tsuper(CNNExtractor, self).__init__()\n",
    "\t\tself.resnet = models.resnet50(weights=models.ResNet50_Weights.IMAGENET1K_V1)\n",
    "\t\tself.resnet.fc = nn.Identity()  # Remove the final classification layer\n",
    "\t\n",
    "\tdef forward(self, x):\n",
    "\t\treturn self.resnet(x)\n",
    "\n",
    "# Define the BERT model for text features\n",
    "class BERTExtractor(nn.Module):\n",
    "\tdef __init__(self, bert_model):\n",
    "\t\tsuper(BERTExtractor, self).__init__()\n",
    "\t\tself.bert = bert_model\n",
    "\t\n",
    "\tdef forward(self, input_ids, attention_mask):\n",
    "\t\toutputs = self.bert(input_ids=input_ids, attention_mask=attention_mask)\n",
    "\t\treturn outputs.last_hidden_state[:, 0, :]  # Use the [CLS] token representation\n",
    "\n",
    "# Define the MultiModalModel\n",
    "class MultiModalModel(nn.Module):\n",
    "\tdef __init__(self, cnn_model, bert_model, num_classes, dropout_rate):\n",
    "\t\tsuper(MultiModalModel, self).__init__()\n",
    "\t\tself.cnn_extractor = cnn_model\n",
    "\t\tself.bert_extractor = BERTExtractor(bert_model)\n",
    "\t\tself.fc = nn.Sequential(\n",
    "\t\t\tnn.Linear(2048 + 768, 1024),  # Assuming ResNet and BERT dimensions\n",
    "\t\t\tnn.ReLU(),\n",
    "\t\t\tnn.Dropout(dropout_rate),\n",
    "\t\t\tnn.Linear(1024, num_classes)\n",
    "\t\t)\n",
    "\t\n",
    "\tdef forward(self, image, input_ids, attention_mask):\n",
    "\t\timage_features = self.cnn_extractor(image)\n",
    "\t\ttext_features = self.bert_extractor(input_ids, attention_mask)\n",
    "\t\tcombined_features = torch.cat((image_features, text_features), dim=1)\n",
    "\t\treturn self.fc(combined_features)\n",
    "\n",
    "# Initialize the best model with the best hyperparameters\n",
    "best_cnn_model = CNNExtractor()\n",
    "bert_model = BertModel.from_pretrained('bert-base-uncased')\n",
    "best_model = MultiModalModel(best_cnn_model, bert_model, num_classes, best_params['dropout_rate'])\n",
    "\n",
    "# Define the optimizer with the best learning rate\n",
    "optimizer = torch.optim.Adam(best_model.parameters(), lr=best_params['lr'])\n",
    "\n",
    "# Define image transformations for test data\n",
    "test_transform = transforms.Compose([\n",
    "\ttransforms.Resize((224, 224)),\n",
    "\ttransforms.ToTensor(),\n",
    "\ttransforms.Normalize([0.485, 0.456, 0.406], [0.229, 0.224, 0.225]),\n",
    "])\n"
   ]
  },
  {
   "cell_type": "code",
   "execution_count": null,
   "id": "6c7bdbd2",
   "metadata": {},
   "outputs": [],
   "source": [
    "def generate_predictions(model, test_loader):\n",
    "\tmodel.eval()\n",
    "\tpredictions = []\n",
    "\twith torch.no_grad():\n",
    "\t\tfor batch in test_loader:\n",
    "\t\t\timages = batch['image']\n",
    "\t\t\tinput_ids = batch['input_ids']\n",
    "\t\t\tattention_mask = batch['attention_mask']\n",
    "\t\t\t\n",
    "\t\t\toutputs = model(images, input_ids, attention_mask)\n",
    "\t\t\tpreds = torch.sigmoid(outputs).cpu().numpy()\n",
    "\t\t\tpredictions.append(preds)\n",
    "\t\n",
    "\treturn np.vstack(predictions)\n",
    "\n",
    "# Generate predictions on the test set\n",
    "test_predictions = generate_predictions(best_model, test_loader)\n"
   ]
  },
  {
   "cell_type": "code",
   "execution_count": null,
   "id": "452735a8",
   "metadata": {},
   "outputs": [],
   "source": [
    "# Function to generate predictions\n",
    "def generate_predictions(model, test_loader):\n",
    "\tmodel.eval()\n",
    "\tpredictions = []\n",
    "\twith torch.no_grad():\n",
    "\t\tfor batch in test_loader:\n",
    "\t\t\timages = batch['image']\n",
    "\t\t\tinput_ids = batch['input_ids']\n",
    "\t\t\tattention_mask = batch['attention_mask']\n",
    "\t\t\t\n",
    "\t\t\toutputs = model(images, input_ids, attention_mask)\n",
    "\t\t\tpreds = torch.sigmoid(outputs).cpu().numpy()\n",
    "\t\t\tpredictions.append(preds)\n",
    "\t\n",
    "\treturn np.vstack(predictions)\n",
    "\n",
    "# Generate predictions on the test set\n",
    "test_predictions = generate_predictions(best_model, test_loader)\n"
   ]
  },
  {
   "cell_type": "code",
   "execution_count": null,
   "id": "cb4c9590",
   "metadata": {},
   "outputs": [],
   "source": [
    "# Create a DataFrame with predictions\n",
    "submission_df = test_df.copy()\n",
    "submission_df.iloc[:, 1:] = test_predictions\n",
    "\n",
    "# Save to CSV\n",
    "submission_df.to_csv('/Users/sanaali/Downloads/COMP5329S1A2Dataset 2/submission.csv', index=False)\n"
   ]
  }
 ],
 "metadata": {
  "kernelspec": {
   "display_name": "Python 3 (ipykernel)",
   "language": "python",
   "name": "python3"
  },
  "language_info": {
   "codemirror_mode": {
    "name": "ipython",
    "version": 3
   },
   "file_extension": ".py",
   "mimetype": "text/x-python",
   "name": "python",
   "nbconvert_exporter": "python",
   "pygments_lexer": "ipython3",
   "version": "3.10.12"
  }
 },
 "nbformat": 4,
 "nbformat_minor": 5
}
