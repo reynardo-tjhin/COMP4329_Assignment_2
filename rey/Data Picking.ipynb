{
 "cells": [
  {
   "cell_type": "markdown",
   "metadata": {},
   "source": [
    "# Data Picking and Classification on Smaller Datasets\n",
    "\n",
    "This file is to try on training on a smaller dataset."
   ]
  },
  {
   "cell_type": "code",
   "execution_count": 19,
   "metadata": {},
   "outputs": [],
   "source": [
    "import torch\n",
    "import torch.nn as nn\n",
    "import torch.nn.functional as F\n",
    "import pandas as pd\n",
    "import numpy as np\n",
    "import matplotlib.pyplot as plt\n",
    "import re\n",
    "\n",
    "from nltk.corpus import stopwords\n",
    "from sklearn.feature_extraction.text import CountVectorizer, TfidfVectorizer\n",
    "from torch.utils.data import DataLoader, TensorDataset\n",
    "from torchvision import transforms, models\n",
    "from torchvision.models import ResNet18_Weights, MobileNet_V3_Large_Weights, EfficientNet_B2_Weights, DenseNet121_Weights, MNASNet1_3_Weights, RegNet_X_1_6GF_Weights\n",
    "from dataset import MultiLabelDataset\n",
    "from tqdm import tqdm\n",
    "from tools import get_data, load_data, remove_class\n",
    "from torch.autograd import Variable\n",
    "from typing import List, Tuple\n",
    "from collections import Counter"
   ]
  },
  {
   "cell_type": "code",
   "execution_count": 2,
   "metadata": {},
   "outputs": [],
   "source": [
    "# import data\n",
    "train_data = get_data(\"./dataset/train.csv\")\n",
    "test_data = get_data(\"./dataset/test.csv\")\n",
    "\n",
    "# perform text cleaning and get the pandas' dataframe\n",
    "train_data = load_data(train_data)\n",
    "test_data = load_data(test_data, has_label=False)\n",
    "\n",
    "# join the data together\n",
    "for_nlp_data = pd.concat((train_data['caption'], test_data['caption']), ignore_index=True)"
   ]
  },
  {
   "cell_type": "code",
   "execution_count": 3,
   "metadata": {},
   "outputs": [
    {
     "name": "stdout",
     "output_type": "stream",
     "text": [
      "Number of training instances: 30000\n",
      "Number of testing instances:  10000\n"
     ]
    }
   ],
   "source": [
    "print(f\"Number of training instances: {train_data.shape[0]}\")\n",
    "print(f\"Number of testing instances:  {test_data.shape[0]}\")"
   ]
  },
  {
   "cell_type": "code",
   "execution_count": 4,
   "metadata": {},
   "outputs": [
    {
     "name": "stdout",
     "output_type": "stream",
     "text": [
      "        image_id                                            caption  class 2  \\\n",
      "6          6.jpg          a big airplane flying in the big blue sky      0.0   \n",
      "7          7.jpg          a man riding a motor bike across a forest      0.0   \n",
      "17        17.jpg               a small airplane that is on a runway      0.0   \n",
      "40        40.jpg  man on dirt bike with a redheaded woman in his...      0.0   \n",
      "41        41.jpg  people playing tennis on the court on a sunny day      1.0   \n",
      "...          ...                                                ...      ...   \n",
      "29960  29960.jpg  a motorcycle that is missing parts like a rear...      0.0   \n",
      "29967  29967.jpg     a person on a bike rides next to a city street      1.0   \n",
      "29971  29971.jpg  a group of people waiting to get off the ferry...      1.0   \n",
      "29980  29980.jpg  airplane is docked at the airport so passenger...      0.0   \n",
      "29995  29995.jpg  a picture of a truck that is in the middle of ...      1.0   \n",
      "\n",
      "       class 4  class 5  \n",
      "6          0.0      1.0  \n",
      "7          1.0      0.0  \n",
      "17         0.0      1.0  \n",
      "40         1.0      0.0  \n",
      "41         0.0      0.0  \n",
      "...        ...      ...  \n",
      "29960      1.0      0.0  \n",
      "29967      0.0      0.0  \n",
      "29971      1.0      0.0  \n",
      "29980      0.0      1.0  \n",
      "29995      0.0      0.0  \n",
      "\n",
      "[3396 rows x 5 columns]\n"
     ]
    }
   ],
   "source": [
    "# get only class 2, 4 and 5\n",
    "filtered_data = train_data[(train_data['class 2'] == 1) | (train_data['class 4'] == 1) | (train_data['class 5'] == 1)]\n",
    "\n",
    "# remove other classes\n",
    "classes_not_dropped = [2, 4, 5]\n",
    "for i in range(train_data.shape[1] - 2):\n",
    "\tif ((i + 1) not in classes_not_dropped):\n",
    "\t\tfiltered_data = filtered_data.drop(f'class {i + 1}', axis=1)\n",
    "\n",
    "print(filtered_data)"
   ]
  },
  {
   "cell_type": "markdown",
   "metadata": {},
   "source": [
    "## Image Classification Model"
   ]
  },
  {
   "cell_type": "code",
   "execution_count": 5,
   "metadata": {},
   "outputs": [],
   "source": [
    "# define the image transformation: currently following resnet18\n",
    "transform = transforms.Compose([\n",
    "    transforms.Resize((288, 288)),\n",
    "    transforms.CenterCrop(224),\n",
    "    transforms.ToTensor(), # converts images to [0, 1]\n",
    "    transforms.Normalize(\n",
    "        mean=[0.485, 0.456, 0.406],\n",
    "        std=[0.229, 0.224, 0.225],\n",
    "    )\n",
    "])"
   ]
  },
  {
   "cell_type": "code",
   "execution_count": 6,
   "metadata": {},
   "outputs": [],
   "source": [
    "# initialize the dataset\n",
    "train_dataset = MultiLabelDataset(\n",
    "    csv_file=filtered_data,\n",
    "    root_dir='./dataset/data/',\n",
    "    vectorizer=None,\n",
    "    transform=transform,\n",
    ")\n",
    "\n",
    "BATCH_SIZE=16\n",
    "\n",
    "# load the dataset into batches \n",
    "train_dataloader = DataLoader(\n",
    "    dataset=train_dataset,\n",
    "    batch_size=BATCH_SIZE,\n",
    "    shuffle=True,\n",
    ")"
   ]
  },
  {
   "cell_type": "code",
   "execution_count": 7,
   "metadata": {},
   "outputs": [
    {
     "name": "stdout",
     "output_type": "stream",
     "text": [
      "using GPU\n"
     ]
    }
   ],
   "source": [
    "# model = models.mobilenet_v3_large(weights=MobileNet_V3_Large_Weights.IMAGENET1K_V2)\n",
    "# model = models.resnet18(weights=ResNet18_Weights.IMAGENET1K_V1)\n",
    "# model = models.efficientnet_b2(weights=EfficientNet_B2_Weights.IMAGENET1K_V1)\n",
    "# model = models.densenet121(weights=DenseNet121_Weights.IMAGENET1K_V1)\n",
    "# model = models.mnasnet1_3(weights=MNASNet1_3_Weights)\n",
    "model = models.regnet_x_1_6gf(weights=RegNet_X_1_6GF_Weights.IMAGENET1K_V2)\n",
    "\n",
    "# freeze the top layers of the model\n",
    "for name, params in model.named_parameters():\n",
    "\n",
    "    # MobileNet V3\n",
    "    # if (\"classifier\" not in name):\n",
    "    #     params.requires_grad = False\n",
    "\n",
    "    # ResNet18\n",
    "    # if (\"fc\" not in name):\n",
    "    #     params.requires_grad = False\n",
    "\n",
    "    # EfficentNet B2\n",
    "    # if (\"classifier\" not in name):\n",
    "    #     params.requires_grad = False\n",
    "    \n",
    "\t# DenseNet 121\n",
    "    # if (\"classifier\" not in name):\n",
    "    #     params.requires_grad = False\n",
    "    \n",
    "\t# MNASNet 1.3\n",
    "    # if (\"classifier\" not in name):\n",
    "    #     params.requires_grad = False\n",
    "    \n",
    "\t# RegNet X 1 6GF\n",
    "    if (\"fc\" not in name):\n",
    "        params.requires_grad = False\n",
    "    \n",
    "# define the classifier layer again\n",
    "n_out = 3\n",
    "\n",
    "# MobileNet V3\n",
    "# model.classifier = nn.Sequential(\n",
    "#     nn.Linear(960, 1280),\n",
    "#     nn.Hardswish(inplace=True),\n",
    "#     nn.Dropout(p=0.2, inplace=True),\n",
    "#     nn.Linear(1280, n_out),\n",
    "# )\n",
    "\n",
    "# ResNet18\n",
    "# n_features = model.fc.in_features\n",
    "# model.fc = nn.Sequential(\n",
    "#     nn.Linear(in_features=n_features, out_features=n_out),\n",
    "# )\n",
    "\n",
    "# EfficientNet B2\n",
    "# model.classifier = nn.Sequential(\n",
    "#     nn.Dropout(p=0.3, inplace=True),\n",
    "#     nn.Linear(in_features=1408, out_features=n_out),\n",
    "# )\n",
    "\n",
    "# DenseNet 121\n",
    "# model.classifier = nn.Sequential(\n",
    "#     nn.Linear(in_features=1024, out_features=n_out),\n",
    "# )\n",
    "\n",
    "# # MNASNet 1.3\n",
    "# model.classifier = nn.Sequential(\n",
    "#     nn.Dropout(p=0.2, inplace=True),\n",
    "#     nn.Linear(1280, n_out),\n",
    "# )\n",
    "\n",
    "# RegNet X 1 6GF\n",
    "model.fc = nn.Sequential(\n",
    "    nn.Linear(912, n_out),\n",
    ")\n",
    "\n",
    "# define hyperparameters\n",
    "EPOCHS = 5\n",
    "THRESHOLD = 0.5\n",
    "loss_fn = nn.BCEWithLogitsLoss()\n",
    "optimizer = torch.optim.Adam(\n",
    "    params=model.parameters(),\n",
    "    lr=0.001,\n",
    ")\n",
    "\n",
    "# utilise GPU\n",
    "if torch.cuda.is_available():\n",
    "    print('using GPU')\n",
    "    model = model.to('cuda')"
   ]
  },
  {
   "cell_type": "code",
   "execution_count": 8,
   "metadata": {},
   "outputs": [
    {
     "name": "stderr",
     "output_type": "stream",
     "text": [
      "Epoch 1 Training:   0%|          | 0/213 [00:00<?, ?it/s]/home/reynardo/USYD/COMP4329/ASSIGNMENT 2/my_code/dataset.py:49: FutureWarning: Series.__getitem__ treating keys as positions is deprecated. In a future version, integer keys will always be treated as labels (consistent with DataFrame behavior). To access a value by position, use `ser.iloc[pos]`\n",
      "  labels = torch.Tensor(self.df.iloc[idx, 2:])\n",
      "Epoch 1 Training: 100%|██████████| 213/213 [00:14<00:00, 14.41it/s]\n"
     ]
    },
    {
     "name": "stdout",
     "output_type": "stream",
     "text": [
      "Epoch 1, Train Loss: 1.2114857, Train Accuracy: 35.954%\n"
     ]
    },
    {
     "name": "stderr",
     "output_type": "stream",
     "text": [
      "Epoch 2 Training: 100%|██████████| 213/213 [00:13<00:00, 15.77it/s]\n"
     ]
    },
    {
     "name": "stdout",
     "output_type": "stream",
     "text": [
      "Epoch 2, Train Loss: 2.4135093, Train Accuracy: 42.815%\n"
     ]
    },
    {
     "name": "stderr",
     "output_type": "stream",
     "text": [
      "Epoch 3 Training: 100%|██████████| 213/213 [00:13<00:00, 15.93it/s]\n"
     ]
    },
    {
     "name": "stdout",
     "output_type": "stream",
     "text": [
      "Epoch 3, Train Loss: 3.1528788, Train Accuracy: 51.472%\n"
     ]
    },
    {
     "name": "stderr",
     "output_type": "stream",
     "text": [
      "Epoch 4 Training: 100%|██████████| 213/213 [00:13<00:00, 15.95it/s]\n"
     ]
    },
    {
     "name": "stdout",
     "output_type": "stream",
     "text": [
      "Epoch 4, Train Loss: 3.4505545, Train Accuracy: 53.239%\n"
     ]
    },
    {
     "name": "stderr",
     "output_type": "stream",
     "text": [
      "Epoch 5 Training: 100%|██████████| 213/213 [00:13<00:00, 15.67it/s]"
     ]
    },
    {
     "name": "stdout",
     "output_type": "stream",
     "text": [
      "Epoch 5, Train Loss: 3.5991269, Train Accuracy: 59.688%\n"
     ]
    },
    {
     "name": "stderr",
     "output_type": "stream",
     "text": [
      "\n"
     ]
    }
   ],
   "source": [
    "train_losses = []\n",
    "train_accs = []\n",
    "for epoch in range(EPOCHS):\n",
    "\n",
    "\tn_total = 0\n",
    "\tn_correct = 0\n",
    "\ttrain_loss = 0.\n",
    "\tmodel.train()\n",
    "\tfor _, images, _, labels in tqdm(train_dataloader, desc=f\"Epoch {epoch+1} Training: \"):\n",
    "\n",
    "\t\tif torch.cuda.is_available():\n",
    "\t\t\timages = images.to('cuda')\n",
    "\t\t\tlabels = labels.to('cuda')\n",
    "\n",
    "\t\ty_pred = model(images)\n",
    "\n",
    "\t\t# backward\n",
    "\t\tloss = loss_fn(y_pred, labels)\n",
    "\t\tloss.backward()\n",
    "\n",
    "\t\t# update\n",
    "\t\toptimizer.step()\n",
    "\n",
    "\t\t# compare\n",
    "\t\tpredicted = (y_pred > THRESHOLD).int()\n",
    "\n",
    "\t\ttrain_loss += loss.item()\n",
    "\t\tn_correct += torch.all(torch.eq(predicted, labels), dim=1).sum()\n",
    "\t\tn_total += labels.shape[0]\n",
    "\n",
    "\t\t# if (n_total < 32):\n",
    "\t\t# \tprint(train_loss)\n",
    "\t\t# \tprint(n_correct)\n",
    "\t\t# \tprint(n_total)\n",
    "\t\t# \tprint(predicted)\n",
    "\t\t# \tprint(labels)\n",
    "\n",
    "\ttrain_losses.append(train_loss / len(train_dataloader))\n",
    "\ttrain_accs.append(n_correct / n_total)\n",
    "\n",
    "\tprint(\"Epoch {:d}, Train Loss: {:.7f}, Train Accuracy: {:.3f}%\".format(epoch+1, train_losses[-1], train_accs[-1]*100))"
   ]
  },
  {
   "cell_type": "code",
   "execution_count": 9,
   "metadata": {},
   "outputs": [
    {
     "name": "stdout",
     "output_type": "stream",
     "text": [
      "0.3595406413078308\n",
      "0.4281507730484009\n",
      "0.5147232413291931\n",
      "0.5323910713195801\n",
      "0.596878707408905\n"
     ]
    },
    {
     "data": {
      "image/png": "[encoded data removed]",
      "text/plain": [
       "<Figure size 640x480 with 1 Axes>"
      ]
     },
     "metadata": {},
     "output_type": "display_data"
    }
   ],
   "source": [
    "new_train_accs = []\n",
    "for i, train_acc in enumerate(train_accs):\n",
    "    new_train_accs.append(train_acc.item())\n",
    "    print(train_acc.item())\n",
    "\n",
    "plt.title(\"Train Accuracy\")\n",
    "plt.plot(new_train_accs)\n",
    "plt.xlabel(\"Epoch\")\n",
    "plt.ylabel(\"Accuracy\")\n",
    "plt.show()"
   ]
  },
  {
   "cell_type": "markdown",
   "metadata": {},
   "source": [
    "## Text Classification Model"
   ]
  },
  {
   "cell_type": "markdown",
   "metadata": {},
   "source": [
    "### Using Count Vectorizer"
   ]
  },
  {
   "cell_type": "code",
   "execution_count": 97,
   "metadata": {},
   "outputs": [
    {
     "name": "stdout",
     "output_type": "stream",
     "text": [
      "(3396, 8075)\n",
      "(10000, 8075)\n"
     ]
    }
   ],
   "source": [
    "# Count Vectorizer\n",
    "vectorizer = CountVectorizer(lowercase=True)\n",
    "vectorizer.fit(for_nlp_data)\n",
    "\n",
    "X_train_vec = vectorizer.transform(filtered_data['caption'])\n",
    "X_test_vec = vectorizer.transform(test_data['caption'])\n",
    "\n",
    "# the size of vocabulary is 8075\n",
    "print(X_train_vec.shape)\n",
    "print(X_test_vec.shape)"
   ]
  },
  {
   "cell_type": "code",
   "execution_count": 98,
   "metadata": {},
   "outputs": [],
   "source": [
    "X_train_tensor = torch.from_numpy(X_train_vec.todense()).int()\n",
    "X_test_tensor = torch.from_numpy(X_test_vec.todense()).int()\n",
    "y_train_tensor = torch.from_numpy(np.array(filtered_data.iloc[:, 2:]))\n",
    "y_test_tensor = torch.from_numpy(np.array(test_data.iloc[:, 2:]))"
   ]
  },
  {
   "cell_type": "markdown",
   "metadata": {},
   "source": [
    "### Instead of Count Vectorizer, Let's use Tokenization\n",
    "\n",
    "Reference: [Sentiment Analysis using LSTM PyTorch](https://www.kaggle.com/code/arunmohan003/sentiment-analysis-using-lstm-pytorch)"
   ]
  },
  {
   "cell_type": "code",
   "execution_count": 99,
   "metadata": {},
   "outputs": [
    {
     "name": "stdout",
     "output_type": "stream",
     "text": [
      "16\n",
      "(3396, 18)\n",
      "2109\n"
     ]
    }
   ],
   "source": [
    "def _preprocess_string(s: str) -> str:\n",
    "\ts = re.sub(r\"[^\\w\\s]\", '', s)\n",
    "\ts = re.sub(r\"\\s+\", '', s)\n",
    "\ts = re.sub(r\"\\d\", '', s)\n",
    "\treturn s\n",
    "\n",
    "def _padding(sentences: List[int], seq_len: int) -> np.ndarray:\n",
    "\tfeatures = np.zeros((len(sentences), seq_len), dtype=int)\n",
    "\tfor i, review in enumerate(sentences):\n",
    "\t\tif (len(review) != 0):\n",
    "\t\t\tfeatures[i, -len(review):] = np.array(review)[:seq_len]\n",
    "\treturn features\n",
    "\n",
    "def tokenize(x_train: List[str], x_test: List[str]) -> Tuple[np.ndarray, np.ndarray, dict]:\n",
    "\tword_list = []\t\n",
    "\tstop_words = set(stopwords.words('english'))\n",
    "\tfor sentence in x_train:\n",
    "\t\tfor word in sentence.lower().split():\n",
    "\t\t\tword = _preprocess_string(word)\n",
    "\t\t\tif word not in stop_words and word != '':\n",
    "\t\t\t\tword_list.append(word)\n",
    "\n",
    "\tcorpus = Counter(word_list)\n",
    "\tcorpus_ = sorted(corpus, key=corpus.get, reverse=True)\n",
    "\tonehot_dict = {w: i+1 for i,w in enumerate(corpus_)}\n",
    "\n",
    "\t# tokenize\n",
    "\tfinal_list_train = []\n",
    "\tfor sentence in x_train:\n",
    "\n",
    "\t\tls = []\n",
    "\t\tfor word in sentence.lower().split():\n",
    "\t\t\tword = _preprocess_string(word)\n",
    "\t\t\tif (word in onehot_dict.keys()):\n",
    "\t\t\t\tidx = onehot_dict[word]\n",
    "\t\t\t\tls.append(idx)\n",
    "\t\tfinal_list_train.append(ls)\n",
    "\n",
    "\t# find the maximum length of the sentence\n",
    "\tmax_len = 0\n",
    "\tfor sentence in final_list_train:\n",
    "\t\tmax_len = len(sentence) if (len(sentence) > max_len) else max_len\n",
    "\tprint(max_len)\n",
    "\n",
    "\t# padding\n",
    "\tfinal_list_train = _padding(final_list_train, max_len + 2)\n",
    "\treturn final_list_train, None, onehot_dict\n",
    "\n",
    "X_train_vec, X_test_vec, vocab = tokenize(filtered_data['caption'], None)\n",
    "print(X_train_vec.shape)\n",
    "print(len(vocab))\n",
    "\n",
    "# to tensor\n",
    "X_train_tensor = torch.from_numpy(X_train_vec).int()"
   ]
  },
  {
   "cell_type": "markdown",
   "metadata": {},
   "source": [
    "### Continue with Training"
   ]
  },
  {
   "cell_type": "code",
   "execution_count": 100,
   "metadata": {},
   "outputs": [],
   "source": [
    "train_data = TensorDataset(X_train_tensor, y_train_tensor)\n",
    "train_loader = DataLoader(\n",
    "    dataset=train_data, \n",
    "    batch_size=16,\n",
    "    shuffle=True\n",
    ")"
   ]
  },
  {
   "cell_type": "code",
   "execution_count": 101,
   "metadata": {},
   "outputs": [],
   "source": [
    "class LSTM(nn.Module):\n",
    "    \n",
    "\tdef __init__(self, no_layers: int, vocab_size: int, embedding_dim: int, hidden_dim: int, output_dim: int) -> None:\n",
    "\t\tsuper(LSTM, self).__init__()\n",
    "\n",
    "\t\tself.output_dim = output_dim\n",
    "\t\tself.hidden_dim = hidden_dim\n",
    "\n",
    "\t\tself.no_layers = no_layers\n",
    "\t\tself.vocab_size = vocab_size\n",
    "\n",
    "\t\t# embedding layer\n",
    "\t\tself.embedding_layer = nn.Embedding(num_embeddings=vocab_size+1, embedding_dim=embedding_dim)\n",
    "\n",
    "\t\t# LSTM layer\n",
    "\t\tself.lstm_layer = nn.LSTM(\n",
    "\t\t\tinput_size=embedding_dim, \n",
    "\t\t\thidden_size=hidden_dim, \n",
    "\t\t\tnum_layers=no_layers,\n",
    "\t\t\tbatch_first=True,\n",
    "\t\t)\n",
    "\n",
    "\t\t# fully connected layer\n",
    "\t\tself.fc = nn.Linear(in_features=hidden_dim, out_features=output_dim)\n",
    "\t\tself.sig = nn.Sigmoid()\n",
    "\n",
    "\tdef forward(self, x: torch.Tensor, hidden: Tuple[torch.Tensor, torch.Tensor]) -> Tuple[torch.Tensor, Tuple[torch.Tensor, torch.Tensor]]:\n",
    "\n",
    "\t\tbatch_size = x.shape[0]\n",
    "\n",
    "\t\t# if hidden shape is not the same as expected due to batch size\n",
    "\t\t# average the others\n",
    "\t\t# target is the batch_size\n",
    "\t\t# we expect hidden state to have (no_layers, target, hidden_dim)\n",
    "\t\tdevice = 'cuda' if torch.cuda.is_available() else 'cpu'\n",
    "\t\tcurrent_hidden_batch_size = hidden[0].shape[1]\n",
    "\t\tif (batch_size != current_hidden_batch_size):\n",
    "\t\t\tnew_h = torch.zeros((self.no_layers, batch_size, self.hidden_dim)).to(device)\n",
    "\t\t\tnew_c = torch.zeros((self.no_layers, batch_size, self.hidden_dim)).to(device)\n",
    "\t\t\tfor i in range(self.no_layers):\n",
    "\n",
    "\t\t\t\tn = current_hidden_batch_size // batch_size\n",
    "\t\t\t\tfor j in range(batch_size):\n",
    "\n",
    "\t\t\t\t\ttemp_h = hidden[0][i, n*j:n*(j+1), :].float()\n",
    "\t\t\t\t\ttemp_c = hidden[1][i, n*j:n*(j+1), :].float()\n",
    "\t\t\t\t\tif (j == batch_size - 1):\n",
    "\t\t\t\t\t\ttemp_h = hidden[0][i, n*j:, :].float()\n",
    "\t\t\t\t\t\ttemp_c = hidden[1][i, n*j:, :].float()\n",
    "\n",
    "\t\t\t\t\tmean_temp_h = torch.mean(temp_h, dim = 0)\n",
    "\t\t\t\t\tmean_temp_c = torch.mean(temp_c, dim = 0)\n",
    "\n",
    "\t\t\t\t\tnew_h[i][j] = mean_temp_h\n",
    "\t\t\t\t\tnew_c[i][j] = mean_temp_c\n",
    "\t\t\thidden = (new_h, new_c)\n",
    "\n",
    "\t\t# embeddings and lstm_out\n",
    "\t\tembeds = self.embedding_layer(x) # shape: B x S x Feature since batch = True\n",
    "\t\tlstm_out, hidden = self.lstm_layer(embeds, hidden)\n",
    "\n",
    "\t\tlstm_out = lstm_out.contiguous().view(-1, self.hidden_dim)\n",
    "\n",
    "\t\t# fully connected layer\n",
    "\t\tout = self.fc(lstm_out)\n",
    "\t\tout = self.sig(out)\n",
    "\n",
    "\t\t# reshape to be batch size first\n",
    "\t\tout = out.view(batch_size, -1)\n",
    "\n",
    "\t\t# get last batch of labels\n",
    "\t\tout = out[:, -3:]\n",
    "\n",
    "\t\treturn out, hidden\n",
    "\t\n",
    "\tdef init_hidden(self, batch_size: int):\n",
    "\t\t\"\"\"\n",
    "\t\tInitialize hidden state\n",
    "\t\tCreate two new tensors with sizes n_layers x batch_size x hidden_dim,\n",
    "\t\tInitialized to zero, for hidden state and cell state of LSTM\n",
    "\t\t\"\"\"\n",
    "\t\th0 = torch.zeros((self.no_layers, batch_size, self.hidden_dim))\n",
    "\t\tc0 = torch.zeros((self.no_layers, batch_size, self.hidden_dim))\n",
    "\t\tif (torch.cuda.is_available()):\n",
    "\t\t\th0 = h0.to('cuda')\n",
    "\t\t\tc0 = c0.to('cuda')\n",
    "\t\t\n",
    "\t\thidden = (h0, c0)\n",
    "\t\treturn hidden"
   ]
  },
  {
   "cell_type": "code",
   "execution_count": 102,
   "metadata": {},
   "outputs": [
    {
     "name": "stdout",
     "output_type": "stream",
     "text": [
      "using GPU\n"
     ]
    }
   ],
   "source": [
    "epochs = 50\n",
    "threshold = 0.5\n",
    "\n",
    "model = LSTM(\n",
    "    no_layers=1,\n",
    "    vocab_size=len(vocab), # extra 1 is already included, usually for padding\n",
    "    embedding_dim=64,\n",
    "    hidden_dim=256,\n",
    "    output_dim=3,\n",
    ")\n",
    "loss_fn = nn.BCEWithLogitsLoss()\n",
    "optimizer = torch.optim.Adam(\n",
    "    params=model.parameters(),\n",
    "    lr=0.001,\n",
    ")\n",
    "\n",
    "# utilise GPU\n",
    "if torch.cuda.is_available():\n",
    "    print('using GPU')\n",
    "    model = model.to('cuda')"
   ]
  },
  {
   "cell_type": "code",
   "execution_count": 103,
   "metadata": {},
   "outputs": [
    {
     "name": "stderr",
     "output_type": "stream",
     "text": [
      "Epoch 1 Training: 100%|██████████| 213/213 [00:00<00:00, 300.74it/s]\n"
     ]
    },
    {
     "name": "stdout",
     "output_type": "stream",
     "text": [
      "Epoch 1, Train Loss: 0.697568439, Train Accuracy: 0.2355713%\n"
     ]
    },
    {
     "name": "stderr",
     "output_type": "stream",
     "text": [
      "Epoch 2 Training: 100%|██████████| 213/213 [00:00<00:00, 288.41it/s]\n"
     ]
    },
    {
     "name": "stdout",
     "output_type": "stream",
     "text": [
      "Epoch 2, Train Loss: 0.693163797, Train Accuracy: 0.0000000%\n"
     ]
    },
    {
     "name": "stderr",
     "output_type": "stream",
     "text": [
      "Epoch 3 Training: 100%|██████████| 213/213 [00:00<00:00, 327.46it/s]\n"
     ]
    },
    {
     "name": "stdout",
     "output_type": "stream",
     "text": [
      "Epoch 3, Train Loss: 0.693154547, Train Accuracy: 0.0000000%\n"
     ]
    },
    {
     "name": "stderr",
     "output_type": "stream",
     "text": [
      "Epoch 4 Training: 100%|██████████| 213/213 [00:00<00:00, 308.04it/s]\n"
     ]
    },
    {
     "name": "stdout",
     "output_type": "stream",
     "text": [
      "Epoch 4, Train Loss: 0.693150619, Train Accuracy: 0.0000000%\n"
     ]
    },
    {
     "name": "stderr",
     "output_type": "stream",
     "text": [
      "Epoch 5 Training: 100%|██████████| 213/213 [00:00<00:00, 387.34it/s]\n"
     ]
    },
    {
     "name": "stdout",
     "output_type": "stream",
     "text": [
      "Epoch 5, Train Loss: 0.693147783, Train Accuracy: 0.0000000%\n"
     ]
    },
    {
     "name": "stderr",
     "output_type": "stream",
     "text": [
      "Epoch 6 Training: 100%|██████████| 213/213 [00:00<00:00, 388.89it/s]\n"
     ]
    },
    {
     "name": "stdout",
     "output_type": "stream",
     "text": [
      "Epoch 6, Train Loss: 0.693147833, Train Accuracy: 0.0000000%\n"
     ]
    },
    {
     "name": "stderr",
     "output_type": "stream",
     "text": [
      "Epoch 7 Training: 100%|██████████| 213/213 [00:00<00:00, 498.61it/s]\n"
     ]
    },
    {
     "name": "stdout",
     "output_type": "stream",
     "text": [
      "Epoch 7, Train Loss: 0.693144070, Train Accuracy: 0.0000000%\n"
     ]
    },
    {
     "name": "stderr",
     "output_type": "stream",
     "text": [
      "Epoch 8 Training: 100%|██████████| 213/213 [00:00<00:00, 492.40it/s]\n"
     ]
    },
    {
     "name": "stdout",
     "output_type": "stream",
     "text": [
      "Epoch 8, Train Loss: 0.693141588, Train Accuracy: 0.0000000%\n"
     ]
    },
    {
     "name": "stderr",
     "output_type": "stream",
     "text": [
      "Epoch 9 Training: 100%|██████████| 213/213 [00:00<00:00, 480.95it/s]\n"
     ]
    },
    {
     "name": "stdout",
     "output_type": "stream",
     "text": [
      "Epoch 9, Train Loss: 0.652336219, Train Accuracy: 36.6607780%\n"
     ]
    },
    {
     "name": "stderr",
     "output_type": "stream",
     "text": [
      "Epoch 10 Training: 100%|██████████| 213/213 [00:00<00:00, 411.82it/s]\n"
     ]
    },
    {
     "name": "stdout",
     "output_type": "stream",
     "text": [
      "Epoch 10, Train Loss: 0.626938265, Train Accuracy: 52.2968216%\n"
     ]
    },
    {
     "name": "stderr",
     "output_type": "stream",
     "text": [
      "Epoch 11 Training: 100%|██████████| 213/213 [00:00<00:00, 325.88it/s]\n"
     ]
    },
    {
     "name": "stdout",
     "output_type": "stream",
     "text": [
      "Epoch 11, Train Loss: 0.606965084, Train Accuracy: 80.7714996%\n"
     ]
    },
    {
     "name": "stderr",
     "output_type": "stream",
     "text": [
      "Epoch 12 Training: 100%|██████████| 213/213 [00:00<00:00, 275.77it/s]\n"
     ]
    },
    {
     "name": "stdout",
     "output_type": "stream",
     "text": [
      "Epoch 12, Train Loss: 0.600342497, Train Accuracy: 82.2438202%\n"
     ]
    },
    {
     "name": "stderr",
     "output_type": "stream",
     "text": [
      "Epoch 13 Training: 100%|██████████| 213/213 [00:00<00:00, 288.49it/s]\n"
     ]
    },
    {
     "name": "stdout",
     "output_type": "stream",
     "text": [
      "Epoch 13, Train Loss: 0.596379576, Train Accuracy: 83.7750320%\n"
     ]
    },
    {
     "name": "stderr",
     "output_type": "stream",
     "text": [
      "Epoch 14 Training: 100%|██████████| 213/213 [00:00<00:00, 271.94it/s]\n"
     ]
    },
    {
     "name": "stdout",
     "output_type": "stream",
     "text": [
      "Epoch 14, Train Loss: 0.593389900, Train Accuracy: 84.3345184%\n"
     ]
    },
    {
     "name": "stderr",
     "output_type": "stream",
     "text": [
      "Epoch 15 Training: 100%|██████████| 213/213 [00:00<00:00, 259.81it/s]\n"
     ]
    },
    {
     "name": "stdout",
     "output_type": "stream",
     "text": [
      "Epoch 15, Train Loss: 0.590946607, Train Accuracy: 84.7762146%\n"
     ]
    },
    {
     "name": "stderr",
     "output_type": "stream",
     "text": [
      "Epoch 16 Training: 100%|██████████| 213/213 [00:00<00:00, 416.26it/s]\n"
     ]
    },
    {
     "name": "stdout",
     "output_type": "stream",
     "text": [
      "Epoch 16, Train Loss: 0.587912451, Train Accuracy: 85.7184982%\n"
     ]
    },
    {
     "name": "stderr",
     "output_type": "stream",
     "text": [
      "Epoch 17 Training: 100%|██████████| 213/213 [00:00<00:00, 255.25it/s]\n"
     ]
    },
    {
     "name": "stdout",
     "output_type": "stream",
     "text": [
      "Epoch 17, Train Loss: 0.585800983, Train Accuracy: 86.9257965%\n"
     ]
    },
    {
     "name": "stderr",
     "output_type": "stream",
     "text": [
      "Epoch 18 Training: 100%|██████████| 213/213 [00:00<00:00, 461.59it/s]\n"
     ]
    },
    {
     "name": "stdout",
     "output_type": "stream",
     "text": [
      "Epoch 18, Train Loss: 0.582732614, Train Accuracy: 88.3097839%\n"
     ]
    },
    {
     "name": "stderr",
     "output_type": "stream",
     "text": [
      "Epoch 19 Training: 100%|██████████| 213/213 [00:00<00:00, 259.93it/s]\n"
     ]
    },
    {
     "name": "stdout",
     "output_type": "stream",
     "text": [
      "Epoch 19, Train Loss: 0.581030915, Train Accuracy: 89.0459442%\n"
     ]
    },
    {
     "name": "stderr",
     "output_type": "stream",
     "text": [
      "Epoch 20 Training: 100%|██████████| 213/213 [00:00<00:00, 360.67it/s]\n"
     ]
    },
    {
     "name": "stdout",
     "output_type": "stream",
     "text": [
      "Epoch 20, Train Loss: 0.579475396, Train Accuracy: 89.8998871%\n"
     ]
    },
    {
     "name": "stderr",
     "output_type": "stream",
     "text": [
      "Epoch 21 Training: 100%|██████████| 213/213 [00:00<00:00, 413.97it/s]\n"
     ]
    },
    {
     "name": "stdout",
     "output_type": "stream",
     "text": [
      "Epoch 21, Train Loss: 0.578762273, Train Accuracy: 90.2237930%\n"
     ]
    },
    {
     "name": "stderr",
     "output_type": "stream",
     "text": [
      "Epoch 22 Training: 100%|██████████| 213/213 [00:00<00:00, 307.01it/s]\n"
     ]
    },
    {
     "name": "stdout",
     "output_type": "stream",
     "text": [
      "Epoch 22, Train Loss: 0.577703437, Train Accuracy: 90.6360474%\n"
     ]
    },
    {
     "name": "stderr",
     "output_type": "stream",
     "text": [
      "Epoch 23 Training: 100%|██████████| 213/213 [00:00<00:00, 278.44it/s]\n"
     ]
    },
    {
     "name": "stdout",
     "output_type": "stream",
     "text": [
      "Epoch 23, Train Loss: 0.577095352, Train Accuracy: 91.2249756%\n"
     ]
    },
    {
     "name": "stderr",
     "output_type": "stream",
     "text": [
      "Epoch 24 Training: 100%|██████████| 213/213 [00:00<00:00, 387.04it/s]\n"
     ]
    },
    {
     "name": "stdout",
     "output_type": "stream",
     "text": [
      "Epoch 24, Train Loss: 0.575930457, Train Accuracy: 91.5783310%\n"
     ]
    },
    {
     "name": "stderr",
     "output_type": "stream",
     "text": [
      "Epoch 25 Training: 100%|██████████| 213/213 [00:00<00:00, 472.53it/s]\n"
     ]
    },
    {
     "name": "stdout",
     "output_type": "stream",
     "text": [
      "Epoch 25, Train Loss: 0.576495115, Train Accuracy: 91.5488815%\n"
     ]
    },
    {
     "name": "stderr",
     "output_type": "stream",
     "text": [
      "Epoch 26 Training: 100%|██████████| 213/213 [00:00<00:00, 478.99it/s]\n"
     ]
    },
    {
     "name": "stdout",
     "output_type": "stream",
     "text": [
      "Epoch 26, Train Loss: 0.574816254, Train Accuracy: 92.3144913%\n"
     ]
    },
    {
     "name": "stderr",
     "output_type": "stream",
     "text": [
      "Epoch 27 Training: 100%|██████████| 213/213 [00:00<00:00, 486.30it/s]\n"
     ]
    },
    {
     "name": "stdout",
     "output_type": "stream",
     "text": [
      "Epoch 27, Train Loss: 0.574872129, Train Accuracy: 92.0789185%\n"
     ]
    },
    {
     "name": "stderr",
     "output_type": "stream",
     "text": [
      "Epoch 28 Training: 100%|██████████| 213/213 [00:00<00:00, 450.65it/s]\n"
     ]
    },
    {
     "name": "stdout",
     "output_type": "stream",
     "text": [
      "Epoch 28, Train Loss: 0.574965860, Train Accuracy: 92.3144913%\n"
     ]
    },
    {
     "name": "stderr",
     "output_type": "stream",
     "text": [
      "Epoch 29 Training: 100%|██████████| 213/213 [00:00<00:00, 473.75it/s]\n"
     ]
    },
    {
     "name": "stdout",
     "output_type": "stream",
     "text": [
      "Epoch 29, Train Loss: 0.573553204, Train Accuracy: 92.9623108%\n"
     ]
    },
    {
     "name": "stderr",
     "output_type": "stream",
     "text": [
      "Epoch 30 Training: 100%|██████████| 213/213 [00:00<00:00, 344.19it/s]\n"
     ]
    },
    {
     "name": "stdout",
     "output_type": "stream",
     "text": [
      "Epoch 30, Train Loss: 0.572714626, Train Accuracy: 93.2273331%\n"
     ]
    },
    {
     "name": "stderr",
     "output_type": "stream",
     "text": [
      "Epoch 31 Training: 100%|██████████| 213/213 [00:00<00:00, 433.99it/s]\n"
     ]
    },
    {
     "name": "stdout",
     "output_type": "stream",
     "text": [
      "Epoch 31, Train Loss: 0.572953657, Train Accuracy: 93.0801010%\n"
     ]
    },
    {
     "name": "stderr",
     "output_type": "stream",
     "text": [
      "Epoch 32 Training: 100%|██████████| 213/213 [00:00<00:00, 465.72it/s]\n"
     ]
    },
    {
     "name": "stdout",
     "output_type": "stream",
     "text": [
      "Epoch 32, Train Loss: 0.571927391, Train Accuracy: 93.4923477%\n"
     ]
    },
    {
     "name": "stderr",
     "output_type": "stream",
     "text": [
      "Epoch 33 Training: 100%|██████████| 213/213 [00:00<00:00, 477.86it/s]\n"
     ]
    },
    {
     "name": "stdout",
     "output_type": "stream",
     "text": [
      "Epoch 33, Train Loss: 0.571617676, Train Accuracy: 93.7573700%\n"
     ]
    },
    {
     "name": "stderr",
     "output_type": "stream",
     "text": [
      "Epoch 34 Training: 100%|██████████| 213/213 [00:00<00:00, 472.04it/s]\n"
     ]
    },
    {
     "name": "stdout",
     "output_type": "stream",
     "text": [
      "Epoch 34, Train Loss: 0.571537872, Train Accuracy: 93.6984711%\n"
     ]
    },
    {
     "name": "stderr",
     "output_type": "stream",
     "text": [
      "Epoch 35 Training: 100%|██████████| 213/213 [00:00<00:00, 499.04it/s]\n"
     ]
    },
    {
     "name": "stdout",
     "output_type": "stream",
     "text": [
      "Epoch 35, Train Loss: 0.571236777, Train Accuracy: 93.9045944%\n"
     ]
    },
    {
     "name": "stderr",
     "output_type": "stream",
     "text": [
      "Epoch 36 Training: 100%|██████████| 213/213 [00:00<00:00, 490.60it/s]\n"
     ]
    },
    {
     "name": "stdout",
     "output_type": "stream",
     "text": [
      "Epoch 36, Train Loss: 0.570995285, Train Accuracy: 94.0223846%\n"
     ]
    },
    {
     "name": "stderr",
     "output_type": "stream",
     "text": [
      "Epoch 37 Training: 100%|██████████| 213/213 [00:00<00:00, 480.07it/s]\n"
     ]
    },
    {
     "name": "stdout",
     "output_type": "stream",
     "text": [
      "Epoch 37, Train Loss: 0.571455057, Train Accuracy: 94.0812759%\n"
     ]
    },
    {
     "name": "stderr",
     "output_type": "stream",
     "text": [
      "Epoch 38 Training: 100%|██████████| 213/213 [00:00<00:00, 292.06it/s]\n"
     ]
    },
    {
     "name": "stdout",
     "output_type": "stream",
     "text": [
      "Epoch 38, Train Loss: 0.570760915, Train Accuracy: 94.1401672%\n"
     ]
    },
    {
     "name": "stderr",
     "output_type": "stream",
     "text": [
      "Epoch 39 Training: 100%|██████████| 213/213 [00:00<00:00, 358.07it/s]\n"
     ]
    },
    {
     "name": "stdout",
     "output_type": "stream",
     "text": [
      "Epoch 39, Train Loss: 0.571069469, Train Accuracy: 93.9045944%\n"
     ]
    },
    {
     "name": "stderr",
     "output_type": "stream",
     "text": [
      "Epoch 40 Training: 100%|██████████| 213/213 [00:00<00:00, 309.56it/s]\n"
     ]
    },
    {
     "name": "stdout",
     "output_type": "stream",
     "text": [
      "Epoch 40, Train Loss: 0.570805765, Train Accuracy: 94.2579575%\n"
     ]
    },
    {
     "name": "stderr",
     "output_type": "stream",
     "text": [
      "Epoch 41 Training: 100%|██████████| 213/213 [00:00<00:00, 478.17it/s]\n"
     ]
    },
    {
     "name": "stdout",
     "output_type": "stream",
     "text": [
      "Epoch 41, Train Loss: 0.570949702, Train Accuracy: 94.1401672%\n"
     ]
    },
    {
     "name": "stderr",
     "output_type": "stream",
     "text": [
      "Epoch 42 Training: 100%|██████████| 213/213 [00:00<00:00, 493.59it/s]\n"
     ]
    },
    {
     "name": "stdout",
     "output_type": "stream",
     "text": [
      "Epoch 42, Train Loss: 0.570550006, Train Accuracy: 94.3168488%\n"
     ]
    },
    {
     "name": "stderr",
     "output_type": "stream",
     "text": [
      "Epoch 43 Training: 100%|██████████| 213/213 [00:00<00:00, 470.76it/s]\n"
     ]
    },
    {
     "name": "stdout",
     "output_type": "stream",
     "text": [
      "Epoch 43, Train Loss: 0.570119425, Train Accuracy: 94.4640808%\n"
     ]
    },
    {
     "name": "stderr",
     "output_type": "stream",
     "text": [
      "Epoch 44 Training: 100%|██████████| 213/213 [00:00<00:00, 327.73it/s]\n"
     ]
    },
    {
     "name": "stdout",
     "output_type": "stream",
     "text": [
      "Epoch 44, Train Loss: 0.569812651, Train Accuracy: 94.5818634%\n"
     ]
    },
    {
     "name": "stderr",
     "output_type": "stream",
     "text": [
      "Epoch 45 Training: 100%|██████████| 213/213 [00:00<00:00, 443.04it/s]\n"
     ]
    },
    {
     "name": "stdout",
     "output_type": "stream",
     "text": [
      "Epoch 45, Train Loss: 0.569868559, Train Accuracy: 94.5818634%\n"
     ]
    },
    {
     "name": "stderr",
     "output_type": "stream",
     "text": [
      "Epoch 46 Training: 100%|██████████| 213/213 [00:00<00:00, 366.83it/s]\n"
     ]
    },
    {
     "name": "stdout",
     "output_type": "stream",
     "text": [
      "Epoch 46, Train Loss: 0.570198694, Train Accuracy: 94.5524139%\n"
     ]
    },
    {
     "name": "stderr",
     "output_type": "stream",
     "text": [
      "Epoch 47 Training: 100%|██████████| 213/213 [00:00<00:00, 315.11it/s]\n"
     ]
    },
    {
     "name": "stdout",
     "output_type": "stream",
     "text": [
      "Epoch 47, Train Loss: 0.570299880, Train Accuracy: 94.4640808%\n"
     ]
    },
    {
     "name": "stderr",
     "output_type": "stream",
     "text": [
      "Epoch 48 Training: 100%|██████████| 213/213 [00:00<00:00, 471.00it/s]\n"
     ]
    },
    {
     "name": "stdout",
     "output_type": "stream",
     "text": [
      "Epoch 48, Train Loss: 0.570502501, Train Accuracy: 94.4346313%\n"
     ]
    },
    {
     "name": "stderr",
     "output_type": "stream",
     "text": [
      "Epoch 49 Training: 100%|██████████| 213/213 [00:00<00:00, 494.55it/s]\n"
     ]
    },
    {
     "name": "stdout",
     "output_type": "stream",
     "text": [
      "Epoch 49, Train Loss: 0.570346098, Train Accuracy: 94.4051895%\n"
     ]
    },
    {
     "name": "stderr",
     "output_type": "stream",
     "text": [
      "Epoch 50 Training: 100%|██████████| 213/213 [00:00<00:00, 317.80it/s]"
     ]
    },
    {
     "name": "stdout",
     "output_type": "stream",
     "text": [
      "Epoch 50, Train Loss: 0.569506156, Train Accuracy: 94.7585373%\n"
     ]
    },
    {
     "name": "stderr",
     "output_type": "stream",
     "text": [
      "\n"
     ]
    }
   ],
   "source": [
    "clip = 5 # for exploding gradient problem\n",
    "train_losses = []\n",
    "train_accs = []\n",
    "for epoch in range(epochs):\n",
    "\n",
    "\t# initialize the hidden state\n",
    "\thidden = model.init_hidden(batch_size=BATCH_SIZE)\n",
    "\n",
    "\tn_total = 0\n",
    "\tn_correct = 0\n",
    "\ttrain_loss = 0.\n",
    "\tmodel.train()\n",
    "\tfor captions, labels in tqdm(train_loader, desc=f\"Epoch {epoch+1} Training: \"):\n",
    "\n",
    "\t\tif torch.cuda.is_available():\n",
    "\t\t\tcaptions = captions.to('cuda')\n",
    "\t\t\tlabels = labels.to('cuda')\n",
    "\n",
    "\t\t# creating new variables for the hidden state, otherwise\n",
    "\t\t# we'd backprop through the entire training history\n",
    "\t\thidden = tuple([each.data for each in hidden])\n",
    "\n",
    "\t\tmodel.zero_grad()\n",
    "\t\ty_pred, hidden = model(captions, hidden)\n",
    "\n",
    "\t\t# backward\n",
    "\t\tloss = loss_fn(y_pred.squeeze(), labels)\n",
    "\t\tloss.backward()\n",
    "\n",
    "\t\t# clip_grad_norm helps prevent the exploding gradient problem in RNNs/LSTMs\n",
    "\t\tnn.utils.clip_grad_norm_(model.parameters(), clip)\n",
    "\n",
    "\t\t# update\n",
    "\t\toptimizer.step()\n",
    "\n",
    "\t\t# compare\n",
    "\t\tpredicted = (y_pred > threshold).int()\n",
    "\t\ttrain_loss += loss.item()\n",
    "\t\tn_correct += torch.all(torch.eq(predicted, labels), dim=1).sum()\n",
    "\t\tn_total += labels.shape[0]\n",
    "\n",
    "\ttrain_losses.append(train_loss / len(train_loader))\n",
    "\ttrain_accs.append(n_correct / n_total)\n",
    "\n",
    "\tprint(\"Epoch {:d}, Train Loss: {:.9f}, Train Accuracy: {:.7f}%\".format(epoch+1, train_losses[-1], train_accs[-1]*100))"
   ]
  },
  {
   "cell_type": "code",
   "execution_count": 104,
   "metadata": {},
   "outputs": [
    {
     "data": {
      "image/png": "[encoded data removed]",
      "text/plain": [
       "<Figure size 640x480 with 1 Axes>"
      ]
     },
     "metadata": {},
     "output_type": "display_data"
    }
   ],
   "source": [
    "new_train_accs = []\n",
    "for i, train_acc in enumerate(train_accs):\n",
    "    new_train_accs.append(train_acc.item())\n",
    "    # print(train_acc.item())\n",
    "\n",
    "plt.title(\"Train Accuracy\")\n",
    "plt.plot(new_train_accs)\n",
    "plt.xlabel(\"Epoch\")\n",
    "plt.ylabel(\"Accuracy\")\n",
    "plt.show()"
   ]
  },
  {
   "cell_type": "markdown",
   "metadata": {},
   "source": [
    "## Combined Model"
   ]
  }
 ],
 "metadata": {
  "kernelspec": {
   "display_name": "Python 3",
   "language": "python",
   "name": "python3"
  },
  "language_info": {
   "codemirror_mode": {
    "name": "ipython",
    "version": 3
   },
   "file_extension": ".py",
   "mimetype": "text/x-python",
   "name": "python",
   "nbconvert_exporter": "python",
   "pygments_lexer": "ipython3",
   "version": "3.10.12"
  }
 },
 "nbformat": 4,
 "nbformat_minor": 2
}
