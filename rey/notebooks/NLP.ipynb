{
 "cells": [
  {
   "cell_type": "markdown",
   "metadata": {},
   "source": [
    "# Doing the NLP side\n",
    "\n",
    "This notebook focuses on creating a model to classify the texts."
   ]
  },
  {
   "cell_type": "markdown",
   "metadata": {},
   "source": [
    "## Import Libraries"
   ]
  },
  {
   "cell_type": "code",
   "execution_count": 1,
   "metadata": {},
   "outputs": [],
   "source": [
    "# change the python's path to the parent directory\n",
    "import sys\n",
    "sys.path.append(\"../\")"
   ]
  },
  {
   "cell_type": "code",
   "execution_count": 2,
   "metadata": {},
   "outputs": [],
   "source": [
    "import pandas as pd\n",
    "import numpy as np\n",
    "import torch\n",
    "import torch.nn as nn\n",
    "import torch.nn.functional as F\n",
    "\n",
    "from models.lstm import LSTM\n",
    "from sklearn.feature_extraction.text import CountVectorizer\n",
    "from tools.tools import get_data, load_data, remove_class, tokenize, count_class, calculate_pos_weights\n",
    "from torch.utils.data import DataLoader, TensorDataset\n",
    "from tqdm import tqdm"
   ]
  },
  {
   "cell_type": "markdown",
   "metadata": {},
   "source": [
    "## Load the data"
   ]
  },
  {
   "cell_type": "markdown",
   "metadata": {},
   "source": [
    "### Performing Text Cleaning & Data Extraction (Possibly for NLP)\n",
    "\n",
    "We will see how to code and clean the textual data for the following methods.\n",
    "- Lowecasing the data\n",
    "- Removing Puncuatations\n",
    "- Removing Numbers\n",
    "- Removing extra space\n",
    "- Replacing the repetitions of punctations\n",
    "- Removing Emojis\n",
    "- Removing emoticons\n",
    "- Removing Contractions\n",
    "Reference: https://www.analyticsvidhya.com/blog/2022/01/text-cleaning-methods-in-nlp/\n",
    "\n",
    "Manual Data Cleaning:\n",
    "- Remove `\\n` character that breaks the caption into two lines (1014.jpg)\n",
    "- Remove `\\n` character that breaks the caption into two lines (2259.jpg)\n",
    "- Remove `\\n` character that breaks the caption into two lines (6751.jpg)\n",
    "- Remove **a couple of** `\\n` character that breaks the caption into two lines (24624.jpg)\n",
    "\n",
    "**Note: there is no label 12! [Label starts from 1 to 19]**"
   ]
  },
  {
   "cell_type": "code",
   "execution_count": 3,
   "metadata": {},
   "outputs": [],
   "source": [
    "# import data\n",
    "train_data = get_data(\"../dataset/train.csv\")\n",
    "test_data = get_data(\"../dataset/test.csv\")\n",
    "\n",
    "# perform text cleaning and get the pandas' dataframe\n",
    "train_data = load_data(train_data)\n",
    "test_data = load_data(test_data, has_label=False)\n",
    "\n",
    "# remove an imbalanced class\n",
    "train_data = remove_class(train_data, class_no=1)\n",
    "\n",
    "# join the data together\n",
    "for_nlp_data = pd.concat((train_data['caption'], test_data['caption']), ignore_index=True)"
   ]
  },
  {
   "cell_type": "code",
   "execution_count": 4,
   "metadata": {},
   "outputs": [
    {
     "data": {
      "text/plain": [
       "1        a couple of men riding horses on top of a gree...\n",
       "3        a black and silver clock tower at an intersect...\n",
       "4          a train coming to a stop on the tracks out side\n",
       "6                a big airplane flying in the big blue sky\n",
       "7                a man riding a motor bike across a forest\n",
       "                               ...                        \n",
       "29987      a school bus moving along a road during the day\n",
       "29989    a brown and white dog a stuffed animal and a girl\n",
       "29991           a large horse standing around in the grass\n",
       "29994    an orange cat sitting on top of wooden floor b...\n",
       "29995    a picture of a truck that is in the middle of ...\n",
       "Name: caption, Length: 15925, dtype: object"
      ]
     },
     "execution_count": 4,
     "metadata": {},
     "output_type": "execute_result"
    }
   ],
   "source": [
    "train_data['caption']"
   ]
  },
  {
   "cell_type": "code",
   "execution_count": 5,
   "metadata": {},
   "outputs": [
    {
     "data": {
      "text/plain": [
       "0       a little girl waring a krispy kreme hat holdin...\n",
       "1       a beautiful young woman holding an orange frisbee\n",
       "2       a group of people sitting on couch next to a c...\n",
       "3               a person on a snowboard rides on the hill\n",
       "4       a man riding a skateboard with a helmet on in ...\n",
       "                              ...                        \n",
       "9995    a group of men riding surfboards riding a mass...\n",
       "9996    a motorcycle parked next to a car in a parking...\n",
       "9997              a little boy that is playing with a wii\n",
       "9998    group of kids play frisbee golf in the middle ...\n",
       "9999      a man in a gray jacket standing next to a woman\n",
       "Name: caption, Length: 10000, dtype: object"
      ]
     },
     "execution_count": 5,
     "metadata": {},
     "output_type": "execute_result"
    }
   ],
   "source": [
    "test_data['caption']"
   ]
  },
  {
   "cell_type": "markdown",
   "metadata": {},
   "source": [
    "## Count Vector"
   ]
  },
  {
   "cell_type": "code",
   "execution_count": 6,
   "metadata": {},
   "outputs": [],
   "source": [
    "vectorizer = CountVectorizer(lowercase=True)\n",
    "vectorizer.fit(for_nlp_data)\n",
    "\n",
    "X_train_vec = vectorizer.transform(train_data['caption'])\n",
    "X_test_vec = vectorizer.transform(test_data['caption'])"
   ]
  },
  {
   "cell_type": "code",
   "execution_count": 7,
   "metadata": {},
   "outputs": [
    {
     "name": "stdout",
     "output_type": "stream",
     "text": [
      "(15925, 6585)\n",
      "(10000, 6585)\n"
     ]
    }
   ],
   "source": [
    "# the size of vocabulary is 8075\n",
    "print(X_train_vec.shape)\n",
    "print(X_test_vec.shape)"
   ]
  },
  {
   "cell_type": "code",
   "execution_count": 8,
   "metadata": {},
   "outputs": [],
   "source": [
    "X_train_tensor = torch.from_numpy(X_train_vec.todense()).int()\n",
    "X_test_tensor = torch.from_numpy(X_test_vec.todense()).int()\n",
    "y_train_tensor = torch.from_numpy(np.array(train_data.iloc[:, 2:]))\n",
    "y_test_tensor = torch.from_numpy(np.array(test_data.iloc[:, 2:]))"
   ]
  },
  {
   "cell_type": "markdown",
   "metadata": {},
   "source": [
    "### Instead of using Count Vectorizer, use Tokenization"
   ]
  },
  {
   "cell_type": "code",
   "execution_count": 9,
   "metadata": {},
   "outputs": [
    {
     "name": "stdout",
     "output_type": "stream",
     "text": [
      "Max Sentence Length: 28\n",
      "(15925, 28)\n",
      "(10000, 28)\n",
      "6488\n"
     ]
    }
   ],
   "source": [
    "final_list, vocab = tokenize(for_nlp_data)\n",
    "X_train_vec = final_list[:train_data.shape[0], :]\n",
    "X_test_vec = final_list[train_data.shape[0]:, :]\n",
    "print(X_train_vec.shape)\n",
    "print(X_test_vec.shape)\n",
    "print(len(vocab))\n",
    "\n",
    "# to tensor\n",
    "X_train_tensor = torch.from_numpy(X_train_vec).int()\n",
    "X_test_tensor = torch.from_numpy(X_test_vec).int()"
   ]
  },
  {
   "cell_type": "code",
   "execution_count": 10,
   "metadata": {},
   "outputs": [],
   "source": [
    "train_data = TensorDataset(X_train_tensor, y_train_tensor)\n",
    "test_data = TensorDataset(X_test_tensor, y_test_tensor)\n",
    "\n",
    "train_loader = DataLoader(\n",
    "    dataset=train_data, \n",
    "    batch_size=16, \n",
    "    shuffle=True\n",
    ")\n",
    "test_loader = DataLoader(\n",
    "    dataset=test_data, \n",
    "    batch_size=16, \n",
    "    shuffle=False\n",
    ")"
   ]
  },
  {
   "cell_type": "markdown",
   "metadata": {},
   "source": [
    "## For Imbalance Data"
   ]
  },
  {
   "cell_type": "code",
   "execution_count": 11,
   "metadata": {},
   "outputs": [],
   "source": [
    "t_data = get_data(\"../dataset/train.csv\")\n",
    "t_data = load_data(t_data)\n",
    "class_counts = list(count_class(t_data).values())\n",
    "pos_weights = calculate_pos_weights(class_counts, train_data)\n",
    "if torch.cuda.is_available():\n",
    "\tpos_weights = pos_weights.to('cuda')"
   ]
  },
  {
   "cell_type": "markdown",
   "metadata": {},
   "source": [
    "## Training the LSTM Model"
   ]
  },
  {
   "cell_type": "code",
   "execution_count": 12,
   "metadata": {},
   "outputs": [
    {
     "name": "stdout",
     "output_type": "stream",
     "text": [
      "using GPU\n"
     ]
    }
   ],
   "source": [
    "EPOCHS = 500\n",
    "THRESHOLD = 0.5\n",
    "\n",
    "model = LSTM(\n",
    "    no_layers=2,\n",
    "    vocab_size=len(vocab), # extra 1 is already included, usually for padding\n",
    "    embedding_dim=64,\n",
    "    hidden_dim=256,\n",
    "    output_dim=19,\n",
    ")\n",
    "loss_fn = nn.BCEWithLogitsLoss(pos_weight=pos_weights)\n",
    "optimizer = torch.optim.Adam(\n",
    "    params=model.parameters(),\n",
    "    lr=0.001,\n",
    ")\n",
    "\n",
    "# utilise GPU\n",
    "if torch.cuda.is_available():\n",
    "    print('using GPU')\n",
    "    model = model.to('cuda')"
   ]
  },
  {
   "cell_type": "code",
   "execution_count": 13,
   "metadata": {},
   "outputs": [
    {
     "name": "stderr",
     "output_type": "stream",
     "text": [
      "Epoch 1 Training: 100%|██████████| 996/996 [00:03<00:00, 261.15it/s]\n"
     ]
    },
    {
     "name": "stdout",
     "output_type": "stream",
     "text": [
      "Epoch 1, Train Loss: 1.161094995, Train Accuracy: 0.2511774%\n"
     ]
    },
    {
     "name": "stderr",
     "output_type": "stream",
     "text": [
      "Epoch 2 Training: 100%|██████████| 996/996 [00:03<00:00, 280.20it/s]\n",
      "Epoch 3 Training: 100%|██████████| 996/996 [00:03<00:00, 278.76it/s]\n",
      "Epoch 4 Training: 100%|██████████| 996/996 [00:03<00:00, 282.67it/s]\n",
      "Epoch 5 Training: 100%|██████████| 996/996 [00:03<00:00, 276.88it/s]\n",
      "Epoch 6 Training: 100%|██████████| 996/996 [00:03<00:00, 279.14it/s]\n",
      "Epoch 7 Training: 100%|██████████| 996/996 [00:03<00:00, 279.96it/s]\n",
      "Epoch 8 Training: 100%|██████████| 996/996 [00:03<00:00, 279.29it/s]\n",
      "Epoch 9 Training: 100%|██████████| 996/996 [00:03<00:00, 275.81it/s]\n",
      "Epoch 10 Training: 100%|██████████| 996/996 [00:03<00:00, 277.41it/s]\n",
      "Epoch 11 Training: 100%|██████████| 996/996 [00:03<00:00, 276.49it/s]\n",
      "Epoch 12 Training: 100%|██████████| 996/996 [00:03<00:00, 276.33it/s]\n",
      "Epoch 13 Training: 100%|██████████| 996/996 [00:03<00:00, 278.40it/s]\n",
      "Epoch 14 Training: 100%|██████████| 996/996 [00:03<00:00, 278.86it/s]\n",
      "Epoch 15 Training: 100%|██████████| 996/996 [00:03<00:00, 280.90it/s]\n",
      "Epoch 16 Training: 100%|██████████| 996/996 [00:03<00:00, 275.70it/s]\n",
      "Epoch 17 Training: 100%|██████████| 996/996 [00:03<00:00, 279.35it/s]\n",
      "Epoch 18 Training: 100%|██████████| 996/996 [00:03<00:00, 277.78it/s]\n",
      "Epoch 19 Training: 100%|██████████| 996/996 [00:03<00:00, 276.12it/s]\n",
      "Epoch 20 Training: 100%|██████████| 996/996 [00:03<00:00, 284.36it/s]\n",
      "Epoch 21 Training: 100%|██████████| 996/996 [00:03<00:00, 284.59it/s]\n"
     ]
    },
    {
     "name": "stdout",
     "output_type": "stream",
     "text": [
      "Epoch 21, Train Loss: 0.914630120, Train Accuracy: 35.1271591%\n"
     ]
    },
    {
     "name": "stderr",
     "output_type": "stream",
     "text": [
      "Epoch 22 Training: 100%|██████████| 996/996 [00:03<00:00, 284.27it/s]\n",
      "Epoch 23 Training: 100%|██████████| 996/996 [00:03<00:00, 280.32it/s]\n",
      "Epoch 24 Training: 100%|██████████| 996/996 [00:03<00:00, 275.67it/s]\n",
      "Epoch 25 Training: 100%|██████████| 996/996 [00:03<00:00, 279.04it/s]\n",
      "Epoch 26 Training: 100%|██████████| 996/996 [00:03<00:00, 278.98it/s]\n",
      "Epoch 27 Training: 100%|██████████| 996/996 [00:03<00:00, 273.93it/s]\n",
      "Epoch 28 Training: 100%|██████████| 996/996 [00:03<00:00, 275.21it/s]\n",
      "Epoch 29 Training: 100%|██████████| 996/996 [00:03<00:00, 275.80it/s]\n",
      "Epoch 30 Training: 100%|██████████| 996/996 [00:03<00:00, 280.42it/s]\n",
      "Epoch 31 Training: 100%|██████████| 996/996 [00:03<00:00, 276.14it/s]\n",
      "Epoch 32 Training: 100%|██████████| 996/996 [00:03<00:00, 277.91it/s]\n",
      "Epoch 33 Training: 100%|██████████| 996/996 [00:03<00:00, 285.30it/s]\n",
      "Epoch 34 Training: 100%|██████████| 996/996 [00:03<00:00, 278.98it/s]\n",
      "Epoch 35 Training: 100%|██████████| 996/996 [00:03<00:00, 280.73it/s]\n",
      "Epoch 36 Training: 100%|██████████| 996/996 [00:03<00:00, 272.83it/s]\n",
      "Epoch 37 Training: 100%|██████████| 996/996 [00:03<00:00, 277.56it/s]\n",
      "Epoch 38 Training: 100%|██████████| 996/996 [00:03<00:00, 276.78it/s]\n",
      "Epoch 39 Training: 100%|██████████| 996/996 [00:03<00:00, 276.90it/s]\n",
      "Epoch 40 Training: 100%|██████████| 996/996 [00:03<00:00, 279.34it/s]\n",
      "Epoch 41 Training: 100%|██████████| 996/996 [00:03<00:00, 277.97it/s]\n"
     ]
    },
    {
     "name": "stdout",
     "output_type": "stream",
     "text": [
      "Epoch 41, Train Loss: 0.906082826, Train Accuracy: 38.2040825%\n"
     ]
    },
    {
     "name": "stderr",
     "output_type": "stream",
     "text": [
      "Epoch 42 Training: 100%|██████████| 996/996 [00:03<00:00, 272.86it/s]\n",
      "Epoch 43 Training: 100%|██████████| 996/996 [00:03<00:00, 280.94it/s]\n",
      "Epoch 44 Training: 100%|██████████| 996/996 [00:03<00:00, 279.04it/s]\n",
      "Epoch 45 Training: 100%|██████████| 996/996 [00:03<00:00, 278.08it/s]\n",
      "Epoch 46 Training: 100%|██████████| 996/996 [00:03<00:00, 276.74it/s]\n",
      "Epoch 47 Training: 100%|██████████| 996/996 [00:03<00:00, 277.36it/s]\n",
      "Epoch 48 Training: 100%|██████████| 996/996 [00:03<00:00, 274.47it/s]\n",
      "Epoch 49 Training: 100%|██████████| 996/996 [00:03<00:00, 277.18it/s]\n",
      "Epoch 50 Training: 100%|██████████| 996/996 [00:03<00:00, 277.55it/s]\n",
      "Epoch 51 Training: 100%|██████████| 996/996 [00:03<00:00, 275.28it/s]\n",
      "Epoch 52 Training: 100%|██████████| 996/996 [00:03<00:00, 275.79it/s]\n",
      "Epoch 53 Training: 100%|██████████| 996/996 [00:03<00:00, 279.24it/s]\n",
      "Epoch 54 Training: 100%|██████████| 996/996 [00:03<00:00, 280.41it/s]\n",
      "Epoch 55 Training: 100%|██████████| 996/996 [00:03<00:00, 281.29it/s]\n",
      "Epoch 56 Training: 100%|██████████| 996/996 [00:03<00:00, 271.05it/s]\n",
      "Epoch 57 Training: 100%|██████████| 996/996 [00:03<00:00, 282.15it/s]\n",
      "Epoch 58 Training: 100%|██████████| 996/996 [00:03<00:00, 270.41it/s]\n",
      "Epoch 59 Training: 100%|██████████| 996/996 [00:03<00:00, 274.78it/s]\n",
      "Epoch 60 Training: 100%|██████████| 996/996 [00:03<00:00, 268.36it/s]\n",
      "Epoch 61 Training: 100%|██████████| 996/996 [00:03<00:00, 257.86it/s]\n"
     ]
    },
    {
     "name": "stdout",
     "output_type": "stream",
     "text": [
      "Epoch 61, Train Loss: 0.903699091, Train Accuracy: 38.8320274%\n"
     ]
    },
    {
     "name": "stderr",
     "output_type": "stream",
     "text": [
      "Epoch 62 Training: 100%|██████████| 996/996 [00:03<00:00, 280.58it/s]\n",
      "Epoch 63 Training: 100%|██████████| 996/996 [00:03<00:00, 280.77it/s]\n",
      "Epoch 64 Training: 100%|██████████| 996/996 [00:03<00:00, 282.77it/s]\n",
      "Epoch 65 Training: 100%|██████████| 996/996 [00:03<00:00, 286.08it/s]\n",
      "Epoch 66 Training: 100%|██████████| 996/996 [00:03<00:00, 279.16it/s]\n",
      "Epoch 67 Training: 100%|██████████| 996/996 [00:03<00:00, 282.44it/s]\n",
      "Epoch 68 Training: 100%|██████████| 996/996 [00:03<00:00, 277.68it/s]\n",
      "Epoch 69 Training: 100%|██████████| 996/996 [00:03<00:00, 281.03it/s]\n",
      "Epoch 70 Training: 100%|██████████| 996/996 [00:03<00:00, 281.51it/s]\n",
      "Epoch 71 Training: 100%|██████████| 996/996 [00:03<00:00, 280.03it/s]\n",
      "Epoch 72 Training: 100%|██████████| 996/996 [00:03<00:00, 286.03it/s]\n",
      "Epoch 73 Training: 100%|██████████| 996/996 [00:03<00:00, 280.46it/s]\n",
      "Epoch 74 Training: 100%|██████████| 996/996 [00:03<00:00, 282.33it/s]\n",
      "Epoch 75 Training: 100%|██████████| 996/996 [00:03<00:00, 284.94it/s]\n",
      "Epoch 76 Training: 100%|██████████| 996/996 [00:03<00:00, 285.35it/s]\n",
      "Epoch 77 Training: 100%|██████████| 996/996 [00:03<00:00, 283.27it/s]\n",
      "Epoch 78 Training: 100%|██████████| 996/996 [00:03<00:00, 284.68it/s]\n",
      "Epoch 79 Training: 100%|██████████| 996/996 [00:03<00:00, 278.63it/s]\n",
      "Epoch 80 Training: 100%|██████████| 996/996 [00:03<00:00, 282.71it/s]\n",
      "Epoch 81 Training: 100%|██████████| 996/996 [00:03<00:00, 283.08it/s]\n"
     ]
    },
    {
     "name": "stdout",
     "output_type": "stream",
     "text": [
      "Epoch 81, Train Loss: 0.902445689, Train Accuracy: 39.1836777%\n"
     ]
    },
    {
     "name": "stderr",
     "output_type": "stream",
     "text": [
      "Epoch 82 Training: 100%|██████████| 996/996 [00:03<00:00, 283.91it/s]\n",
      "Epoch 83 Training: 100%|██████████| 996/996 [00:03<00:00, 284.64it/s]\n",
      "Epoch 84 Training: 100%|██████████| 996/996 [00:03<00:00, 280.31it/s]\n",
      "Epoch 85 Training: 100%|██████████| 996/996 [00:03<00:00, 279.65it/s]\n",
      "Epoch 86 Training: 100%|██████████| 996/996 [00:03<00:00, 275.05it/s]\n",
      "Epoch 87 Training: 100%|██████████| 996/996 [00:03<00:00, 282.62it/s]\n",
      "Epoch 88 Training: 100%|██████████| 996/996 [00:03<00:00, 280.45it/s]\n",
      "Epoch 89 Training: 100%|██████████| 996/996 [00:03<00:00, 283.05it/s]\n",
      "Epoch 90 Training: 100%|██████████| 996/996 [00:03<00:00, 283.19it/s]\n",
      "Epoch 91 Training: 100%|██████████| 996/996 [00:03<00:00, 279.94it/s]\n",
      "Epoch 92 Training: 100%|██████████| 996/996 [00:03<00:00, 285.24it/s]\n",
      "Epoch 93 Training: 100%|██████████| 996/996 [00:03<00:00, 281.44it/s]\n",
      "Epoch 94 Training: 100%|██████████| 996/996 [00:03<00:00, 283.70it/s]\n",
      "Epoch 95 Training: 100%|██████████| 996/996 [00:03<00:00, 281.15it/s]\n",
      "Epoch 96 Training: 100%|██████████| 996/996 [00:03<00:00, 283.76it/s]\n",
      "Epoch 97 Training: 100%|██████████| 996/996 [00:03<00:00, 281.68it/s]\n",
      "Epoch 98 Training: 100%|██████████| 996/996 [00:03<00:00, 282.90it/s]\n",
      "Epoch 99 Training: 100%|██████████| 996/996 [00:03<00:00, 269.57it/s]\n",
      "Epoch 100 Training: 100%|██████████| 996/996 [00:03<00:00, 265.86it/s]\n",
      "Epoch 101 Training: 100%|██████████| 996/996 [00:03<00:00, 273.06it/s]\n"
     ]
    },
    {
     "name": "stdout",
     "output_type": "stream",
     "text": [
      "Epoch 101, Train Loss: 0.900993569, Train Accuracy: 39.6106796%\n"
     ]
    },
    {
     "name": "stderr",
     "output_type": "stream",
     "text": [
      "Epoch 102 Training: 100%|██████████| 996/996 [00:03<00:00, 273.57it/s]\n",
      "Epoch 103 Training: 100%|██████████| 996/996 [00:03<00:00, 281.17it/s]\n",
      "Epoch 104 Training: 100%|██████████| 996/996 [00:03<00:00, 283.67it/s]\n",
      "Epoch 105 Training: 100%|██████████| 996/996 [00:03<00:00, 282.48it/s]\n",
      "Epoch 106 Training: 100%|██████████| 996/996 [00:03<00:00, 283.28it/s]\n",
      "Epoch 107 Training: 100%|██████████| 996/996 [00:03<00:00, 283.81it/s]\n",
      "Epoch 108 Training: 100%|██████████| 996/996 [00:03<00:00, 283.82it/s]\n",
      "Epoch 109 Training: 100%|██████████| 996/996 [00:04<00:00, 241.57it/s]\n",
      "Epoch 110 Training: 100%|██████████| 996/996 [00:04<00:00, 242.00it/s]\n",
      "Epoch 111 Training: 100%|██████████| 996/996 [00:03<00:00, 260.40it/s]\n",
      "Epoch 112 Training: 100%|██████████| 996/996 [00:03<00:00, 260.92it/s]\n",
      "Epoch 113 Training: 100%|██████████| 996/996 [00:03<00:00, 282.26it/s]\n",
      "Epoch 114 Training: 100%|██████████| 996/996 [00:03<00:00, 283.20it/s]\n",
      "Epoch 115 Training: 100%|██████████| 996/996 [00:03<00:00, 280.31it/s]\n",
      "Epoch 116 Training: 100%|██████████| 996/996 [00:03<00:00, 282.68it/s]\n",
      "Epoch 117 Training: 100%|██████████| 996/996 [00:03<00:00, 281.86it/s]\n",
      "Epoch 118 Training: 100%|██████████| 996/996 [00:03<00:00, 279.75it/s]\n",
      "Epoch 119 Training: 100%|██████████| 996/996 [00:03<00:00, 281.96it/s]\n",
      "Epoch 120 Training: 100%|██████████| 996/996 [00:03<00:00, 281.69it/s]\n",
      "Epoch 121 Training: 100%|██████████| 996/996 [00:03<00:00, 282.45it/s]\n"
     ]
    },
    {
     "name": "stdout",
     "output_type": "stream",
     "text": [
      "Epoch 121, Train Loss: 0.899899128, Train Accuracy: 39.8304596%\n"
     ]
    },
    {
     "name": "stderr",
     "output_type": "stream",
     "text": [
      "Epoch 122 Training: 100%|██████████| 996/996 [00:03<00:00, 278.93it/s]\n",
      "Epoch 123 Training: 100%|██████████| 996/996 [00:03<00:00, 283.53it/s]\n",
      "Epoch 124 Training: 100%|██████████| 996/996 [00:03<00:00, 283.45it/s]\n",
      "Epoch 125 Training: 100%|██████████| 996/996 [00:03<00:00, 282.18it/s]\n",
      "Epoch 126 Training: 100%|██████████| 996/996 [00:03<00:00, 282.53it/s]\n",
      "Epoch 127 Training: 100%|██████████| 996/996 [00:03<00:00, 283.03it/s]\n",
      "Epoch 128 Training: 100%|██████████| 996/996 [00:03<00:00, 284.16it/s]\n",
      "Epoch 129 Training: 100%|██████████| 996/996 [00:03<00:00, 281.16it/s]\n",
      "Epoch 130 Training: 100%|██████████| 996/996 [00:03<00:00, 280.64it/s]\n",
      "Epoch 131 Training: 100%|██████████| 996/996 [00:03<00:00, 282.70it/s]\n",
      "Epoch 132 Training: 100%|██████████| 996/996 [00:03<00:00, 282.93it/s]\n",
      "Epoch 133 Training: 100%|██████████| 996/996 [00:03<00:00, 283.81it/s]\n",
      "Epoch 134 Training: 100%|██████████| 996/996 [00:03<00:00, 285.40it/s]\n",
      "Epoch 135 Training: 100%|██████████| 996/996 [00:03<00:00, 283.18it/s]\n",
      "Epoch 136 Training: 100%|██████████| 996/996 [00:03<00:00, 281.95it/s]\n",
      "Epoch 137 Training: 100%|██████████| 996/996 [00:03<00:00, 283.42it/s]\n",
      "Epoch 138 Training: 100%|██████████| 996/996 [00:03<00:00, 284.31it/s]\n",
      "Epoch 139 Training: 100%|██████████| 996/996 [00:03<00:00, 282.12it/s]\n",
      "Epoch 140 Training: 100%|██████████| 996/996 [00:03<00:00, 265.49it/s]\n",
      "Epoch 141 Training: 100%|██████████| 996/996 [00:03<00:00, 277.79it/s]\n"
     ]
    },
    {
     "name": "stdout",
     "output_type": "stream",
     "text": [
      "Epoch 141, Train Loss: 0.899568148, Train Accuracy: 39.9120903%\n"
     ]
    },
    {
     "name": "stderr",
     "output_type": "stream",
     "text": [
      "Epoch 142 Training: 100%|██████████| 996/996 [00:03<00:00, 281.62it/s]\n",
      "Epoch 143 Training: 100%|██████████| 996/996 [00:03<00:00, 282.28it/s]\n",
      "Epoch 144 Training: 100%|██████████| 996/996 [00:03<00:00, 282.57it/s]\n",
      "Epoch 145 Training: 100%|██████████| 996/996 [00:03<00:00, 281.25it/s]\n",
      "Epoch 146 Training: 100%|██████████| 996/996 [00:03<00:00, 281.18it/s]\n",
      "Epoch 147 Training: 100%|██████████| 996/996 [00:03<00:00, 280.00it/s]\n",
      "Epoch 148 Training: 100%|██████████| 996/996 [00:03<00:00, 283.80it/s]\n",
      "Epoch 149 Training: 100%|██████████| 996/996 [00:03<00:00, 284.68it/s]\n",
      "Epoch 150 Training: 100%|██████████| 996/996 [00:03<00:00, 284.95it/s]\n",
      "Epoch 151 Training: 100%|██████████| 996/996 [00:03<00:00, 285.46it/s]\n",
      "Epoch 152 Training: 100%|██████████| 996/996 [00:03<00:00, 284.16it/s]\n",
      "Epoch 153 Training: 100%|██████████| 996/996 [00:03<00:00, 286.94it/s]\n",
      "Epoch 154 Training: 100%|██████████| 996/996 [00:03<00:00, 287.21it/s]\n",
      "Epoch 155 Training: 100%|██████████| 996/996 [00:03<00:00, 282.32it/s]\n",
      "Epoch 156 Training: 100%|██████████| 996/996 [00:03<00:00, 281.40it/s]\n",
      "Epoch 157 Training: 100%|██████████| 996/996 [00:03<00:00, 282.29it/s]\n",
      "Epoch 158 Training: 100%|██████████| 996/996 [00:03<00:00, 282.30it/s]\n",
      "Epoch 159 Training: 100%|██████████| 996/996 [00:03<00:00, 282.91it/s]\n",
      "Epoch 160 Training: 100%|██████████| 996/996 [00:03<00:00, 279.66it/s]\n",
      "Epoch 161 Training: 100%|██████████| 996/996 [00:03<00:00, 282.98it/s]\n"
     ]
    },
    {
     "name": "stdout",
     "output_type": "stream",
     "text": [
      "Epoch 161, Train Loss: 0.898353634, Train Accuracy: 40.3076935%\n"
     ]
    },
    {
     "name": "stderr",
     "output_type": "stream",
     "text": [
      "Epoch 162 Training: 100%|██████████| 996/996 [00:03<00:00, 289.46it/s]\n",
      "Epoch 163 Training: 100%|██████████| 996/996 [00:03<00:00, 286.30it/s]\n",
      "Epoch 164 Training: 100%|██████████| 996/996 [00:03<00:00, 274.39it/s]\n",
      "Epoch 165 Training: 100%|██████████| 996/996 [00:03<00:00, 283.04it/s]\n",
      "Epoch 166 Training: 100%|██████████| 996/996 [00:03<00:00, 282.29it/s]\n",
      "Epoch 167 Training: 100%|██████████| 996/996 [00:03<00:00, 283.38it/s]\n",
      "Epoch 168 Training: 100%|██████████| 996/996 [00:03<00:00, 284.64it/s]\n",
      "Epoch 169 Training: 100%|██████████| 996/996 [00:03<00:00, 284.64it/s]\n",
      "Epoch 170 Training: 100%|██████████| 996/996 [00:03<00:00, 285.57it/s]\n",
      "Epoch 171 Training: 100%|██████████| 996/996 [00:03<00:00, 283.49it/s]\n",
      "Epoch 172 Training: 100%|██████████| 996/996 [00:03<00:00, 279.47it/s]\n",
      "Epoch 173 Training: 100%|██████████| 996/996 [00:03<00:00, 281.80it/s]\n",
      "Epoch 174 Training: 100%|██████████| 996/996 [00:03<00:00, 282.94it/s]\n",
      "Epoch 175 Training: 100%|██████████| 996/996 [00:03<00:00, 281.48it/s]\n",
      "Epoch 176 Training: 100%|██████████| 996/996 [00:03<00:00, 284.70it/s]\n",
      "Epoch 177 Training: 100%|██████████| 996/996 [00:03<00:00, 283.72it/s]\n",
      "Epoch 178 Training: 100%|██████████| 996/996 [00:03<00:00, 282.27it/s]\n",
      "Epoch 179 Training: 100%|██████████| 996/996 [00:03<00:00, 276.61it/s]\n",
      "Epoch 180 Training: 100%|██████████| 996/996 [00:03<00:00, 282.32it/s]\n",
      "Epoch 181 Training: 100%|██████████| 996/996 [00:03<00:00, 281.63it/s]\n"
     ]
    },
    {
     "name": "stdout",
     "output_type": "stream",
     "text": [
      "Epoch 181, Train Loss: 0.898330322, Train Accuracy: 40.3076935%\n"
     ]
    },
    {
     "name": "stderr",
     "output_type": "stream",
     "text": [
      "Epoch 182 Training: 100%|██████████| 996/996 [00:03<00:00, 280.79it/s]\n",
      "Epoch 183 Training: 100%|██████████| 996/996 [00:03<00:00, 283.32it/s]\n",
      "Epoch 184 Training: 100%|██████████| 996/996 [00:03<00:00, 279.06it/s]\n",
      "Epoch 185 Training: 100%|██████████| 996/996 [00:03<00:00, 281.65it/s]\n",
      "Epoch 186 Training: 100%|██████████| 996/996 [00:03<00:00, 280.35it/s]\n",
      "Epoch 187 Training: 100%|██████████| 996/996 [00:03<00:00, 283.84it/s]\n",
      "Epoch 188 Training: 100%|██████████| 996/996 [00:03<00:00, 282.94it/s]\n",
      "Epoch 189 Training: 100%|██████████| 996/996 [00:03<00:00, 284.42it/s]\n",
      "Epoch 190 Training: 100%|██████████| 996/996 [00:03<00:00, 283.72it/s]\n",
      "Epoch 191 Training: 100%|██████████| 996/996 [00:03<00:00, 279.67it/s]\n",
      "Epoch 192 Training: 100%|██████████| 996/996 [00:03<00:00, 267.81it/s]\n",
      "Epoch 193 Training: 100%|██████████| 996/996 [00:03<00:00, 275.07it/s]\n",
      "Epoch 194 Training: 100%|██████████| 996/996 [00:03<00:00, 281.16it/s]\n",
      "Epoch 195 Training: 100%|██████████| 996/996 [00:03<00:00, 280.95it/s]\n",
      "Epoch 196 Training: 100%|██████████| 996/996 [00:03<00:00, 280.37it/s]\n",
      "Epoch 197 Training: 100%|██████████| 996/996 [00:03<00:00, 282.14it/s]\n",
      "Epoch 198 Training: 100%|██████████| 996/996 [00:03<00:00, 282.40it/s]\n",
      "Epoch 199 Training: 100%|██████████| 996/996 [00:03<00:00, 283.35it/s]\n",
      "Epoch 200 Training: 100%|██████████| 996/996 [00:03<00:00, 283.40it/s]\n",
      "Epoch 201 Training: 100%|██████████| 996/996 [00:03<00:00, 283.03it/s]\n"
     ]
    },
    {
     "name": "stdout",
     "output_type": "stream",
     "text": [
      "Epoch 201, Train Loss: 0.897474059, Train Accuracy: 40.5274734%\n"
     ]
    },
    {
     "name": "stderr",
     "output_type": "stream",
     "text": [
      "Epoch 202 Training: 100%|██████████| 996/996 [00:03<00:00, 278.82it/s]\n",
      "Epoch 203 Training: 100%|██████████| 996/996 [00:03<00:00, 280.55it/s]\n",
      "Epoch 204 Training: 100%|██████████| 996/996 [00:03<00:00, 263.39it/s]\n",
      "Epoch 205 Training: 100%|██████████| 996/996 [00:03<00:00, 281.67it/s]\n",
      "Epoch 206 Training: 100%|██████████| 996/996 [00:03<00:00, 280.20it/s]\n",
      "Epoch 207 Training: 100%|██████████| 996/996 [00:03<00:00, 281.95it/s]\n",
      "Epoch 208 Training: 100%|██████████| 996/996 [00:03<00:00, 286.31it/s]\n",
      "Epoch 209 Training: 100%|██████████| 996/996 [00:03<00:00, 282.44it/s]\n",
      "Epoch 210 Training: 100%|██████████| 996/996 [00:03<00:00, 281.86it/s]\n",
      "Epoch 211 Training: 100%|██████████| 996/996 [00:03<00:00, 282.86it/s]\n",
      "Epoch 212 Training: 100%|██████████| 996/996 [00:03<00:00, 281.49it/s]\n",
      "Epoch 213 Training: 100%|██████████| 996/996 [00:03<00:00, 278.72it/s]\n",
      "Epoch 214 Training: 100%|██████████| 996/996 [00:03<00:00, 281.15it/s]\n",
      "Epoch 215 Training: 100%|██████████| 996/996 [00:03<00:00, 278.84it/s]\n",
      "Epoch 216 Training: 100%|██████████| 996/996 [00:03<00:00, 283.65it/s]\n",
      "Epoch 217 Training: 100%|██████████| 996/996 [00:03<00:00, 281.90it/s]\n",
      "Epoch 218 Training: 100%|██████████| 996/996 [00:03<00:00, 281.54it/s]\n",
      "Epoch 219 Training: 100%|██████████| 996/996 [00:03<00:00, 280.93it/s]\n",
      "Epoch 220 Training: 100%|██████████| 996/996 [00:03<00:00, 277.59it/s]\n",
      "Epoch 221 Training: 100%|██████████| 996/996 [00:03<00:00, 281.66it/s]\n"
     ]
    },
    {
     "name": "stdout",
     "output_type": "stream",
     "text": [
      "Epoch 221, Train Loss: 0.897395864, Train Accuracy: 40.5651512%\n"
     ]
    },
    {
     "name": "stderr",
     "output_type": "stream",
     "text": [
      "Epoch 222 Training: 100%|██████████| 996/996 [00:03<00:00, 286.29it/s]\n",
      "Epoch 223 Training: 100%|██████████| 996/996 [00:03<00:00, 281.70it/s]\n",
      "Epoch 224 Training: 100%|██████████| 996/996 [00:03<00:00, 283.25it/s]\n",
      "Epoch 225 Training: 100%|██████████| 996/996 [00:03<00:00, 285.35it/s]\n",
      "Epoch 226 Training: 100%|██████████| 996/996 [00:03<00:00, 280.90it/s]\n",
      "Epoch 227 Training: 100%|██████████| 996/996 [00:03<00:00, 262.25it/s]\n",
      "Epoch 228 Training: 100%|██████████| 996/996 [00:03<00:00, 280.15it/s]\n",
      "Epoch 229 Training: 100%|██████████| 996/996 [00:03<00:00, 277.23it/s]\n",
      "Epoch 230 Training: 100%|██████████| 996/996 [00:03<00:00, 282.47it/s]\n",
      "Epoch 231 Training: 100%|██████████| 996/996 [00:03<00:00, 283.88it/s]\n",
      "Epoch 232 Training: 100%|██████████| 996/996 [00:03<00:00, 281.09it/s]\n",
      "Epoch 233 Training: 100%|██████████| 996/996 [00:03<00:00, 283.04it/s]\n",
      "Epoch 234 Training: 100%|██████████| 996/996 [00:03<00:00, 279.91it/s]\n",
      "Epoch 235 Training: 100%|██████████| 996/996 [00:03<00:00, 282.19it/s]\n",
      "Epoch 236 Training: 100%|██████████| 996/996 [00:03<00:00, 282.75it/s]\n",
      "Epoch 237 Training: 100%|██████████| 996/996 [00:03<00:00, 281.40it/s]\n",
      "Epoch 238 Training: 100%|██████████| 996/996 [00:03<00:00, 279.02it/s]\n",
      "Epoch 239 Training: 100%|██████████| 996/996 [00:03<00:00, 282.72it/s]\n",
      "Epoch 240 Training: 100%|██████████| 996/996 [00:03<00:00, 259.88it/s]\n",
      "Epoch 241 Training: 100%|██████████| 996/996 [00:04<00:00, 248.78it/s]\n"
     ]
    },
    {
     "name": "stdout",
     "output_type": "stream",
     "text": [
      "Epoch 241, Train Loss: 0.896665340, Train Accuracy: 40.6844635%\n"
     ]
    },
    {
     "name": "stderr",
     "output_type": "stream",
     "text": [
      "Epoch 242 Training: 100%|██████████| 996/996 [00:03<00:00, 260.69it/s]\n",
      "Epoch 243 Training: 100%|██████████| 996/996 [00:03<00:00, 280.34it/s]\n",
      "Epoch 244 Training: 100%|██████████| 996/996 [00:03<00:00, 278.98it/s]\n",
      "Epoch 245 Training: 100%|██████████| 996/996 [00:03<00:00, 278.42it/s]\n",
      "Epoch 246 Training: 100%|██████████| 996/996 [00:03<00:00, 281.96it/s]\n",
      "Epoch 247 Training: 100%|██████████| 996/996 [00:03<00:00, 274.89it/s]\n",
      "Epoch 248 Training: 100%|██████████| 996/996 [00:03<00:00, 280.93it/s]\n",
      "Epoch 249 Training: 100%|██████████| 996/996 [00:03<00:00, 277.83it/s]\n",
      "Epoch 250 Training: 100%|██████████| 996/996 [00:03<00:00, 277.29it/s]\n",
      "Epoch 251 Training: 100%|██████████| 996/996 [00:03<00:00, 283.49it/s]\n",
      "Epoch 252 Training: 100%|██████████| 996/996 [00:03<00:00, 283.37it/s]\n",
      "Epoch 253 Training: 100%|██████████| 996/996 [00:03<00:00, 284.11it/s]\n",
      "Epoch 254 Training: 100%|██████████| 996/996 [00:03<00:00, 287.97it/s]\n",
      "Epoch 255 Training: 100%|██████████| 996/996 [00:03<00:00, 283.43it/s]\n",
      "Epoch 256 Training: 100%|██████████| 996/996 [00:03<00:00, 281.66it/s]\n",
      "Epoch 257 Training: 100%|██████████| 996/996 [00:03<00:00, 283.84it/s]\n",
      "Epoch 258 Training: 100%|██████████| 996/996 [00:03<00:00, 284.32it/s]\n",
      "Epoch 259 Training: 100%|██████████| 996/996 [00:03<00:00, 284.35it/s]\n",
      "Epoch 260 Training: 100%|██████████| 996/996 [00:03<00:00, 282.54it/s]\n",
      "Epoch 261 Training: 100%|██████████| 996/996 [00:03<00:00, 282.70it/s]\n"
     ]
    },
    {
     "name": "stdout",
     "output_type": "stream",
     "text": [
      "Epoch 261, Train Loss: 0.896130821, Train Accuracy: 40.7723732%\n"
     ]
    },
    {
     "name": "stderr",
     "output_type": "stream",
     "text": [
      "Epoch 262 Training: 100%|██████████| 996/996 [00:03<00:00, 282.20it/s]\n",
      "Epoch 263 Training: 100%|██████████| 996/996 [00:03<00:00, 279.36it/s]\n",
      "Epoch 264 Training: 100%|██████████| 996/996 [00:03<00:00, 283.92it/s]\n",
      "Epoch 265 Training: 100%|██████████| 996/996 [00:03<00:00, 282.65it/s]\n",
      "Epoch 266 Training: 100%|██████████| 996/996 [00:03<00:00, 283.74it/s]\n",
      "Epoch 267 Training: 100%|██████████| 996/996 [00:03<00:00, 284.67it/s]\n",
      "Epoch 268 Training: 100%|██████████| 996/996 [00:03<00:00, 284.17it/s]\n",
      "Epoch 269 Training: 100%|██████████| 996/996 [00:03<00:00, 283.86it/s]\n",
      "Epoch 270 Training: 100%|██████████| 996/996 [00:03<00:00, 279.02it/s]\n",
      "Epoch 271 Training: 100%|██████████| 996/996 [00:03<00:00, 281.61it/s]\n",
      "Epoch 272 Training: 100%|██████████| 996/996 [00:03<00:00, 279.42it/s]\n",
      "Epoch 273 Training: 100%|██████████| 996/996 [00:03<00:00, 280.51it/s]\n",
      "Epoch 274 Training: 100%|██████████| 996/996 [00:03<00:00, 282.48it/s]\n",
      "Epoch 275 Training: 100%|██████████| 996/996 [00:03<00:00, 276.58it/s]\n",
      "Epoch 276 Training: 100%|██████████| 996/996 [00:03<00:00, 273.30it/s]\n",
      "Epoch 277 Training: 100%|██████████| 996/996 [00:03<00:00, 275.00it/s]\n",
      "Epoch 278 Training: 100%|██████████| 996/996 [00:03<00:00, 278.47it/s]\n",
      "Epoch 279 Training: 100%|██████████| 996/996 [00:03<00:00, 281.94it/s]\n",
      "Epoch 280 Training: 100%|██████████| 996/996 [00:03<00:00, 281.84it/s]\n",
      "Epoch 281 Training: 100%|██████████| 996/996 [00:03<00:00, 282.56it/s]\n"
     ]
    },
    {
     "name": "stdout",
     "output_type": "stream",
     "text": [
      "Epoch 281, Train Loss: 0.895907582, Train Accuracy: 40.9105225%\n"
     ]
    },
    {
     "name": "stderr",
     "output_type": "stream",
     "text": [
      "Epoch 282 Training: 100%|██████████| 996/996 [00:03<00:00, 280.32it/s]\n",
      "Epoch 283 Training: 100%|██████████| 996/996 [00:03<00:00, 284.63it/s]\n",
      "Epoch 284 Training: 100%|██████████| 996/996 [00:03<00:00, 282.85it/s]\n",
      "Epoch 285 Training: 100%|██████████| 996/996 [00:03<00:00, 282.63it/s]\n",
      "Epoch 286 Training: 100%|██████████| 996/996 [00:03<00:00, 282.87it/s]\n",
      "Epoch 287 Training: 100%|██████████| 996/996 [00:03<00:00, 283.17it/s]\n",
      "Epoch 288 Training: 100%|██████████| 996/996 [00:03<00:00, 273.31it/s]\n",
      "Epoch 289 Training: 100%|██████████| 996/996 [00:03<00:00, 282.99it/s]\n",
      "Epoch 290 Training: 100%|██████████| 996/996 [00:03<00:00, 281.08it/s]\n",
      "Epoch 291 Training: 100%|██████████| 996/996 [00:03<00:00, 280.20it/s]\n",
      "Epoch 292 Training: 100%|██████████| 996/996 [00:03<00:00, 281.18it/s]\n",
      "Epoch 293 Training: 100%|██████████| 996/996 [00:03<00:00, 281.14it/s]\n",
      "Epoch 294 Training: 100%|██████████| 996/996 [00:03<00:00, 280.98it/s]\n",
      "Epoch 295 Training: 100%|██████████| 996/996 [00:03<00:00, 279.40it/s]\n",
      "Epoch 296 Training: 100%|██████████| 996/996 [00:03<00:00, 284.83it/s]\n",
      "Epoch 297 Training: 100%|██████████| 996/996 [00:03<00:00, 283.16it/s]\n",
      "Epoch 298 Training: 100%|██████████| 996/996 [00:03<00:00, 286.20it/s]\n",
      "Epoch 299 Training: 100%|██████████| 996/996 [00:03<00:00, 283.36it/s]\n",
      "Epoch 300 Training: 100%|██████████| 996/996 [00:03<00:00, 282.61it/s]\n",
      "Epoch 301 Training: 100%|██████████| 996/996 [00:03<00:00, 278.28it/s]\n"
     ]
    },
    {
     "name": "stdout",
     "output_type": "stream",
     "text": [
      "Epoch 301, Train Loss: 0.895630141, Train Accuracy: 40.7912102%\n"
     ]
    },
    {
     "name": "stderr",
     "output_type": "stream",
     "text": [
      "Epoch 302 Training: 100%|██████████| 996/996 [00:03<00:00, 284.82it/s]\n",
      "Epoch 303 Training: 100%|██████████| 996/996 [00:03<00:00, 282.95it/s]\n",
      "Epoch 304 Training: 100%|██████████| 996/996 [00:03<00:00, 284.76it/s]\n",
      "Epoch 305 Training: 100%|██████████| 996/996 [00:03<00:00, 283.87it/s]\n",
      "Epoch 306 Training: 100%|██████████| 996/996 [00:03<00:00, 285.69it/s]\n",
      "Epoch 307 Training: 100%|██████████| 996/996 [00:03<00:00, 284.50it/s]\n",
      "Epoch 308 Training: 100%|██████████| 996/996 [00:03<00:00, 281.12it/s]\n",
      "Epoch 309 Training: 100%|██████████| 996/996 [00:03<00:00, 284.04it/s]\n",
      "Epoch 310 Training: 100%|██████████| 996/996 [00:03<00:00, 285.55it/s]\n",
      "Epoch 311 Training: 100%|██████████| 996/996 [00:03<00:00, 284.65it/s]\n",
      "Epoch 312 Training: 100%|██████████| 996/996 [00:03<00:00, 285.62it/s]\n",
      "Epoch 313 Training: 100%|██████████| 996/996 [00:03<00:00, 273.67it/s]\n",
      "Epoch 314 Training: 100%|██████████| 996/996 [00:03<00:00, 276.92it/s]\n",
      "Epoch 315 Training: 100%|██████████| 996/996 [00:03<00:00, 278.45it/s]\n",
      "Epoch 316 Training: 100%|██████████| 996/996 [00:03<00:00, 281.87it/s]\n",
      "Epoch 317 Training: 100%|██████████| 996/996 [00:03<00:00, 281.95it/s]\n",
      "Epoch 318 Training: 100%|██████████| 996/996 [00:03<00:00, 281.70it/s]\n",
      "Epoch 319 Training: 100%|██████████| 996/996 [00:03<00:00, 280.26it/s]\n",
      "Epoch 320 Training: 100%|██████████| 996/996 [00:03<00:00, 278.28it/s]\n",
      "Epoch 321 Training: 100%|██████████| 996/996 [00:03<00:00, 284.23it/s]\n"
     ]
    },
    {
     "name": "stdout",
     "output_type": "stream",
     "text": [
      "Epoch 321, Train Loss: 0.895268430, Train Accuracy: 40.9356384%\n"
     ]
    },
    {
     "name": "stderr",
     "output_type": "stream",
     "text": [
      "Epoch 322 Training: 100%|██████████| 996/996 [00:03<00:00, 283.96it/s]\n",
      "Epoch 323 Training: 100%|██████████| 996/996 [00:03<00:00, 281.25it/s]\n",
      "Epoch 324 Training: 100%|██████████| 996/996 [00:03<00:00, 283.41it/s]\n",
      "Epoch 325 Training: 100%|██████████| 996/996 [00:03<00:00, 282.65it/s]\n",
      "Epoch 326 Training: 100%|██████████| 996/996 [00:03<00:00, 283.48it/s]\n",
      "Epoch 327 Training: 100%|██████████| 996/996 [00:03<00:00, 277.32it/s]\n",
      "Epoch 328 Training: 100%|██████████| 996/996 [00:03<00:00, 283.46it/s]\n",
      "Epoch 329 Training: 100%|██████████| 996/996 [00:03<00:00, 282.85it/s]\n",
      "Epoch 330 Training: 100%|██████████| 996/996 [00:03<00:00, 283.06it/s]\n",
      "Epoch 331 Training: 100%|██████████| 996/996 [00:03<00:00, 281.51it/s]\n",
      "Epoch 332 Training: 100%|██████████| 996/996 [00:03<00:00, 283.97it/s]\n",
      "Epoch 333 Training: 100%|██████████| 996/996 [00:03<00:00, 279.42it/s]\n",
      "Epoch 334 Training: 100%|██████████| 996/996 [00:03<00:00, 282.32it/s]\n",
      "Epoch 335 Training: 100%|██████████| 996/996 [00:03<00:00, 285.09it/s]\n",
      "Epoch 336 Training: 100%|██████████| 996/996 [00:03<00:00, 283.79it/s]\n",
      "Epoch 337 Training: 100%|██████████| 996/996 [00:03<00:00, 277.13it/s]\n",
      "Epoch 338 Training: 100%|██████████| 996/996 [00:03<00:00, 250.03it/s]\n",
      "Epoch 339 Training: 100%|██████████| 996/996 [00:03<00:00, 276.30it/s]\n",
      "Epoch 340 Training: 100%|██████████| 996/996 [00:03<00:00, 279.29it/s]\n",
      "Epoch 341 Training: 100%|██████████| 996/996 [00:03<00:00, 280.26it/s]\n"
     ]
    },
    {
     "name": "stdout",
     "output_type": "stream",
     "text": [
      "Epoch 341, Train Loss: 0.895273666, Train Accuracy: 40.9984322%\n"
     ]
    },
    {
     "name": "stderr",
     "output_type": "stream",
     "text": [
      "Epoch 342 Training: 100%|██████████| 996/996 [00:03<00:00, 283.19it/s]\n",
      "Epoch 343 Training: 100%|██████████| 996/996 [00:03<00:00, 284.19it/s]\n",
      "Epoch 344 Training: 100%|██████████| 996/996 [00:03<00:00, 283.09it/s]\n",
      "Epoch 345 Training: 100%|██████████| 996/996 [00:03<00:00, 279.37it/s]\n",
      "Epoch 346 Training: 100%|██████████| 996/996 [00:03<00:00, 282.74it/s]\n",
      "Epoch 347 Training: 100%|██████████| 996/996 [00:03<00:00, 283.47it/s]\n",
      "Epoch 348 Training: 100%|██████████| 996/996 [00:03<00:00, 283.98it/s]\n",
      "Epoch 349 Training: 100%|██████████| 996/996 [00:03<00:00, 282.76it/s]\n",
      "Epoch 350 Training: 100%|██████████| 996/996 [00:03<00:00, 282.22it/s]\n",
      "Epoch 351 Training: 100%|██████████| 996/996 [00:03<00:00, 283.34it/s]\n",
      "Epoch 352 Training: 100%|██████████| 996/996 [00:03<00:00, 289.49it/s]\n",
      "Epoch 353 Training: 100%|██████████| 996/996 [00:03<00:00, 281.23it/s]\n",
      "Epoch 354 Training: 100%|██████████| 996/996 [00:03<00:00, 282.17it/s]\n",
      "Epoch 355 Training: 100%|██████████| 996/996 [00:03<00:00, 282.78it/s]\n",
      "Epoch 356 Training: 100%|██████████| 996/996 [00:03<00:00, 281.28it/s]\n",
      "Epoch 357 Training: 100%|██████████| 996/996 [00:03<00:00, 282.16it/s]\n",
      "Epoch 358 Training: 100%|██████████| 996/996 [00:03<00:00, 278.69it/s]\n",
      "Epoch 359 Training: 100%|██████████| 996/996 [00:03<00:00, 282.07it/s]\n",
      "Epoch 360 Training: 100%|██████████| 996/996 [00:03<00:00, 280.32it/s]\n",
      "Epoch 361 Training: 100%|██████████| 996/996 [00:03<00:00, 282.75it/s]\n"
     ]
    },
    {
     "name": "stdout",
     "output_type": "stream",
     "text": [
      "Epoch 361, Train Loss: 0.894717751, Train Accuracy: 40.9795952%\n"
     ]
    },
    {
     "name": "stderr",
     "output_type": "stream",
     "text": [
      "Epoch 362 Training: 100%|██████████| 996/996 [00:03<00:00, 284.48it/s]\n",
      "Epoch 363 Training: 100%|██████████| 996/996 [00:03<00:00, 286.09it/s]\n",
      "Epoch 364 Training: 100%|██████████| 996/996 [00:03<00:00, 280.97it/s]\n",
      "Epoch 365 Training: 100%|██████████| 996/996 [00:03<00:00, 286.52it/s]\n",
      "Epoch 366 Training: 100%|██████████| 996/996 [00:03<00:00, 285.06it/s]\n",
      "Epoch 367 Training: 100%|██████████| 996/996 [00:03<00:00, 284.97it/s]\n",
      "Epoch 368 Training: 100%|██████████| 996/996 [00:03<00:00, 284.66it/s]\n",
      "Epoch 369 Training: 100%|██████████| 996/996 [00:03<00:00, 284.65it/s]\n",
      "Epoch 370 Training: 100%|██████████| 996/996 [00:03<00:00, 284.40it/s]\n",
      "Epoch 371 Training: 100%|██████████| 996/996 [00:03<00:00, 281.52it/s]\n",
      "Epoch 372 Training: 100%|██████████| 996/996 [00:03<00:00, 286.03it/s]\n",
      "Epoch 373 Training: 100%|██████████| 996/996 [00:03<00:00, 284.24it/s]\n",
      "Epoch 374 Training: 100%|██████████| 996/996 [00:03<00:00, 285.40it/s]\n",
      "Epoch 375 Training: 100%|██████████| 996/996 [00:03<00:00, 281.95it/s]\n",
      "Epoch 376 Training: 100%|██████████| 996/996 [00:03<00:00, 283.94it/s]\n",
      "Epoch 377 Training: 100%|██████████| 996/996 [00:03<00:00, 282.24it/s]\n",
      "Epoch 378 Training: 100%|██████████| 996/996 [00:03<00:00, 284.84it/s]\n",
      "Epoch 379 Training: 100%|██████████| 996/996 [00:03<00:00, 286.40it/s]\n",
      "Epoch 380 Training: 100%|██████████| 996/996 [00:03<00:00, 282.63it/s]\n",
      "Epoch 381 Training: 100%|██████████| 996/996 [00:03<00:00, 286.82it/s]\n"
     ]
    },
    {
     "name": "stdout",
     "output_type": "stream",
     "text": [
      "Epoch 381, Train Loss: 0.894599024, Train Accuracy: 40.8916817%\n"
     ]
    },
    {
     "name": "stderr",
     "output_type": "stream",
     "text": [
      "Epoch 382 Training: 100%|██████████| 996/996 [00:03<00:00, 288.75it/s]\n",
      "Epoch 383 Training: 100%|██████████| 996/996 [00:03<00:00, 287.99it/s]\n",
      "Epoch 384 Training: 100%|██████████| 996/996 [00:03<00:00, 267.00it/s]\n",
      "Epoch 385 Training: 100%|██████████| 996/996 [00:03<00:00, 270.20it/s]\n",
      "Epoch 386 Training: 100%|██████████| 996/996 [00:03<00:00, 271.05it/s]\n",
      "Epoch 387 Training: 100%|██████████| 996/996 [00:03<00:00, 279.26it/s]\n",
      "Epoch 388 Training: 100%|██████████| 996/996 [00:03<00:00, 279.07it/s]\n",
      "Epoch 389 Training: 100%|██████████| 996/996 [00:03<00:00, 283.00it/s]\n",
      "Epoch 390 Training: 100%|██████████| 996/996 [00:03<00:00, 282.76it/s]\n",
      "Epoch 391 Training: 100%|██████████| 996/996 [00:03<00:00, 282.00it/s]\n",
      "Epoch 392 Training: 100%|██████████| 996/996 [00:03<00:00, 283.43it/s]\n",
      "Epoch 393 Training: 100%|██████████| 996/996 [00:03<00:00, 278.06it/s]\n",
      "Epoch 394 Training: 100%|██████████| 996/996 [00:03<00:00, 280.92it/s]\n",
      "Epoch 395 Training: 100%|██████████| 996/996 [00:03<00:00, 280.47it/s]\n",
      "Epoch 396 Training: 100%|██████████| 996/996 [00:03<00:00, 282.93it/s]\n",
      "Epoch 397 Training: 100%|██████████| 996/996 [00:03<00:00, 283.48it/s]\n",
      "Epoch 398 Training: 100%|██████████| 996/996 [00:03<00:00, 279.95it/s]\n",
      "Epoch 399 Training: 100%|██████████| 996/996 [00:03<00:00, 276.26it/s]\n",
      "Epoch 400 Training: 100%|██████████| 996/996 [00:03<00:00, 278.42it/s]\n",
      "Epoch 401 Training: 100%|██████████| 996/996 [00:03<00:00, 280.71it/s]\n"
     ]
    },
    {
     "name": "stdout",
     "output_type": "stream",
     "text": [
      "Epoch 401, Train Loss: 0.894132291, Train Accuracy: 41.0235481%\n"
     ]
    },
    {
     "name": "stderr",
     "output_type": "stream",
     "text": [
      "Epoch 402 Training: 100%|██████████| 996/996 [00:03<00:00, 283.35it/s]\n",
      "Epoch 403 Training: 100%|██████████| 996/996 [00:03<00:00, 284.32it/s]\n",
      "Epoch 404 Training: 100%|██████████| 996/996 [00:03<00:00, 281.14it/s]\n",
      "Epoch 405 Training: 100%|██████████| 996/996 [00:03<00:00, 277.17it/s]\n",
      "Epoch 406 Training: 100%|██████████| 996/996 [00:03<00:00, 281.73it/s]\n",
      "Epoch 407 Training: 100%|██████████| 996/996 [00:03<00:00, 284.45it/s]\n",
      "Epoch 408 Training: 100%|██████████| 996/996 [00:03<00:00, 284.89it/s]\n",
      "Epoch 409 Training: 100%|██████████| 996/996 [00:03<00:00, 281.94it/s]\n",
      "Epoch 410 Training: 100%|██████████| 996/996 [00:03<00:00, 283.98it/s]\n",
      "Epoch 411 Training: 100%|██████████| 996/996 [00:03<00:00, 283.51it/s]\n",
      "Epoch 412 Training: 100%|██████████| 996/996 [00:03<00:00, 277.59it/s]\n",
      "Epoch 413 Training: 100%|██████████| 996/996 [00:03<00:00, 281.73it/s]\n",
      "Epoch 414 Training: 100%|██████████| 996/996 [00:03<00:00, 282.74it/s]\n",
      "Epoch 415 Training: 100%|██████████| 996/996 [00:03<00:00, 284.43it/s]\n",
      "Epoch 416 Training: 100%|██████████| 996/996 [00:03<00:00, 279.90it/s]\n",
      "Epoch 417 Training: 100%|██████████| 996/996 [00:03<00:00, 280.38it/s]\n",
      "Epoch 418 Training: 100%|██████████| 996/996 [00:03<00:00, 280.09it/s]\n",
      "Epoch 419 Training: 100%|██████████| 996/996 [00:03<00:00, 283.26it/s]\n",
      "Epoch 420 Training: 100%|██████████| 996/996 [00:03<00:00, 282.30it/s]\n",
      "Epoch 421 Training: 100%|██████████| 996/996 [00:03<00:00, 281.18it/s]\n"
     ]
    },
    {
     "name": "stdout",
     "output_type": "stream",
     "text": [
      "Epoch 421, Train Loss: 0.894114446, Train Accuracy: 41.0486679%\n"
     ]
    },
    {
     "name": "stderr",
     "output_type": "stream",
     "text": [
      "Epoch 422 Training: 100%|██████████| 996/996 [00:03<00:00, 284.47it/s]\n",
      "Epoch 423 Training: 100%|██████████| 996/996 [00:03<00:00, 282.40it/s]\n",
      "Epoch 424 Training: 100%|██████████| 996/996 [00:03<00:00, 280.71it/s]\n",
      "Epoch 425 Training: 100%|██████████| 996/996 [00:03<00:00, 285.09it/s]\n",
      "Epoch 426 Training: 100%|██████████| 996/996 [00:03<00:00, 286.57it/s]\n",
      "Epoch 427 Training: 100%|██████████| 996/996 [00:03<00:00, 276.31it/s]\n",
      "Epoch 428 Training: 100%|██████████| 996/996 [00:03<00:00, 249.74it/s]\n",
      "Epoch 429 Training: 100%|██████████| 996/996 [00:03<00:00, 268.28it/s]\n",
      "Epoch 430 Training: 100%|██████████| 996/996 [00:03<00:00, 281.71it/s]\n",
      "Epoch 431 Training: 100%|██████████| 996/996 [00:03<00:00, 279.63it/s]\n",
      "Epoch 432 Training: 100%|██████████| 996/996 [00:03<00:00, 280.97it/s]\n",
      "Epoch 433 Training: 100%|██████████| 996/996 [00:03<00:00, 281.77it/s]\n",
      "Epoch 434 Training: 100%|██████████| 996/996 [00:03<00:00, 281.65it/s]\n",
      "Epoch 435 Training: 100%|██████████| 996/996 [00:03<00:00, 281.33it/s]\n",
      "Epoch 436 Training: 100%|██████████| 996/996 [00:03<00:00, 279.59it/s]\n",
      "Epoch 437 Training: 100%|██████████| 996/996 [00:03<00:00, 284.50it/s]\n",
      "Epoch 438 Training: 100%|██████████| 996/996 [00:03<00:00, 281.71it/s]\n",
      "Epoch 439 Training: 100%|██████████| 996/996 [00:03<00:00, 282.87it/s]\n",
      "Epoch 440 Training: 100%|██████████| 996/996 [00:03<00:00, 279.75it/s]\n",
      "Epoch 441 Training: 100%|██████████| 996/996 [00:03<00:00, 272.97it/s]\n"
     ]
    },
    {
     "name": "stdout",
     "output_type": "stream",
     "text": [
      "Epoch 441, Train Loss: 0.894009937, Train Accuracy: 41.1554184%\n"
     ]
    },
    {
     "name": "stderr",
     "output_type": "stream",
     "text": [
      "Epoch 442 Training: 100%|██████████| 996/996 [00:03<00:00, 278.08it/s]\n",
      "Epoch 443 Training: 100%|██████████| 996/996 [00:03<00:00, 278.32it/s]\n",
      "Epoch 444 Training: 100%|██████████| 996/996 [00:03<00:00, 284.23it/s]\n",
      "Epoch 445 Training: 100%|██████████| 996/996 [00:03<00:00, 283.92it/s]\n",
      "Epoch 446 Training: 100%|██████████| 996/996 [00:03<00:00, 282.63it/s]\n",
      "Epoch 447 Training: 100%|██████████| 996/996 [00:03<00:00, 286.33it/s]\n",
      "Epoch 448 Training: 100%|██████████| 996/996 [00:03<00:00, 278.27it/s]\n",
      "Epoch 449 Training: 100%|██████████| 996/996 [00:03<00:00, 283.23it/s]\n",
      "Epoch 450 Training: 100%|██████████| 996/996 [00:03<00:00, 281.90it/s]\n",
      "Epoch 451 Training: 100%|██████████| 996/996 [00:03<00:00, 283.61it/s]\n",
      "Epoch 452 Training: 100%|██████████| 996/996 [00:03<00:00, 280.15it/s]\n",
      "Epoch 453 Training: 100%|██████████| 996/996 [00:03<00:00, 282.88it/s]\n",
      "Epoch 454 Training: 100%|██████████| 996/996 [00:03<00:00, 278.06it/s]\n",
      "Epoch 455 Training: 100%|██████████| 996/996 [00:03<00:00, 259.06it/s]\n",
      "Epoch 456 Training: 100%|██████████| 996/996 [00:03<00:00, 272.07it/s]\n",
      "Epoch 457 Training: 100%|██████████| 996/996 [00:03<00:00, 279.09it/s]\n",
      "Epoch 458 Training: 100%|██████████| 996/996 [00:03<00:00, 278.40it/s]\n",
      "Epoch 459 Training: 100%|██████████| 996/996 [00:03<00:00, 281.34it/s]\n",
      "Epoch 460 Training: 100%|██████████| 996/996 [00:03<00:00, 283.37it/s]\n",
      "Epoch 461 Training: 100%|██████████| 996/996 [00:03<00:00, 282.91it/s]\n"
     ]
    },
    {
     "name": "stdout",
     "output_type": "stream",
     "text": [
      "Epoch 461, Train Loss: 0.893875645, Train Accuracy: 41.1930962%\n"
     ]
    },
    {
     "name": "stderr",
     "output_type": "stream",
     "text": [
      "Epoch 462 Training: 100%|██████████| 996/996 [00:03<00:00, 281.17it/s]\n",
      "Epoch 463 Training: 100%|██████████| 996/996 [00:03<00:00, 281.38it/s]\n",
      "Epoch 464 Training: 100%|██████████| 996/996 [00:03<00:00, 277.89it/s]\n",
      "Epoch 465 Training: 100%|██████████| 996/996 [00:03<00:00, 282.67it/s]\n",
      "Epoch 466 Training: 100%|██████████| 996/996 [00:03<00:00, 281.02it/s]\n",
      "Epoch 467 Training: 100%|██████████| 996/996 [00:03<00:00, 283.13it/s]\n",
      "Epoch 468 Training: 100%|██████████| 996/996 [00:03<00:00, 284.69it/s]\n",
      "Epoch 469 Training: 100%|██████████| 996/996 [00:03<00:00, 269.86it/s]\n",
      "Epoch 470 Training: 100%|██████████| 996/996 [00:03<00:00, 276.65it/s]\n",
      "Epoch 471 Training: 100%|██████████| 996/996 [00:03<00:00, 280.08it/s]\n",
      "Epoch 472 Training: 100%|██████████| 996/996 [00:03<00:00, 281.46it/s]\n",
      "Epoch 473 Training: 100%|██████████| 996/996 [00:03<00:00, 280.03it/s]\n",
      "Epoch 474 Training: 100%|██████████| 996/996 [00:03<00:00, 280.68it/s]\n",
      "Epoch 475 Training: 100%|██████████| 996/996 [00:03<00:00, 281.75it/s]\n",
      "Epoch 476 Training: 100%|██████████| 996/996 [00:03<00:00, 280.10it/s]\n",
      "Epoch 477 Training: 100%|██████████| 996/996 [00:03<00:00, 285.49it/s]\n",
      "Epoch 478 Training: 100%|██████████| 996/996 [00:03<00:00, 277.78it/s]\n",
      "Epoch 479 Training: 100%|██████████| 996/996 [00:03<00:00, 271.79it/s]\n",
      "Epoch 480 Training: 100%|██████████| 996/996 [00:03<00:00, 276.89it/s]\n",
      "Epoch 481 Training: 100%|██████████| 996/996 [00:03<00:00, 278.01it/s]\n"
     ]
    },
    {
     "name": "stdout",
     "output_type": "stream",
     "text": [
      "Epoch 481, Train Loss: 0.894046931, Train Accuracy: 41.1428604%\n"
     ]
    },
    {
     "name": "stderr",
     "output_type": "stream",
     "text": [
      "Epoch 482 Training: 100%|██████████| 996/996 [00:03<00:00, 261.26it/s]\n",
      "Epoch 483 Training: 100%|██████████| 996/996 [00:03<00:00, 279.21it/s]\n",
      "Epoch 484 Training: 100%|██████████| 996/996 [00:03<00:00, 277.03it/s]\n",
      "Epoch 485 Training: 100%|██████████| 996/996 [00:03<00:00, 270.49it/s]\n",
      "Epoch 486 Training: 100%|██████████| 996/996 [00:03<00:00, 281.67it/s]\n",
      "Epoch 487 Training: 100%|██████████| 996/996 [00:03<00:00, 279.92it/s]\n",
      "Epoch 488 Training: 100%|██████████| 996/996 [00:03<00:00, 280.62it/s]\n",
      "Epoch 489 Training: 100%|██████████| 996/996 [00:03<00:00, 280.61it/s]\n",
      "Epoch 490 Training: 100%|██████████| 996/996 [00:03<00:00, 283.61it/s]\n",
      "Epoch 491 Training: 100%|██████████| 996/996 [00:03<00:00, 284.14it/s]\n",
      "Epoch 492 Training: 100%|██████████| 996/996 [00:03<00:00, 285.96it/s]\n",
      "Epoch 493 Training: 100%|██████████| 996/996 [00:03<00:00, 283.49it/s]\n",
      "Epoch 494 Training: 100%|██████████| 996/996 [00:03<00:00, 286.17it/s]\n",
      "Epoch 495 Training: 100%|██████████| 996/996 [00:03<00:00, 280.14it/s]\n",
      "Epoch 496 Training: 100%|██████████| 996/996 [00:03<00:00, 281.99it/s]\n",
      "Epoch 497 Training: 100%|██████████| 996/996 [00:03<00:00, 280.24it/s]\n",
      "Epoch 498 Training: 100%|██████████| 996/996 [00:03<00:00, 282.74it/s]\n",
      "Epoch 499 Training: 100%|██████████| 996/996 [00:03<00:00, 282.23it/s]\n",
      "Epoch 500 Training: 100%|██████████| 996/996 [00:03<00:00, 280.58it/s]\n"
     ]
    }
   ],
   "source": [
    "BATCH_SIZE = 16\n",
    "clip = 5 # for exploding gradient problem\n",
    "train_losses = []\n",
    "train_accs = []\n",
    "for epoch in range(EPOCHS):\n",
    "\n",
    "\t# initialize the hidden state\n",
    "\thidden = model.init_hidden(batch_size=BATCH_SIZE)\n",
    "\n",
    "\tn_total = 0\n",
    "\tn_correct = 0\n",
    "\ttrain_loss = 0.\n",
    "\tmodel.train()\n",
    "\tfor captions, labels in tqdm(train_loader, desc=f\"Epoch {epoch+1} Training: \"):\n",
    "\n",
    "\t\tif torch.cuda.is_available():\n",
    "\t\t\tcaptions = captions.to('cuda')\n",
    "\t\t\tlabels = labels.to('cuda')\n",
    "\n",
    "\t\t# creating new variables for the hidden state, otherwise\n",
    "\t\t# we'd backprop through the entire training history\n",
    "\t\thidden = tuple([each.data for each in hidden])\n",
    "\n",
    "\t\tmodel.zero_grad()\n",
    "\t\ty_pred, hidden = model(captions, hidden)\n",
    "\n",
    "\t\t# backward\n",
    "\t\tloss = loss_fn(y_pred.squeeze(), labels)\n",
    "\t\tloss.backward()\n",
    "\n",
    "\t\t# clip_grad_norm helps prevent the exploding gradient problem in RNNs/LSTMs\n",
    "\t\tnn.utils.clip_grad_norm_(model.parameters(), clip)\n",
    "\n",
    "\t\t# update\n",
    "\t\toptimizer.step()\n",
    "\n",
    "\t\t# compare\n",
    "\t\tpredicted = (y_pred > THRESHOLD).int()\n",
    "\n",
    "\t\ttrain_loss += loss.item()\n",
    "\t\tn_correct += torch.all(torch.eq(predicted, labels), dim=1).sum()\n",
    "\t\tn_total += labels.shape[0]\n",
    "\n",
    "\ttrain_losses.append(train_loss / len(train_loader))\n",
    "\ttrain_accs.append(n_correct / n_total)\n",
    "\n",
    "\tif (epoch % 20 == 0):\n",
    "\t\tprint(\"Epoch {:d}, Train Loss: {:.9f}, Train Accuracy: {:.7f}%\".format(epoch+1, train_losses[-1], train_accs[-1]*100))"
   ]
  },
  {
   "cell_type": "code",
   "execution_count": 14,
   "metadata": {},
   "outputs": [
    {
     "name": "stderr",
     "output_type": "stream",
     "text": [
      "Testing: 100%|██████████| 625/625 [00:01<00:00, 388.76it/s]\n"
     ]
    }
   ],
   "source": [
    "# create a file for test submission\n",
    "f = open('../submission_nlp.csv', \"w\")\n",
    "f.write(\"ImageID,Labels\\n\")\n",
    "\n",
    "# since test loader is not shuffling\n",
    "index=30000\n",
    "\n",
    "# initialize the hidden state\n",
    "hidden = model.init_hidden(batch_size=BATCH_SIZE)\n",
    "\n",
    "model.eval()\n",
    "for captions, _ in tqdm(test_loader, desc=\"Testing: \"):\n",
    "\t\n",
    "\tif torch.cuda.is_available():\n",
    "\t\tcaptions = captions.to('cuda')\n",
    "\n",
    "\t# creating new variables for the hidden state, otherwise\n",
    "\t# we'd backprop through the entire training history\n",
    "\thidden = tuple([each.data for each in hidden])\n",
    "\t\n",
    "\toutputs, _ = model(captions, hidden)\n",
    "\tpredicted = (F.sigmoid(outputs) > THRESHOLD).int()\n",
    "\n",
    "\t# NOTE: add 1 to the output of predicted!\n",
    "\t# write the output\n",
    "\tfor i, predicted_label in enumerate(predicted):\n",
    "\t\tlabel = (predicted_label == torch.max(predicted_label)).nonzero().flatten()\n",
    "\t\tlabel += 1\n",
    "\t\tlabel = label.tolist()\n",
    "\t\tlabel = \" \".join(str(x) for x in label)\n",
    "\n",
    "\t\tf.write(f\"{index}.jpg\" + \",\" + str(label) +\"\\n\")\n",
    "\t\tindex += 1\n",
    "\n",
    "f.close()"
   ]
  },
  {
   "cell_type": "code",
   "execution_count": 15,
   "metadata": {},
   "outputs": [],
   "source": [
    "import matplotlib.pyplot as plt"
   ]
  },
  {
   "cell_type": "code",
   "execution_count": 16,
   "metadata": {},
   "outputs": [
    {
     "data": {
      "image/png": "[encoded data removed]",
      "text/plain": [
       "<Figure size 640x480 with 1 Axes>"
      ]
     },
     "metadata": {},
     "output_type": "display_data"
    }
   ],
   "source": [
    "plt.title(\"Training Losses vs Epoch\")\n",
    "plt.plot(train_losses)\n",
    "plt.ylabel(\"Epoch\")\n",
    "plt.xlabel(\"Loss\")\n",
    "plt.show()"
   ]
  },
  {
   "cell_type": "code",
   "execution_count": 17,
   "metadata": {},
   "outputs": [
    {
     "data": {
      "image/png": "[encoded data removed]",
      "text/plain": [
       "<Figure size 640x480 with 1 Axes>"
      ]
     },
     "metadata": {},
     "output_type": "display_data"
    }
   ],
   "source": [
    "new_train_accs = []\n",
    "for train_acc in train_accs:\n",
    "    new_train_accs.append(train_acc.item())\n",
    "\n",
    "plt.title(\"Training Accuracies vs Epoch\")\n",
    "plt.plot(new_train_accs)\n",
    "plt.ylabel(\"Accuracy\")\n",
    "plt.xlabel(\"Loss\")\n",
    "plt.show()"
   ]
  },
  {
   "cell_type": "code",
   "execution_count": 18,
   "metadata": {},
   "outputs": [],
   "source": [
    "torch.save(model.state_dict(), '../lstm_2_token_64_256_19.pth')"
   ]
  },
  {
   "cell_type": "code",
   "execution_count": 19,
   "metadata": {},
   "outputs": [
    {
     "data": {
      "text/plain": [
       "<All keys matched successfully>"
      ]
     },
     "execution_count": 19,
     "metadata": {},
     "output_type": "execute_result"
    },
    {
     "ename": "",
     "evalue": "",
     "output_type": "error",
     "traceback": [
      "\u001b[1;31mThe Kernel crashed while executing code in the current cell or a previous cell. \n",
      "\u001b[1;31mPlease review the code in the cell(s) to identify a possible cause of the failure. \n",
      "\u001b[1;31mClick <a href='https://aka.ms/vscodeJupyterKernelCrash'>here</a> for more info. \n",
      "\u001b[1;31mView Jupyter <a href='command:jupyter.viewOutput'>log</a> for further details."
     ]
    }
   ],
   "source": [
    "model = LSTM(\n",
    "    no_layers=2,\n",
    "    vocab_size=len(vocab), # extra 1 is already included, usually for padding\n",
    "    embedding_dim=64,\n",
    "    hidden_dim=256,\n",
    "    output_dim=19,\n",
    ")\n",
    "model.load_state_dict(torch.load('../lstm_2_token_64_256_19.pth'))"
   ]
  }
 ],
 "metadata": {
  "kernelspec": {
   "display_name": "Python 3",
   "language": "python",
   "name": "python3"
  },
  "language_info": {
   "codemirror_mode": {
    "name": "ipython",
    "version": 3
   },
   "file_extension": ".py",
   "mimetype": "text/x-python",
   "name": "python",
   "nbconvert_exporter": "python",
   "pygments_lexer": "ipython3",
   "version": "3.10.12"
  }
 },
 "nbformat": 4,
 "nbformat_minor": 2
}
