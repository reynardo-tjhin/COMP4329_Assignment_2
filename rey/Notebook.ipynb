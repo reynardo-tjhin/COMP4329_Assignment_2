{
 "cells": [
  {
   "cell_type": "markdown",
   "metadata": {},
   "source": [
    "# Data Analysis"
   ]
  },
  {
   "cell_type": "markdown",
   "metadata": {},
   "source": [
    "## Import Libraries"
   ]
  },
  {
   "cell_type": "code",
   "execution_count": 1,
   "metadata": {},
   "outputs": [],
   "source": [
    "import matplotlib.pyplot as plt\n",
    "import pandas as pd\n",
    "import string\n",
    "import re\n",
    "import os\n",
    "import cv2\n",
    "import numpy as np\n",
    "import torch\n",
    "import torch.nn as nn\n",
    "\n",
    "from torch.utils.data import DataLoader, Dataset\n",
    "from torchvision import transforms, models\n",
    "from torchvision.models import ResNet50_Weights\n",
    "from typing import Union"
   ]
  },
  {
   "cell_type": "markdown",
   "metadata": {},
   "source": [
    "## Import Data"
   ]
  },
  {
   "cell_type": "code",
   "execution_count": 2,
   "metadata": {},
   "outputs": [],
   "source": [
    "f = open(\"./dataset/train.csv\", \"r\")\n",
    "data = f.readlines()\n",
    "f.close()"
   ]
  },
  {
   "cell_type": "markdown",
   "metadata": {},
   "source": [
    "## Performing Text Cleaning & Data Extraction (Possibly for NLP)\n",
    "\n",
    "We will see how to code and clean the textual data for the following methods.\n",
    "- Lowecasing the data\n",
    "- Removing Puncuatations\n",
    "- Removing Numbers\n",
    "- Removing extra space\n",
    "- Replacing the repetitions of punctations\n",
    "- Removing Emojis\n",
    "- Removing emoticons\n",
    "- Removing Contractions\n",
    "Reference: https://www.analyticsvidhya.com/blog/2022/01/text-cleaning-methods-in-nlp/\n",
    "\n",
    "Manual Data Cleaning:\n",
    "- Remove `\\n` character that breaks the caption into two lines (1014.jpg)\n",
    "- Remove `\\n` character that breaks the caption into two lines (2259.jpg)\n",
    "- Remove `\\n` character that breaks the caption into two lines (6751.jpg)\n",
    "- Remove **a couple of** `\\n` character that breaks the caption into two lines (24624.jpg)\n",
    "\n",
    "**Note: there is no label 12! [Label starts from 1 to 19]**"
   ]
  },
  {
   "cell_type": "markdown",
   "metadata": {},
   "source": [
    "### Class Labels\n",
    "\n",
    "There are 19 classes: class starts from 1 to 19. There is no label 12 assigned to any image. <br>\n",
    "For one-hot encoding: the 0-the index will represent class 1."
   ]
  },
  {
   "cell_type": "code",
   "execution_count": 3,
   "metadata": {},
   "outputs": [],
   "source": [
    "# for removing punctuations\n",
    "translator = str.maketrans(\"\", \"\", string.punctuation)\n",
    "\n",
    "#TODO: some captions contain \"ski's, someone's\": how to make use of this?\n",
    "\n",
    "# store the data into different lists\n",
    "image_ids = []\n",
    "captions = []\n",
    "\n",
    "# changing the label to one-hot encoding\n",
    "n_instances = len(data) - 1 # excl. first line\n",
    "n_classes = 19\n",
    "labels = np.zeros((n_instances, n_classes))\n",
    "\n",
    "# iterate each line\n",
    "for i, line in enumerate(data):\n",
    "\n",
    "\t# ignore the first line\n",
    "\tif (i == 0): continue\n",
    "\n",
    "\t# step 1: get only the caption data\n",
    "\t# reference: https://stackoverflow.com/questions/15043326/getting-string-between-2-characters-in-python\n",
    "\tcaption = line[line.find('\\\"')+1:-1]\n",
    "\n",
    "\t# step 2: lowercase the data\n",
    "\tcaption = caption.lower()\n",
    "\n",
    "\t# step 3: removing punctuations\n",
    "\t# reference: https://blog.enterprisedna.co/python-remove-punctuation-from-string/\n",
    "\tcaption = caption.translate(translator)\n",
    "\n",
    "\t# step 4: removing numbers\n",
    "\t# reference: https://stackoverflow.com/questions/817122/delete-digits-in-python-regex\n",
    "\tcaption = re.sub('\\d+', '', caption)\n",
    "\n",
    "\t# step 5: removing extra space\n",
    "\tcaption = \" \".join(caption.split())\n",
    "\n",
    "\t# split them to three different data: image id, label and caption\n",
    "\tline = line.split(\",\")\n",
    "\timage_id = line[0]\n",
    "\tlabel = line[1]\n",
    "\n",
    "\t# step 6: store them to lists\n",
    "\timage_ids.append(image_id)\n",
    "\tcaptions.append(caption)\n",
    "\t\n",
    "\t# step 7: create a one-hot encoded label\n",
    "\tmulti_labels = label.split(\" \")\n",
    "\tfor label in multi_labels:\n",
    "\t\tlabels[i - 1][int(label) - 1] = 1\n"
   ]
  },
  {
   "cell_type": "markdown",
   "metadata": {},
   "source": [
    "## Changing the Lists to DataFrame type"
   ]
  },
  {
   "cell_type": "code",
   "execution_count": 47,
   "metadata": {},
   "outputs": [
    {
     "name": "stdout",
     "output_type": "stream",
     "text": [
      "Number of instances: 30000\n"
     ]
    }
   ],
   "source": [
    "# create pandas dataframe object\n",
    "data = {'image_id': image_ids, 'caption': captions}\n",
    "for label in range(19):\n",
    "\tdata[f'class {label + 1}'] = labels.T[label]\n",
    "df = pd.DataFrame(data)\n",
    "\n",
    "# number of instances\n",
    "print(f\"Number of instances: {df.shape[0]}\")"
   ]
  },
  {
   "cell_type": "markdown",
   "metadata": {},
   "source": [
    "### Remove instances with only class 1 (Data Imbalance Problem)"
   ]
  },
  {
   "cell_type": "code",
   "execution_count": 48,
   "metadata": {},
   "outputs": [
    {
     "name": "stdout",
     "output_type": "stream",
     "text": [
      "Number of instances: 15925\n"
     ]
    }
   ],
   "source": [
    "def remove_class(df: pd.DataFrame, class_no: int) -> pd.DataFrame:\n",
    "    \"\"\"\n",
    "    Since there is a data imbalance, we can remove instances with a large number of only a single class.\n",
    "    \"\"\"\n",
    "    # get the instances with ONLY class no given\n",
    "    df_n = df[df[f'class {class_no}'] == 1.0]\n",
    "    for n in range(2, 19 + 1):\n",
    "        df_n = df_n[df_n[f'class {n}'] == 0.0]\n",
    "\n",
    "    # remove instances with ONLY class no given\n",
    "    df_no_n = pd.concat([df, df_n]).drop_duplicates(keep=False)\n",
    "\n",
    "    return df_no_n\n",
    "\n",
    "df_no_1 = remove_class(df, class_no=1)\n",
    "df_no_1_and_3 = remove_class(df_no_1, class_no=3)\n",
    "\n",
    "print(f\"Number of instances: {df_no_1_and_3.shape[0]}\")"
   ]
  },
  {
   "cell_type": "markdown",
   "metadata": {},
   "source": [
    "### Get the Frequency of Labels\n",
    "\n",
    "Reference: https://www.kaggle.com/code/gustavo9898/mlic-resnet"
   ]
  },
  {
   "cell_type": "code",
   "execution_count": 46,
   "metadata": {},
   "outputs": [
    {
     "data": {
      "image/png": "[encoded data removed]",
      "text/plain": [
       "<Figure size 640x480 with 1 Axes>"
      ]
     },
     "metadata": {},
     "output_type": "display_data"
    }
   ],
   "source": [
    "counts = {}\n",
    "data = df_no_1_and_3\n",
    "\n",
    "# loop through the label range\n",
    "for i in range(2, 21):\n",
    "\tcol = data.iloc[:, i]\n",
    "\tcounts[f\"class {i - 1}\"] = col.sum()\n",
    "\n",
    "plt.bar(counts.keys(), counts.values())\n",
    "plt.title(\"Frequency of Each Label\")\n",
    "plt.xlabel(\"Label\")\n",
    "plt.ylabel(\"Frequency\")\n",
    "plt.xticks(rotation=90)\n",
    "plt.show()\n"
   ]
  },
  {
   "cell_type": "markdown",
   "metadata": {},
   "source": [
    "## Create the Dataset"
   ]
  },
  {
   "cell_type": "code",
   "execution_count": 19,
   "metadata": {},
   "outputs": [],
   "source": [
    "class MultiLabelDataset(Dataset):\n",
    "    \n",
    "\tdef __init__(self, csv_file: Union[str, pd.DataFrame], root_dir: str, transform=None) -> None:\n",
    "\t\t\"\"\"\n",
    "\t\tArguments:\n",
    "\t\t\tcsv_file (string): path to the csv file with annotations or pandas' dataframe.\n",
    "\t\t\troot_dif (string): directory with all the images.\n",
    "\t\t\ttransform (callable, optional): Optional transform to be applied on a sample.\n",
    "\t\t\"\"\"\n",
    "\t\tself.df = csv_file\n",
    "\t\tif (type(csv_file) != pd.DataFrame):\n",
    "\t\t\tself.df = pd.read_csv(csv_file)\n",
    "\t\tself.root_dir = root_dir\n",
    "\t\tself.transform = transform\n",
    "\n",
    "\tdef __len__(self) -> int:\n",
    "\t\treturn len(self.df)\n",
    "\t\n",
    "\tdef __getitem__(self, idx):\n",
    "\t\t\n",
    "\t\tif (torch.is_tensor(idx)):\n",
    "\t\t\tidx = idx.tolist()\n",
    "\t\t\n",
    "\t\t# load the image\n",
    "\t\timg_name = os.path.join(self.root_dir, self.df.iloc[idx, 0])\n",
    "\t\timage = cv2.imread(img_name, flags=1)\n",
    "\n",
    "\t\t# get the labels\n",
    "\t\tlabels = torch.Tensor(self.df.iloc[idx, 2:])\n",
    "\n",
    "\t\t# apply any transformations\n",
    "\t\tif (self.transform):\n",
    "\t\t\timage = self.transform(image)\n",
    "\n",
    "\t\treturn image, labels"
   ]
  },
  {
   "cell_type": "markdown",
   "metadata": {},
   "source": [
    "## Initialise some Transformations\n",
    "\n",
    "!TODO: need normalization, random flipping, random rotation, etc."
   ]
  },
  {
   "cell_type": "code",
   "execution_count": 14,
   "metadata": {},
   "outputs": [],
   "source": [
    "transform = transforms.Compose([\n",
    "    transforms.ToTensor(),\n",
    "    transforms.Resize((256, 256)),\n",
    "])"
   ]
  },
  {
   "cell_type": "markdown",
   "metadata": {},
   "source": [
    "## Load the Dataset and Split Dataset into Batches"
   ]
  },
  {
   "cell_type": "code",
   "execution_count": 20,
   "metadata": {},
   "outputs": [
    {
     "name": "stdout",
     "output_type": "stream",
     "text": [
      "A batch of imgs shape: torch.Size([16, 3, 256, 256])\n",
      "A batch of labels shape: torch.Size([16, 19])\n"
     ]
    },
    {
     "name": "stderr",
     "output_type": "stream",
     "text": [
      "/tmp/ipykernel_35552/441980821.py:29: FutureWarning: Series.__getitem__ treating keys as positions is deprecated. In a future version, integer keys will always be treated as labels (consistent with DataFrame behavior). To access a value by position, use `ser.iloc[pos]`\n",
      "  labels = torch.Tensor(self.df.iloc[idx, 2:])\n"
     ]
    }
   ],
   "source": [
    "dataset = MultiLabelDataset(\n",
    "    csv_file=df,\n",
    "    root_dir='./dataset/data/',\n",
    "    transform=transform,\n",
    ")\n",
    "\n",
    "batch_size = 16\n",
    "train_loader = DataLoader(\n",
    "    dataset=dataset,\n",
    "    batch_size=batch_size,\n",
    "    shuffle=True,\n",
    ")\n",
    "\n",
    "b_imgs, b_labels = next(iter(train_loader))\n",
    "print('A batch of imgs shape:', b_imgs.shape)\n",
    "print('A batch of labels shape:', b_labels.shape)"
   ]
  },
  {
   "cell_type": "markdown",
   "metadata": {},
   "source": [
    "## Define Model, Optimizer, Loss Function, etc."
   ]
  },
  {
   "cell_type": "code",
   "execution_count": 10,
   "metadata": {},
   "outputs": [
    {
     "name": "stdout",
     "output_type": "stream",
     "text": [
      "using GPU\n"
     ]
    }
   ],
   "source": [
    "model = models.resnet50(weights=ResNet50_Weights.IMAGENET1K_V1)\n",
    "\n",
    "n_features = model.fc.in_features\n",
    "n_out = 19\n",
    "model.fc = nn.Linear(n_features, n_out)\n",
    "\n",
    "loss_fn = nn.BCEWithLogitsLoss()\n",
    "optimizer = torch.optim.Adam(\n",
    "    params=model.parameters(),\n",
    "    lr=0.001,\n",
    ")\n",
    "\n",
    "# utilise GPU\n",
    "if torch.cuda.is_available():\n",
    "    print('using GPU')\n",
    "    model = model.to('cuda')"
   ]
  },
  {
   "cell_type": "markdown",
   "metadata": {},
   "source": [
    "## Perform Training"
   ]
  },
  {
   "cell_type": "code",
   "execution_count": 12,
   "metadata": {},
   "outputs": [
    {
     "name": "stderr",
     "output_type": "stream",
     "text": [
      "/tmp/ipykernel_35552/3676266987.py:29: FutureWarning: Series.__getitem__ treating keys as positions is deprecated. In a future version, integer keys will always be treated as labels (consistent with DataFrame behavior). To access a value by position, use `ser.iloc[pos]`\n",
      "  labels = torch.Tensor(self.df.iloc[idx, 2:21])\n"
     ]
    },
    {
     "name": "stdout",
     "output_type": "stream",
     "text": [
      "Epoch 1, Train Loss: 0.16346885525782903, Train Accuracy: 0.0032551821786910295\n"
     ]
    },
    {
     "ename": "KeyboardInterrupt",
     "evalue": "",
     "output_type": "error",
     "traceback": [
      "\u001b[0;31m---------------------------------------------------------------------------\u001b[0m",
      "\u001b[0;31mKeyboardInterrupt\u001b[0m                         Traceback (most recent call last)",
      "Cell \u001b[0;32mIn[12], line 31\u001b[0m\n\u001b[1;32m     28\u001b[0m \u001b[38;5;66;03m# update\u001b[39;00m\n\u001b[1;32m     29\u001b[0m optimizer\u001b[38;5;241m.\u001b[39mstep()\n\u001b[0;32m---> 31\u001b[0m train_loss \u001b[38;5;241m+\u001b[39m\u001b[38;5;241m=\u001b[39m \u001b[43mloss\u001b[49m\u001b[38;5;241;43m.\u001b[39;49m\u001b[43mitem\u001b[49m\u001b[43m(\u001b[49m\u001b[43m)\u001b[49m\n\u001b[1;32m     32\u001b[0m predicted \u001b[38;5;241m=\u001b[39m torch\u001b[38;5;241m.\u001b[39msigmoid(outputs)\u001b[38;5;241m.\u001b[39mdata \u001b[38;5;241m>\u001b[39m threshold\n\u001b[1;32m     33\u001b[0m n_correct \u001b[38;5;241m+\u001b[39m\u001b[38;5;241m=\u001b[39m torch\u001b[38;5;241m.\u001b[39mall(torch\u001b[38;5;241m.\u001b[39meq(predicted, labels), dim\u001b[38;5;241m=\u001b[39m\u001b[38;5;241m1\u001b[39m)\u001b[38;5;241m.\u001b[39msum()\n",
      "\u001b[0;31mKeyboardInterrupt\u001b[0m: "
     ]
    }
   ],
   "source": [
    "threshold = 0.2 # the minimum probability of assigning one class\n",
    "\n",
    "n_epochs = 10\n",
    "train_losses = []\n",
    "train_accs = []\n",
    "for epoch in range(n_epochs):\n",
    "\n",
    "    n_total = 0\n",
    "    n_correct = 0\n",
    "    train_loss = 0.\n",
    "    model.train()\n",
    "    for (images, labels) in train_loader:\n",
    "\n",
    "        if torch.cuda.is_available():\n",
    "            images = images.to('cuda')\n",
    "            labels = labels.to('cuda')\n",
    "\n",
    "        # set gradient to zero\n",
    "        optimizer.zero_grad()\n",
    "        \n",
    "        # forward\n",
    "        outputs = model(images)\n",
    "\n",
    "        # backward\n",
    "        loss = loss_fn(outputs, labels)\n",
    "        loss.backward()\n",
    "\n",
    "        # update\n",
    "        optimizer.step()\n",
    "\n",
    "        train_loss += loss.item()\n",
    "        predicted = torch.sigmoid(outputs).data > threshold\n",
    "        n_correct += torch.all(torch.eq(predicted, labels), dim=1).sum()\n",
    "        n_total += len(train_loader)\n",
    "\n",
    "    train_losses.append(train_loss / len(train_loader))\n",
    "    train_accs.append(n_correct / n_total)\n",
    "\n",
    "    print(\"Epoch {:d}, Train Loss: {:.5f}, Train Accuracy: {:.3f}%\".format(epoch+1, train_losses[-1], train_accs[-1]*100))\n"
   ]
  },
  {
   "cell_type": "markdown",
   "metadata": {},
   "source": [
    "## "
   ]
  },
  {
   "cell_type": "markdown",
   "metadata": {},
   "source": [
    "## Multi-Label Image Classification\n",
    "\n",
    "Tutorials:\n",
    "- [Build First Multi-Label Image Classification Model Python](https://www.analyticsvidhya.com/blog/2019/04/build-first-multi-label-image-classification-model-python/)"
   ]
  }
 ],
 "metadata": {
  "kernelspec": {
   "display_name": "Python 3",
   "language": "python",
   "name": "python3"
  },
  "language_info": {
   "codemirror_mode": {
    "name": "ipython",
    "version": 3
   },
   "file_extension": ".py",
   "mimetype": "text/x-python",
   "name": "python",
   "nbconvert_exporter": "python",
   "pygments_lexer": "ipython3",
   "version": "3.10.12"
  }
 },
 "nbformat": 4,
 "nbformat_minor": 2
}
