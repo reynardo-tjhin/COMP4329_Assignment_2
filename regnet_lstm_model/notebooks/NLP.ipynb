{
 "cells": [
  {
   "cell_type": "markdown",
   "metadata": {},
   "source": [
    "# Doing the NLP side\n",
    "\n",
    "This notebook focuses on creating a model to classify the texts."
   ]
  },
  {
   "cell_type": "markdown",
   "metadata": {},
   "source": [
    "## Import Libraries"
   ]
  },
  {
   "cell_type": "code",
   "execution_count": 1,
   "metadata": {},
   "outputs": [],
   "source": [
    "# change the python's path to the parent directory\n",
    "import sys\n",
    "sys.path.append(\"../\")"
   ]
  },
  {
   "cell_type": "code",
   "execution_count": 20,
   "metadata": {},
   "outputs": [],
   "source": [
    "import pandas as pd\n",
    "import numpy as np\n",
    "import torch\n",
    "import torch.nn as nn\n",
    "import torch.nn.functional as F\n",
    "\n",
    "from models.lstm import LSTM\n",
    "from sklearn.model_selection import train_test_split\n",
    "from sklearn.metrics import f1_score, accuracy_score\n",
    "from sklearn.feature_extraction.text import CountVectorizer\n",
    "from tools.tools import get_data, load_data, remove_class, tokenize, count_class, calculate_pos_weights\n",
    "from torch.utils.data import DataLoader, TensorDataset\n",
    "from tqdm import tqdm"
   ]
  },
  {
   "cell_type": "markdown",
   "metadata": {},
   "source": [
    "## Load the data"
   ]
  },
  {
   "cell_type": "markdown",
   "metadata": {},
   "source": [
    "### Performing Text Cleaning & Data Extraction (Possibly for NLP)\n",
    "\n",
    "We will see how to code and clean the textual data for the following methods.\n",
    "- Lowecasing the data\n",
    "- Removing Puncuatations\n",
    "- Removing Numbers\n",
    "- Removing extra space\n",
    "- Replacing the repetitions of punctations\n",
    "- Removing Emojis\n",
    "- Removing emoticons\n",
    "- Removing Contractions\n",
    "Reference: https://www.analyticsvidhya.com/blog/2022/01/text-cleaning-methods-in-nlp/\n",
    "\n",
    "Manual Data Cleaning:\n",
    "- Remove `\\n` character that breaks the caption into two lines (1014.jpg)\n",
    "- Remove `\\n` character that breaks the caption into two lines (2259.jpg)\n",
    "- Remove `\\n` character that breaks the caption into two lines (6751.jpg)\n",
    "- Remove **a couple of** `\\n` character that breaks the caption into two lines (24624.jpg)\n",
    "\n",
    "**Note: there is no label 12! [Label starts from 1 to 19]**"
   ]
  },
  {
   "cell_type": "code",
   "execution_count": 21,
   "metadata": {},
   "outputs": [],
   "source": [
    "# import data\n",
    "train_data = get_data(\"../dataset/train.csv\")\n",
    "test_data = get_data(\"../dataset/test.csv\")\n",
    "\n",
    "# perform text cleaning and get the pandas' dataframe\n",
    "train_data = load_data(train_data)\n",
    "test_data = load_data(test_data, has_label=False)\n",
    "\n",
    "# remove an imbalanced class\n",
    "train_data = remove_class(train_data, class_no=1)\n",
    "\n",
    "# split into training and validating sets\n",
    "X = train_data.iloc[:, 0:2]\n",
    "y = train_data.iloc[:, 2:]\n",
    "X_train, X_test, y_train, y_test = train_test_split(X, y, test_size=0.2)\n",
    "\n",
    "train_data = pd.concat([X_train, y_train], axis=1)\n",
    "val_data = pd.concat([X_test, y_test], axis=1)\n",
    "\n",
    "# join the data together\n",
    "for_nlp_data = pd.concat((train_data['caption'], test_data['caption']), ignore_index=True)"
   ]
  },
  {
   "cell_type": "code",
   "execution_count": 22,
   "metadata": {},
   "outputs": [
    {
     "data": {
      "text/plain": [
       "635      a historical photo of people sitting along sid...\n",
       "2307     many cars and trucks are traveling down the st...\n",
       "22910    a green and yellow train pulling into a train ...\n",
       "17045           a clock sitting int he middle of a walkway\n",
       "26486           a batter is getting ready to swing the bat\n",
       "                               ...                        \n",
       "26122       a couple of men standing around a luggage cart\n",
       "26615         a plane that is on the ground during the day\n",
       "7496     a man standing by a dog catching a frisbee on ...\n",
       "14105    a reflection of someone standing next to a sch...\n",
       "11854    a white car a blue and white bus a traffic lig...\n",
       "Name: caption, Length: 12740, dtype: object"
      ]
     },
     "execution_count": 22,
     "metadata": {},
     "output_type": "execute_result"
    }
   ],
   "source": [
    "train_data['caption']"
   ]
  },
  {
   "cell_type": "code",
   "execution_count": 24,
   "metadata": {},
   "outputs": [
    {
     "data": {
      "text/plain": [
       "7222     a building on the side of a street next to a t...\n",
       "25130    a couple of zebra stnading next to each other ...\n",
       "22632         a dog is barking at a man sitting on a bench\n",
       "17002          a man and woman walking past an rd mail box\n",
       "26849    a dog and a cat are lying next to the sign tha...\n",
       "                               ...                        \n",
       "2352       two cars sit at an intersection with crosswalks\n",
       "29879    a herd of sheep standing next to each other wi...\n",
       "25754    an aerial view of a train car on tracks in the...\n",
       "19718    group of cars driving down a downtown area tog...\n",
       "21161    a riverboat lit up and traveling down a river ...\n",
       "Name: caption, Length: 3185, dtype: object"
      ]
     },
     "execution_count": 24,
     "metadata": {},
     "output_type": "execute_result"
    }
   ],
   "source": [
    "val_data['caption']"
   ]
  },
  {
   "cell_type": "code",
   "execution_count": 23,
   "metadata": {},
   "outputs": [
    {
     "data": {
      "text/plain": [
       "0       a little girl waring a krispy kreme hat holdin...\n",
       "1       a beautiful young woman holding an orange frisbee\n",
       "2       a group of people sitting on couch next to a c...\n",
       "3               a person on a snowboard rides on the hill\n",
       "4       a man riding a skateboard with a helmet on in ...\n",
       "                              ...                        \n",
       "9995    a group of men riding surfboards riding a mass...\n",
       "9996    a motorcycle parked next to a car in a parking...\n",
       "9997              a little boy that is playing with a wii\n",
       "9998    group of kids play frisbee golf in the middle ...\n",
       "9999      a man in a gray jacket standing next to a woman\n",
       "Name: caption, Length: 10000, dtype: object"
      ]
     },
     "execution_count": 23,
     "metadata": {},
     "output_type": "execute_result"
    }
   ],
   "source": [
    "test_data['caption']"
   ]
  },
  {
   "cell_type": "markdown",
   "metadata": {},
   "source": [
    "## Count Vector"
   ]
  },
  {
   "cell_type": "code",
   "execution_count": 25,
   "metadata": {},
   "outputs": [],
   "source": [
    "vectorizer = CountVectorizer(lowercase=True)\n",
    "vectorizer.fit(for_nlp_data)\n",
    "\n",
    "X_train_vec = vectorizer.transform(train_data['caption'])\n",
    "X_val_vec = vectorizer.transform(val_data['caption'])\n",
    "X_test_vec = vectorizer.transform(test_data['caption'])"
   ]
  },
  {
   "cell_type": "code",
   "execution_count": 26,
   "metadata": {},
   "outputs": [
    {
     "name": "stdout",
     "output_type": "stream",
     "text": [
      "(12740, 6233)\n",
      "(3185, 6233)\n",
      "(10000, 6233)\n"
     ]
    }
   ],
   "source": [
    "# the size of vocabulary is 8075\n",
    "print(X_train_vec.shape)\n",
    "print(X_val_vec.shape)\n",
    "print(X_test_vec.shape)"
   ]
  },
  {
   "cell_type": "code",
   "execution_count": 27,
   "metadata": {},
   "outputs": [
    {
     "ename": "",
     "evalue": "",
     "output_type": "error",
     "traceback": [
      "\u001b[1;31mThe Kernel crashed while executing code in the current cell or a previous cell. \n",
      "\u001b[1;31mPlease review the code in the cell(s) to identify a possible cause of the failure. \n",
      "\u001b[1;31mClick <a href='https://aka.ms/vscodeJupyterKernelCrash'>here</a> for more info. \n",
      "\u001b[1;31mView Jupyter <a href='command:jupyter.viewOutput'>log</a> for further details."
     ]
    }
   ],
   "source": [
    "X_train_tensor = torch.from_numpy(X_train_vec.todense()).int()\n",
    "X_val_tensor = torch.from_numpy(X_val_vec.todense()).int()\n",
    "X_test_tensor = torch.from_numpy(X_test_vec.todense()).int()\n",
    "\n",
    "y_train_tensor = torch.from_numpy(np.array(train_data.iloc[:, 2:]))\n",
    "y_val_tensor = torch.from_numpy(np.array(val_data.iloc[:, 2:]))\n",
    "y_test_tensor = torch.from_numpy(np.array(test_data.iloc[:, 2:]))"
   ]
  },
  {
   "cell_type": "markdown",
   "metadata": {},
   "source": [
    "### Instead of using Count Vectorizer, use Tokenization"
   ]
  },
  {
   "cell_type": "code",
   "execution_count": 9,
   "metadata": {},
   "outputs": [
    {
     "name": "stdout",
     "output_type": "stream",
     "text": [
      "Max Sentence Length: 28\n",
      "(15925, 28)\n",
      "(10000, 28)\n",
      "6488\n"
     ]
    }
   ],
   "source": [
    "final_list, vocab = tokenize(for_nlp_data)\n",
    "X_train_vec = final_list[:train_data.shape[0], :]\n",
    "X_val_vec = final_list[train_data.shape[0]:train_data.shape[0]+val_data.shape[0], :]\n",
    "X_test_vec = final_list[train_data.shape[0]:, :]\n",
    "print(X_train_vec.shape)\n",
    "print(X_test_vec.shape)\n",
    "print(len(vocab))\n",
    "\n",
    "# to tensor\n",
    "X_train_tensor = torch.from_numpy(X_train_vec).int()\n",
    "X_test_tensor = torch.from_numpy(X_test_vec).int()"
   ]
  },
  {
   "cell_type": "code",
   "execution_count": 10,
   "metadata": {},
   "outputs": [],
   "source": [
    "train_data = TensorDataset(X_train_tensor, y_train_tensor)\n",
    "test_data = TensorDataset(X_test_tensor, y_test_tensor)\n",
    "\n",
    "train_loader = DataLoader(\n",
    "    dataset=train_data, \n",
    "    batch_size=16, \n",
    "    shuffle=True\n",
    ")\n",
    "test_loader = DataLoader(\n",
    "    dataset=test_data, \n",
    "    batch_size=16, \n",
    "    shuffle=False\n",
    ")"
   ]
  },
  {
   "cell_type": "markdown",
   "metadata": {},
   "source": [
    "## For Imbalance Data"
   ]
  },
  {
   "cell_type": "code",
   "execution_count": 11,
   "metadata": {},
   "outputs": [],
   "source": [
    "t_data = get_data(\"../dataset/train.csv\")\n",
    "t_data = load_data(t_data)\n",
    "class_counts = list(count_class(t_data).values())\n",
    "pos_weights = calculate_pos_weights(class_counts, train_data)\n",
    "if torch.cuda.is_available():\n",
    "\tpos_weights = pos_weights.to('cuda')"
   ]
  },
  {
   "cell_type": "markdown",
   "metadata": {},
   "source": [
    "## Training the LSTM Model"
   ]
  },
  {
   "cell_type": "code",
   "execution_count": 12,
   "metadata": {},
   "outputs": [
    {
     "name": "stdout",
     "output_type": "stream",
     "text": [
      "using GPU\n"
     ]
    }
   ],
   "source": [
    "N_CLASSES = 19\n",
    "\n",
    "model = LSTM(\n",
    "    no_layers=2,\n",
    "    vocab_size=len(vocab), # extra 1 is already included, usually for padding\n",
    "    embedding_dim=64,\n",
    "    hidden_dim=256,\n",
    "    output_dim=19,\n",
    ")\n",
    "loss_fn = nn.BCEWithLogitsLoss(pos_weight=pos_weights)\n",
    "optimizer = torch.optim.Adam(\n",
    "    params=model.parameters(),\n",
    "    lr=0.001,\n",
    ")\n",
    "\n",
    "# utilise GPU\n",
    "if torch.cuda.is_available():\n",
    "    print('using GPU')\n",
    "    model = model.to('cuda')"
   ]
  },
  {
   "cell_type": "code",
   "execution_count": 13,
   "metadata": {},
   "outputs": [
    {
     "name": "stderr",
     "output_type": "stream",
     "text": [
      "Epoch 1 Training: 100%|██████████| 996/996 [00:03<00:00, 261.89it/s]\n"
     ]
    },
    {
     "name": "stdout",
     "output_type": "stream",
     "text": [
      "Epoch 1, Train Loss: 1.179404151, Train Accuracy: 0.0000000%, Train F1 Score: 17.7747105%\n"
     ]
    },
    {
     "name": "stderr",
     "output_type": "stream",
     "text": [
      "Epoch 2 Training: 100%|██████████| 996/996 [00:03<00:00, 277.51it/s]\n"
     ]
    },
    {
     "name": "stdout",
     "output_type": "stream",
     "text": [
      "Epoch 2, Train Loss: 1.139322038, Train Accuracy: 0.0000000%, Train F1 Score: 17.7747105%\n"
     ]
    },
    {
     "name": "stderr",
     "output_type": "stream",
     "text": [
      "Epoch 3 Training: 100%|██████████| 996/996 [00:03<00:00, 281.50it/s]\n"
     ]
    },
    {
     "name": "stdout",
     "output_type": "stream",
     "text": [
      "Epoch 3, Train Loss: 1.030850918, Train Accuracy: 0.0000000%, Train F1 Score: 17.7747105%\n"
     ]
    },
    {
     "name": "stderr",
     "output_type": "stream",
     "text": [
      "Epoch 4 Training: 100%|██████████| 996/996 [00:03<00:00, 283.14it/s]\n"
     ]
    },
    {
     "name": "stdout",
     "output_type": "stream",
     "text": [
      "Epoch 4, Train Loss: 1.007425793, Train Accuracy: 0.0000000%, Train F1 Score: 17.7752240%\n"
     ]
    },
    {
     "name": "stderr",
     "output_type": "stream",
     "text": [
      "Epoch 5 Training: 100%|██████████| 996/996 [00:03<00:00, 279.88it/s]\n"
     ]
    },
    {
     "name": "stdout",
     "output_type": "stream",
     "text": [
      "Epoch 5, Train Loss: 0.992869147, Train Accuracy: 0.0000000%, Train F1 Score: 17.8385605%\n"
     ]
    },
    {
     "name": "stderr",
     "output_type": "stream",
     "text": [
      "Epoch 6 Training: 100%|██████████| 996/996 [00:03<00:00, 286.52it/s]\n"
     ]
    },
    {
     "name": "stdout",
     "output_type": "stream",
     "text": [
      "Epoch 6, Train Loss: 0.981510058, Train Accuracy: 0.0000000%, Train F1 Score: 17.9799501%\n"
     ]
    },
    {
     "name": "stderr",
     "output_type": "stream",
     "text": [
      "Epoch 7 Training: 100%|██████████| 996/996 [00:03<00:00, 288.19it/s]\n"
     ]
    },
    {
     "name": "stdout",
     "output_type": "stream",
     "text": [
      "Epoch 7, Train Loss: 0.972124482, Train Accuracy: 0.0000000%, Train F1 Score: 18.1900749%\n"
     ]
    },
    {
     "name": "stderr",
     "output_type": "stream",
     "text": [
      "Epoch 8 Training: 100%|██████████| 996/996 [00:03<00:00, 283.86it/s]\n"
     ]
    },
    {
     "name": "stdout",
     "output_type": "stream",
     "text": [
      "Epoch 8, Train Loss: 0.966163228, Train Accuracy: 0.0000000%, Train F1 Score: 18.2935956%\n"
     ]
    },
    {
     "name": "stderr",
     "output_type": "stream",
     "text": [
      "Epoch 9 Training: 100%|██████████| 996/996 [00:03<00:00, 283.26it/s]\n"
     ]
    },
    {
     "name": "stdout",
     "output_type": "stream",
     "text": [
      "Epoch 9, Train Loss: 0.959777165, Train Accuracy: 0.0000000%, Train F1 Score: 18.6216646%\n"
     ]
    },
    {
     "name": "stderr",
     "output_type": "stream",
     "text": [
      "Epoch 10 Training: 100%|██████████| 996/996 [00:03<00:00, 281.66it/s]\n"
     ]
    },
    {
     "name": "stdout",
     "output_type": "stream",
     "text": [
      "Epoch 10, Train Loss: 0.954339961, Train Accuracy: 0.0000000%, Train F1 Score: 18.8842106%\n"
     ]
    },
    {
     "name": "stderr",
     "output_type": "stream",
     "text": [
      "Epoch 11 Training: 100%|██████████| 996/996 [00:03<00:00, 282.53it/s]\n"
     ]
    },
    {
     "name": "stdout",
     "output_type": "stream",
     "text": [
      "Epoch 11, Train Loss: 0.948910581, Train Accuracy: 0.0000000%, Train F1 Score: 19.2073029%\n"
     ]
    },
    {
     "name": "stderr",
     "output_type": "stream",
     "text": [
      "Epoch 12 Training: 100%|██████████| 996/996 [00:03<00:00, 281.67it/s]\n"
     ]
    },
    {
     "name": "stdout",
     "output_type": "stream",
     "text": [
      "Epoch 12, Train Loss: 0.943047423, Train Accuracy: 0.0000000%, Train F1 Score: 19.5784296%\n"
     ]
    },
    {
     "name": "stderr",
     "output_type": "stream",
     "text": [
      "Epoch 13 Training: 100%|██████████| 996/996 [00:03<00:00, 281.97it/s]\n"
     ]
    },
    {
     "name": "stdout",
     "output_type": "stream",
     "text": [
      "Epoch 13, Train Loss: 0.937952416, Train Accuracy: 0.0000000%, Train F1 Score: 19.8449703%\n"
     ]
    },
    {
     "name": "stderr",
     "output_type": "stream",
     "text": [
      "Epoch 14 Training: 100%|██████████| 996/996 [00:03<00:00, 279.35it/s]\n"
     ]
    },
    {
     "name": "stdout",
     "output_type": "stream",
     "text": [
      "Epoch 14, Train Loss: 0.934795780, Train Accuracy: 0.0000000%, Train F1 Score: 20.0541261%\n"
     ]
    },
    {
     "name": "stderr",
     "output_type": "stream",
     "text": [
      "Epoch 15 Training: 100%|██████████| 996/996 [00:03<00:00, 286.76it/s]\n"
     ]
    },
    {
     "name": "stdout",
     "output_type": "stream",
     "text": [
      "Epoch 15, Train Loss: 0.931820182, Train Accuracy: 0.0000000%, Train F1 Score: 20.5104532%\n"
     ]
    },
    {
     "name": "stderr",
     "output_type": "stream",
     "text": [
      "Epoch 16 Training: 100%|██████████| 996/996 [00:03<00:00, 287.94it/s]\n"
     ]
    },
    {
     "name": "stdout",
     "output_type": "stream",
     "text": [
      "Epoch 16, Train Loss: 0.929807422, Train Accuracy: 0.0000000%, Train F1 Score: 20.8916105%\n"
     ]
    },
    {
     "name": "stderr",
     "output_type": "stream",
     "text": [
      "Epoch 17 Training: 100%|██████████| 996/996 [00:03<00:00, 276.11it/s]\n"
     ]
    },
    {
     "name": "stdout",
     "output_type": "stream",
     "text": [
      "Epoch 17, Train Loss: 0.927602605, Train Accuracy: 0.0000000%, Train F1 Score: 21.4000182%\n"
     ]
    },
    {
     "name": "stderr",
     "output_type": "stream",
     "text": [
      "Epoch 18 Training: 100%|██████████| 996/996 [00:03<00:00, 283.31it/s]\n"
     ]
    },
    {
     "name": "stdout",
     "output_type": "stream",
     "text": [
      "Epoch 18, Train Loss: 0.925453095, Train Accuracy: 0.0000000%, Train F1 Score: 21.8510909%\n"
     ]
    },
    {
     "name": "stderr",
     "output_type": "stream",
     "text": [
      "Epoch 19 Training: 100%|██████████| 996/996 [00:03<00:00, 283.65it/s]\n"
     ]
    },
    {
     "name": "stdout",
     "output_type": "stream",
     "text": [
      "Epoch 19, Train Loss: 0.924020386, Train Accuracy: 0.0000000%, Train F1 Score: 22.7040557%\n"
     ]
    },
    {
     "name": "stderr",
     "output_type": "stream",
     "text": [
      "Epoch 20 Training: 100%|██████████| 996/996 [00:03<00:00, 284.18it/s]\n"
     ]
    },
    {
     "name": "stdout",
     "output_type": "stream",
     "text": [
      "Epoch 20, Train Loss: 0.922097696, Train Accuracy: 0.0000000%, Train F1 Score: 23.2389069%\n"
     ]
    },
    {
     "name": "stderr",
     "output_type": "stream",
     "text": [
      "Epoch 21 Training: 100%|██████████| 996/996 [00:03<00:00, 285.25it/s]\n"
     ]
    },
    {
     "name": "stdout",
     "output_type": "stream",
     "text": [
      "Epoch 21, Train Loss: 0.920845325, Train Accuracy: 0.0000000%, Train F1 Score: 23.8004715%\n"
     ]
    },
    {
     "name": "stderr",
     "output_type": "stream",
     "text": [
      "Epoch 22 Training: 100%|██████████| 996/996 [00:03<00:00, 283.58it/s]\n"
     ]
    },
    {
     "name": "stdout",
     "output_type": "stream",
     "text": [
      "Epoch 22, Train Loss: 0.919817682, Train Accuracy: 0.0000000%, Train F1 Score: 24.6201965%\n"
     ]
    },
    {
     "name": "stderr",
     "output_type": "stream",
     "text": [
      "Epoch 23 Training: 100%|██████████| 996/996 [00:03<00:00, 287.75it/s]\n"
     ]
    },
    {
     "name": "stdout",
     "output_type": "stream",
     "text": [
      "Epoch 23, Train Loss: 0.919237050, Train Accuracy: 0.0000000%, Train F1 Score: 25.1791285%\n"
     ]
    },
    {
     "name": "stderr",
     "output_type": "stream",
     "text": [
      "Epoch 24 Training: 100%|██████████| 996/996 [00:03<00:00, 281.63it/s]\n"
     ]
    },
    {
     "name": "stdout",
     "output_type": "stream",
     "text": [
      "Epoch 24, Train Loss: 0.918609376, Train Accuracy: 0.0000000%, Train F1 Score: 25.9535485%\n"
     ]
    },
    {
     "name": "stderr",
     "output_type": "stream",
     "text": [
      "Epoch 25 Training: 100%|██████████| 996/996 [00:03<00:00, 285.30it/s]\n"
     ]
    },
    {
     "name": "stdout",
     "output_type": "stream",
     "text": [
      "Epoch 25, Train Loss: 0.917407425, Train Accuracy: 0.0000000%, Train F1 Score: 26.7457662%\n"
     ]
    },
    {
     "name": "stderr",
     "output_type": "stream",
     "text": [
      "Epoch 26 Training: 100%|██████████| 996/996 [00:03<00:00, 285.59it/s]\n"
     ]
    },
    {
     "name": "stdout",
     "output_type": "stream",
     "text": [
      "Epoch 26, Train Loss: 0.916973471, Train Accuracy: 0.0062794%, Train F1 Score: 27.2407561%\n"
     ]
    },
    {
     "name": "stderr",
     "output_type": "stream",
     "text": [
      "Epoch 27 Training: 100%|██████████| 996/996 [00:03<00:00, 273.81it/s]\n"
     ]
    },
    {
     "name": "stdout",
     "output_type": "stream",
     "text": [
      "Epoch 27, Train Loss: 0.916751464, Train Accuracy: 0.0000000%, Train F1 Score: 27.2536626%\n"
     ]
    },
    {
     "name": "stderr",
     "output_type": "stream",
     "text": [
      "Epoch 28 Training: 100%|██████████| 996/996 [00:03<00:00, 282.55it/s]\n"
     ]
    },
    {
     "name": "stdout",
     "output_type": "stream",
     "text": [
      "Epoch 28, Train Loss: 0.914511360, Train Accuracy: 0.0062794%, Train F1 Score: 27.6844892%\n"
     ]
    },
    {
     "name": "stderr",
     "output_type": "stream",
     "text": [
      "Epoch 29 Training: 100%|██████████| 996/996 [00:03<00:00, 283.18it/s]\n"
     ]
    },
    {
     "name": "stdout",
     "output_type": "stream",
     "text": [
      "Epoch 29, Train Loss: 0.913571589, Train Accuracy: 0.0062794%, Train F1 Score: 28.4378379%\n"
     ]
    },
    {
     "name": "stderr",
     "output_type": "stream",
     "text": [
      "Epoch 30 Training: 100%|██████████| 996/996 [00:03<00:00, 280.11it/s]\n"
     ]
    },
    {
     "name": "stdout",
     "output_type": "stream",
     "text": [
      "Epoch 30, Train Loss: 0.912761842, Train Accuracy: 0.0125589%, Train F1 Score: 29.3728686%\n"
     ]
    },
    {
     "name": "stderr",
     "output_type": "stream",
     "text": [
      "Epoch 31 Training: 100%|██████████| 996/996 [00:03<00:00, 283.05it/s]\n"
     ]
    },
    {
     "name": "stdout",
     "output_type": "stream",
     "text": [
      "Epoch 31, Train Loss: 0.912248963, Train Accuracy: 0.0439560%, Train F1 Score: 29.8283061%\n"
     ]
    },
    {
     "name": "stderr",
     "output_type": "stream",
     "text": [
      "Epoch 32 Training: 100%|██████████| 996/996 [00:03<00:00, 287.40it/s]\n"
     ]
    },
    {
     "name": "stdout",
     "output_type": "stream",
     "text": [
      "Epoch 32, Train Loss: 0.911987140, Train Accuracy: 0.0502355%, Train F1 Score: 30.6894455%\n"
     ]
    },
    {
     "name": "stderr",
     "output_type": "stream",
     "text": [
      "Epoch 33 Training: 100%|██████████| 996/996 [00:03<00:00, 286.50it/s]\n"
     ]
    },
    {
     "name": "stdout",
     "output_type": "stream",
     "text": [
      "Epoch 33, Train Loss: 0.911416061, Train Accuracy: 0.1381476%, Train F1 Score: 31.3053702%\n"
     ]
    },
    {
     "name": "stderr",
     "output_type": "stream",
     "text": [
      "Epoch 34 Training: 100%|██████████| 996/996 [00:03<00:00, 284.86it/s]\n"
     ]
    },
    {
     "name": "stdout",
     "output_type": "stream",
     "text": [
      "Epoch 34, Train Loss: 0.911523356, Train Accuracy: 0.0376766%, Train F1 Score: 31.3881955%\n"
     ]
    },
    {
     "name": "stderr",
     "output_type": "stream",
     "text": [
      "Epoch 35 Training: 100%|██████████| 996/996 [00:03<00:00, 283.19it/s]\n"
     ]
    },
    {
     "name": "stdout",
     "output_type": "stream",
     "text": [
      "Epoch 35, Train Loss: 0.911437947, Train Accuracy: 0.2009419%, Train F1 Score: 31.9142639%\n"
     ]
    },
    {
     "name": "stderr",
     "output_type": "stream",
     "text": [
      "Epoch 36 Training: 100%|██████████| 996/996 [00:03<00:00, 284.86it/s]\n"
     ]
    },
    {
     "name": "stdout",
     "output_type": "stream",
     "text": [
      "Epoch 36, Train Loss: 0.910837035, Train Accuracy: 0.2386185%, Train F1 Score: 33.1073369%\n"
     ]
    },
    {
     "name": "stderr",
     "output_type": "stream",
     "text": [
      "Epoch 37 Training: 100%|██████████| 996/996 [00:03<00:00, 285.85it/s]\n"
     ]
    },
    {
     "name": "stdout",
     "output_type": "stream",
     "text": [
      "Epoch 37, Train Loss: 0.910141319, Train Accuracy: 0.1632653%, Train F1 Score: 33.4690454%\n"
     ]
    },
    {
     "name": "stderr",
     "output_type": "stream",
     "text": [
      "Epoch 38 Training: 100%|██████████| 996/996 [00:03<00:00, 285.23it/s]\n"
     ]
    },
    {
     "name": "stdout",
     "output_type": "stream",
     "text": [
      "Epoch 38, Train Loss: 0.910102301, Train Accuracy: 0.2888540%, Train F1 Score: 33.7448462%\n"
     ]
    },
    {
     "name": "stderr",
     "output_type": "stream",
     "text": [
      "Epoch 39 Training: 100%|██████████| 996/996 [00:03<00:00, 281.59it/s]\n"
     ]
    },
    {
     "name": "stdout",
     "output_type": "stream",
     "text": [
      "Epoch 39, Train Loss: 0.909671530, Train Accuracy: 0.3202512%, Train F1 Score: 33.6132268%\n"
     ]
    },
    {
     "name": "stderr",
     "output_type": "stream",
     "text": [
      "Epoch 40 Training: 100%|██████████| 996/996 [00:03<00:00, 284.35it/s]\n"
     ]
    },
    {
     "name": "stdout",
     "output_type": "stream",
     "text": [
      "Epoch 40, Train Loss: 0.909517297, Train Accuracy: 0.2135008%, Train F1 Score: 33.8530294%\n"
     ]
    },
    {
     "name": "stderr",
     "output_type": "stream",
     "text": [
      "Epoch 41 Training: 100%|██████████| 996/996 [00:03<00:00, 283.42it/s]\n"
     ]
    },
    {
     "name": "stdout",
     "output_type": "stream",
     "text": [
      "Epoch 41, Train Loss: 0.909442912, Train Accuracy: 0.2009419%, Train F1 Score: 34.4266790%\n"
     ]
    },
    {
     "name": "stderr",
     "output_type": "stream",
     "text": [
      "Epoch 42 Training: 100%|██████████| 996/996 [00:03<00:00, 285.23it/s]\n"
     ]
    },
    {
     "name": "stdout",
     "output_type": "stream",
     "text": [
      "Epoch 42, Train Loss: 0.908804539, Train Accuracy: 0.3139717%, Train F1 Score: 35.6425097%\n"
     ]
    },
    {
     "name": "stderr",
     "output_type": "stream",
     "text": [
      "Epoch 43 Training: 100%|██████████| 996/996 [00:03<00:00, 275.61it/s]\n"
     ]
    },
    {
     "name": "stdout",
     "output_type": "stream",
     "text": [
      "Epoch 43, Train Loss: 0.908948775, Train Accuracy: 0.6593407%, Train F1 Score: 36.2668497%\n"
     ]
    },
    {
     "name": "stderr",
     "output_type": "stream",
     "text": [
      "Epoch 44 Training: 100%|██████████| 996/996 [00:03<00:00, 283.38it/s]\n"
     ]
    },
    {
     "name": "stdout",
     "output_type": "stream",
     "text": [
      "Epoch 44, Train Loss: 0.908891709, Train Accuracy: 0.5337520%, Train F1 Score: 36.5492259%\n"
     ]
    },
    {
     "name": "stderr",
     "output_type": "stream",
     "text": [
      "Epoch 45 Training: 100%|██████████| 996/996 [00:03<00:00, 284.13it/s]\n"
     ]
    },
    {
     "name": "stdout",
     "output_type": "stream",
     "text": [
      "Epoch 45, Train Loss: 0.908947083, Train Accuracy: 0.6279435%, Train F1 Score: 35.8990229%\n"
     ]
    },
    {
     "name": "stderr",
     "output_type": "stream",
     "text": [
      "Epoch 46 Training: 100%|██████████| 996/996 [00:03<00:00, 288.28it/s]\n"
     ]
    },
    {
     "name": "stdout",
     "output_type": "stream",
     "text": [
      "Epoch 46, Train Loss: 0.908744017, Train Accuracy: 0.6467818%, Train F1 Score: 37.1887380%\n"
     ]
    },
    {
     "name": "stderr",
     "output_type": "stream",
     "text": [
      "Epoch 47 Training: 100%|██████████| 996/996 [00:03<00:00, 281.86it/s]\n"
     ]
    },
    {
     "name": "stdout",
     "output_type": "stream",
     "text": [
      "Epoch 47, Train Loss: 0.907865829, Train Accuracy: 0.7284144%, Train F1 Score: 38.3703371%\n"
     ]
    },
    {
     "name": "stderr",
     "output_type": "stream",
     "text": [
      "Epoch 48 Training: 100%|██████████| 996/996 [00:03<00:00, 286.27it/s]\n"
     ]
    },
    {
     "name": "stdout",
     "output_type": "stream",
     "text": [
      "Epoch 48, Train Loss: 0.907548758, Train Accuracy: 1.1679749%, Train F1 Score: 38.8782672%\n"
     ]
    },
    {
     "name": "stderr",
     "output_type": "stream",
     "text": [
      "Epoch 49 Training: 100%|██████████| 996/996 [00:03<00:00, 287.05it/s]\n"
     ]
    },
    {
     "name": "stdout",
     "output_type": "stream",
     "text": [
      "Epoch 49, Train Loss: 0.907852917, Train Accuracy: 0.8100471%, Train F1 Score: 38.3054833%\n"
     ]
    },
    {
     "name": "stderr",
     "output_type": "stream",
     "text": [
      "Epoch 50 Training: 100%|██████████| 996/996 [00:03<00:00, 288.36it/s]\n"
     ]
    },
    {
     "name": "stdout",
     "output_type": "stream",
     "text": [
      "Epoch 50, Train Loss: 0.907695857, Train Accuracy: 0.8916797%, Train F1 Score: 37.3812905%\n"
     ]
    },
    {
     "name": "stderr",
     "output_type": "stream",
     "text": [
      "Epoch 51 Training: 100%|██████████| 996/996 [00:03<00:00, 283.62it/s]\n"
     ]
    },
    {
     "name": "stdout",
     "output_type": "stream",
     "text": [
      "Epoch 51, Train Loss: 0.907854183, Train Accuracy: 1.1805338%, Train F1 Score: 38.3656955%\n"
     ]
    },
    {
     "name": "stderr",
     "output_type": "stream",
     "text": [
      "Epoch 52 Training: 100%|██████████| 996/996 [00:03<00:00, 287.74it/s]\n"
     ]
    },
    {
     "name": "stdout",
     "output_type": "stream",
     "text": [
      "Epoch 52, Train Loss: 0.907450002, Train Accuracy: 0.9544741%, Train F1 Score: 39.2509547%\n"
     ]
    },
    {
     "name": "stderr",
     "output_type": "stream",
     "text": [
      "Epoch 53 Training: 100%|██████████| 996/996 [00:03<00:00, 285.57it/s]\n"
     ]
    },
    {
     "name": "stdout",
     "output_type": "stream",
     "text": [
      "Epoch 53, Train Loss: 0.907249885, Train Accuracy: 1.1930926%, Train F1 Score: 39.2003585%\n"
     ]
    },
    {
     "name": "stderr",
     "output_type": "stream",
     "text": [
      "Epoch 54 Training: 100%|██████████| 996/996 [00:03<00:00, 284.82it/s]\n"
     ]
    },
    {
     "name": "stdout",
     "output_type": "stream",
     "text": [
      "Epoch 54, Train Loss: 0.907080237, Train Accuracy: 1.5510204%, Train F1 Score: 40.0368109%\n"
     ]
    },
    {
     "name": "stderr",
     "output_type": "stream",
     "text": [
      "Epoch 55 Training: 100%|██████████| 996/996 [00:03<00:00, 288.67it/s]\n"
     ]
    },
    {
     "name": "stdout",
     "output_type": "stream",
     "text": [
      "Epoch 55, Train Loss: 0.906815676, Train Accuracy: 2.0722135%, Train F1 Score: 40.2057683%\n"
     ]
    },
    {
     "name": "stderr",
     "output_type": "stream",
     "text": [
      "Epoch 56 Training: 100%|██████████| 996/996 [00:03<00:00, 282.43it/s]\n"
     ]
    },
    {
     "name": "stdout",
     "output_type": "stream",
     "text": [
      "Epoch 56, Train Loss: 0.906677076, Train Accuracy: 1.9340659%, Train F1 Score: 40.4633628%\n"
     ]
    },
    {
     "name": "stderr",
     "output_type": "stream",
     "text": [
      "Epoch 57 Training: 100%|██████████| 996/996 [00:03<00:00, 285.73it/s]\n"
     ]
    },
    {
     "name": "stdout",
     "output_type": "stream",
     "text": [
      "Epoch 57, Train Loss: 0.906528269, Train Accuracy: 2.0345369%, Train F1 Score: 39.8555601%\n"
     ]
    },
    {
     "name": "stderr",
     "output_type": "stream",
     "text": [
      "Epoch 58 Training: 100%|██████████| 996/996 [00:03<00:00, 282.31it/s]\n"
     ]
    },
    {
     "name": "stdout",
     "output_type": "stream",
     "text": [
      "Epoch 58, Train Loss: 0.906458240, Train Accuracy: 2.0910518%, Train F1 Score: 40.8314228%\n"
     ]
    },
    {
     "name": "stderr",
     "output_type": "stream",
     "text": [
      "Epoch 59 Training: 100%|██████████| 996/996 [00:03<00:00, 283.72it/s]\n"
     ]
    },
    {
     "name": "stdout",
     "output_type": "stream",
     "text": [
      "Epoch 59, Train Loss: 0.906178589, Train Accuracy: 2.2417582%, Train F1 Score: 41.2702152%\n"
     ]
    },
    {
     "name": "stderr",
     "output_type": "stream",
     "text": [
      "Epoch 60 Training: 100%|██████████| 996/996 [00:03<00:00, 283.76it/s]\n"
     ]
    },
    {
     "name": "stdout",
     "output_type": "stream",
     "text": [
      "Epoch 60, Train Loss: 0.906387137, Train Accuracy: 2.1978022%, Train F1 Score: 39.4429348%\n"
     ]
    },
    {
     "name": "stderr",
     "output_type": "stream",
     "text": [
      "Epoch 61 Training: 100%|██████████| 996/996 [00:03<00:00, 286.39it/s]\n"
     ]
    },
    {
     "name": "stdout",
     "output_type": "stream",
     "text": [
      "Epoch 61, Train Loss: 0.905747073, Train Accuracy: 2.8634223%, Train F1 Score: 42.2659470%\n"
     ]
    },
    {
     "name": "stderr",
     "output_type": "stream",
     "text": [
      "Epoch 62 Training: 100%|██████████| 996/996 [00:03<00:00, 293.88it/s]\n"
     ]
    },
    {
     "name": "stdout",
     "output_type": "stream",
     "text": [
      "Epoch 62, Train Loss: 0.905303013, Train Accuracy: 2.9701727%, Train F1 Score: 42.1719570%\n"
     ]
    },
    {
     "name": "stderr",
     "output_type": "stream",
     "text": [
      "Epoch 63 Training: 100%|██████████| 996/996 [00:03<00:00, 284.59it/s]\n"
     ]
    },
    {
     "name": "stdout",
     "output_type": "stream",
     "text": [
      "Epoch 63, Train Loss: 0.905540754, Train Accuracy: 3.0078493%, Train F1 Score: 43.3558625%\n"
     ]
    },
    {
     "name": "stderr",
     "output_type": "stream",
     "text": [
      "Epoch 64 Training: 100%|██████████| 996/996 [00:03<00:00, 294.12it/s]\n"
     ]
    },
    {
     "name": "stdout",
     "output_type": "stream",
     "text": [
      "Epoch 64, Train Loss: 0.906031668, Train Accuracy: 2.6875981%, Train F1 Score: 42.8964338%\n"
     ]
    },
    {
     "name": "stderr",
     "output_type": "stream",
     "text": [
      "Epoch 65 Training: 100%|██████████| 996/996 [00:03<00:00, 283.47it/s]\n"
     ]
    },
    {
     "name": "stdout",
     "output_type": "stream",
     "text": [
      "Epoch 65, Train Loss: 0.905747490, Train Accuracy: 2.4301413%, Train F1 Score: 42.2879950%\n"
     ]
    },
    {
     "name": "stderr",
     "output_type": "stream",
     "text": [
      "Epoch 66 Training: 100%|██████████| 996/996 [00:03<00:00, 272.47it/s]\n"
     ]
    },
    {
     "name": "stdout",
     "output_type": "stream",
     "text": [
      "Epoch 66, Train Loss: 0.905858877, Train Accuracy: 2.8822606%, Train F1 Score: 42.9385183%\n"
     ]
    },
    {
     "name": "stderr",
     "output_type": "stream",
     "text": [
      "Epoch 67 Training: 100%|██████████| 996/996 [00:03<00:00, 270.12it/s]\n"
     ]
    },
    {
     "name": "stdout",
     "output_type": "stream",
     "text": [
      "Epoch 67, Train Loss: 0.905323043, Train Accuracy: 3.4850863%, Train F1 Score: 44.2175288%\n"
     ]
    },
    {
     "name": "stderr",
     "output_type": "stream",
     "text": [
      "Epoch 68 Training: 100%|██████████| 996/996 [00:03<00:00, 281.51it/s]\n"
     ]
    },
    {
     "name": "stdout",
     "output_type": "stream",
     "text": [
      "Epoch 68, Train Loss: 0.905236968, Train Accuracy: 4.5337520%, Train F1 Score: 45.3706732%\n"
     ]
    },
    {
     "name": "stderr",
     "output_type": "stream",
     "text": [
      "Epoch 69 Training: 100%|██████████| 996/996 [00:03<00:00, 279.02it/s]\n"
     ]
    },
    {
     "name": "stdout",
     "output_type": "stream",
     "text": [
      "Epoch 69, Train Loss: 0.905143471, Train Accuracy: 4.0502355%, Train F1 Score: 44.8881511%\n"
     ]
    },
    {
     "name": "stderr",
     "output_type": "stream",
     "text": [
      "Epoch 70 Training: 100%|██████████| 996/996 [00:03<00:00, 283.87it/s]\n"
     ]
    },
    {
     "name": "stdout",
     "output_type": "stream",
     "text": [
      "Epoch 70, Train Loss: 0.905263297, Train Accuracy: 4.8979592%, Train F1 Score: 45.4664824%\n"
     ]
    },
    {
     "name": "stderr",
     "output_type": "stream",
     "text": [
      "Epoch 71 Training: 100%|██████████| 996/996 [00:03<00:00, 284.32it/s]\n"
     ]
    },
    {
     "name": "stdout",
     "output_type": "stream",
     "text": [
      "Epoch 71, Train Loss: 0.905125558, Train Accuracy: 4.4960754%, Train F1 Score: 45.7426452%\n"
     ]
    },
    {
     "name": "stderr",
     "output_type": "stream",
     "text": [
      "Epoch 72 Training: 100%|██████████| 996/996 [00:03<00:00, 283.30it/s]\n"
     ]
    },
    {
     "name": "stdout",
     "output_type": "stream",
     "text": [
      "Epoch 72, Train Loss: 0.905391606, Train Accuracy: 3.8555730%, Train F1 Score: 44.7324397%\n"
     ]
    },
    {
     "name": "stderr",
     "output_type": "stream",
     "text": [
      "Epoch 73 Training: 100%|██████████| 996/996 [00:03<00:00, 262.53it/s]\n"
     ]
    },
    {
     "name": "stdout",
     "output_type": "stream",
     "text": [
      "Epoch 73, Train Loss: 0.904816928, Train Accuracy: 4.6279435%, Train F1 Score: 45.7922108%\n"
     ]
    },
    {
     "name": "stderr",
     "output_type": "stream",
     "text": [
      "Epoch 74 Training: 100%|██████████| 996/996 [00:03<00:00, 249.72it/s]\n"
     ]
    },
    {
     "name": "stdout",
     "output_type": "stream",
     "text": [
      "Epoch 74, Train Loss: 0.904616832, Train Accuracy: 4.1130298%, Train F1 Score: 45.7154358%\n"
     ]
    },
    {
     "name": "stderr",
     "output_type": "stream",
     "text": [
      "Epoch 75 Training: 100%|██████████| 996/996 [00:03<00:00, 280.18it/s]\n"
     ]
    },
    {
     "name": "stdout",
     "output_type": "stream",
     "text": [
      "Epoch 75, Train Loss: 0.904522315, Train Accuracy: 4.8665620%, Train F1 Score: 45.7945700%\n"
     ]
    },
    {
     "name": "stderr",
     "output_type": "stream",
     "text": [
      "Epoch 76 Training: 100%|██████████| 996/996 [00:03<00:00, 282.72it/s]\n"
     ]
    },
    {
     "name": "stdout",
     "output_type": "stream",
     "text": [
      "Epoch 76, Train Loss: 0.904560834, Train Accuracy: 6.3924647%, Train F1 Score: 46.5485967%\n"
     ]
    },
    {
     "name": "stderr",
     "output_type": "stream",
     "text": [
      "Epoch 77 Training: 100%|██████████| 996/996 [00:03<00:00, 281.44it/s]\n"
     ]
    },
    {
     "name": "stdout",
     "output_type": "stream",
     "text": [
      "Epoch 77, Train Loss: 0.904608933, Train Accuracy: 4.4207221%, Train F1 Score: 45.3807393%\n"
     ]
    },
    {
     "name": "stderr",
     "output_type": "stream",
     "text": [
      "Epoch 78 Training: 100%|██████████| 996/996 [00:03<00:00, 286.26it/s]\n"
     ]
    },
    {
     "name": "stdout",
     "output_type": "stream",
     "text": [
      "Epoch 78, Train Loss: 0.904433275, Train Accuracy: 4.2448980%, Train F1 Score: 45.6033551%\n"
     ]
    },
    {
     "name": "stderr",
     "output_type": "stream",
     "text": [
      "Epoch 79 Training: 100%|██████████| 996/996 [00:03<00:00, 284.78it/s]\n"
     ]
    },
    {
     "name": "stdout",
     "output_type": "stream",
     "text": [
      "Epoch 79, Train Loss: 0.904177565, Train Accuracy: 5.9277865%, Train F1 Score: 47.5158150%\n"
     ]
    },
    {
     "name": "stderr",
     "output_type": "stream",
     "text": [
      "Epoch 80 Training: 100%|██████████| 996/996 [00:03<00:00, 285.12it/s]\n"
     ]
    },
    {
     "name": "stdout",
     "output_type": "stream",
     "text": [
      "Epoch 80, Train Loss: 0.904064018, Train Accuracy: 5.4945055%, Train F1 Score: 48.1166383%\n"
     ]
    },
    {
     "name": "stderr",
     "output_type": "stream",
     "text": [
      "Epoch 81 Training: 100%|██████████| 996/996 [00:03<00:00, 277.85it/s]\n"
     ]
    },
    {
     "name": "stdout",
     "output_type": "stream",
     "text": [
      "Epoch 81, Train Loss: 0.904061966, Train Accuracy: 5.9215071%, Train F1 Score: 48.4498900%\n"
     ]
    },
    {
     "name": "stderr",
     "output_type": "stream",
     "text": [
      "Epoch 82 Training: 100%|██████████| 996/996 [00:03<00:00, 284.40it/s]\n"
     ]
    },
    {
     "name": "stdout",
     "output_type": "stream",
     "text": [
      "Epoch 82, Train Loss: 0.904003125, Train Accuracy: 5.7394035%, Train F1 Score: 48.9953699%\n"
     ]
    },
    {
     "name": "stderr",
     "output_type": "stream",
     "text": [
      "Epoch 83 Training: 100%|██████████| 996/996 [00:03<00:00, 284.59it/s]\n"
     ]
    },
    {
     "name": "stdout",
     "output_type": "stream",
     "text": [
      "Epoch 83, Train Loss: 0.904270742, Train Accuracy: 6.3108320%, Train F1 Score: 49.1973056%\n"
     ]
    },
    {
     "name": "stderr",
     "output_type": "stream",
     "text": [
      "Epoch 84 Training: 100%|██████████| 996/996 [00:03<00:00, 284.87it/s]\n"
     ]
    },
    {
     "name": "stdout",
     "output_type": "stream",
     "text": [
      "Epoch 84, Train Loss: 0.903772270, Train Accuracy: 6.0156986%, Train F1 Score: 48.8316266%\n"
     ]
    },
    {
     "name": "stderr",
     "output_type": "stream",
     "text": [
      "Epoch 85 Training: 100%|██████████| 996/996 [00:04<00:00, 243.70it/s]\n"
     ]
    },
    {
     "name": "stdout",
     "output_type": "stream",
     "text": [
      "Epoch 85, Train Loss: 0.904031834, Train Accuracy: 7.1522763%, Train F1 Score: 47.8931870%\n"
     ]
    },
    {
     "name": "stderr",
     "output_type": "stream",
     "text": [
      "Epoch 86 Training: 100%|██████████| 996/996 [00:03<00:00, 278.07it/s]\n"
     ]
    },
    {
     "name": "stdout",
     "output_type": "stream",
     "text": [
      "Epoch 86, Train Loss: 0.903863952, Train Accuracy: 7.3343799%, Train F1 Score: 48.3341183%\n"
     ]
    },
    {
     "name": "stderr",
     "output_type": "stream",
     "text": [
      "Epoch 87 Training: 100%|██████████| 996/996 [00:03<00:00, 281.97it/s]\n"
     ]
    },
    {
     "name": "stdout",
     "output_type": "stream",
     "text": [
      "Epoch 87, Train Loss: 0.903756270, Train Accuracy: 7.3971743%, Train F1 Score: 48.6825350%\n"
     ]
    },
    {
     "name": "stderr",
     "output_type": "stream",
     "text": [
      "Epoch 88 Training: 100%|██████████| 996/996 [00:03<00:00, 279.65it/s]\n"
     ]
    },
    {
     "name": "stdout",
     "output_type": "stream",
     "text": [
      "Epoch 88, Train Loss: 0.903740190, Train Accuracy: 8.2260597%, Train F1 Score: 48.3039659%\n"
     ]
    },
    {
     "name": "stderr",
     "output_type": "stream",
     "text": [
      "Epoch 89 Training: 100%|██████████| 996/996 [00:03<00:00, 282.07it/s]\n"
     ]
    },
    {
     "name": "stdout",
     "output_type": "stream",
     "text": [
      "Epoch 89, Train Loss: 0.903406502, Train Accuracy: 8.7409733%, Train F1 Score: 49.9308598%\n"
     ]
    },
    {
     "name": "stderr",
     "output_type": "stream",
     "text": [
      "Epoch 90 Training: 100%|██████████| 996/996 [00:03<00:00, 279.64it/s]\n"
     ]
    },
    {
     "name": "stdout",
     "output_type": "stream",
     "text": [
      "Epoch 90, Train Loss: 0.903446703, Train Accuracy: 9.1491366%, Train F1 Score: 49.9188215%\n"
     ]
    },
    {
     "name": "stderr",
     "output_type": "stream",
     "text": [
      "Epoch 91 Training: 100%|██████████| 996/996 [00:03<00:00, 277.78it/s]\n"
     ]
    },
    {
     "name": "stdout",
     "output_type": "stream",
     "text": [
      "Epoch 91, Train Loss: 0.903514908, Train Accuracy: 10.5180534%, Train F1 Score: 50.3224165%\n"
     ]
    },
    {
     "name": "stderr",
     "output_type": "stream",
     "text": [
      "Epoch 92 Training: 100%|██████████| 996/996 [00:03<00:00, 279.50it/s]\n"
     ]
    },
    {
     "name": "stdout",
     "output_type": "stream",
     "text": [
      "Epoch 92, Train Loss: 0.903446400, Train Accuracy: 9.7896389%, Train F1 Score: 50.0710886%\n"
     ]
    },
    {
     "name": "stderr",
     "output_type": "stream",
     "text": [
      "Epoch 93 Training: 100%|██████████| 996/996 [00:03<00:00, 273.48it/s]\n"
     ]
    },
    {
     "name": "stdout",
     "output_type": "stream",
     "text": [
      "Epoch 93, Train Loss: 0.903554674, Train Accuracy: 11.1397174%, Train F1 Score: 50.6801594%\n"
     ]
    },
    {
     "name": "stderr",
     "output_type": "stream",
     "text": [
      "Epoch 94 Training: 100%|██████████| 996/996 [00:03<00:00, 273.03it/s]\n"
     ]
    },
    {
     "name": "stdout",
     "output_type": "stream",
     "text": [
      "Epoch 94, Train Loss: 0.903646911, Train Accuracy: 9.2621664%, Train F1 Score: 49.5398973%\n"
     ]
    },
    {
     "name": "stderr",
     "output_type": "stream",
     "text": [
      "Epoch 95 Training: 100%|██████████| 996/996 [00:03<00:00, 283.55it/s]\n"
     ]
    },
    {
     "name": "stdout",
     "output_type": "stream",
     "text": [
      "Epoch 95, Train Loss: 0.903341041, Train Accuracy: 10.5808477%, Train F1 Score: 51.0184017%\n"
     ]
    },
    {
     "name": "stderr",
     "output_type": "stream",
     "text": [
      "Epoch 96 Training: 100%|██████████| 996/996 [00:03<00:00, 283.47it/s]\n"
     ]
    },
    {
     "name": "stdout",
     "output_type": "stream",
     "text": [
      "Epoch 96, Train Loss: 0.903279271, Train Accuracy: 11.4662480%, Train F1 Score: 51.5882393%\n"
     ]
    },
    {
     "name": "stderr",
     "output_type": "stream",
     "text": [
      "Epoch 97 Training: 100%|██████████| 996/996 [00:03<00:00, 282.01it/s]\n"
     ]
    },
    {
     "name": "stdout",
     "output_type": "stream",
     "text": [
      "Epoch 97, Train Loss: 0.903225589, Train Accuracy: 11.4034537%, Train F1 Score: 52.1507978%\n"
     ]
    },
    {
     "name": "stderr",
     "output_type": "stream",
     "text": [
      "Epoch 98 Training: 100%|██████████| 996/996 [00:03<00:00, 280.25it/s]\n"
     ]
    },
    {
     "name": "stdout",
     "output_type": "stream",
     "text": [
      "Epoch 98, Train Loss: 0.902980165, Train Accuracy: 11.0015699%, Train F1 Score: 51.5501346%\n"
     ]
    },
    {
     "name": "stderr",
     "output_type": "stream",
     "text": [
      "Epoch 99 Training: 100%|██████████| 996/996 [00:03<00:00, 280.12it/s]\n"
     ]
    },
    {
     "name": "stdout",
     "output_type": "stream",
     "text": [
      "Epoch 99, Train Loss: 0.903030696, Train Accuracy: 11.1020408%, Train F1 Score: 52.2629277%\n"
     ]
    },
    {
     "name": "stderr",
     "output_type": "stream",
     "text": [
      "Epoch 100 Training: 100%|██████████| 996/996 [00:03<00:00, 276.43it/s]\n"
     ]
    },
    {
     "name": "stdout",
     "output_type": "stream",
     "text": [
      "Epoch 100, Train Loss: 0.903155643, Train Accuracy: 9.5698587%, Train F1 Score: 50.7033730%\n"
     ]
    }
   ],
   "source": [
    "BATCH_SIZE = 16\n",
    "EPOCHS = 100\n",
    "THRESHOLD = 0.5\n",
    "\n",
    "clip = 5 # for exploding gradient problem\n",
    "train_losses = []\n",
    "train_accs = []\n",
    "train_f1_scores = []\n",
    "for epoch in range(EPOCHS):\n",
    "\n",
    "\t# initialize the hidden state\n",
    "\thidden = model.init_hidden(batch_size=BATCH_SIZE)\n",
    "\n",
    "\tstart = 0 # index\n",
    "\ty_true = np.zeros((15925, N_CLASSES))\n",
    "\ty_preds = np.zeros((15925, N_CLASSES))\n",
    "\ttrain_loss = 0.\n",
    "\tmodel.train()\n",
    "\tfor captions, labels in tqdm(train_loader, desc=f\"Epoch {epoch+1} Training: \"):\n",
    "\n",
    "\t\tif torch.cuda.is_available():\n",
    "\t\t\tcaptions = captions.to('cuda')\n",
    "\t\t\tlabels = labels.to('cuda')\n",
    "\n",
    "\t\t# creating new variables for the hidden state, otherwise\n",
    "\t\t# we'd backprop through the entire training history\n",
    "\t\thidden = tuple([each.data for each in hidden])\n",
    "\n",
    "\t\tmodel.zero_grad()\n",
    "\t\ty_pred, hidden = model(captions, hidden)\n",
    "\n",
    "\t\t# backward\n",
    "\t\tloss = loss_fn(y_pred.squeeze(), labels)\n",
    "\t\tloss.backward()\n",
    "\n",
    "\t\t# clip_grad_norm helps prevent the exploding gradient problem in RNNs/LSTMs\n",
    "\t\tnn.utils.clip_grad_norm_(model.parameters(), clip)\n",
    "\n",
    "\t\t# update\n",
    "\t\toptimizer.step()\n",
    "\n",
    "\t\t# compare\n",
    "\t\tpredicted = (F.sigmoid(y_pred) > THRESHOLD).int()\n",
    "\n",
    "\t\tn = captions.shape[0]\n",
    "\t\ty_true[start:start+n] = labels.cpu().numpy()\n",
    "\t\ty_preds[start:start+n] = predicted.cpu().numpy()\n",
    "\t\tstart = start + n\n",
    "\n",
    "\t\ttrain_loss += loss.item()\n",
    "\n",
    "\ttrain_losses.append(train_loss / len(train_loader))\n",
    "\ttrain_accs.append(accuracy_score(y_true, y_preds))\n",
    "\ttrain_f1_scores.append(f1_score(y_true, y_preds, average=\"macro\", zero_division=0.0))\n",
    "\n",
    "\tprint(\"Epoch {:d}\".format(epoch+1), end=\"\")\n",
    "\tprint(\", Train Loss: {:.9f}\".format(train_losses[-1]), end=\"\")\n",
    "\tprint(\", Train Accuracy: {:.7f}%\".format(train_accs[-1]*100), end=\"\")\n",
    "\tprint(\", Train F1 Score: {:.7f}%\".format(train_f1_scores[-1]*100))"
   ]
  },
  {
   "cell_type": "code",
   "execution_count": 14,
   "metadata": {},
   "outputs": [
    {
     "name": "stderr",
     "output_type": "stream",
     "text": [
      "Testing: 100%|██████████| 625/625 [00:01<00:00, 408.86it/s]\n"
     ]
    }
   ],
   "source": [
    "# create a file for test submission\n",
    "f = open('../submission_nlp.csv', \"w\")\n",
    "f.write(\"ImageID,Labels\\n\")\n",
    "\n",
    "# since test loader is not shuffling\n",
    "index=30000\n",
    "\n",
    "# initialize the hidden state\n",
    "hidden = model.init_hidden(batch_size=BATCH_SIZE)\n",
    "\n",
    "model.eval()\n",
    "for captions, _ in tqdm(test_loader, desc=\"Testing: \"):\n",
    "\t\n",
    "\tif torch.cuda.is_available():\n",
    "\t\tcaptions = captions.to('cuda')\n",
    "\n",
    "\t# creating new variables for the hidden state, otherwise\n",
    "\t# we'd backprop through the entire training history\n",
    "\thidden = tuple([each.data for each in hidden])\n",
    "\t\n",
    "\toutputs, _ = model(captions, hidden)\n",
    "\tpredicted = (F.sigmoid(outputs) > THRESHOLD).int()\n",
    "\n",
    "\t# NOTE: add 1 to the output of predicted!\n",
    "\t# write the output\n",
    "\tfor i, predicted_label in enumerate(predicted):\n",
    "\t\tlabel = (predicted_label == torch.max(predicted_label)).nonzero().flatten()\n",
    "\t\tlabel += 1\n",
    "\t\tlabel = label.tolist()\n",
    "\t\tlabel = \" \".join(str(x) for x in label)\n",
    "\n",
    "\t\tf.write(f\"{index}.jpg\" + \",\" + str(label) +\"\\n\")\n",
    "\t\tindex += 1\n",
    "\n",
    "f.close()"
   ]
  },
  {
   "cell_type": "code",
   "execution_count": 15,
   "metadata": {},
   "outputs": [],
   "source": [
    "import matplotlib.pyplot as plt"
   ]
  },
  {
   "cell_type": "code",
   "execution_count": 16,
   "metadata": {},
   "outputs": [
    {
     "data": {
      "image/png": "[encoded data removed]",
      "text/plain": [
       "<Figure size 640x480 with 1 Axes>"
      ]
     },
     "metadata": {},
     "output_type": "display_data"
    }
   ],
   "source": [
    "plt.title(\"Training Losses vs Epoch\")\n",
    "plt.plot(train_losses)\n",
    "plt.xlabel(\"Epoch\")\n",
    "plt.ylabel(\"Loss\")\n",
    "plt.show()"
   ]
  },
  {
   "cell_type": "code",
   "execution_count": 17,
   "metadata": {},
   "outputs": [
    {
     "data": {
      "image/png": "[encoded data removed]",
      "text/plain": [
       "<Figure size 640x480 with 1 Axes>"
      ]
     },
     "metadata": {},
     "output_type": "display_data"
    }
   ],
   "source": [
    "plt.title(\"Training F1 Score vs Epoch\")\n",
    "plt.plot(train_f1_scores)\n",
    "plt.ylabel(\"F1 Score\")\n",
    "plt.xlabel(\"Epoch\")\n",
    "plt.show()"
   ]
  },
  {
   "cell_type": "code",
   "execution_count": 18,
   "metadata": {},
   "outputs": [
    {
     "data": {
      "image/png": "[encoded data removed]",
      "text/plain": [
       "<Figure size 640x480 with 1 Axes>"
      ]
     },
     "metadata": {},
     "output_type": "display_data"
    }
   ],
   "source": [
    "plt.title(\"Training Accuracies vs Epoch\")\n",
    "plt.plot(train_accs)\n",
    "plt.ylabel(\"Accuracy\")\n",
    "plt.xlabel(\"Epoch\")\n",
    "plt.show()"
   ]
  },
  {
   "cell_type": "code",
   "execution_count": 19,
   "metadata": {},
   "outputs": [
    {
     "ename": "NameError",
     "evalue": "name 'test' is not defined",
     "output_type": "error",
     "traceback": [
      "\u001b[0;31m---------------------------------------------------------------------------\u001b[0m",
      "\u001b[0;31mNameError\u001b[0m                                 Traceback (most recent call last)",
      "Cell \u001b[0;32mIn[19], line 1\u001b[0m\n\u001b[0;32m----> 1\u001b[0m \u001b[43mtest\u001b[49m\n",
      "\u001b[0;31mNameError\u001b[0m: name 'test' is not defined"
     ]
    }
   ],
   "source": [
    "test"
   ]
  },
  {
   "cell_type": "code",
   "execution_count": null,
   "metadata": {},
   "outputs": [],
   "source": [
    "torch.save(model.state_dict(), '../lstm_2_token_64_256_19.pth')"
   ]
  },
  {
   "cell_type": "code",
   "execution_count": null,
   "metadata": {},
   "outputs": [],
   "source": [
    "model = LSTM(\n",
    "    no_layers=2,\n",
    "    vocab_size=len(vocab), # extra 1 is already included, usually for padding\n",
    "    embedding_dim=64,\n",
    "    hidden_dim=256,\n",
    "    output_dim=19,\n",
    ")\n",
    "model.load_state_dict(torch.load('../lstm_2_token_64_256_19.pth'))"
   ]
  }
 ],
 "metadata": {
  "kernelspec": {
   "display_name": "Python 3",
   "language": "python",
   "name": "python3"
  },
  "language_info": {
   "codemirror_mode": {
    "name": "ipython",
    "version": 3
   },
   "file_extension": ".py",
   "mimetype": "text/x-python",
   "name": "python",
   "nbconvert_exporter": "python",
   "pygments_lexer": "ipython3",
   "version": "3.10.12"
  }
 },
 "nbformat": 4,
 "nbformat_minor": 2
}
