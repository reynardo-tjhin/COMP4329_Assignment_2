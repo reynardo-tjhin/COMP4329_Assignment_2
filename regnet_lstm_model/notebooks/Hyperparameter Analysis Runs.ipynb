{
 "cells": [
  {
   "cell_type": "markdown",
   "metadata": {},
   "source": [
    "# Combining Image Classification and NLP Models Together"
   ]
  },
  {
   "cell_type": "markdown",
   "metadata": {},
   "source": [
    "## Import Libraries"
   ]
  },
  {
   "cell_type": "code",
   "execution_count": 1,
   "metadata": {},
   "outputs": [],
   "source": [
    "# change the python's path to the parent directory\n",
    "import sys\n",
    "sys.path.append(\"../\")"
   ]
  },
  {
   "cell_type": "code",
   "execution_count": 2,
   "metadata": {},
   "outputs": [
    {
     "name": "stderr",
     "output_type": "stream",
     "text": [
      "/home/reynardo/.local/lib/python3.10/site-packages/tqdm/auto.py:21: TqdmWarning: IProgress not found. Please update jupyter and ipywidgets. See https://ipywidgets.readthedocs.io/en/stable/user_install.html\n",
      "  from .autonotebook import tqdm as notebook_tqdm\n"
     ]
    }
   ],
   "source": [
    "import pandas as pd\n",
    "import torch\n",
    "import torch.nn as nn\n",
    "import torch.nn.functional as F\n",
    "import gc\n",
    "import numpy as np\n",
    "\n",
    "from models.popular_models import PopularModels\n",
    "from models.lstm import LSTM\n",
    "from torchvision import transforms\n",
    "from tqdm import tqdm\n",
    "from data.dataset import MultiLabelDataset\n",
    "from tools.tools import get_data, load_data, tokenize, remove_class, count_class, calculate_pos_weights\n",
    "from torch.utils.data import DataLoader\n",
    "from sklearn.feature_extraction.text import CountVectorizer\n",
    "from sklearn.metrics import (\n",
    "    accuracy_score,\n",
    "    precision_score,\n",
    "    recall_score,\n",
    "    f1_score\n",
    ")\n",
    "from sklearn.model_selection import train_test_split\n",
    "from typing import Tuple, Any"
   ]
  },
  {
   "cell_type": "markdown",
   "metadata": {},
   "source": [
    "## Remove unused memory in GPU"
   ]
  },
  {
   "cell_type": "code",
   "execution_count": 3,
   "metadata": {},
   "outputs": [],
   "source": [
    "gc.collect()\n",
    "torch.cuda.empty_cache()"
   ]
  },
  {
   "cell_type": "markdown",
   "metadata": {},
   "source": [
    "## Load the Data"
   ]
  },
  {
   "cell_type": "code",
   "execution_count": 4,
   "metadata": {},
   "outputs": [],
   "source": [
    "# import data\n",
    "train_data = get_data(\"../dataset/train.csv\")\n",
    "test_data = get_data(\"../dataset/test.csv\")\n",
    "\n",
    "# perform text cleaning and get the pandas' dataframe\n",
    "train_data = load_data(train_data)\n",
    "test_data = load_data(test_data, has_label=False)\n",
    "\n",
    "# remove an imbalanced class\n",
    "train_data = remove_class(train_data, class_no=1)\n",
    "\n",
    "# split into training and validating sets\n",
    "X = train_data.iloc[:, 0:2]\n",
    "y = train_data.iloc[:, 2:]\n",
    "X_train, X_test, y_train, y_test = train_test_split(X, y, test_size=0.2)\n",
    "\n",
    "train_data = pd.concat([X_train, y_train], axis=1)\n",
    "val_data = pd.concat([X_test, y_test], axis=1)\n",
    "\n",
    "# join the data together\n",
    "for_nlp_data = pd.concat((train_data['caption'], val_data['caption'], test_data['caption']), ignore_index=True)"
   ]
  },
  {
   "cell_type": "code",
   "execution_count": 5,
   "metadata": {},
   "outputs": [
    {
     "name": "stdout",
     "output_type": "stream",
     "text": [
      "(12740, 21)\n",
      "(3185, 21)\n",
      "(10000, 2)\n"
     ]
    }
   ],
   "source": [
    "print(train_data.shape)\n",
    "print(val_data.shape)\n",
    "print(test_data.shape)"
   ]
  },
  {
   "cell_type": "code",
   "execution_count": 6,
   "metadata": {},
   "outputs": [
    {
     "name": "stdout",
     "output_type": "stream",
     "text": [
      "Number of training instances: \t12740\n",
      "Number of validation instances: 3185\n",
      "Number of testing instances:  \t10000\n"
     ]
    }
   ],
   "source": [
    "print(f\"Number of training instances: \t{train_data.shape[0]}\")\n",
    "print(f\"Number of validation instances: {val_data.shape[0]}\")\n",
    "print(f\"Number of testing instances:  \t{test_data.shape[0]}\")"
   ]
  },
  {
   "cell_type": "markdown",
   "metadata": {},
   "source": [
    "## Preprocessing for Images and Caption"
   ]
  },
  {
   "cell_type": "code",
   "execution_count": 7,
   "metadata": {},
   "outputs": [
    {
     "name": "stdout",
     "output_type": "stream",
     "text": [
      "Max Sentence Length: 28\n",
      "(25925, 28)\n",
      "(12740, 28)\n",
      "(3185, 28)\n",
      "(10000, 28)\n"
     ]
    }
   ],
   "source": [
    "# define the image transformation: currently following resnet18\n",
    "transform = transforms.Compose([\n",
    "\ttransforms.Resize((232, 232)),\n",
    "\ttransforms.CenterCrop(224),\n",
    "\ttransforms.ToTensor(), # converts images to [0, 1]\n",
    "\ttransforms.Normalize(\n",
    "\t\tmean=[0.485, 0.456, 0.406],\n",
    "\t\tstd=[0.229, 0.224, 0.225],\n",
    "\t)\n",
    "])\n",
    "\n",
    "# tokenize the data\n",
    "final_list, vocab = tokenize(for_nlp_data)\n",
    "X_train_vec = final_list[:train_data.shape[0], :]\n",
    "X_val_vec = final_list[train_data.shape[0]:train_data.shape[0]+val_data.shape[0], :]\n",
    "X_test_vec = final_list[train_data.shape[0]+val_data.shape[0]:, :]\n",
    "\n",
    "print(final_list.shape)\n",
    "print(X_train_vec.shape)\n",
    "print(X_val_vec.shape)\n",
    "print(X_test_vec.shape)"
   ]
  },
  {
   "cell_type": "markdown",
   "metadata": {},
   "source": [
    "## Create Dataset and DataLoader"
   ]
  },
  {
   "cell_type": "code",
   "execution_count": 8,
   "metadata": {},
   "outputs": [],
   "source": [
    "# initialize the dataset\n",
    "train_dataset = MultiLabelDataset(\n",
    "\tcsv_file=train_data,\n",
    "\troot_dir='../dataset/data/',\n",
    "\tvectorizer=None,\n",
    "\ttransform=transform,\n",
    "\tuse_caption_vec=True,\n",
    "\tcaption_vec=X_train_vec,\n",
    "\tis_test=False,\n",
    ")\n",
    "val_dataset = MultiLabelDataset(\n",
    "    csv_file=val_data,\n",
    "    root_dir='../dataset/data/',\n",
    "    vectorizer=None,\n",
    "\ttransform=transform,\n",
    "\tuse_caption_vec=True,\n",
    "\tcaption_vec=X_val_vec,\n",
    "\tis_test=False,\n",
    ")\n",
    "test_dataset = MultiLabelDataset(\n",
    "\tcsv_file=test_data,\n",
    "\troot_dir='../dataset/data/',\n",
    "\tvectorizer=None,\n",
    "\ttransform=transform,\n",
    "\tuse_caption_vec=True,\n",
    "\tcaption_vec=X_test_vec,\n",
    "\tis_test=True,\n",
    ")\n",
    "\n",
    "BATCH_SIZE=16\n",
    "\n",
    "# load the dataset into batches \n",
    "train_dataloader = DataLoader(\n",
    "\tdataset=train_dataset,\n",
    "\tbatch_size=BATCH_SIZE,\n",
    "\tshuffle=True,\n",
    ")\n",
    "val_dataloader = DataLoader(\n",
    "    dataset=val_dataset,\n",
    "\tbatch_size=BATCH_SIZE,\n",
    "\tshuffle=True,\n",
    ")\n",
    "test_dataloader = DataLoader(\n",
    "\tdataset=test_dataset,\n",
    "\tbatch_size=BATCH_SIZE,\n",
    "\tshuffle=False,\n",
    ")"
   ]
  },
  {
   "cell_type": "markdown",
   "metadata": {},
   "source": [
    "## Create the Combined Model"
   ]
  },
  {
   "cell_type": "code",
   "execution_count": 9,
   "metadata": {},
   "outputs": [],
   "source": [
    "class CombinedModel(nn.Module):\n",
    "\n",
    "\tdef __init__(\n",
    "\t\t\tself, \n",
    "\t\t\tchoice: str, \n",
    "\t\t\tpretrained: bool, \n",
    "\t\t\tfreeze: bool, \n",
    "\t\t\tcnn_n_out: int,\n",
    "\t\t\tno_layers: int,\n",
    "\t\t\tvocab_size: int,\n",
    "\t\t\tembedding_dim: int,\n",
    "\t\t\tlstm_hidden_dim: int,\n",
    "\t\t\tlstm_n_out: int,\n",
    "\t\t\tlstm_dropout: float = 0.5,\n",
    "\t\t\tfc_dropout: float = 0.5,\n",
    "\t\t) -> None:\n",
    "\t\tsuper(CombinedModel, self).__init__()\n",
    "\n",
    "\t\t# get the CNN model for image classification\n",
    "\t\tself.cnn_model = PopularModels(\n",
    "\t\t\tchoice=choice,\n",
    "\t\t\tpretrained=pretrained,\n",
    "\t\t\tfreeze=freeze,\n",
    "\t\t\tn_out=cnn_n_out,\n",
    "\t\t).get_model()\n",
    "\n",
    "\t\t# get the LSTM model for text classification\n",
    "\t\tself.lstm_model = LSTM(\n",
    "\t\t\tno_layers=no_layers,\n",
    "\t\t\tvocab_size=vocab_size + 1,\n",
    "\t\t\tembedding_dim=embedding_dim,\n",
    "\t\t\thidden_dim=lstm_hidden_dim,\n",
    "\t\t\toutput_dim=lstm_n_out,\n",
    "\t\t\tdropout=lstm_dropout,\n",
    "\t\t)\n",
    "\t\t\n",
    "\t\t# create the final fully connected layer\n",
    "\t\tself.last_layer = nn.Linear(cnn_n_out + lstm_n_out, 19)\n",
    "\t\t\n",
    "\t\t# prevent overfitting\n",
    "\t\tself.dropout_layer = nn.Dropout(p=fc_dropout, inplace=True)\n",
    "\n",
    "\tdef forward(self, x, y, hidden):\n",
    "\t\tx = self.cnn_model(x)\n",
    "\t\ty, hidden = self.lstm_model(y, hidden)\n",
    "\t\t\n",
    "\t\toutput = torch.cat((x, y), dim=1)\n",
    "\t\toutput = self.dropout_layer(output)\n",
    "\t\toutput = self.last_layer(output)\n",
    "\n",
    "\t\treturn output, hidden"
   ]
  },
  {
   "cell_type": "markdown",
   "metadata": {},
   "source": [
    "## Get the Positive Weights (Data Imbalance Strategy)"
   ]
  },
  {
   "cell_type": "code",
   "execution_count": 10,
   "metadata": {},
   "outputs": [],
   "source": [
    "class_counts = list(count_class(train_data).values())\n",
    "pos_weights = calculate_pos_weights(class_counts, train_data)\n",
    "if torch.cuda.is_available():\n",
    "\tpos_weights = pos_weights.to('cuda')"
   ]
  },
  {
   "cell_type": "markdown",
   "metadata": {},
   "source": [
    "## Define training function"
   ]
  },
  {
   "cell_type": "code",
   "execution_count": 11,
   "metadata": {},
   "outputs": [],
   "source": [
    "def train_and_val(model: CombinedModel,\n",
    "\t\t\t\t  epochs: int,\n",
    "\t\t\t\t  n_classes: int,\n",
    "\t\t\t\t  optimizer: torch.optim.Optimizer,\n",
    "\t\t\t\t  loss_fn: nn.Module,\n",
    "\t\t\t\t  threshold: int,\n",
    "\t\t\t\t  batch_size: int) -> Tuple[CombinedModel, dict[str, Any]]:\n",
    "\n",
    "\tclip = 5 # for exploding gradient problem\n",
    "\ttrain_losses = []\n",
    "\tsk_val_accs = []\n",
    "\tsk_train_accs = []\n",
    "\tsk_val_precisions = []\n",
    "\tsk_train_precisions = []\n",
    "\tsk_val_recalls = []\n",
    "\tsk_train_recalls = []\n",
    "\tsk_val_f1_scores = []\n",
    "\tsk_train_f1_scores = []\n",
    "\tfor epoch in range(epochs):\n",
    "\n",
    "\t\t# initialize the hidden state\n",
    "\t\thidden = model.lstm_model.init_hidden(batch_size=batch_size)\n",
    "\n",
    "\t\tstart = 0 # index\n",
    "\t\ty_true = np.zeros((train_data.shape[0], n_classes))\n",
    "\t\ty_preds = np.zeros((train_data.shape[0], n_classes))\n",
    "\t\ttrain_loss = 0.\n",
    "\t\tmodel.train()\n",
    "\t\tfor _, images, captions, labels in tqdm(train_dataloader, desc=f\"Epoch {epoch+1} Training: \"):\n",
    "\n",
    "\t\t\tif torch.cuda.is_available():\n",
    "\t\t\t\timages = images.to('cuda')\n",
    "\t\t\t\tcaptions = captions.to('cuda')\n",
    "\t\t\t\tlabels = labels.to('cuda')\n",
    "\t\t\t\n",
    "\t\t\t# creating new variables for the hidden state, otherwise\n",
    "\t\t\t# we'd backprop through the entire training history\n",
    "\t\t\thidden = tuple([each.data for each in hidden])\n",
    "\n",
    "\t\t\toptimizer.zero_grad()\n",
    "\t\t\ty_pred, hidden = model(images, captions, hidden)\n",
    "\n",
    "\t\t\t# backward\n",
    "\t\t\tloss = loss_fn(y_pred, labels)\n",
    "\t\t\tloss.backward()\n",
    "\n",
    "\t\t\t# clip_grad_norm helps prevent the exploding gradient problem in RNNs/LSTMs\n",
    "\t\t\tnn.utils.clip_grad_norm_(model.parameters(), clip)\n",
    "\n",
    "\t\t\t# update\n",
    "\t\t\toptimizer.step()\n",
    "\n",
    "\t\t\t# compare\n",
    "\t\t\tpredicted = (F.sigmoid(y_pred) > threshold).int()\n",
    "\n",
    "\t\t\tn = images.shape[0]\n",
    "\t\t\ty_true[start:start+n] = labels.cpu().numpy()\n",
    "\t\t\ty_preds[start:start+n] = predicted.cpu().numpy()\n",
    "\t\t\tstart = start + n\n",
    "\n",
    "\t\t\ttrain_loss += loss.item()\n",
    "\n",
    "\t\ttrain_losses.append(train_loss / len(train_dataloader))\n",
    "\t\tsk_train_accs.append(accuracy_score(y_true, y_preds))\n",
    "\t\tsk_train_precisions.append(precision_score(y_true, y_preds, average=\"macro\", zero_division=0.0))\n",
    "\t\tsk_train_recalls.append(recall_score(y_true, y_preds, average=\"macro\", zero_division=0.0))\n",
    "\t\tsk_train_f1_scores.append(f1_score(y_true, y_preds, average=\"macro\", zero_division=0.0))\n",
    "\t\tprint(\"Epoch {:d}, Train Loss: {:.9f}, Train Accuracy: {:.7f}%\".format(epoch+1, \n",
    "\t\t\t\t\t\t\t\t\t\t\t\t\t\t\t\t\t\t\ttrain_losses[-1], \n",
    "\t\t\t\t\t\t\t\t\t\t\t\t\t\t\t\t\t\t\taccuracy_score(y_true, y_preds)*100), end=\"\")\n",
    "\t\t\n",
    "\t\t# initialize the hidden state\n",
    "\t\tval_hidden = model.lstm_model.init_hidden(batch_size=BATCH_SIZE)\n",
    "\n",
    "\t\tstart = 0 # index\n",
    "\t\ty_true = np.zeros((val_data.shape[0], n_classes))\n",
    "\t\ty_preds = np.zeros((val_data.shape[0], n_classes))\n",
    "\t\tmodel.eval()\n",
    "\t\tfor (_, images, captions, labels) in val_dataloader:\n",
    "\n",
    "\t\t\t# creating new variables for the hidden state, otherwise\n",
    "\t\t\t# we'd backprop through the entire training history\n",
    "\t\t\tval_hidden = tuple([each.data for each in val_hidden])\n",
    "\t\t\t\n",
    "\t\t\tif torch.cuda.is_available():\n",
    "\t\t\t\timages = images.to('cuda')\n",
    "\t\t\t\tcaptions = captions.to('cuda')\n",
    "\t\t\t\tlabels = labels.to('cuda')\n",
    "\t\t\t\n",
    "\t\t\toutputs, _ = model(images, captions, val_hidden)\n",
    "\t\t\tpredicted = (F.sigmoid(outputs) > threshold).int()\n",
    "\n",
    "\t\t\tn = images.shape[0]\n",
    "\t\t\ty_true[start:start+n] = labels.cpu().numpy()\n",
    "\t\t\ty_preds[start:start+n] = predicted.cpu().numpy()\n",
    "\t\t\tstart = start + n\n",
    "\t\t\n",
    "\t\tsk_val_accs.append(accuracy_score(y_true, y_preds))\n",
    "\t\tsk_val_precisions.append(precision_score(y_true, y_preds, average=\"macro\", zero_division=0.0))\n",
    "\t\tsk_val_recalls.append(recall_score(y_true, y_preds, average=\"macro\", zero_division=0.0))\n",
    "\t\tsk_val_f1_scores.append(f1_score(y_true, y_preds, average=\"macro\", zero_division=0.0))\n",
    "\t\tprint(\", Val Accuracy: {:.7f}%\".format(accuracy_score(y_true, y_preds)*100))\n",
    "\n",
    "\tprint(sk_train_accs)\n",
    "\tprint(sk_train_precisions)\n",
    "\tprint(sk_train_recalls)\n",
    "\tprint(sk_train_f1_scores)\n",
    "\tprint(sk_val_accs)\n",
    "\tprint(sk_val_precisions)\n",
    "\tprint(sk_val_recalls)\n",
    "\tprint(sk_val_f1_scores)\n",
    "\n",
    "\t# create a dictionary\n",
    "\tresults = {\n",
    "\t\t'train_accs': sk_train_accs,\n",
    "\t\t'train_precisions': sk_train_precisions,\n",
    "\t\t'train_recalls': sk_train_recalls,\n",
    "\t\t'train_f1_scores': sk_train_f1_scores,\n",
    "\t\t'val_accs': sk_val_accs,\n",
    "\t\t'val_precisions': sk_val_precisions,\n",
    "\t\t'val_recalls': sk_val_recalls,\n",
    "\t\t'val_f1_scores': sk_val_f1_scores,\n",
    "\t}\n",
    "\n",
    "\treturn (model, results)"
   ]
  },
  {
   "cell_type": "markdown",
   "metadata": {},
   "source": [
    "## Hyperparameter Analysis (Threshold)"
   ]
  },
  {
   "cell_type": "code",
   "execution_count": 12,
   "metadata": {},
   "outputs": [
    {
     "name": "stdout",
     "output_type": "stream",
     "text": [
      "0.3\n",
      "combined_threshold_0_3\n",
      "using GPU\n"
     ]
    },
    {
     "name": "stderr",
     "output_type": "stream",
     "text": [
      "Epoch 1 Training: 100%|██████████| 797/797 [00:52<00:00, 15.19it/s]\n"
     ]
    },
    {
     "name": "stdout",
     "output_type": "stream",
     "text": [
      "Epoch 1, Train Loss: 0.762590443, Train Accuracy: 0.5102041%, Val Accuracy: 1.0989011%\n"
     ]
    },
    {
     "name": "stderr",
     "output_type": "stream",
     "text": [
      "Epoch 2 Training: 100%|██████████| 797/797 [00:51<00:00, 15.47it/s]\n"
     ]
    },
    {
     "name": "stdout",
     "output_type": "stream",
     "text": [
      "Epoch 2, Train Loss: 0.665465513, Train Accuracy: 1.6483516%, Val Accuracy: 5.1491366%\n"
     ]
    },
    {
     "name": "stderr",
     "output_type": "stream",
     "text": [
      "Epoch 3 Training: 100%|██████████| 797/797 [00:51<00:00, 15.37it/s]\n"
     ]
    },
    {
     "name": "stdout",
     "output_type": "stream",
     "text": [
      "Epoch 3, Train Loss: 0.612357239, Train Accuracy: 2.6138148%, Val Accuracy: 5.9968603%\n"
     ]
    },
    {
     "name": "stderr",
     "output_type": "stream",
     "text": [
      "Epoch 4 Training: 100%|██████████| 797/797 [00:52<00:00, 15.24it/s]\n"
     ]
    },
    {
     "name": "stdout",
     "output_type": "stream",
     "text": [
      "Epoch 4, Train Loss: 0.563859603, Train Accuracy: 3.1868132%, Val Accuracy: 5.4317111%\n"
     ]
    },
    {
     "name": "stderr",
     "output_type": "stream",
     "text": [
      "Epoch 5 Training: 100%|██████████| 797/797 [00:52<00:00, 15.08it/s]\n"
     ]
    },
    {
     "name": "stdout",
     "output_type": "stream",
     "text": [
      "Epoch 5, Train Loss: 0.528460273, Train Accuracy: 4.6546311%, Val Accuracy: 6.9701727%\n"
     ]
    },
    {
     "name": "stderr",
     "output_type": "stream",
     "text": [
      "Epoch 6 Training: 100%|██████████| 797/797 [00:52<00:00, 15.23it/s]\n"
     ]
    },
    {
     "name": "stdout",
     "output_type": "stream",
     "text": [
      "Epoch 6, Train Loss: 0.504351830, Train Accuracy: 5.5729984%, Val Accuracy: 7.3469388%\n"
     ]
    },
    {
     "name": "stderr",
     "output_type": "stream",
     "text": [
      "Epoch 7 Training: 100%|██████████| 797/797 [00:51<00:00, 15.42it/s]\n"
     ]
    },
    {
     "name": "stdout",
     "output_type": "stream",
     "text": [
      "Epoch 7, Train Loss: 0.468549219, Train Accuracy: 6.6248038%, Val Accuracy: 11.0204082%\n"
     ]
    },
    {
     "name": "stderr",
     "output_type": "stream",
     "text": [
      "Epoch 8 Training: 100%|██████████| 797/797 [00:51<00:00, 15.43it/s]\n"
     ]
    },
    {
     "name": "stdout",
     "output_type": "stream",
     "text": [
      "Epoch 8, Train Loss: 0.431686352, Train Accuracy: 8.2339089%, Val Accuracy: 9.9529042%\n"
     ]
    },
    {
     "name": "stderr",
     "output_type": "stream",
     "text": [
      "Epoch 9 Training: 100%|██████████| 797/797 [00:51<00:00, 15.36it/s]\n"
     ]
    },
    {
     "name": "stdout",
     "output_type": "stream",
     "text": [
      "Epoch 9, Train Loss: 0.409350564, Train Accuracy: 9.1051805%, Val Accuracy: 12.4960754%\n"
     ]
    },
    {
     "name": "stderr",
     "output_type": "stream",
     "text": [
      "Epoch 10 Training: 100%|██████████| 797/797 [00:52<00:00, 15.14it/s]\n"
     ]
    },
    {
     "name": "stdout",
     "output_type": "stream",
     "text": [
      "Epoch 10, Train Loss: 0.384128870, Train Accuracy: 10.5416013%, Val Accuracy: 12.7472527%\n"
     ]
    },
    {
     "name": "stderr",
     "output_type": "stream",
     "text": [
      "Epoch 11 Training: 100%|██████████| 797/797 [00:51<00:00, 15.44it/s]\n"
     ]
    },
    {
     "name": "stdout",
     "output_type": "stream",
     "text": [
      "Epoch 11, Train Loss: 0.356005554, Train Accuracy: 11.5541601%, Val Accuracy: 19.3720565%\n"
     ]
    },
    {
     "name": "stderr",
     "output_type": "stream",
     "text": [
      "Epoch 12 Training: 100%|██████████| 797/797 [00:51<00:00, 15.40it/s]\n"
     ]
    },
    {
     "name": "stdout",
     "output_type": "stream",
     "text": [
      "Epoch 12, Train Loss: 0.337151269, Train Accuracy: 14.0031397%, Val Accuracy: 14.8508634%\n"
     ]
    },
    {
     "name": "stderr",
     "output_type": "stream",
     "text": [
      "Epoch 13 Training: 100%|██████████| 797/797 [00:51<00:00, 15.41it/s]\n"
     ]
    },
    {
     "name": "stdout",
     "output_type": "stream",
     "text": [
      "Epoch 13, Train Loss: 0.317011999, Train Accuracy: 15.4945055%, Val Accuracy: 16.1067504%\n"
     ]
    },
    {
     "name": "stderr",
     "output_type": "stream",
     "text": [
      "Epoch 14 Training: 100%|██████████| 797/797 [00:52<00:00, 15.22it/s]\n"
     ]
    },
    {
     "name": "stdout",
     "output_type": "stream",
     "text": [
      "Epoch 14, Train Loss: 0.293407877, Train Accuracy: 17.5353218%, Val Accuracy: 15.1334380%\n"
     ]
    },
    {
     "name": "stderr",
     "output_type": "stream",
     "text": [
      "Epoch 15 Training: 100%|██████████| 797/797 [00:52<00:00, 15.31it/s]\n"
     ]
    },
    {
     "name": "stdout",
     "output_type": "stream",
     "text": [
      "Epoch 15, Train Loss: 0.277133458, Train Accuracy: 18.6577708%, Val Accuracy: 20.5965463%\n"
     ]
    },
    {
     "name": "stderr",
     "output_type": "stream",
     "text": [
      "Epoch 16 Training: 100%|██████████| 797/797 [00:52<00:00, 15.24it/s]\n"
     ]
    },
    {
     "name": "stdout",
     "output_type": "stream",
     "text": [
      "Epoch 16, Train Loss: 0.258942265, Train Accuracy: 21.0282575%, Val Accuracy: 21.0361068%\n"
     ]
    },
    {
     "name": "stderr",
     "output_type": "stream",
     "text": [
      "Epoch 17 Training: 100%|██████████| 797/797 [00:51<00:00, 15.55it/s]\n"
     ]
    },
    {
     "name": "stdout",
     "output_type": "stream",
     "text": [
      "Epoch 17, Train Loss: 0.247745741, Train Accuracy: 22.5196232%, Val Accuracy: 21.3814757%\n"
     ]
    },
    {
     "name": "stderr",
     "output_type": "stream",
     "text": [
      "Epoch 18 Training: 100%|██████████| 797/797 [00:52<00:00, 15.26it/s]\n"
     ]
    },
    {
     "name": "stdout",
     "output_type": "stream",
     "text": [
      "Epoch 18, Train Loss: 0.237187081, Train Accuracy: 24.3328100%, Val Accuracy: 24.4270016%\n"
     ]
    },
    {
     "name": "stderr",
     "output_type": "stream",
     "text": [
      "Epoch 19 Training: 100%|██████████| 797/797 [00:51<00:00, 15.36it/s]\n"
     ]
    },
    {
     "name": "stdout",
     "output_type": "stream",
     "text": [
      "Epoch 19, Train Loss: 0.225900300, Train Accuracy: 26.5777080%, Val Accuracy: 23.0455259%\n"
     ]
    },
    {
     "name": "stderr",
     "output_type": "stream",
     "text": [
      "Epoch 20 Training: 100%|██████████| 797/797 [00:51<00:00, 15.45it/s]\n"
     ]
    },
    {
     "name": "stdout",
     "output_type": "stream",
     "text": [
      "Epoch 20, Train Loss: 0.210164530, Train Accuracy: 28.7912088%, Val Accuracy: 24.2700157%\n"
     ]
    },
    {
     "name": "stderr",
     "output_type": "stream",
     "text": [
      "Epoch 21 Training: 100%|██████████| 797/797 [00:51<00:00, 15.42it/s]\n"
     ]
    },
    {
     "name": "stdout",
     "output_type": "stream",
     "text": [
      "Epoch 21, Train Loss: 0.198385362, Train Accuracy: 30.5965463%, Val Accuracy: 26.0596546%\n"
     ]
    },
    {
     "name": "stderr",
     "output_type": "stream",
     "text": [
      "Epoch 22 Training: 100%|██████████| 797/797 [00:51<00:00, 15.37it/s]\n"
     ]
    },
    {
     "name": "stdout",
     "output_type": "stream",
     "text": [
      "Epoch 22, Train Loss: 0.196681657, Train Accuracy: 30.8320251%, Val Accuracy: 24.3014129%\n"
     ]
    },
    {
     "name": "stderr",
     "output_type": "stream",
     "text": [
      "Epoch 23 Training: 100%|██████████| 797/797 [00:52<00:00, 15.14it/s]\n"
     ]
    },
    {
     "name": "stdout",
     "output_type": "stream",
     "text": [
      "Epoch 23, Train Loss: 0.191151172, Train Accuracy: 31.8210361%, Val Accuracy: 25.3689168%\n"
     ]
    },
    {
     "name": "stderr",
     "output_type": "stream",
     "text": [
      "Epoch 24 Training: 100%|██████████| 797/797 [00:51<00:00, 15.60it/s]\n"
     ]
    },
    {
     "name": "stdout",
     "output_type": "stream",
     "text": [
      "Epoch 24, Train Loss: 0.178000462, Train Accuracy: 34.6232339%, Val Accuracy: 25.3689168%\n"
     ]
    },
    {
     "name": "stderr",
     "output_type": "stream",
     "text": [
      "Epoch 25 Training: 100%|██████████| 797/797 [00:51<00:00, 15.43it/s]\n"
     ]
    },
    {
     "name": "stdout",
     "output_type": "stream",
     "text": [
      "Epoch 25, Train Loss: 0.169086553, Train Accuracy: 36.2087912%, Val Accuracy: 28.6970173%\n"
     ]
    },
    {
     "name": "stderr",
     "output_type": "stream",
     "text": [
      "Epoch 26 Training: 100%|██████████| 797/797 [00:51<00:00, 15.40it/s]\n"
     ]
    },
    {
     "name": "stdout",
     "output_type": "stream",
     "text": [
      "Epoch 26, Train Loss: 0.154719809, Train Accuracy: 37.8492936%, Val Accuracy: 29.9529042%\n"
     ]
    },
    {
     "name": "stderr",
     "output_type": "stream",
     "text": [
      "Epoch 27 Training: 100%|██████████| 797/797 [00:51<00:00, 15.63it/s]\n"
     ]
    },
    {
     "name": "stdout",
     "output_type": "stream",
     "text": [
      "Epoch 27, Train Loss: 0.159034033, Train Accuracy: 38.0690738%, Val Accuracy: 27.9434851%\n"
     ]
    },
    {
     "name": "stderr",
     "output_type": "stream",
     "text": [
      "Epoch 28 Training: 100%|██████████| 797/797 [00:51<00:00, 15.46it/s]\n"
     ]
    },
    {
     "name": "stdout",
     "output_type": "stream",
     "text": [
      "Epoch 28, Train Loss: 0.153755534, Train Accuracy: 39.5839874%, Val Accuracy: 28.9795918%\n"
     ]
    },
    {
     "name": "stderr",
     "output_type": "stream",
     "text": [
      "Epoch 29 Training: 100%|██████████| 797/797 [00:51<00:00, 15.56it/s]\n"
     ]
    },
    {
     "name": "stdout",
     "output_type": "stream",
     "text": [
      "Epoch 29, Train Loss: 0.143547051, Train Accuracy: 41.2480377%, Val Accuracy: 29.1365777%\n"
     ]
    },
    {
     "name": "stderr",
     "output_type": "stream",
     "text": [
      "Epoch 30 Training: 100%|██████████| 797/797 [00:52<00:00, 15.32it/s]\n"
     ]
    },
    {
     "name": "stdout",
     "output_type": "stream",
     "text": [
      "Epoch 30, Train Loss: 0.143828347, Train Accuracy: 40.8398744%, Val Accuracy: 30.5494505%\n"
     ]
    },
    {
     "name": "stderr",
     "output_type": "stream",
     "text": [
      "Epoch 31 Training: 100%|██████████| 797/797 [00:51<00:00, 15.43it/s]\n"
     ]
    },
    {
     "name": "stdout",
     "output_type": "stream",
     "text": [
      "Epoch 31, Train Loss: 0.140169951, Train Accuracy: 42.8100471%, Val Accuracy: 29.6075353%\n"
     ]
    },
    {
     "name": "stderr",
     "output_type": "stream",
     "text": [
      "Epoch 32 Training: 100%|██████████| 797/797 [00:51<00:00, 15.63it/s]\n"
     ]
    },
    {
     "name": "stdout",
     "output_type": "stream",
     "text": [
      "Epoch 32, Train Loss: 0.136501625, Train Accuracy: 43.5164835%, Val Accuracy: 30.8320251%\n"
     ]
    },
    {
     "name": "stderr",
     "output_type": "stream",
     "text": [
      "Epoch 33 Training: 100%|██████████| 797/797 [00:51<00:00, 15.51it/s]\n"
     ]
    },
    {
     "name": "stdout",
     "output_type": "stream",
     "text": [
      "Epoch 33, Train Loss: 0.126095151, Train Accuracy: 45.1569859%, Val Accuracy: 27.9434851%\n"
     ]
    },
    {
     "name": "stderr",
     "output_type": "stream",
     "text": [
      "Epoch 34 Training: 100%|██████████| 797/797 [00:51<00:00, 15.59it/s]\n"
     ]
    },
    {
     "name": "stdout",
     "output_type": "stream",
     "text": [
      "Epoch 34, Train Loss: 0.127098353, Train Accuracy: 45.8320251%, Val Accuracy: 30.9262166%\n"
     ]
    },
    {
     "name": "stderr",
     "output_type": "stream",
     "text": [
      "Epoch 35 Training: 100%|██████████| 797/797 [00:51<00:00, 15.58it/s]\n"
     ]
    },
    {
     "name": "stdout",
     "output_type": "stream",
     "text": [
      "Epoch 35, Train Loss: 0.122738197, Train Accuracy: 46.4835165%, Val Accuracy: 27.9434851%\n"
     ]
    },
    {
     "name": "stderr",
     "output_type": "stream",
     "text": [
      "Epoch 36 Training: 100%|██████████| 797/797 [00:51<00:00, 15.36it/s]\n"
     ]
    },
    {
     "name": "stdout",
     "output_type": "stream",
     "text": [
      "Epoch 36, Train Loss: 0.121213069, Train Accuracy: 46.7503925%, Val Accuracy: 32.4018838%\n"
     ]
    },
    {
     "name": "stderr",
     "output_type": "stream",
     "text": [
      "Epoch 37 Training: 100%|██████████| 797/797 [00:51<00:00, 15.55it/s]\n"
     ]
    },
    {
     "name": "stdout",
     "output_type": "stream",
     "text": [
      "Epoch 37, Train Loss: 0.118384938, Train Accuracy: 48.7676609%, Val Accuracy: 30.7692308%\n"
     ]
    },
    {
     "name": "stderr",
     "output_type": "stream",
     "text": [
      "Epoch 38 Training: 100%|██████████| 797/797 [00:50<00:00, 15.64it/s]\n"
     ]
    },
    {
     "name": "stdout",
     "output_type": "stream",
     "text": [
      "Epoch 38, Train Loss: 0.117489601, Train Accuracy: 48.6891680%, Val Accuracy: 32.9042386%\n"
     ]
    },
    {
     "name": "stderr",
     "output_type": "stream",
     "text": [
      "Epoch 39 Training: 100%|██████████| 797/797 [00:51<00:00, 15.56it/s]\n"
     ]
    },
    {
     "name": "stdout",
     "output_type": "stream",
     "text": [
      "Epoch 39, Train Loss: 0.114527424, Train Accuracy: 48.5557300%, Val Accuracy: 30.7064364%\n"
     ]
    },
    {
     "name": "stderr",
     "output_type": "stream",
     "text": [
      "Epoch 40 Training: 100%|██████████| 797/797 [00:51<00:00, 15.53it/s]\n"
     ]
    },
    {
     "name": "stdout",
     "output_type": "stream",
     "text": [
      "Epoch 40, Train Loss: 0.106306516, Train Accuracy: 50.3610675%, Val Accuracy: 30.5494505%\n"
     ]
    },
    {
     "name": "stderr",
     "output_type": "stream",
     "text": [
      "Epoch 41 Training: 100%|██████████| 797/797 [00:51<00:00, 15.39it/s]\n"
     ]
    },
    {
     "name": "stdout",
     "output_type": "stream",
     "text": [
      "Epoch 41, Train Loss: 0.106695919, Train Accuracy: 51.4050235%, Val Accuracy: 32.6844584%\n"
     ]
    },
    {
     "name": "stderr",
     "output_type": "stream",
     "text": [
      "Epoch 42 Training: 100%|██████████| 797/797 [00:51<00:00, 15.44it/s]\n"
     ]
    },
    {
     "name": "stdout",
     "output_type": "stream",
     "text": [
      "Epoch 42, Train Loss: 0.103612317, Train Accuracy: 52.3861852%, Val Accuracy: 29.5447410%\n"
     ]
    },
    {
     "name": "stderr",
     "output_type": "stream",
     "text": [
      "Epoch 43 Training: 100%|██████████| 797/797 [00:52<00:00, 15.29it/s]\n"
     ]
    },
    {
     "name": "stdout",
     "output_type": "stream",
     "text": [
      "Epoch 43, Train Loss: 0.103989206, Train Accuracy: 51.8445840%, Val Accuracy: 32.8100471%\n"
     ]
    },
    {
     "name": "stderr",
     "output_type": "stream",
     "text": [
      "Epoch 44 Training: 100%|██████████| 797/797 [00:52<00:00, 15.25it/s]\n"
     ]
    },
    {
     "name": "stdout",
     "output_type": "stream",
     "text": [
      "Epoch 44, Train Loss: 0.101038839, Train Accuracy: 52.8885400%, Val Accuracy: 32.3390895%\n"
     ]
    },
    {
     "name": "stderr",
     "output_type": "stream",
     "text": [
      "Epoch 45 Training: 100%|██████████| 797/797 [00:51<00:00, 15.43it/s]\n"
     ]
    },
    {
     "name": "stdout",
     "output_type": "stream",
     "text": [
      "Epoch 45, Train Loss: 0.105711908, Train Accuracy: 52.4254317%, Val Accuracy: 31.5855573%\n"
     ]
    },
    {
     "name": "stderr",
     "output_type": "stream",
     "text": [
      "Epoch 46 Training: 100%|██████████| 797/797 [00:51<00:00, 15.44it/s]\n"
     ]
    },
    {
     "name": "stdout",
     "output_type": "stream",
     "text": [
      "Epoch 46, Train Loss: 0.099014744, Train Accuracy: 53.6734694%, Val Accuracy: 29.3563579%\n"
     ]
    },
    {
     "name": "stderr",
     "output_type": "stream",
     "text": [
      "Epoch 47 Training: 100%|██████████| 797/797 [00:52<00:00, 15.30it/s]\n"
     ]
    },
    {
     "name": "stdout",
     "output_type": "stream",
     "text": [
      "Epoch 47, Train Loss: 0.088423006, Train Accuracy: 55.6671900%, Val Accuracy: 32.7158556%\n"
     ]
    },
    {
     "name": "stderr",
     "output_type": "stream",
     "text": [
      "Epoch 48 Training: 100%|██████████| 797/797 [00:51<00:00, 15.34it/s]\n"
     ]
    },
    {
     "name": "stdout",
     "output_type": "stream",
     "text": [
      "Epoch 48, Train Loss: 0.094316657, Train Accuracy: 55.8084772%, Val Accuracy: 32.5274725%\n"
     ]
    },
    {
     "name": "stderr",
     "output_type": "stream",
     "text": [
      "Epoch 49 Training: 100%|██████████| 797/797 [00:50<00:00, 15.68it/s]\n"
     ]
    },
    {
     "name": "stdout",
     "output_type": "stream",
     "text": [
      "Epoch 49, Train Loss: 0.095235070, Train Accuracy: 55.1255887%, Val Accuracy: 31.3657771%\n"
     ]
    },
    {
     "name": "stderr",
     "output_type": "stream",
     "text": [
      "Epoch 50 Training: 100%|██████████| 797/797 [00:51<00:00, 15.49it/s]\n"
     ]
    },
    {
     "name": "stdout",
     "output_type": "stream",
     "text": [
      "Epoch 50, Train Loss: 0.095393585, Train Accuracy: 55.1805338%, Val Accuracy: 29.6703297%\n",
      "[0.00510204081632653, 0.016483516483516484, 0.026138147566718995, 0.031868131868131866, 0.046546310832025116, 0.05572998430141287, 0.06624803767660911, 0.08233908948194663, 0.09105180533751962, 0.1054160125588697, 0.11554160125588697, 0.1400313971742543, 0.15494505494505495, 0.17535321821036107, 0.18657770800627943, 0.21028257456828886, 0.22519623233908947, 0.24332810047095763, 0.2657770800627943, 0.2879120879120879, 0.30596546310832023, 0.30832025117739403, 0.31821036106750394, 0.3462323390894819, 0.3620879120879121, 0.3784929356357928, 0.38069073783359497, 0.39583987441130297, 0.41248037676609106, 0.40839874411302984, 0.42810047095761383, 0.4351648351648352, 0.4515698587127159, 0.45832025117739406, 0.46483516483516485, 0.4675039246467818, 0.4876766091051805, 0.4868916797488226, 0.48555729984301416, 0.5036106750392465, 0.5140502354788069, 0.523861852433281, 0.5184458398744113, 0.5288854003139717, 0.52425431711146, 0.536734693877551, 0.5566718995290424, 0.5580847723704867, 0.5512558869701727, 0.5518053375196232]\n",
      "[0.19607662892844036, 0.23983990863186716, 0.2592329964086493, 0.28030842467231, 0.29834825892578964, 0.31442043304187584, 0.32995687048448635, 0.35511253241093604, 0.37213294088528925, 0.38967800399232005, 0.4129308273808659, 0.4277483005703313, 0.45143600041563287, 0.46948215568257207, 0.48692888660036254, 0.5075923202108503, 0.5244588070905292, 0.5376012670528878, 0.5522926710569025, 0.5715903398323446, 0.5853542086076313, 0.5913747160569338, 0.605297531928979, 0.6215738365551109, 0.6322178775759092, 0.6578143849300382, 0.6535365178906054, 0.6605656389653857, 0.6723609788076853, 0.6768836908806438, 0.6845631689854799, 0.6901484445343108, 0.7067295825395273, 0.7069535394721814, 0.715051570614117, 0.7132111366898831, 0.7211086851528594, 0.7236322963907292, 0.7354535601859543, 0.743975997707598, 0.748595380319121, 0.7529356503828963, 0.7525284769280767, 0.7572687472143977, 0.7514427375991893, 0.7617530270056372, 0.7732407191558953, 0.7755648663797441, 0.7661016779468899, 0.765275012231812]\n",
      "[0.8523673189584197, 0.8500208890216304, 0.8581215089407725, 0.8690900557971876, 0.8746444681392515, 0.8775677301849129, 0.8825005875827717, 0.8903158878178739, 0.892776782736391, 0.8969785234885311, 0.900409501502974, 0.9048569258350314, 0.9070222851231545, 0.9106910059794923, 0.9141628900696434, 0.9153843261544433, 0.9162838330040745, 0.9194908368569282, 0.9203426233798642, 0.9219964246547294, 0.9237178570267618, 0.922641414417667, 0.9246017012642085, 0.9264615106416998, 0.9267807292986129, 0.9289539664177683, 0.9280907737582652, 0.929268596681933, 0.9309571437994303, 0.9290616586788666, 0.93015642788543, 0.9308790936875827, 0.9322942698494233, 0.93179574957823, 0.9320401346149206, 0.9323865037161854, 0.9316842155114993, 0.9319138258888596, 0.932352544604208, 0.9334552366492259, 0.9331068255591719, 0.9336903447727161, 0.9333680288672611, 0.9334932451412187, 0.9324709744448412, 0.9339181244027288, 0.9360674732827706, 0.9344866369982148, 0.9342540917527696, 0.9342045792706647]\n",
      "[0.3007674247940353, 0.35502052405673323, 0.3793893995245541, 0.40440900042451194, 0.425042694845758, 0.4417792515976354, 0.45982263725913297, 0.48643308115060124, 0.5051902791385403, 0.5235870999524137, 0.5470743834958128, 0.5622022760752606, 0.5854076823346032, 0.6025357906611856, 0.6193921352052655, 0.6384302354763856, 0.6534584205314197, 0.66511335480293, 0.6771180815792449, 0.694169328663665, 0.7053103080483293, 0.7100569354741388, 0.7215848571967355, 0.7344208275487323, 0.7424099990790173, 0.7621686921193155, 0.7588720928135069, 0.7646030838757086, 0.7733943973880898, 0.7764460295628004, 0.7821995668518792, 0.7855417735204421, 0.7977735600541636, 0.7981526650549495, 0.8039066542943716, 0.8032787393635307, 0.8081142680366553, 0.8101726420126005, 0.8174919075211662, 0.8234708099975933, 0.8266313947346479, 0.8298908039490079, 0.8290523437880533, 0.8325261423704763, 0.828684203151236, 0.8357878927431982, 0.8439207349451248, 0.8446032766772967, 0.8388344898065575, 0.8383360290199008]\n",
      "[0.01098901098901099, 0.051491365777080064, 0.05996860282574568, 0.054317111459968606, 0.06970172684458399, 0.07346938775510205, 0.11020408163265306, 0.09952904238618525, 0.1249607535321821, 0.12747252747252746, 0.19372056514913658, 0.14850863422291993, 0.16106750392464678, 0.15133437990580847, 0.20596546310832026, 0.21036106750392464, 0.21381475667189953, 0.24427001569858714, 0.2304552590266876, 0.24270015698587127, 0.260596546310832, 0.24301412872841444, 0.2536891679748823, 0.2536891679748823, 0.2869701726844584, 0.2995290423861852, 0.2794348508634223, 0.2897959183673469, 0.2913657770800628, 0.3054945054945055, 0.2960753532182104, 0.30832025117739403, 0.2794348508634223, 0.3092621664050236, 0.2794348508634223, 0.3240188383045526, 0.3076923076923077, 0.32904238618524334, 0.30706436420722133, 0.3054945054945055, 0.32684458398744115, 0.295447409733124, 0.3281004709576138, 0.32339089481946626, 0.31585557299843015, 0.29356357927786497, 0.3271585557299843, 0.3252747252747253, 0.31365777080062796, 0.2967032967032967]\n",
      "[0.28737676125273426, 0.32106406796861664, 0.35810703683788975, 0.31527045583712787, 0.3169798658890761, 0.33631825363557316, 0.34519669341865095, 0.39386021077311123, 0.3991971448605409, 0.3828459211863236, 0.4366359179244948, 0.4493604286729469, 0.41597545845657696, 0.45346531318510397, 0.4782109970582173, 0.470989357076994, 0.477179091044208, 0.5075681663628572, 0.49415933235226805, 0.5113833325273314, 0.5202525740652998, 0.5043881048184853, 0.5455582662487051, 0.5496897898756608, 0.5789373220167545, 0.5788312684879037, 0.5418658746913746, 0.5532191945848034, 0.5717125964589324, 0.5675749837037122, 0.568116710520868, 0.5573193034106882, 0.5804156227528384, 0.6064587851745326, 0.5771270602451173, 0.6031862514769158, 0.5786239970471503, 0.5986228144949328, 0.5803542015976425, 0.5963167809482934, 0.6165191340500971, 0.5769531418782803, 0.5948712605715678, 0.6077516740702823, 0.581208195391335, 0.5945176471178906, 0.6185463645010225, 0.6034264630653395, 0.5902494452962382, 0.5950438963042303]\n",
      "[0.8695869200209687, 0.8515523043305812, 0.8539133162702343, 0.8640811049626993, 0.8572934877341748, 0.8524145435633169, 0.8426987724791342, 0.8249901960497081, 0.8191018555490316, 0.825651660670859, 0.7945467265532022, 0.7974436159470409, 0.8025975229859084, 0.7982317072484328, 0.7746175917327269, 0.7796498498371678, 0.7726814968997002, 0.7597179745534457, 0.7715609819393842, 0.7646502416206271, 0.7474405123264356, 0.7622702272506098, 0.7386339652854118, 0.7502478392671603, 0.7361859252614785, 0.7338956139672198, 0.7449161924402891, 0.7342195295015416, 0.7272749472516962, 0.7257382753516753, 0.7274539058572119, 0.720181145764695, 0.7216394440194123, 0.7104357298543011, 0.7214162778674934, 0.7076935367250732, 0.7107608329209957, 0.7007325133035353, 0.7096242892884961, 0.7092988950849403, 0.6951716990495566, 0.7163192893129825, 0.7011422903783572, 0.6984943874688392, 0.7116189746154655, 0.7085020920506524, 0.699552733430802, 0.7002035555729534, 0.7077649099385503, 0.7027279804752204]\n",
      "[0.40068153995774974, 0.43301459992361124, 0.4677182295008521, 0.4331144515835301, 0.44017003664632814, 0.4558064870113377, 0.4700399228515934, 0.5057869494590794, 0.5136849476240176, 0.5040425427903533, 0.5371698850597909, 0.5464853458513008, 0.5286603056718521, 0.551585892040868, 0.5775745331413977, 0.5671214399342829, 0.5714536477544632, 0.5950784257389017, 0.5874853373757019, 0.5930141739396523, 0.6023024172140179, 0.5854970813635887, 0.6164929390596897, 0.6210575827081519, 0.6352543134502107, 0.6389881075184253, 0.6145040431030584, 0.6206242649793685, 0.6313291773471954, 0.6273381471124477, 0.6278667196353124, 0.6181986928902491, 0.6341408274612315, 0.6470529929592818, 0.6327875453669222, 0.6446657876505942, 0.6327653911516481, 0.6401694318101564, 0.6318274773525251, 0.6403161064240422, 0.6476484793975777, 0.6311295494603097, 0.637678452572839, 0.6433743133136883, 0.632755642010587, 0.6395899566756003, 0.6505060881169291, 0.641620427274426, 0.6362499537008218, 0.63712716683454]\n",
      "0.5\n",
      "combined_threshold_0_5\n",
      "using GPU\n"
     ]
    },
    {
     "name": "stderr",
     "output_type": "stream",
     "text": [
      "Epoch 1 Training: 100%|██████████| 797/797 [00:51<00:00, 15.38it/s]\n"
     ]
    },
    {
     "name": "stdout",
     "output_type": "stream",
     "text": [
      "Epoch 1, Train Loss: 0.752748343, Train Accuracy: 4.5839874%, Val Accuracy: 10.4866562%\n"
     ]
    },
    {
     "name": "stderr",
     "output_type": "stream",
     "text": [
      "Epoch 2 Training: 100%|██████████| 797/797 [00:51<00:00, 15.56it/s]\n"
     ]
    },
    {
     "name": "stdout",
     "output_type": "stream",
     "text": [
      "Epoch 2, Train Loss: 0.673051869, Train Accuracy: 7.4646782%, Val Accuracy: 11.8053375%\n"
     ]
    },
    {
     "name": "stderr",
     "output_type": "stream",
     "text": [
      "Epoch 3 Training: 100%|██████████| 797/797 [00:51<00:00, 15.36it/s]\n"
     ]
    },
    {
     "name": "stdout",
     "output_type": "stream",
     "text": [
      "Epoch 3, Train Loss: 0.648950344, Train Accuracy: 8.5478807%, Val Accuracy: 13.8147567%\n"
     ]
    },
    {
     "name": "stderr",
     "output_type": "stream",
     "text": [
      "Epoch 4 Training: 100%|██████████| 797/797 [00:51<00:00, 15.47it/s]\n"
     ]
    },
    {
     "name": "stdout",
     "output_type": "stream",
     "text": [
      "Epoch 4, Train Loss: 0.629886998, Train Accuracy: 9.6153846%, Val Accuracy: 15.4788069%\n"
     ]
    },
    {
     "name": "stderr",
     "output_type": "stream",
     "text": [
      "Epoch 5 Training: 100%|██████████| 797/797 [00:52<00:00, 15.28it/s]\n"
     ]
    },
    {
     "name": "stdout",
     "output_type": "stream",
     "text": [
      "Epoch 5, Train Loss: 0.616933931, Train Accuracy: 9.3406593%, Val Accuracy: 13.8461538%\n"
     ]
    },
    {
     "name": "stderr",
     "output_type": "stream",
     "text": [
      "Epoch 6 Training: 100%|██████████| 797/797 [00:51<00:00, 15.48it/s]\n"
     ]
    },
    {
     "name": "stdout",
     "output_type": "stream",
     "text": [
      "Epoch 6, Train Loss: 0.590586758, Train Accuracy: 10.9733124%, Val Accuracy: 16.9858713%\n"
     ]
    },
    {
     "name": "stderr",
     "output_type": "stream",
     "text": [
      "Epoch 7 Training: 100%|██████████| 797/797 [00:51<00:00, 15.47it/s]\n"
     ]
    },
    {
     "name": "stdout",
     "output_type": "stream",
     "text": [
      "Epoch 7, Train Loss: 0.559604302, Train Accuracy: 12.9827316%, Val Accuracy: 18.4615385%\n"
     ]
    },
    {
     "name": "stderr",
     "output_type": "stream",
     "text": [
      "Epoch 8 Training: 100%|██████████| 797/797 [00:52<00:00, 15.30it/s]\n"
     ]
    },
    {
     "name": "stdout",
     "output_type": "stream",
     "text": [
      "Epoch 8, Train Loss: 0.532602197, Train Accuracy: 14.3406593%, Val Accuracy: 18.3359498%\n"
     ]
    },
    {
     "name": "stderr",
     "output_type": "stream",
     "text": [
      "Epoch 9 Training: 100%|██████████| 797/797 [00:51<00:00, 15.50it/s]\n"
     ]
    },
    {
     "name": "stdout",
     "output_type": "stream",
     "text": [
      "Epoch 9, Train Loss: 0.523856465, Train Accuracy: 14.6860283%, Val Accuracy: 22.0094192%\n"
     ]
    },
    {
     "name": "stderr",
     "output_type": "stream",
     "text": [
      "Epoch 10 Training: 100%|██████████| 797/797 [00:51<00:00, 15.43it/s]\n"
     ]
    },
    {
     "name": "stdout",
     "output_type": "stream",
     "text": [
      "Epoch 10, Train Loss: 0.497331403, Train Accuracy: 16.2951334%, Val Accuracy: 21.7896389%\n"
     ]
    },
    {
     "name": "stderr",
     "output_type": "stream",
     "text": [
      "Epoch 11 Training: 100%|██████████| 797/797 [00:51<00:00, 15.39it/s]\n"
     ]
    },
    {
     "name": "stdout",
     "output_type": "stream",
     "text": [
      "Epoch 11, Train Loss: 0.475027622, Train Accuracy: 17.5745683%, Val Accuracy: 19.4662480%\n"
     ]
    },
    {
     "name": "stderr",
     "output_type": "stream",
     "text": [
      "Epoch 12 Training: 100%|██████████| 797/797 [00:51<00:00, 15.38it/s]\n"
     ]
    },
    {
     "name": "stdout",
     "output_type": "stream",
     "text": [
      "Epoch 12, Train Loss: 0.452402813, Train Accuracy: 18.7990581%, Val Accuracy: 25.3689168%\n"
     ]
    },
    {
     "name": "stderr",
     "output_type": "stream",
     "text": [
      "Epoch 13 Training: 100%|██████████| 797/797 [00:51<00:00, 15.51it/s]\n"
     ]
    },
    {
     "name": "stdout",
     "output_type": "stream",
     "text": [
      "Epoch 13, Train Loss: 0.430187517, Train Accuracy: 19.5133438%, Val Accuracy: 23.0769231%\n"
     ]
    },
    {
     "name": "stderr",
     "output_type": "stream",
     "text": [
      "Epoch 14 Training: 100%|██████████| 797/797 [00:51<00:00, 15.45it/s]\n"
     ]
    },
    {
     "name": "stdout",
     "output_type": "stream",
     "text": [
      "Epoch 14, Train Loss: 0.410788327, Train Accuracy: 20.0941915%, Val Accuracy: 22.4489796%\n"
     ]
    },
    {
     "name": "stderr",
     "output_type": "stream",
     "text": [
      "Epoch 15 Training: 100%|██████████| 797/797 [00:51<00:00, 15.39it/s]\n"
     ]
    },
    {
     "name": "stdout",
     "output_type": "stream",
     "text": [
      "Epoch 15, Train Loss: 0.378623416, Train Accuracy: 22.3155416%, Val Accuracy: 23.0769231%\n"
     ]
    },
    {
     "name": "stderr",
     "output_type": "stream",
     "text": [
      "Epoch 16 Training: 100%|██████████| 797/797 [00:51<00:00, 15.42it/s]\n"
     ]
    },
    {
     "name": "stdout",
     "output_type": "stream",
     "text": [
      "Epoch 16, Train Loss: 0.359549910, Train Accuracy: 23.7284144%, Val Accuracy: 22.0408163%\n"
     ]
    },
    {
     "name": "stderr",
     "output_type": "stream",
     "text": [
      "Epoch 17 Training: 100%|██████████| 797/797 [00:51<00:00, 15.55it/s]\n"
     ]
    },
    {
     "name": "stdout",
     "output_type": "stream",
     "text": [
      "Epoch 17, Train Loss: 0.341729841, Train Accuracy: 25.0549451%, Val Accuracy: 25.0235479%\n"
     ]
    },
    {
     "name": "stderr",
     "output_type": "stream",
     "text": [
      "Epoch 18 Training: 100%|██████████| 797/797 [00:51<00:00, 15.53it/s]\n"
     ]
    },
    {
     "name": "stdout",
     "output_type": "stream",
     "text": [
      "Epoch 18, Train Loss: 0.324621113, Train Accuracy: 26.7739403%, Val Accuracy: 23.8932496%\n"
     ]
    },
    {
     "name": "stderr",
     "output_type": "stream",
     "text": [
      "Epoch 19 Training: 100%|██████████| 797/797 [00:51<00:00, 15.38it/s]\n"
     ]
    },
    {
     "name": "stdout",
     "output_type": "stream",
     "text": [
      "Epoch 19, Train Loss: 0.300924590, Train Accuracy: 28.1554160%, Val Accuracy: 26.8445840%\n"
     ]
    },
    {
     "name": "stderr",
     "output_type": "stream",
     "text": [
      "Epoch 20 Training: 100%|██████████| 797/797 [00:51<00:00, 15.54it/s]\n"
     ]
    },
    {
     "name": "stdout",
     "output_type": "stream",
     "text": [
      "Epoch 20, Train Loss: 0.294297196, Train Accuracy: 29.4976452%, Val Accuracy: 24.3956044%\n"
     ]
    },
    {
     "name": "stderr",
     "output_type": "stream",
     "text": [
      "Epoch 21 Training: 100%|██████████| 797/797 [00:51<00:00, 15.43it/s]\n"
     ]
    },
    {
     "name": "stdout",
     "output_type": "stream",
     "text": [
      "Epoch 21, Train Loss: 0.270530748, Train Accuracy: 31.2794349%, Val Accuracy: 27.9120879%\n"
     ]
    },
    {
     "name": "stderr",
     "output_type": "stream",
     "text": [
      "Epoch 22 Training: 100%|██████████| 797/797 [00:51<00:00, 15.45it/s]\n"
     ]
    },
    {
     "name": "stdout",
     "output_type": "stream",
     "text": [
      "Epoch 22, Train Loss: 0.268136175, Train Accuracy: 32.4568289%, Val Accuracy: 27.0957614%\n"
     ]
    },
    {
     "name": "stderr",
     "output_type": "stream",
     "text": [
      "Epoch 23 Training: 100%|██████████| 797/797 [00:51<00:00, 15.55it/s]\n"
     ]
    },
    {
     "name": "stdout",
     "output_type": "stream",
     "text": [
      "Epoch 23, Train Loss: 0.241604284, Train Accuracy: 35.2040816%, Val Accuracy: 29.3563579%\n"
     ]
    },
    {
     "name": "stderr",
     "output_type": "stream",
     "text": [
      "Epoch 24 Training: 100%|██████████| 797/797 [00:51<00:00, 15.49it/s]\n"
     ]
    },
    {
     "name": "stdout",
     "output_type": "stream",
     "text": [
      "Epoch 24, Train Loss: 0.230502047, Train Accuracy: 35.9654631%, Val Accuracy: 30.4238619%\n"
     ]
    },
    {
     "name": "stderr",
     "output_type": "stream",
     "text": [
      "Epoch 25 Training: 100%|██████████| 797/797 [00:51<00:00, 15.55it/s]\n"
     ]
    },
    {
     "name": "stdout",
     "output_type": "stream",
     "text": [
      "Epoch 25, Train Loss: 0.220065143, Train Accuracy: 37.6452119%, Val Accuracy: 29.7959184%\n"
     ]
    },
    {
     "name": "stderr",
     "output_type": "stream",
     "text": [
      "Epoch 26 Training: 100%|██████████| 797/797 [00:51<00:00, 15.52it/s]\n"
     ]
    },
    {
     "name": "stdout",
     "output_type": "stream",
     "text": [
      "Epoch 26, Train Loss: 0.211525270, Train Accuracy: 38.7598116%, Val Accuracy: 28.7284144%\n"
     ]
    },
    {
     "name": "stderr",
     "output_type": "stream",
     "text": [
      "Epoch 27 Training: 100%|██████████| 797/797 [00:52<00:00, 15.21it/s]\n"
     ]
    },
    {
     "name": "stdout",
     "output_type": "stream",
     "text": [
      "Epoch 27, Train Loss: 0.207829620, Train Accuracy: 39.5839874%, Val Accuracy: 31.7111460%\n"
     ]
    },
    {
     "name": "stderr",
     "output_type": "stream",
     "text": [
      "Epoch 28 Training: 100%|██████████| 797/797 [00:51<00:00, 15.40it/s]\n"
     ]
    },
    {
     "name": "stdout",
     "output_type": "stream",
     "text": [
      "Epoch 28, Train Loss: 0.193616090, Train Accuracy: 41.6405024%, Val Accuracy: 29.1993721%\n"
     ]
    },
    {
     "name": "stderr",
     "output_type": "stream",
     "text": [
      "Epoch 29 Training: 100%|██████████| 797/797 [00:51<00:00, 15.49it/s]\n"
     ]
    },
    {
     "name": "stdout",
     "output_type": "stream",
     "text": [
      "Epoch 29, Train Loss: 0.192970514, Train Accuracy: 41.8445840%, Val Accuracy: 33.5007849%\n"
     ]
    },
    {
     "name": "stderr",
     "output_type": "stream",
     "text": [
      "Epoch 30 Training: 100%|██████████| 797/797 [00:51<00:00, 15.37it/s]\n"
     ]
    },
    {
     "name": "stdout",
     "output_type": "stream",
     "text": [
      "Epoch 30, Train Loss: 0.182049309, Train Accuracy: 43.9167975%, Val Accuracy: 32.7786499%\n"
     ]
    },
    {
     "name": "stderr",
     "output_type": "stream",
     "text": [
      "Epoch 31 Training: 100%|██████████| 797/797 [00:51<00:00, 15.47it/s]\n"
     ]
    },
    {
     "name": "stdout",
     "output_type": "stream",
     "text": [
      "Epoch 31, Train Loss: 0.171597534, Train Accuracy: 44.2700157%, Val Accuracy: 32.3390895%\n"
     ]
    },
    {
     "name": "stderr",
     "output_type": "stream",
     "text": [
      "Epoch 32 Training: 100%|██████████| 797/797 [00:51<00:00, 15.36it/s]\n"
     ]
    },
    {
     "name": "stdout",
     "output_type": "stream",
     "text": [
      "Epoch 32, Train Loss: 0.166475212, Train Accuracy: 46.4050235%, Val Accuracy: 33.0926217%\n"
     ]
    },
    {
     "name": "stderr",
     "output_type": "stream",
     "text": [
      "Epoch 33 Training: 100%|██████████| 797/797 [00:51<00:00, 15.47it/s]\n"
     ]
    },
    {
     "name": "stdout",
     "output_type": "stream",
     "text": [
      "Epoch 33, Train Loss: 0.163671744, Train Accuracy: 46.8053375%, Val Accuracy: 32.0879121%\n"
     ]
    },
    {
     "name": "stderr",
     "output_type": "stream",
     "text": [
      "Epoch 34 Training: 100%|██████████| 797/797 [00:51<00:00, 15.39it/s]\n"
     ]
    },
    {
     "name": "stdout",
     "output_type": "stream",
     "text": [
      "Epoch 34, Train Loss: 0.158119425, Train Accuracy: 47.4332810%, Val Accuracy: 32.2135008%\n"
     ]
    },
    {
     "name": "stderr",
     "output_type": "stream",
     "text": [
      "Epoch 35 Training: 100%|██████████| 797/797 [00:51<00:00, 15.56it/s]\n"
     ]
    },
    {
     "name": "stdout",
     "output_type": "stream",
     "text": [
      "Epoch 35, Train Loss: 0.153027831, Train Accuracy: 48.6970173%, Val Accuracy: 33.9403454%\n"
     ]
    },
    {
     "name": "stderr",
     "output_type": "stream",
     "text": [
      "Epoch 36 Training: 100%|██████████| 797/797 [00:51<00:00, 15.54it/s]\n"
     ]
    },
    {
     "name": "stdout",
     "output_type": "stream",
     "text": [
      "Epoch 36, Train Loss: 0.144034678, Train Accuracy: 49.9450549%, Val Accuracy: 32.4332810%\n"
     ]
    },
    {
     "name": "stderr",
     "output_type": "stream",
     "text": [
      "Epoch 37 Training: 100%|██████████| 797/797 [00:51<00:00, 15.50it/s]\n"
     ]
    },
    {
     "name": "stdout",
     "output_type": "stream",
     "text": [
      "Epoch 37, Train Loss: 0.148992860, Train Accuracy: 49.6075353%, Val Accuracy: 32.8414443%\n"
     ]
    },
    {
     "name": "stderr",
     "output_type": "stream",
     "text": [
      "Epoch 38 Training: 100%|██████████| 797/797 [00:51<00:00, 15.42it/s]\n"
     ]
    },
    {
     "name": "stdout",
     "output_type": "stream",
     "text": [
      "Epoch 38, Train Loss: 0.139680722, Train Accuracy: 50.4709576%, Val Accuracy: 33.5949765%\n"
     ]
    },
    {
     "name": "stderr",
     "output_type": "stream",
     "text": [
      "Epoch 39 Training: 100%|██████████| 797/797 [00:52<00:00, 15.21it/s]\n"
     ]
    },
    {
     "name": "stdout",
     "output_type": "stream",
     "text": [
      "Epoch 39, Train Loss: 0.134566193, Train Accuracy: 51.6640502%, Val Accuracy: 33.8461538%\n"
     ]
    },
    {
     "name": "stderr",
     "output_type": "stream",
     "text": [
      "Epoch 40 Training: 100%|██████████| 797/797 [00:52<00:00, 15.30it/s]\n"
     ]
    },
    {
     "name": "stdout",
     "output_type": "stream",
     "text": [
      "Epoch 40, Train Loss: 0.125397368, Train Accuracy: 54.0737834%, Val Accuracy: 33.1868132%\n"
     ]
    },
    {
     "name": "stderr",
     "output_type": "stream",
     "text": [
      "Epoch 41 Training: 100%|██████████| 797/797 [00:51<00:00, 15.43it/s]\n"
     ]
    },
    {
     "name": "stdout",
     "output_type": "stream",
     "text": [
      "Epoch 41, Train Loss: 0.125519399, Train Accuracy: 53.7755102%, Val Accuracy: 34.7566719%\n"
     ]
    },
    {
     "name": "stderr",
     "output_type": "stream",
     "text": [
      "Epoch 42 Training: 100%|██████████| 797/797 [00:51<00:00, 15.43it/s]\n"
     ]
    },
    {
     "name": "stdout",
     "output_type": "stream",
     "text": [
      "Epoch 42, Train Loss: 0.134701651, Train Accuracy: 52.7629513%, Val Accuracy: 32.7786499%\n"
     ]
    },
    {
     "name": "stderr",
     "output_type": "stream",
     "text": [
      "Epoch 43 Training: 100%|██████████| 797/797 [00:51<00:00, 15.54it/s]\n"
     ]
    },
    {
     "name": "stdout",
     "output_type": "stream",
     "text": [
      "Epoch 43, Train Loss: 0.121935668, Train Accuracy: 54.5447410%, Val Accuracy: 35.4160126%\n"
     ]
    },
    {
     "name": "stderr",
     "output_type": "stream",
     "text": [
      "Epoch 44 Training: 100%|██████████| 797/797 [00:51<00:00, 15.38it/s]\n"
     ]
    },
    {
     "name": "stdout",
     "output_type": "stream",
     "text": [
      "Epoch 44, Train Loss: 0.118597477, Train Accuracy: 56.0989011%, Val Accuracy: 32.8414443%\n"
     ]
    },
    {
     "name": "stderr",
     "output_type": "stream",
     "text": [
      "Epoch 45 Training: 100%|██████████| 797/797 [00:51<00:00, 15.43it/s]\n"
     ]
    },
    {
     "name": "stdout",
     "output_type": "stream",
     "text": [
      "Epoch 45, Train Loss: 0.112276768, Train Accuracy: 56.8131868%, Val Accuracy: 32.3390895%\n"
     ]
    },
    {
     "name": "stderr",
     "output_type": "stream",
     "text": [
      "Epoch 46 Training: 100%|██████████| 797/797 [00:51<00:00, 15.49it/s]\n"
     ]
    },
    {
     "name": "stdout",
     "output_type": "stream",
     "text": [
      "Epoch 46, Train Loss: 0.115420693, Train Accuracy: 56.0282575%, Val Accuracy: 33.7519623%\n"
     ]
    },
    {
     "name": "stderr",
     "output_type": "stream",
     "text": [
      "Epoch 47 Training: 100%|██████████| 797/797 [00:51<00:00, 15.37it/s]\n"
     ]
    },
    {
     "name": "stdout",
     "output_type": "stream",
     "text": [
      "Epoch 47, Train Loss: 0.112382218, Train Accuracy: 57.2448980%, Val Accuracy: 36.3265306%\n"
     ]
    },
    {
     "name": "stderr",
     "output_type": "stream",
     "text": [
      "Epoch 48 Training: 100%|██████████| 797/797 [00:51<00:00, 15.46it/s]\n"
     ]
    },
    {
     "name": "stdout",
     "output_type": "stream",
     "text": [
      "Epoch 48, Train Loss: 0.109413768, Train Accuracy: 57.5824176%, Val Accuracy: 33.5949765%\n"
     ]
    },
    {
     "name": "stderr",
     "output_type": "stream",
     "text": [
      "Epoch 49 Training: 100%|██████████| 797/797 [00:51<00:00, 15.44it/s]\n"
     ]
    },
    {
     "name": "stdout",
     "output_type": "stream",
     "text": [
      "Epoch 49, Train Loss: 0.112698848, Train Accuracy: 57.4018838%, Val Accuracy: 32.9042386%\n"
     ]
    },
    {
     "name": "stderr",
     "output_type": "stream",
     "text": [
      "Epoch 50 Training: 100%|██████████| 797/797 [00:51<00:00, 15.53it/s]\n"
     ]
    },
    {
     "name": "stdout",
     "output_type": "stream",
     "text": [
      "Epoch 50, Train Loss: 0.105891281, Train Accuracy: 58.7441130%, Val Accuracy: 32.4332810%\n",
      "[0.04583987441130298, 0.07464678178963893, 0.08547880690737833, 0.09615384615384616, 0.09340659340659341, 0.10973312401883831, 0.12982731554160126, 0.1434065934065934, 0.1468602825745683, 0.1629513343799058, 0.17574568288854003, 0.18799058084772372, 0.19513343799058086, 0.20094191522762953, 0.22315541601255887, 0.23728414442700158, 0.25054945054945055, 0.2677394034536892, 0.2815541601255887, 0.2949764521193093, 0.31279434850863425, 0.32456828885400313, 0.3520408163265306, 0.3596546310832025, 0.37645211930926215, 0.38759811616954476, 0.39583987441130297, 0.41640502354788067, 0.4184458398744113, 0.4391679748822606, 0.4427001569858713, 0.4640502354788069, 0.46805337519623236, 0.47433281004709577, 0.4869701726844584, 0.49945054945054945, 0.49607535321821034, 0.5047095761381476, 0.5166405023547881, 0.5407378335949764, 0.5377551020408163, 0.527629513343799, 0.545447409733124, 0.560989010989011, 0.5681318681318681, 0.5602825745682889, 0.5724489795918367, 0.5758241758241758, 0.5740188383045526, 0.5874411302982732]\n",
      "[0.28173257914019983, 0.3213040834421386, 0.3297211477950703, 0.3380225630993763, 0.34135296882363914, 0.3589127128765486, 0.37592792037546074, 0.38990107127494555, 0.39433106739257606, 0.4077902295483017, 0.4212869122326044, 0.4347752726934793, 0.45044954441910734, 0.46613209159506536, 0.48697257647449826, 0.5037567006690621, 0.5163897866395721, 0.5318000733674985, 0.5539749125882923, 0.5605208843840156, 0.587377780821196, 0.5830157026642266, 0.6155547487736045, 0.6282358966733796, 0.6388865249532042, 0.6483217086232756, 0.6492724417183702, 0.6691616895601595, 0.6738541964793003, 0.6831657243786071, 0.6967269753248466, 0.7094284695966532, 0.708121006901936, 0.7153150261356768, 0.7212313659538853, 0.7358014698868462, 0.7291737794815211, 0.7408155358212973, 0.7542383973260964, 0.7614625191300001, 0.7588884074283302, 0.7487152815409035, 0.7650059525397509, 0.7742950110634613, 0.7829378796681897, 0.7745437156940786, 0.7836121035704712, 0.7833697240545835, 0.778348641812486, 0.7870041698779616]\n",
      "[0.7325886488432464, 0.7598864974846428, 0.7674051061658215, 0.7744661749874382, 0.7784215637612332, 0.7852891163398152, 0.7944493913280195, 0.8031751639493975, 0.8072852965695062, 0.8119389694289773, 0.8222583921307972, 0.8284196698152799, 0.8330280345666539, 0.8402968411179549, 0.8490719447364908, 0.8548033666049051, 0.8590794810934954, 0.865747723160498, 0.8718484863663764, 0.8745121327349098, 0.8791369993171874, 0.8794944047970378, 0.8868969965230991, 0.8911515111368137, 0.8927949507456543, 0.8941773073972478, 0.8956216112547551, 0.8996249253423664, 0.9000956565574243, 0.9008853709995404, 0.9044998469367682, 0.9064828858752013, 0.906939496076145, 0.9078009429009901, 0.9095775275510265, 0.9119051636662974, 0.9102029019843348, 0.911542283422074, 0.9141265751539933, 0.916056439229682, 0.9160378893536597, 0.9131782034160892, 0.9174645174666868, 0.9173953104005079, 0.918296242585936, 0.917960012046153, 0.9183536225824672, 0.9186854489038343, 0.9198651620117675, 0.920510076924704]\n",
      "[0.38556211225029774, 0.4300840474503942, 0.44068761889676106, 0.4494824306209972, 0.4538872088585659, 0.4717866357714811, 0.4889864082033193, 0.5040853730975595, 0.5080230622032246, 0.5227427343216545, 0.5366454497429535, 0.550313258204525, 0.5656330024388954, 0.5816192600089177, 0.602088935178699, 0.6174941528425517, 0.6294327518255324, 0.6444598062419908, 0.6642485603203515, 0.6697493803104041, 0.6929056210971921, 0.6890368369575486, 0.7160930365852759, 0.7274568215668094, 0.7362332353028374, 0.743536694025524, 0.7438694121474342, 0.760248994903931, 0.7639599790858406, 0.770784301678232, 0.7808854614031275, 0.7896988875956723, 0.7900080919870295, 0.7951886661388968, 0.799474257011244, 0.8100522294603695, 0.8048904552942738, 0.8130191054564753, 0.8226962017182087, 0.8280564565515005, 0.8265210167324578, 0.8195531574151572, 0.8310975543559508, 0.8368429597212907, 0.8427356456556283, 0.8373407870489008, 0.8429142843126487, 0.8430437824763707, 0.8403449605987984, 0.8456214876387588]\n",
      "[0.10486656200941916, 0.11805337519623234, 0.13814756671899528, 0.15478806907378337, 0.13846153846153847, 0.16985871271585556, 0.18461538461538463, 0.18335949764521192, 0.22009419152276294, 0.21789638932496075, 0.1946624803767661, 0.2536891679748823, 0.23076923076923078, 0.22448979591836735, 0.23076923076923078, 0.22040816326530613, 0.2502354788069074, 0.23893249607535322, 0.2684458398744113, 0.24395604395604395, 0.27912087912087913, 0.2709576138147567, 0.29356357927786497, 0.3042386185243328, 0.2979591836734694, 0.28728414442700156, 0.31711145996860285, 0.29199372056514916, 0.3350078492935636, 0.32778649921507064, 0.32339089481946626, 0.33092621664050237, 0.3208791208791209, 0.32213500784929355, 0.33940345368916797, 0.32433281004709574, 0.32841444270015696, 0.3359497645211931, 0.3384615384615385, 0.33186813186813185, 0.3475667189952904, 0.32778649921507064, 0.35416012558869703, 0.32841444270015696, 0.32339089481946626, 0.33751962323390894, 0.363265306122449, 0.3359497645211931, 0.32904238618524334, 0.32433281004709574]\n",
      "[0.3442180208890479, 0.3843431418251513, 0.3820246482282481, 0.38301134047791424, 0.40633319063677187, 0.41624861932037593, 0.44587009392250737, 0.42084173986837575, 0.4640465271027668, 0.4619221301493238, 0.44527145183219513, 0.47324315258161215, 0.49147484269782654, 0.4863919903083776, 0.5245195884133882, 0.4802507891415212, 0.5074379724492095, 0.5209514127902546, 0.5078522930084373, 0.48763919921511306, 0.5310766795848242, 0.5214489137352247, 0.5606862106779973, 0.5694120409907855, 0.5567751972067019, 0.5682283884473528, 0.556329191332519, 0.5823610138821501, 0.5938936565362193, 0.5986375271327381, 0.6124712265258228, 0.6020732263344106, 0.5995536746781751, 0.5940435910100048, 0.6064551089084156, 0.6034216010726953, 0.6052389348219724, 0.5957131115816487, 0.6122716775431346, 0.6129099787636515, 0.6180017516447514, 0.5950506418169389, 0.6177195150145044, 0.6234049490620035, 0.5984094723724143, 0.6025063699512494, 0.637613918067819, 0.608924132123012, 0.6129632554778282, 0.6073221813108652]\n",
      "[0.809708072315454, 0.7787245662057565, 0.7981903938357223, 0.7625789909270227, 0.7509586575325882, 0.7715624915437761, 0.7650906824525486, 0.7827970249036752, 0.7551491548280117, 0.7692923858308592, 0.781531487436756, 0.7650027047777945, 0.7642665286423832, 0.765697888860813, 0.740742619179675, 0.7680562992208316, 0.7518883277139431, 0.7407382534216445, 0.7407206036956882, 0.7446816645687869, 0.7262900333736432, 0.7304714244038726, 0.7146392907820803, 0.7004197446320864, 0.7170028277846275, 0.717942953600035, 0.7113003183938891, 0.7038145867407382, 0.6954169060437626, 0.6888084286374483, 0.6873781345403119, 0.6962415707508315, 0.6920663571450547, 0.6975777727468715, 0.6830510882823431, 0.6864586728131051, 0.6754260326851508, 0.6857799184501746, 0.6786487350607139, 0.6887683135032138, 0.6824425998814229, 0.6864398180627281, 0.6794205542328764, 0.682808633992349, 0.6924449978986161, 0.6812375939946967, 0.672654498366895, 0.6827688525460305, 0.6894478889120937, 0.6955268486976968]\n",
      "[0.4496456336203905, 0.48784672176391897, 0.4779241184849917, 0.47951634148962263, 0.5001031389500739, 0.5196528351178751, 0.5377557165190827, 0.517315642638998, 0.5530347785779423, 0.5565502991989328, 0.5426637940087264, 0.572696373865133, 0.5793078000756768, 0.5700559981258269, 0.5887730555400594, 0.5691983467293539, 0.5874706235427153, 0.5918285725340763, 0.5852885340940691, 0.5686202116128625, 0.5970494727800155, 0.5918451790139243, 0.6158133484643656, 0.6152539953206271, 0.6118088829597679, 0.6181231420718176, 0.6140172589820256, 0.6208926299836682, 0.6348344783180578, 0.632739602247285, 0.640456453935433, 0.6394362574237082, 0.6317403786758122, 0.6327783091560836, 0.6387082600177573, 0.6360723067138823, 0.6304378519727855, 0.6279994203288516, 0.639621906594646, 0.6401671154600791, 0.6446953893340772, 0.6304814846357881, 0.6434868780946869, 0.6460426087246713, 0.6342341014950666, 0.6343266271933917, 0.6520023306054917, 0.6384034896969477, 0.6408210981071644, 0.6420805098196111]\n",
      "0.7\n",
      "combined_threshold_0_7\n",
      "using GPU\n"
     ]
    },
    {
     "name": "stderr",
     "output_type": "stream",
     "text": [
      "Epoch 1 Training: 100%|██████████| 797/797 [00:51<00:00, 15.61it/s]\n"
     ]
    },
    {
     "name": "stdout",
     "output_type": "stream",
     "text": [
      "Epoch 1, Train Loss: 0.724988437, Train Accuracy: 16.3029827%, Val Accuracy: 27.1899529%\n"
     ]
    },
    {
     "name": "stderr",
     "output_type": "stream",
     "text": [
      "Epoch 2 Training: 100%|██████████| 797/797 [00:51<00:00, 15.57it/s]\n"
     ]
    },
    {
     "name": "stdout",
     "output_type": "stream",
     "text": [
      "Epoch 2, Train Loss: 0.586976988, Train Accuracy: 22.8492936%, Val Accuracy: 33.0612245%\n"
     ]
    },
    {
     "name": "stderr",
     "output_type": "stream",
     "text": [
      "Epoch 3 Training: 100%|██████████| 797/797 [00:51<00:00, 15.52it/s]\n"
     ]
    },
    {
     "name": "stdout",
     "output_type": "stream",
     "text": [
      "Epoch 3, Train Loss: 0.532745937, Train Accuracy: 25.4552590%, Val Accuracy: 32.3704867%\n"
     ]
    },
    {
     "name": "stderr",
     "output_type": "stream",
     "text": [
      "Epoch 4 Training: 100%|██████████| 797/797 [00:51<00:00, 15.53it/s]\n"
     ]
    },
    {
     "name": "stdout",
     "output_type": "stream",
     "text": [
      "Epoch 4, Train Loss: 0.494677183, Train Accuracy: 26.7425432%, Val Accuracy: 29.4191523%\n"
     ]
    },
    {
     "name": "stderr",
     "output_type": "stream",
     "text": [
      "Epoch 5 Training: 100%|██████████| 797/797 [00:51<00:00, 15.62it/s]\n"
     ]
    },
    {
     "name": "stdout",
     "output_type": "stream",
     "text": [
      "Epoch 5, Train Loss: 0.453293164, Train Accuracy: 28.5243328%, Val Accuracy: 31.8995290%\n"
     ]
    },
    {
     "name": "stderr",
     "output_type": "stream",
     "text": [
      "Epoch 6 Training: 100%|██████████| 797/797 [00:50<00:00, 15.68it/s]\n"
     ]
    },
    {
     "name": "stdout",
     "output_type": "stream",
     "text": [
      "Epoch 6, Train Loss: 0.422342387, Train Accuracy: 30.3610675%, Val Accuracy: 31.6483516%\n"
     ]
    },
    {
     "name": "stderr",
     "output_type": "stream",
     "text": [
      "Epoch 7 Training: 100%|██████████| 797/797 [00:50<00:00, 15.63it/s]\n"
     ]
    },
    {
     "name": "stdout",
     "output_type": "stream",
     "text": [
      "Epoch 7, Train Loss: 0.400653515, Train Accuracy: 31.3893250%, Val Accuracy: 33.8147567%\n"
     ]
    },
    {
     "name": "stderr",
     "output_type": "stream",
     "text": [
      "Epoch 8 Training: 100%|██████████| 797/797 [00:51<00:00, 15.60it/s]\n"
     ]
    },
    {
     "name": "stdout",
     "output_type": "stream",
     "text": [
      "Epoch 8, Train Loss: 0.363730804, Train Accuracy: 33.5243328%, Val Accuracy: 33.1868132%\n"
     ]
    },
    {
     "name": "stderr",
     "output_type": "stream",
     "text": [
      "Epoch 9 Training: 100%|██████████| 797/797 [00:51<00:00, 15.60it/s]\n"
     ]
    },
    {
     "name": "stdout",
     "output_type": "stream",
     "text": [
      "Epoch 9, Train Loss: 0.339672307, Train Accuracy: 34.7488226%, Val Accuracy: 33.1240188%\n"
     ]
    },
    {
     "name": "stderr",
     "output_type": "stream",
     "text": [
      "Epoch 10 Training: 100%|██████████| 797/797 [00:50<00:00, 15.65it/s]\n"
     ]
    },
    {
     "name": "stdout",
     "output_type": "stream",
     "text": [
      "Epoch 10, Train Loss: 0.311920823, Train Accuracy: 36.5149137%, Val Accuracy: 33.6891680%\n"
     ]
    },
    {
     "name": "stderr",
     "output_type": "stream",
     "text": [
      "Epoch 11 Training: 100%|██████████| 797/797 [00:51<00:00, 15.53it/s]\n"
     ]
    },
    {
     "name": "stdout",
     "output_type": "stream",
     "text": [
      "Epoch 11, Train Loss: 0.291149482, Train Accuracy: 38.2103611%, Val Accuracy: 34.4427002%\n"
     ]
    },
    {
     "name": "stderr",
     "output_type": "stream",
     "text": [
      "Epoch 12 Training: 100%|██████████| 797/797 [00:51<00:00, 15.59it/s]\n"
     ]
    },
    {
     "name": "stdout",
     "output_type": "stream",
     "text": [
      "Epoch 12, Train Loss: 0.270227111, Train Accuracy: 39.8508634%, Val Accuracy: 36.6718995%\n"
     ]
    },
    {
     "name": "stderr",
     "output_type": "stream",
     "text": [
      "Epoch 13 Training: 100%|██████████| 797/797 [00:51<00:00, 15.44it/s]\n"
     ]
    },
    {
     "name": "stdout",
     "output_type": "stream",
     "text": [
      "Epoch 13, Train Loss: 0.250925881, Train Accuracy: 41.4835165%, Val Accuracy: 34.7566719%\n"
     ]
    },
    {
     "name": "stderr",
     "output_type": "stream",
     "text": [
      "Epoch 14 Training: 100%|██████████| 797/797 [00:51<00:00, 15.62it/s]\n"
     ]
    },
    {
     "name": "stdout",
     "output_type": "stream",
     "text": [
      "Epoch 14, Train Loss: 0.233029867, Train Accuracy: 43.1475667%, Val Accuracy: 35.4788069%\n"
     ]
    },
    {
     "name": "stderr",
     "output_type": "stream",
     "text": [
      "Epoch 15 Training: 100%|██████████| 797/797 [00:52<00:00, 15.23it/s]\n"
     ]
    },
    {
     "name": "stdout",
     "output_type": "stream",
     "text": [
      "Epoch 15, Train Loss: 0.216542661, Train Accuracy: 44.6546311%, Val Accuracy: 37.8021978%\n"
     ]
    },
    {
     "name": "stderr",
     "output_type": "stream",
     "text": [
      "Epoch 16 Training: 100%|██████████| 797/797 [00:51<00:00, 15.50it/s]\n"
     ]
    },
    {
     "name": "stdout",
     "output_type": "stream",
     "text": [
      "Epoch 16, Train Loss: 0.199378174, Train Accuracy: 45.8320251%, Val Accuracy: 36.7974882%\n"
     ]
    },
    {
     "name": "stderr",
     "output_type": "stream",
     "text": [
      "Epoch 17 Training: 100%|██████████| 797/797 [00:51<00:00, 15.61it/s]\n"
     ]
    },
    {
     "name": "stdout",
     "output_type": "stream",
     "text": [
      "Epoch 17, Train Loss: 0.191407684, Train Accuracy: 46.9623234%, Val Accuracy: 36.1695447%\n"
     ]
    },
    {
     "name": "stderr",
     "output_type": "stream",
     "text": [
      "Epoch 18 Training: 100%|██████████| 797/797 [00:51<00:00, 15.57it/s]\n"
     ]
    },
    {
     "name": "stdout",
     "output_type": "stream",
     "text": [
      "Epoch 18, Train Loss: 0.177536119, Train Accuracy: 48.8540031%, Val Accuracy: 36.7974882%\n"
     ]
    },
    {
     "name": "stderr",
     "output_type": "stream",
     "text": [
      "Epoch 19 Training: 100%|██████████| 797/797 [00:52<00:00, 15.26it/s]\n"
     ]
    },
    {
     "name": "stdout",
     "output_type": "stream",
     "text": [
      "Epoch 19, Train Loss: 0.165020776, Train Accuracy: 49.7488226%, Val Accuracy: 36.6091052%\n"
     ]
    },
    {
     "name": "stderr",
     "output_type": "stream",
     "text": [
      "Epoch 20 Training: 100%|██████████| 797/797 [00:51<00:00, 15.43it/s]\n"
     ]
    },
    {
     "name": "stdout",
     "output_type": "stream",
     "text": [
      "Epoch 20, Train Loss: 0.164997839, Train Accuracy: 50.2668760%, Val Accuracy: 37.4254317%\n"
     ]
    },
    {
     "name": "stderr",
     "output_type": "stream",
     "text": [
      "Epoch 21 Training: 100%|██████████| 797/797 [00:51<00:00, 15.39it/s]\n"
     ]
    },
    {
     "name": "stdout",
     "output_type": "stream",
     "text": [
      "Epoch 21, Train Loss: 0.151700187, Train Accuracy: 51.4992151%, Val Accuracy: 36.7346939%\n"
     ]
    },
    {
     "name": "stderr",
     "output_type": "stream",
     "text": [
      "Epoch 22 Training: 100%|██████████| 797/797 [00:51<00:00, 15.50it/s]\n"
     ]
    },
    {
     "name": "stdout",
     "output_type": "stream",
     "text": [
      "Epoch 22, Train Loss: 0.141609686, Train Accuracy: 52.9984301%, Val Accuracy: 35.6043956%\n"
     ]
    },
    {
     "name": "stderr",
     "output_type": "stream",
     "text": [
      "Epoch 23 Training: 100%|██████████| 797/797 [00:51<00:00, 15.53it/s]\n"
     ]
    },
    {
     "name": "stdout",
     "output_type": "stream",
     "text": [
      "Epoch 23, Train Loss: 0.134115136, Train Accuracy: 54.1836735%, Val Accuracy: 36.5777080%\n"
     ]
    },
    {
     "name": "stderr",
     "output_type": "stream",
     "text": [
      "Epoch 24 Training: 100%|██████████| 797/797 [00:51<00:00, 15.54it/s]\n"
     ]
    },
    {
     "name": "stdout",
     "output_type": "stream",
     "text": [
      "Epoch 24, Train Loss: 0.136293314, Train Accuracy: 54.1601256%, Val Accuracy: 38.0533752%\n"
     ]
    },
    {
     "name": "stderr",
     "output_type": "stream",
     "text": [
      "Epoch 25 Training: 100%|██████████| 797/797 [00:50<00:00, 15.66it/s]\n"
     ]
    },
    {
     "name": "stdout",
     "output_type": "stream",
     "text": [
      "Epoch 25, Train Loss: 0.130984420, Train Accuracy: 54.7959184%, Val Accuracy: 37.2370487%\n"
     ]
    },
    {
     "name": "stderr",
     "output_type": "stream",
     "text": [
      "Epoch 26 Training: 100%|██████████| 797/797 [00:51<00:00, 15.44it/s]\n"
     ]
    },
    {
     "name": "stdout",
     "output_type": "stream",
     "text": [
      "Epoch 26, Train Loss: 0.121449538, Train Accuracy: 56.7268446%, Val Accuracy: 36.8602826%\n"
     ]
    },
    {
     "name": "stderr",
     "output_type": "stream",
     "text": [
      "Epoch 27 Training: 100%|██████████| 797/797 [00:51<00:00, 15.56it/s]\n"
     ]
    },
    {
     "name": "stdout",
     "output_type": "stream",
     "text": [
      "Epoch 27, Train Loss: 0.116599756, Train Accuracy: 57.8021978%, Val Accuracy: 38.2731554%\n"
     ]
    },
    {
     "name": "stderr",
     "output_type": "stream",
     "text": [
      "Epoch 28 Training: 100%|██████████| 797/797 [00:51<00:00, 15.51it/s]\n"
     ]
    },
    {
     "name": "stdout",
     "output_type": "stream",
     "text": [
      "Epoch 28, Train Loss: 0.117916025, Train Accuracy: 57.2448980%, Val Accuracy: 37.5824176%\n"
     ]
    },
    {
     "name": "stderr",
     "output_type": "stream",
     "text": [
      "Epoch 29 Training: 100%|██████████| 797/797 [00:51<00:00, 15.46it/s]\n"
     ]
    },
    {
     "name": "stdout",
     "output_type": "stream",
     "text": [
      "Epoch 29, Train Loss: 0.115034610, Train Accuracy: 58.4379906%, Val Accuracy: 38.3045526%\n"
     ]
    },
    {
     "name": "stderr",
     "output_type": "stream",
     "text": [
      "Epoch 30 Training: 100%|██████████| 797/797 [00:51<00:00, 15.50it/s]\n"
     ]
    },
    {
     "name": "stdout",
     "output_type": "stream",
     "text": [
      "Epoch 30, Train Loss: 0.109644738, Train Accuracy: 59.2150706%, Val Accuracy: 36.6405024%\n"
     ]
    },
    {
     "name": "stderr",
     "output_type": "stream",
     "text": [
      "Epoch 31 Training: 100%|██████████| 797/797 [00:51<00:00, 15.54it/s]\n"
     ]
    },
    {
     "name": "stdout",
     "output_type": "stream",
     "text": [
      "Epoch 31, Train Loss: 0.108937036, Train Accuracy: 58.5714286%, Val Accuracy: 38.9638932%\n"
     ]
    },
    {
     "name": "stderr",
     "output_type": "stream",
     "text": [
      "Epoch 32 Training: 100%|██████████| 797/797 [00:51<00:00, 15.58it/s]\n"
     ]
    },
    {
     "name": "stdout",
     "output_type": "stream",
     "text": [
      "Epoch 32, Train Loss: 0.101175103, Train Accuracy: 60.4081633%, Val Accuracy: 37.4568289%\n"
     ]
    },
    {
     "name": "stderr",
     "output_type": "stream",
     "text": [
      "Epoch 33 Training: 100%|██████████| 797/797 [00:51<00:00, 15.52it/s]\n"
     ]
    },
    {
     "name": "stdout",
     "output_type": "stream",
     "text": [
      "Epoch 33, Train Loss: 0.096125605, Train Accuracy: 61.5620094%, Val Accuracy: 37.2998430%\n"
     ]
    },
    {
     "name": "stderr",
     "output_type": "stream",
     "text": [
      "Epoch 34 Training: 100%|██████████| 797/797 [00:51<00:00, 15.41it/s]\n"
     ]
    },
    {
     "name": "stdout",
     "output_type": "stream",
     "text": [
      "Epoch 34, Train Loss: 0.097211941, Train Accuracy: 61.9073783%, Val Accuracy: 36.5463108%\n"
     ]
    },
    {
     "name": "stderr",
     "output_type": "stream",
     "text": [
      "Epoch 35 Training: 100%|██████████| 797/797 [00:51<00:00, 15.47it/s]\n"
     ]
    },
    {
     "name": "stdout",
     "output_type": "stream",
     "text": [
      "Epoch 35, Train Loss: 0.093712238, Train Accuracy: 62.0094192%, Val Accuracy: 36.3893250%\n"
     ]
    },
    {
     "name": "stderr",
     "output_type": "stream",
     "text": [
      "Epoch 36 Training: 100%|██████████| 797/797 [00:51<00:00, 15.37it/s]\n"
     ]
    },
    {
     "name": "stdout",
     "output_type": "stream",
     "text": [
      "Epoch 36, Train Loss: 0.097929850, Train Accuracy: 62.1978022%, Val Accuracy: 35.2904239%\n"
     ]
    },
    {
     "name": "stderr",
     "output_type": "stream",
     "text": [
      "Epoch 37 Training: 100%|██████████| 797/797 [00:51<00:00, 15.54it/s]\n"
     ]
    },
    {
     "name": "stdout",
     "output_type": "stream",
     "text": [
      "Epoch 37, Train Loss: 0.087730924, Train Accuracy: 63.5007849%, Val Accuracy: 39.4662480%\n"
     ]
    },
    {
     "name": "stderr",
     "output_type": "stream",
     "text": [
      "Epoch 38 Training: 100%|██████████| 797/797 [00:51<00:00, 15.38it/s]\n"
     ]
    },
    {
     "name": "stdout",
     "output_type": "stream",
     "text": [
      "Epoch 38, Train Loss: 0.091059708, Train Accuracy: 63.7127159%, Val Accuracy: 37.1114600%\n"
     ]
    },
    {
     "name": "stderr",
     "output_type": "stream",
     "text": [
      "Epoch 39 Training: 100%|██████████| 797/797 [00:51<00:00, 15.38it/s]\n"
     ]
    },
    {
     "name": "stdout",
     "output_type": "stream",
     "text": [
      "Epoch 39, Train Loss: 0.086533388, Train Accuracy: 63.5478807%, Val Accuracy: 36.3265306%\n"
     ]
    },
    {
     "name": "stderr",
     "output_type": "stream",
     "text": [
      "Epoch 40 Training: 100%|██████████| 797/797 [00:51<00:00, 15.50it/s]\n"
     ]
    },
    {
     "name": "stdout",
     "output_type": "stream",
     "text": [
      "Epoch 40, Train Loss: 0.086334303, Train Accuracy: 64.5839874%, Val Accuracy: 36.7032967%\n"
     ]
    },
    {
     "name": "stderr",
     "output_type": "stream",
     "text": [
      "Epoch 41 Training: 100%|██████████| 797/797 [00:51<00:00, 15.54it/s]\n"
     ]
    },
    {
     "name": "stdout",
     "output_type": "stream",
     "text": [
      "Epoch 41, Train Loss: 0.086221563, Train Accuracy: 64.8508634%, Val Accuracy: 37.1428571%\n"
     ]
    },
    {
     "name": "stderr",
     "output_type": "stream",
     "text": [
      "Epoch 42 Training: 100%|██████████| 797/797 [00:51<00:00, 15.52it/s]\n"
     ]
    },
    {
     "name": "stdout",
     "output_type": "stream",
     "text": [
      "Epoch 42, Train Loss: 0.080195945, Train Accuracy: 65.4317111%, Val Accuracy: 38.9324961%\n"
     ]
    },
    {
     "name": "stderr",
     "output_type": "stream",
     "text": [
      "Epoch 43 Training: 100%|██████████| 797/797 [00:51<00:00, 15.40it/s]\n"
     ]
    },
    {
     "name": "stdout",
     "output_type": "stream",
     "text": [
      "Epoch 43, Train Loss: 0.081388024, Train Accuracy: 65.5965463%, Val Accuracy: 36.4521193%\n"
     ]
    },
    {
     "name": "stderr",
     "output_type": "stream",
     "text": [
      "Epoch 44 Training: 100%|██████████| 797/797 [00:51<00:00, 15.42it/s]\n"
     ]
    },
    {
     "name": "stdout",
     "output_type": "stream",
     "text": [
      "Epoch 44, Train Loss: 0.085279101, Train Accuracy: 65.8163265%, Val Accuracy: 37.1742543%\n"
     ]
    },
    {
     "name": "stderr",
     "output_type": "stream",
     "text": [
      "Epoch 45 Training: 100%|██████████| 797/797 [00:51<00:00, 15.51it/s]\n"
     ]
    },
    {
     "name": "stdout",
     "output_type": "stream",
     "text": [
      "Epoch 45, Train Loss: 0.082054571, Train Accuracy: 65.5572998%, Val Accuracy: 35.7927786%\n"
     ]
    },
    {
     "name": "stderr",
     "output_type": "stream",
     "text": [
      "Epoch 46 Training: 100%|██████████| 797/797 [00:51<00:00, 15.42it/s]\n"
     ]
    },
    {
     "name": "stdout",
     "output_type": "stream",
     "text": [
      "Epoch 46, Train Loss: 0.073870759, Train Accuracy: 66.8602826%, Val Accuracy: 38.3987441%\n"
     ]
    },
    {
     "name": "stderr",
     "output_type": "stream",
     "text": [
      "Epoch 47 Training: 100%|██████████| 797/797 [00:51<00:00, 15.53it/s]\n"
     ]
    },
    {
     "name": "stdout",
     "output_type": "stream",
     "text": [
      "Epoch 47, Train Loss: 0.070565881, Train Accuracy: 68.2182104%, Val Accuracy: 37.3312402%\n"
     ]
    },
    {
     "name": "stderr",
     "output_type": "stream",
     "text": [
      "Epoch 48 Training: 100%|██████████| 797/797 [00:51<00:00, 15.52it/s]\n"
     ]
    },
    {
     "name": "stdout",
     "output_type": "stream",
     "text": [
      "Epoch 48, Train Loss: 0.082330217, Train Accuracy: 66.9780220%, Val Accuracy: 37.5510204%\n"
     ]
    },
    {
     "name": "stderr",
     "output_type": "stream",
     "text": [
      "Epoch 49 Training: 100%|██████████| 797/797 [00:51<00:00, 15.50it/s]\n"
     ]
    },
    {
     "name": "stdout",
     "output_type": "stream",
     "text": [
      "Epoch 49, Train Loss: 0.073216489, Train Accuracy: 68.0690738%, Val Accuracy: 38.0219780%\n"
     ]
    },
    {
     "name": "stderr",
     "output_type": "stream",
     "text": [
      "Epoch 50 Training: 100%|██████████| 797/797 [00:51<00:00, 15.47it/s]\n"
     ]
    },
    {
     "name": "stdout",
     "output_type": "stream",
     "text": [
      "Epoch 50, Train Loss: 0.072981858, Train Accuracy: 68.1240188%, Val Accuracy: 38.7441130%\n",
      "[0.1630298273155416, 0.2284929356357928, 0.254552590266876, 0.267425431711146, 0.285243328100471, 0.3036106750392465, 0.31389324960753534, 0.33524332810047097, 0.3474882260596546, 0.36514913657770803, 0.38210361067503923, 0.39850863422291993, 0.41483516483516486, 0.4314756671899529, 0.4465463108320251, 0.45832025117739406, 0.46962323390894817, 0.4885400313971743, 0.49748822605965465, 0.502668759811617, 0.5149921507064364, 0.5299843014128729, 0.5418367346938775, 0.5416012558869702, 0.5479591836734694, 0.5672684458398745, 0.578021978021978, 0.5724489795918367, 0.5843799058084772, 0.5921507064364208, 0.5857142857142857, 0.6040816326530613, 0.6156200941915227, 0.6190737833594977, 0.6200941915227629, 0.621978021978022, 0.6350078492935636, 0.63712715855573, 0.6354788069073783, 0.645839874411303, 0.6485086342229199, 0.6543171114599686, 0.6559654631083203, 0.6581632653061225, 0.6555729984301413, 0.6686028257456829, 0.682182103610675, 0.6697802197802197, 0.680690737833595, 0.6812401883830456]\n",
      "[0.4274428636042723, 0.4865833363542257, 0.5122043018108285, 0.5321382290980357, 0.5512323708562163, 0.5725615289209737, 0.5848388877702838, 0.6099481026450283, 0.6298583854537675, 0.6488009748409364, 0.6684732398255815, 0.689869218652822, 0.6950626629431329, 0.7145115221290501, 0.7310612889894056, 0.7456487442791268, 0.7498238232841047, 0.763110087849382, 0.7825590381600547, 0.7761151093488602, 0.7946514011137217, 0.799662683536496, 0.8140105232207306, 0.804184853453394, 0.8122242958428469, 0.8218279427300728, 0.828714260092591, 0.8183713272645418, 0.827133574181062, 0.8341189424453074, 0.8322918574624465, 0.8447716630988595, 0.8520050139918073, 0.8470525616154665, 0.8518934901982343, 0.8445068259671341, 0.8532729000847271, 0.8558388895729806, 0.8580168804684929, 0.858413280505445, 0.8568729162453951, 0.8637912261473633, 0.86607918325471, 0.8600890051179982, 0.8611771822818869, 0.8716161608989111, 0.8762053352417015, 0.8628392705454736, 0.8743645552625775, 0.8701715605847612]\n",
      "[0.5877536250883445, 0.6778350062082426, 0.7024911968333666, 0.7253324333639333, 0.7388455507706252, 0.7579671683958921, 0.7681203530114824, 0.7844958641549721, 0.7947142238697333, 0.8067144442570734, 0.8164496708252621, 0.8256573570418478, 0.8335260617727105, 0.8428941999394101, 0.8480329342610582, 0.8583047204177383, 0.8603429343978857, 0.8652244743331574, 0.8723338235962548, 0.8734930707853609, 0.8789377577857789, 0.8821564634953889, 0.8868579881816913, 0.88585901978972, 0.8882483248367955, 0.8926431314936791, 0.8943921938243845, 0.8938740958413665, 0.8967504684506608, 0.8984195524561854, 0.8982992392743727, 0.9014780027798182, 0.9038494295605422, 0.9036277325395762, 0.9038622014367549, 0.9047575940317238, 0.90741785887029, 0.9069697178658601, 0.9065255929645327, 0.907912313733662, 0.9092874680329753, 0.9097189285152902, 0.9107714050839789, 0.9105938937952702, 0.9110976274301562, 0.9135985557195869, 0.915233244560085, 0.9123722578887975, 0.9141779734000226, 0.9138578696732796]\n",
      "[0.4728176729862673, 0.5463778116969661, 0.572993512085335, 0.5948868547930509, 0.614546056037141, 0.6365780737424277, 0.6492827701676673, 0.6729876070062851, 0.6915641378288345, 0.7088163022203696, 0.7256248972673456, 0.7442333642296707, 0.7502920975688991, 0.7662176339797098, 0.7792593028962782, 0.7921847256258764, 0.7961232309212786, 0.8062686838031096, 0.8207798130050568, 0.8172675892194194, 0.8309337191849929, 0.8351229724465562, 0.8455060998689189, 0.8395809226379027, 0.8453514141566191, 0.8528901895749417, 0.8575939966208255, 0.8514852292557564, 0.857889691836342, 0.8626626361312791, 0.8615395076396156, 0.869895357532377, 0.8751359450974596, 0.8723615174171009, 0.8750658101618342, 0.8715616996049453, 0.8775279558649224, 0.8788026710039339, 0.8797640794463198, 0.880709616087254, 0.8805302221980015, 0.8845774432049147, 0.8862406512100137, 0.8830820978917223, 0.8837870860711154, 0.890690661169034, 0.8939575866100883, 0.8852435462859162, 0.8923841604312579, 0.8900573407661915]\n",
      "[0.2718995290423862, 0.3306122448979592, 0.3237048665620094, 0.29419152276295135, 0.3189952904238619, 0.31648351648351647, 0.33814756671899526, 0.33186813186813185, 0.33124018838304553, 0.3368916797488226, 0.3444270015698587, 0.36671899529042384, 0.3475667189952904, 0.35478806907378335, 0.378021978021978, 0.36797488226059655, 0.36169544740973314, 0.36797488226059655, 0.3660910518053375, 0.37425431711145996, 0.3673469387755102, 0.35604395604395606, 0.36577708006279436, 0.38053375196232336, 0.3723704866562009, 0.36860282574568287, 0.3827315541601256, 0.3758241758241758, 0.38304552590266877, 0.3664050235478807, 0.38963893249607534, 0.3745682888540031, 0.3729984301412873, 0.3654631083202512, 0.36389324960753533, 0.3529042386185243, 0.3946624803767661, 0.3711145996860283, 0.363265306122449, 0.367032967032967, 0.37142857142857144, 0.3893249607535322, 0.36452119309262165, 0.3717425431711146, 0.3579277864992151, 0.38398744113029826, 0.37331240188383047, 0.37551020408163266, 0.3802197802197802, 0.38744113029827315]\n",
      "[0.5497793207384647, 0.621365119693616, 0.5952804899780387, 0.6083396543792312, 0.5879949214093616, 0.587831955696026, 0.6313847621580998, 0.6203523352127431, 0.604950936170567, 0.6488536158718233, 0.6498314938943285, 0.6648269476053029, 0.6401174193066075, 0.6571350665936, 0.6670954469414676, 0.6783423915473508, 0.6702945552593631, 0.6816896058458206, 0.6882300622109219, 0.690810777523331, 0.682452759385702, 0.6619927397568457, 0.6858648109891025, 0.6732709856570903, 0.6765568399442189, 0.6783798129535942, 0.6955729512849967, 0.6953684565152397, 0.6925808136370497, 0.6687662972062594, 0.6906469834650075, 0.6981272550855174, 0.6870510341027528, 0.6541714696529993, 0.6777620952929034, 0.6683107121185382, 0.6750360609240004, 0.6741344033414907, 0.6698799236695494, 0.6677051882417127, 0.671470997142627, 0.6878929758714922, 0.6693514945206346, 0.6689135677902904, 0.6517888686918842, 0.6960162098523975, 0.6862416691961191, 0.6574026465889842, 0.6808629912399567, 0.6691474074148044]\n",
      "[0.6799517966663595, 0.661630656217739, 0.7015634311333084, 0.6847834122882125, 0.6904223257611385, 0.7090135850493672, 0.6937049441399866, 0.7008636028543643, 0.7123820382844857, 0.6818815692595738, 0.6741687505542034, 0.6909091944970035, 0.6916077725094988, 0.6754435621760692, 0.6775952917419529, 0.6551919829144741, 0.664946931787445, 0.6557536412302687, 0.6567755976429106, 0.6494085117692133, 0.6687665662304153, 0.6637859706796476, 0.6569542298001786, 0.652983410436795, 0.6500215491800292, 0.6617718521710628, 0.6554475479855234, 0.6546809768348024, 0.655980232456792, 0.6571938768278585, 0.6524097445237463, 0.6478248917805877, 0.6598219044962338, 0.6543146558263437, 0.6581048203103778, 0.6536944947832144, 0.657903982635791, 0.6482181876553609, 0.6618177277376472, 0.6580211822582586, 0.6519769044518288, 0.6477366020656142, 0.6598490832432468, 0.6486979577141408, 0.6536877391871416, 0.6472597409211707, 0.6499073564562403, 0.6593083972381489, 0.6512211792591884, 0.6575486525353648]\n",
      "[0.5834346801717528, 0.6163800842670949, 0.6282615949100064, 0.6147584469490317, 0.6092579878718416, 0.6130275844131212, 0.6475197211100591, 0.6439655919672592, 0.6367284896627382, 0.6538993658481954, 0.6524475469987977, 0.670164804920432, 0.6573476784665904, 0.6581033702544412, 0.6660299432058293, 0.6614673668788797, 0.6614403607546284, 0.6633415729051233, 0.6682596088277314, 0.66502222729578, 0.6696937938945526, 0.6578926918459025, 0.6666604867894178, 0.6581862649754708, 0.655693562643611, 0.6646238844568102, 0.6724704510049739, 0.6707236504417164, 0.6713086006322719, 0.6602213935204544, 0.6693614482086971, 0.6664842239957549, 0.6674535150148411, 0.6486385785718022, 0.6633201172992105, 0.655928372600004, 0.6643603113367823, 0.65595268251852, 0.6635946499385982, 0.6588518750306849, 0.6571555733103129, 0.6656433580920716, 0.6614051454422976, 0.6540501461205606, 0.6483572611857658, 0.6690870744572778, 0.6641729090663769, 0.6536580429278511, 0.6599353279133696, 0.6581900071171086]\n",
      "0.9\n",
      "combined_threshold_0_9\n",
      "using GPU\n"
     ]
    },
    {
     "name": "stderr",
     "output_type": "stream",
     "text": [
      "Epoch 1 Training: 100%|██████████| 797/797 [00:50<00:00, 15.64it/s]\n"
     ]
    },
    {
     "name": "stdout",
     "output_type": "stream",
     "text": [
      "Epoch 1, Train Loss: 0.741749805, Train Accuracy: 16.9544741%, Val Accuracy: 25.5572998%\n"
     ]
    },
    {
     "name": "stderr",
     "output_type": "stream",
     "text": [
      "Epoch 2 Training: 100%|██████████| 797/797 [00:51<00:00, 15.56it/s]\n"
     ]
    },
    {
     "name": "stdout",
     "output_type": "stream",
     "text": [
      "Epoch 2, Train Loss: 0.598189847, Train Accuracy: 25.5180534%, Val Accuracy: 28.7284144%\n"
     ]
    },
    {
     "name": "stderr",
     "output_type": "stream",
     "text": [
      "Epoch 3 Training: 100%|██████████| 797/797 [00:50<00:00, 15.65it/s]\n"
     ]
    },
    {
     "name": "stdout",
     "output_type": "stream",
     "text": [
      "Epoch 3, Train Loss: 0.542150795, Train Accuracy: 28.2025118%, Val Accuracy: 31.1459969%\n"
     ]
    },
    {
     "name": "stderr",
     "output_type": "stream",
     "text": [
      "Epoch 4 Training: 100%|██████████| 797/797 [00:51<00:00, 15.61it/s]\n"
     ]
    },
    {
     "name": "stdout",
     "output_type": "stream",
     "text": [
      "Epoch 4, Train Loss: 0.501094315, Train Accuracy: 29.9136578%, Val Accuracy: 31.8681319%\n"
     ]
    },
    {
     "name": "stderr",
     "output_type": "stream",
     "text": [
      "Epoch 5 Training: 100%|██████████| 797/797 [00:51<00:00, 15.62it/s]\n"
     ]
    },
    {
     "name": "stdout",
     "output_type": "stream",
     "text": [
      "Epoch 5, Train Loss: 0.467058782, Train Accuracy: 31.2087912%, Val Accuracy: 31.0518053%\n"
     ]
    },
    {
     "name": "stderr",
     "output_type": "stream",
     "text": [
      "Epoch 6 Training: 100%|██████████| 797/797 [00:50<00:00, 15.70it/s]\n"
     ]
    },
    {
     "name": "stdout",
     "output_type": "stream",
     "text": [
      "Epoch 6, Train Loss: 0.437802421, Train Accuracy: 32.2213501%, Val Accuracy: 32.2762951%\n"
     ]
    },
    {
     "name": "stderr",
     "output_type": "stream",
     "text": [
      "Epoch 7 Training: 100%|██████████| 797/797 [00:51<00:00, 15.49it/s]\n"
     ]
    },
    {
     "name": "stdout",
     "output_type": "stream",
     "text": [
      "Epoch 7, Train Loss: 0.407119833, Train Accuracy: 32.9199372%, Val Accuracy: 31.9309262%\n"
     ]
    },
    {
     "name": "stderr",
     "output_type": "stream",
     "text": [
      "Epoch 8 Training: 100%|██████████| 797/797 [00:51<00:00, 15.51it/s]\n"
     ]
    },
    {
     "name": "stdout",
     "output_type": "stream",
     "text": [
      "Epoch 8, Train Loss: 0.375484783, Train Accuracy: 34.4191523%, Val Accuracy: 32.7158556%\n"
     ]
    },
    {
     "name": "stderr",
     "output_type": "stream",
     "text": [
      "Epoch 9 Training: 100%|██████████| 797/797 [00:51<00:00, 15.37it/s]\n"
     ]
    },
    {
     "name": "stdout",
     "output_type": "stream",
     "text": [
      "Epoch 9, Train Loss: 0.353173285, Train Accuracy: 36.4756672%, Val Accuracy: 34.3799058%\n"
     ]
    },
    {
     "name": "stderr",
     "output_type": "stream",
     "text": [
      "Epoch 10 Training: 100%|██████████| 797/797 [00:50<00:00, 15.66it/s]\n"
     ]
    },
    {
     "name": "stdout",
     "output_type": "stream",
     "text": [
      "Epoch 10, Train Loss: 0.325102239, Train Accuracy: 36.9387755%, Val Accuracy: 33.3751962%\n"
     ]
    },
    {
     "name": "stderr",
     "output_type": "stream",
     "text": [
      "Epoch 11 Training: 100%|██████████| 797/797 [00:50<00:00, 15.68it/s]\n"
     ]
    },
    {
     "name": "stdout",
     "output_type": "stream",
     "text": [
      "Epoch 11, Train Loss: 0.304438757, Train Accuracy: 37.6766091%, Val Accuracy: 33.2496075%\n"
     ]
    },
    {
     "name": "stderr",
     "output_type": "stream",
     "text": [
      "Epoch 12 Training: 100%|██████████| 797/797 [00:50<00:00, 15.69it/s]\n"
     ]
    },
    {
     "name": "stdout",
     "output_type": "stream",
     "text": [
      "Epoch 12, Train Loss: 0.286132330, Train Accuracy: 39.0502355%, Val Accuracy: 33.5007849%\n"
     ]
    },
    {
     "name": "stderr",
     "output_type": "stream",
     "text": [
      "Epoch 13 Training: 100%|██████████| 797/797 [00:50<00:00, 15.70it/s]\n"
     ]
    },
    {
     "name": "stdout",
     "output_type": "stream",
     "text": [
      "Epoch 13, Train Loss: 0.262409462, Train Accuracy: 40.8006279%, Val Accuracy: 33.6891680%\n"
     ]
    },
    {
     "name": "stderr",
     "output_type": "stream",
     "text": [
      "Epoch 14 Training: 100%|██████████| 797/797 [00:50<00:00, 15.70it/s]\n"
     ]
    },
    {
     "name": "stdout",
     "output_type": "stream",
     "text": [
      "Epoch 14, Train Loss: 0.246566843, Train Accuracy: 41.5306122%, Val Accuracy: 34.2543171%\n"
     ]
    },
    {
     "name": "stderr",
     "output_type": "stream",
     "text": [
      "Epoch 15 Training: 100%|██████████| 797/797 [00:50<00:00, 15.68it/s]\n"
     ]
    },
    {
     "name": "stdout",
     "output_type": "stream",
     "text": [
      "Epoch 15, Train Loss: 0.219849744, Train Accuracy: 43.1868132%, Val Accuracy: 35.2276295%\n"
     ]
    },
    {
     "name": "stderr",
     "output_type": "stream",
     "text": [
      "Epoch 16 Training: 100%|██████████| 797/797 [00:51<00:00, 15.54it/s]\n"
     ]
    },
    {
     "name": "stdout",
     "output_type": "stream",
     "text": [
      "Epoch 16, Train Loss: 0.214869529, Train Accuracy: 43.1004710%, Val Accuracy: 35.9183673%\n"
     ]
    },
    {
     "name": "stderr",
     "output_type": "stream",
     "text": [
      "Epoch 17 Training: 100%|██████████| 797/797 [00:50<00:00, 15.69it/s]\n"
     ]
    },
    {
     "name": "stdout",
     "output_type": "stream",
     "text": [
      "Epoch 17, Train Loss: 0.197141525, Train Accuracy: 44.5996860%, Val Accuracy: 35.7613815%\n"
     ]
    },
    {
     "name": "stderr",
     "output_type": "stream",
     "text": [
      "Epoch 18 Training: 100%|██████████| 797/797 [00:50<00:00, 15.69it/s]\n"
     ]
    },
    {
     "name": "stdout",
     "output_type": "stream",
     "text": [
      "Epoch 18, Train Loss: 0.191796236, Train Accuracy: 45.0313972%, Val Accuracy: 35.2276295%\n"
     ]
    },
    {
     "name": "stderr",
     "output_type": "stream",
     "text": [
      "Epoch 19 Training: 100%|██████████| 797/797 [00:50<00:00, 15.76it/s]\n"
     ]
    },
    {
     "name": "stdout",
     "output_type": "stream",
     "text": [
      "Epoch 19, Train Loss: 0.180275690, Train Accuracy: 45.7299843%, Val Accuracy: 36.9544741%\n"
     ]
    },
    {
     "name": "stderr",
     "output_type": "stream",
     "text": [
      "Epoch 20 Training: 100%|██████████| 797/797 [00:50<00:00, 15.67it/s]\n"
     ]
    },
    {
     "name": "stdout",
     "output_type": "stream",
     "text": [
      "Epoch 20, Train Loss: 0.169865245, Train Accuracy: 46.8445840%, Val Accuracy: 35.7927786%\n"
     ]
    },
    {
     "name": "stderr",
     "output_type": "stream",
     "text": [
      "Epoch 21 Training: 100%|██████████| 797/797 [00:50<00:00, 15.72it/s]\n"
     ]
    },
    {
     "name": "stdout",
     "output_type": "stream",
     "text": [
      "Epoch 21, Train Loss: 0.159640835, Train Accuracy: 47.8571429%, Val Accuracy: 35.5729984%\n"
     ]
    },
    {
     "name": "stderr",
     "output_type": "stream",
     "text": [
      "Epoch 22 Training: 100%|██████████| 797/797 [00:51<00:00, 15.56it/s]\n"
     ]
    },
    {
     "name": "stdout",
     "output_type": "stream",
     "text": [
      "Epoch 22, Train Loss: 0.150549216, Train Accuracy: 48.0376766%, Val Accuracy: 35.0706436%\n"
     ]
    },
    {
     "name": "stderr",
     "output_type": "stream",
     "text": [
      "Epoch 23 Training: 100%|██████████| 797/797 [00:51<00:00, 15.40it/s]\n"
     ]
    },
    {
     "name": "stdout",
     "output_type": "stream",
     "text": [
      "Epoch 23, Train Loss: 0.142602685, Train Accuracy: 49.7174254%, Val Accuracy: 36.1067504%\n"
     ]
    },
    {
     "name": "stderr",
     "output_type": "stream",
     "text": [
      "Epoch 24 Training: 100%|██████████| 797/797 [00:50<00:00, 15.75it/s]\n"
     ]
    },
    {
     "name": "stdout",
     "output_type": "stream",
     "text": [
      "Epoch 24, Train Loss: 0.137007213, Train Accuracy: 49.9372057%, Val Accuracy: 36.8288854%\n"
     ]
    },
    {
     "name": "stderr",
     "output_type": "stream",
     "text": [
      "Epoch 25 Training: 100%|██████████| 797/797 [00:51<00:00, 15.47it/s]\n"
     ]
    },
    {
     "name": "stdout",
     "output_type": "stream",
     "text": [
      "Epoch 25, Train Loss: 0.129331908, Train Accuracy: 51.0439560%, Val Accuracy: 35.1020408%\n"
     ]
    },
    {
     "name": "stderr",
     "output_type": "stream",
     "text": [
      "Epoch 26 Training: 100%|██████████| 797/797 [00:50<00:00, 15.70it/s]\n"
     ]
    },
    {
     "name": "stdout",
     "output_type": "stream",
     "text": [
      "Epoch 26, Train Loss: 0.128324052, Train Accuracy: 51.0989011%, Val Accuracy: 36.1381476%\n"
     ]
    },
    {
     "name": "stderr",
     "output_type": "stream",
     "text": [
      "Epoch 27 Training: 100%|██████████| 797/797 [00:50<00:00, 15.70it/s]\n"
     ]
    },
    {
     "name": "stdout",
     "output_type": "stream",
     "text": [
      "Epoch 27, Train Loss: 0.121389067, Train Accuracy: 51.3422292%, Val Accuracy: 37.3940345%\n"
     ]
    },
    {
     "name": "stderr",
     "output_type": "stream",
     "text": [
      "Epoch 28 Training: 100%|██████████| 797/797 [00:50<00:00, 15.65it/s]\n"
     ]
    },
    {
     "name": "stdout",
     "output_type": "stream",
     "text": [
      "Epoch 28, Train Loss: 0.125721859, Train Accuracy: 51.6483516%, Val Accuracy: 35.5102041%\n"
     ]
    },
    {
     "name": "stderr",
     "output_type": "stream",
     "text": [
      "Epoch 29 Training: 100%|██████████| 797/797 [00:51<00:00, 15.59it/s]\n"
     ]
    },
    {
     "name": "stdout",
     "output_type": "stream",
     "text": [
      "Epoch 29, Train Loss: 0.123243618, Train Accuracy: 52.4882261%, Val Accuracy: 37.1114600%\n"
     ]
    },
    {
     "name": "stderr",
     "output_type": "stream",
     "text": [
      "Epoch 30 Training: 100%|██████████| 797/797 [00:50<00:00, 15.69it/s]\n"
     ]
    },
    {
     "name": "stdout",
     "output_type": "stream",
     "text": [
      "Epoch 30, Train Loss: 0.110442880, Train Accuracy: 53.7833595%, Val Accuracy: 35.3846154%\n"
     ]
    },
    {
     "name": "stderr",
     "output_type": "stream",
     "text": [
      "Epoch 31 Training: 100%|██████████| 797/797 [00:50<00:00, 15.70it/s]\n"
     ]
    },
    {
     "name": "stdout",
     "output_type": "stream",
     "text": [
      "Epoch 31, Train Loss: 0.106066967, Train Accuracy: 54.1444270%, Val Accuracy: 37.1742543%\n"
     ]
    },
    {
     "name": "stderr",
     "output_type": "stream",
     "text": [
      "Epoch 32 Training: 100%|██████████| 797/797 [00:50<00:00, 15.72it/s]\n"
     ]
    },
    {
     "name": "stdout",
     "output_type": "stream",
     "text": [
      "Epoch 32, Train Loss: 0.105060834, Train Accuracy: 54.1601256%, Val Accuracy: 37.0800628%\n"
     ]
    },
    {
     "name": "stderr",
     "output_type": "stream",
     "text": [
      "Epoch 33 Training: 100%|██████████| 797/797 [00:50<00:00, 15.71it/s]\n"
     ]
    },
    {
     "name": "stdout",
     "output_type": "stream",
     "text": [
      "Epoch 33, Train Loss: 0.103127490, Train Accuracy: 54.6624804%, Val Accuracy: 35.6985871%\n"
     ]
    },
    {
     "name": "stderr",
     "output_type": "stream",
     "text": [
      "Epoch 34 Training: 100%|██████████| 797/797 [00:50<00:00, 15.73it/s]\n"
     ]
    },
    {
     "name": "stdout",
     "output_type": "stream",
     "text": [
      "Epoch 34, Train Loss: 0.101082050, Train Accuracy: 54.8116170%, Val Accuracy: 36.4521193%\n"
     ]
    },
    {
     "name": "stderr",
     "output_type": "stream",
     "text": [
      "Epoch 35 Training: 100%|██████████| 797/797 [00:50<00:00, 15.70it/s]\n"
     ]
    },
    {
     "name": "stdout",
     "output_type": "stream",
     "text": [
      "Epoch 35, Train Loss: 0.102350539, Train Accuracy: 55.8555730%, Val Accuracy: 36.6718995%\n"
     ]
    },
    {
     "name": "stderr",
     "output_type": "stream",
     "text": [
      "Epoch 36 Training: 100%|██████████| 797/797 [00:50<00:00, 15.65it/s]\n"
     ]
    },
    {
     "name": "stdout",
     "output_type": "stream",
     "text": [
      "Epoch 36, Train Loss: 0.094743581, Train Accuracy: 56.7739403%, Val Accuracy: 36.2951334%\n"
     ]
    },
    {
     "name": "stderr",
     "output_type": "stream",
     "text": [
      "Epoch 37 Training: 100%|██████████| 797/797 [00:50<00:00, 15.64it/s]\n"
     ]
    },
    {
     "name": "stdout",
     "output_type": "stream",
     "text": [
      "Epoch 37, Train Loss: 0.088729899, Train Accuracy: 57.2919937%, Val Accuracy: 37.8021978%\n"
     ]
    },
    {
     "name": "stderr",
     "output_type": "stream",
     "text": [
      "Epoch 38 Training: 100%|██████████| 797/797 [00:50<00:00, 15.69it/s]\n"
     ]
    },
    {
     "name": "stdout",
     "output_type": "stream",
     "text": [
      "Epoch 38, Train Loss: 0.095936338, Train Accuracy: 57.3390895%, Val Accuracy: 36.4207221%\n"
     ]
    },
    {
     "name": "stderr",
     "output_type": "stream",
     "text": [
      "Epoch 39 Training: 100%|██████████| 797/797 [00:50<00:00, 15.69it/s]\n"
     ]
    },
    {
     "name": "stdout",
     "output_type": "stream",
     "text": [
      "Epoch 39, Train Loss: 0.096409151, Train Accuracy: 57.1978022%, Val Accuracy: 36.2009419%\n"
     ]
    },
    {
     "name": "stderr",
     "output_type": "stream",
     "text": [
      "Epoch 40 Training: 100%|██████████| 797/797 [00:51<00:00, 15.60it/s]\n"
     ]
    },
    {
     "name": "stdout",
     "output_type": "stream",
     "text": [
      "Epoch 40, Train Loss: 0.086919856, Train Accuracy: 58.4222920%, Val Accuracy: 34.3485086%\n"
     ]
    },
    {
     "name": "stderr",
     "output_type": "stream",
     "text": [
      "Epoch 41 Training: 100%|██████████| 797/797 [00:50<00:00, 15.67it/s]\n"
     ]
    },
    {
     "name": "stdout",
     "output_type": "stream",
     "text": [
      "Epoch 41, Train Loss: 0.087000646, Train Accuracy: 58.9638932%, Val Accuracy: 36.5777080%\n"
     ]
    },
    {
     "name": "stderr",
     "output_type": "stream",
     "text": [
      "Epoch 42 Training: 100%|██████████| 797/797 [00:50<00:00, 15.75it/s]\n"
     ]
    },
    {
     "name": "stdout",
     "output_type": "stream",
     "text": [
      "Epoch 42, Train Loss: 0.087920824, Train Accuracy: 58.8932496%, Val Accuracy: 35.2276295%\n"
     ]
    },
    {
     "name": "stderr",
     "output_type": "stream",
     "text": [
      "Epoch 43 Training: 100%|██████████| 797/797 [00:50<00:00, 15.75it/s]\n"
     ]
    },
    {
     "name": "stdout",
     "output_type": "stream",
     "text": [
      "Epoch 43, Train Loss: 0.083124221, Train Accuracy: 59.4427002%, Val Accuracy: 34.9764521%\n"
     ]
    },
    {
     "name": "stderr",
     "output_type": "stream",
     "text": [
      "Epoch 44 Training: 100%|██████████| 797/797 [00:50<00:00, 15.69it/s]\n"
     ]
    },
    {
     "name": "stdout",
     "output_type": "stream",
     "text": [
      "Epoch 44, Train Loss: 0.081194498, Train Accuracy: 60.1098901%, Val Accuracy: 34.2229199%\n"
     ]
    },
    {
     "name": "stderr",
     "output_type": "stream",
     "text": [
      "Epoch 45 Training: 100%|██████████| 797/797 [00:51<00:00, 15.58it/s]\n"
     ]
    },
    {
     "name": "stdout",
     "output_type": "stream",
     "text": [
      "Epoch 45, Train Loss: 0.081904671, Train Accuracy: 61.1224490%, Val Accuracy: 35.8555730%\n"
     ]
    },
    {
     "name": "stderr",
     "output_type": "stream",
     "text": [
      "Epoch 46 Training: 100%|██████████| 797/797 [00:50<00:00, 15.70it/s]\n"
     ]
    },
    {
     "name": "stdout",
     "output_type": "stream",
     "text": [
      "Epoch 46, Train Loss: 0.078143500, Train Accuracy: 61.2951334%, Val Accuracy: 37.6766091%\n"
     ]
    },
    {
     "name": "stderr",
     "output_type": "stream",
     "text": [
      "Epoch 47 Training: 100%|██████████| 797/797 [00:51<00:00, 15.60it/s]\n"
     ]
    },
    {
     "name": "stdout",
     "output_type": "stream",
     "text": [
      "Epoch 47, Train Loss: 0.079193545, Train Accuracy: 60.8084772%, Val Accuracy: 35.7927786%\n"
     ]
    },
    {
     "name": "stderr",
     "output_type": "stream",
     "text": [
      "Epoch 48 Training: 100%|██████████| 797/797 [00:50<00:00, 15.74it/s]\n"
     ]
    },
    {
     "name": "stdout",
     "output_type": "stream",
     "text": [
      "Epoch 48, Train Loss: 0.079872340, Train Accuracy: 61.0753532%, Val Accuracy: 37.6138148%\n"
     ]
    },
    {
     "name": "stderr",
     "output_type": "stream",
     "text": [
      "Epoch 49 Training: 100%|██████████| 797/797 [00:50<00:00, 15.69it/s]\n"
     ]
    },
    {
     "name": "stdout",
     "output_type": "stream",
     "text": [
      "Epoch 49, Train Loss: 0.074987727, Train Accuracy: 61.6012559%, Val Accuracy: 36.9544741%\n"
     ]
    },
    {
     "name": "stderr",
     "output_type": "stream",
     "text": [
      "Epoch 50 Training: 100%|██████████| 797/797 [00:50<00:00, 15.73it/s]\n"
     ]
    },
    {
     "name": "stdout",
     "output_type": "stream",
     "text": [
      "Epoch 50, Train Loss: 0.069468310, Train Accuracy: 63.3751962%, Val Accuracy: 37.0486656%\n",
      "[0.1695447409733124, 0.2551805337519623, 0.2820251177394035, 0.2991365777080063, 0.3120879120879121, 0.32221350078492933, 0.3291993720565149, 0.34419152276295134, 0.36475667189952904, 0.3693877551020408, 0.37676609105180536, 0.39050235478806905, 0.40800627943485085, 0.4153061224489796, 0.4318681318681319, 0.4310047095761381, 0.44599686028257457, 0.4503139717425432, 0.45729984301412874, 0.4684458398744113, 0.4785714285714286, 0.4803767660910518, 0.4971742543171115, 0.4993720565149137, 0.5104395604395604, 0.510989010989011, 0.5134222919937206, 0.5164835164835165, 0.5248822605965463, 0.5378335949764521, 0.5414442700156986, 0.5416012558869702, 0.5466248037676609, 0.548116169544741, 0.5585557299843014, 0.5677394034536891, 0.5729199372056515, 0.5733908948194663, 0.5719780219780219, 0.5842229199372057, 0.5896389324960754, 0.5889324960753533, 0.5944270015698587, 0.6010989010989011, 0.6112244897959184, 0.6129513343799058, 0.6080847723704866, 0.6107535321821036, 0.6160125588697017, 0.6337519623233909]\n",
      "[0.6039000973522535, 0.6556194554491814, 0.6789971870961946, 0.6945197835374752, 0.7074819477829082, 0.7193548837529964, 0.7242988112598977, 0.7416634215891527, 0.7495308545781816, 0.7582598192765834, 0.7724460387529478, 0.7804656105332632, 0.7986731218097474, 0.8068658850338338, 0.8243549380917918, 0.8212822117855568, 0.8340063129464965, 0.8294087800196197, 0.8373014065125153, 0.8466964835512736, 0.8511212753829128, 0.8596660405638948, 0.8712288597259524, 0.8666464330351811, 0.868088532254806, 0.8728228681196131, 0.8709855021439283, 0.8666067706957958, 0.8701927366161902, 0.878835634252187, 0.8836497681891305, 0.8864429378411444, 0.8858597790741773, 0.8860973555573709, 0.8836064270238828, 0.8923955461468317, 0.898207855101682, 0.8891149018541732, 0.8857880027360584, 0.8961117610902861, 0.8945246546682132, 0.8955305927609993, 0.8990159939597039, 0.9013541580120579, 0.9025363936474916, 0.8996159736319667, 0.903561235910612, 0.898726599976718, 0.897483636006549, 0.9081997889364595]\n",
      "[0.34648018487253923, 0.4953730411452354, 0.5343503552219042, 0.5631688402634736, 0.5873889642931932, 0.6032166604809079, 0.6245116030488884, 0.645345178669487, 0.6612015859854686, 0.6762086168871498, 0.688538428984175, 0.7054976852821012, 0.7229796825213285, 0.7327576295276078, 0.7471001794538087, 0.7533374322497435, 0.7660736986117839, 0.7740492245689694, 0.7844628901223828, 0.7922311109661394, 0.7989555933681831, 0.8048840650352131, 0.815304113981194, 0.8172806616330043, 0.8253552354815149, 0.8270800065392364, 0.8324550586211144, 0.832984814774554, 0.835990373545733, 0.8427009098665882, 0.8464228567431124, 0.8507589779718551, 0.8507500414889824, 0.8526413394178745, 0.856855158125191, 0.8614894684397868, 0.8643696051638583, 0.8610484427141941, 0.864608929666803, 0.8689591065197046, 0.8701164604652437, 0.8723169730830026, 0.8708099956490793, 0.8759319514879496, 0.8769527271442312, 0.8765141854627625, 0.8787978065641746, 0.8787317453573111, 0.8800586235722733, 0.8848188503599971]\n",
      "[0.4181958711612102, 0.5396907396163024, 0.5740870811571778, 0.5992872885318604, 0.6197532209750701, 0.6357229664822464, 0.6518567576099081, 0.6714923051656149, 0.6850005554662006, 0.6976051427426252, 0.7118384408905062, 0.7252781764275171, 0.7454751686435749, 0.7542730445519702, 0.7715901682393869, 0.7736066675318863, 0.7873153036473098, 0.7885531244604497, 0.7993897648511082, 0.8085332881447151, 0.8142220796419363, 0.8218416454208883, 0.8335101076001777, 0.8321577782978437, 0.8379332289988376, 0.8413110890761174, 0.843176897799945, 0.8414156006408108, 0.8448185609115705, 0.8531251950210441, 0.8575313591721969, 0.8615378773281999, 0.8613169179844941, 0.862511332040383, 0.863407967840728, 0.8707702114945404, 0.8752807721087678, 0.869113640246343, 0.8692216662704575, 0.8769777929174895, 0.8768836039543292, 0.8785954045071731, 0.8797359719560458, 0.8835523973334537, 0.8848759971894237, 0.8833662632867191, 0.88633640238484, 0.8840795990928181, 0.884032449220976, 0.8923825386458198]\n",
      "[0.2555729984301413, 0.28728414442700156, 0.31145996860282577, 0.31868131868131866, 0.3105180533751962, 0.32276295133437993, 0.31930926216640504, 0.3271585557299843, 0.34379905808477235, 0.3337519623233909, 0.33249607535321823, 0.3350078492935636, 0.3368916797488226, 0.3425431711145997, 0.352276295133438, 0.35918367346938773, 0.3576138147566719, 0.352276295133438, 0.3695447409733124, 0.3579277864992151, 0.3557299843014129, 0.35070643642072213, 0.36106750392464676, 0.3682888540031397, 0.3510204081632653, 0.36138147566719, 0.3739403453689168, 0.3551020408163265, 0.3711145996860283, 0.35384615384615387, 0.3717425431711146, 0.37080062794348506, 0.35698587127158554, 0.36452119309262165, 0.36671899529042384, 0.3629513343799058, 0.378021978021978, 0.3642072213500785, 0.3620094191522763, 0.3434850863422292, 0.36577708006279436, 0.352276295133438, 0.34976452119309265, 0.34222919937205654, 0.3585557299843014, 0.37676609105180536, 0.3579277864992151, 0.376138147566719, 0.3695447409733124, 0.3704866562009419]\n",
      "[0.7251286738689536, 0.750026894548203, 0.7660182368407942, 0.7915221062625664, 0.7819522351763496, 0.7633385353503317, 0.7478382205564557, 0.7296451142167318, 0.753876132163091, 0.7747392543408486, 0.7544746341094776, 0.7261170679221927, 0.7598921362292552, 0.7843822603240826, 0.7643132449606368, 0.7631089119500385, 0.776512988819784, 0.7643723253480396, 0.7493044188893616, 0.7484515897469426, 0.7648618904999828, 0.7452059925649517, 0.7466313676639644, 0.7733822406475548, 0.7316362959395778, 0.7350408971549907, 0.7612998870673238, 0.7212305330235925, 0.7559488170367303, 0.7194579310078305, 0.7316389022827865, 0.7445998061854855, 0.7100685937136099, 0.7262275555782798, 0.713632579481859, 0.7291917068346143, 0.735831765375388, 0.7196853259304339, 0.7268976824576184, 0.7353269891122514, 0.7295593281696228, 0.7315987176420489, 0.728043904642373, 0.7204817236931662, 0.7018255126483176, 0.7383274155625607, 0.7147773246857194, 0.7306062075360525, 0.7221161427784605, 0.7361599262066387]\n",
      "[0.4834716805880964, 0.5249176722764075, 0.5386669493511634, 0.5363568315887983, 0.5402636752927372, 0.5707333766032799, 0.5927894912727306, 0.5922797934025895, 0.5909018134614875, 0.5870902172191459, 0.5898352302656309, 0.6042784144637118, 0.5827544915266382, 0.594295499574951, 0.6045787601564737, 0.5934451083367357, 0.5894969167077985, 0.5880460056036365, 0.6106435521768756, 0.6043301818472777, 0.5925753548562492, 0.6038856808070099, 0.5961563723438498, 0.589127250845376, 0.6154520816494129, 0.608208491961823, 0.6072068883627045, 0.6131628555579771, 0.6064670652269176, 0.6088351089359797, 0.6104976676812243, 0.6010568309365872, 0.616828431599718, 0.6100572447708119, 0.623168806431741, 0.6003377921169138, 0.612881708797337, 0.6203507018741932, 0.609779389123394, 0.6029780998754107, 0.6048762006566928, 0.6075211493291878, 0.6130990012124901, 0.6114056587749958, 0.6211586356102881, 0.6128877501322143, 0.6206896565898203, 0.617304817303741, 0.6193119498786075, 0.6135314418414701]\n",
      "[0.529709149597023, 0.5800168704549706, 0.6003641384160319, 0.6131985294157458, 0.6116645093162265, 0.631317297451367, 0.6443188960102714, 0.6335075732156883, 0.6506992914867709, 0.6556459413613017, 0.6418826167279109, 0.6382023134996523, 0.6404640631703313, 0.664833350298273, 0.6639364468099566, 0.6563294464330232, 0.6571734569855842, 0.6533789123062114, 0.6621246754488249, 0.6571491683756345, 0.6589046987197397, 0.6599158855473084, 0.6538930086777458, 0.6609970379223318, 0.6610449627952266, 0.6583684378406192, 0.6681240798524896, 0.652922200038576, 0.6676801992298876, 0.6501052814846324, 0.6587656298852267, 0.6584014703311887, 0.6520139485864905, 0.655719446753578, 0.6581485511892737, 0.6485075555083649, 0.6640806968109901, 0.6603165323586702, 0.6569297286804009, 0.6529806874770577, 0.6552528552044661, 0.6560969433342929, 0.6585173389849789, 0.6527067741411563, 0.6535402798464017, 0.6635509692779028, 0.6590299423062569, 0.6643734193915967, 0.6625504440477287, 0.6631999539005061]\n"
     ]
    }
   ],
   "source": [
    "EPOCHS = 50\n",
    "N_CLASSES = 19\n",
    "\n",
    "thresholds = [0.3, 0.5, 0.7, 0.9]\n",
    "model_names = [\n",
    "\t\"combined_threshold_0_3\",\n",
    "\t\"combined_threshold_0_5\",\n",
    "\t\"combined_threshold_0_7\",\n",
    "\t\"combined_threshold_0_9\",\n",
    "]\n",
    "for threshold, model_name in zip(thresholds, model_names):\n",
    "\tprint(threshold)\n",
    "\tprint(model_name)\n",
    "\n",
    "\tmodel = CombinedModel(\n",
    "\t\tchoice=\"regnet_x_1_6gf\",\n",
    "\t\tpretrained=True, \t\t# if pretrained is False, then freeze should also be False\n",
    "\t\tfreeze=True,\n",
    "\t\tcnn_n_out=256,\n",
    "\t\tno_layers=2,\n",
    "\t\tvocab_size=len(vocab), \t# already added by 1\n",
    "\t\tembedding_dim=64,\n",
    "\t\tlstm_hidden_dim=256,\n",
    "\t\tlstm_n_out=128,\n",
    "\t\tlstm_dropout=0.3,\n",
    "\t\tfc_dropout=0.5,\n",
    "\t)\n",
    "\t# utilise GPU\n",
    "\tif torch.cuda.is_available():\n",
    "\t\tprint('using GPU')\n",
    "\t\tmodel = model.to('cuda')\n",
    "\n",
    "\tloss_fn = nn.BCEWithLogitsLoss(pos_weight=pos_weights)\n",
    "\toptimizer = torch.optim.Adam(\n",
    "\t\tparams=model.parameters(),\n",
    "\t\tlr=0.001,\n",
    "\t)\n",
    "\n",
    "\tmodel, results = train_and_val(\n",
    "\t\tmodel=model,\n",
    "\t\tepochs=EPOCHS,\n",
    "\t\tn_classes=N_CLASSES,\n",
    "\t\toptimizer=optimizer,\n",
    "\t\tloss_fn=loss_fn,\n",
    "\t\tthreshold=threshold,\n",
    "\t\tbatch_size=BATCH_SIZE\n",
    "\t)\n",
    "\ttorch.save(model.state_dict(), '../saved_models/' + model_name)\n",
    "\tresults = pd.DataFrame(results)\n",
    "\tresults.to_csv(f\"../logs/{model_name}.csv\", index=False)\n",
    "\t"
   ]
  },
  {
   "cell_type": "markdown",
   "metadata": {},
   "source": [
    "## Hyperparameter Analysis (Dropout Rate at Fully Connected Layer)"
   ]
  },
  {
   "cell_type": "code",
   "execution_count": 13,
   "metadata": {},
   "outputs": [
    {
     "name": "stdout",
     "output_type": "stream",
     "text": [
      "0.2\n",
      "combined_dropout_0_2\n",
      "using GPU\n"
     ]
    },
    {
     "name": "stderr",
     "output_type": "stream",
     "text": [
      "Epoch 1 Training: 100%|██████████| 797/797 [00:50<00:00, 15.80it/s]\n"
     ]
    },
    {
     "name": "stdout",
     "output_type": "stream",
     "text": [
      "Epoch 1, Train Loss: 0.716950691, Train Accuracy: 6.3343799%, Val Accuracy: 14.0659341%\n"
     ]
    },
    {
     "name": "stderr",
     "output_type": "stream",
     "text": [
      "Epoch 2 Training: 100%|██████████| 797/797 [00:50<00:00, 15.72it/s]\n"
     ]
    },
    {
     "name": "stdout",
     "output_type": "stream",
     "text": [
      "Epoch 2, Train Loss: 0.574437652, Train Accuracy: 13.2967033%, Val Accuracy: 19.4034537%\n"
     ]
    },
    {
     "name": "stderr",
     "output_type": "stream",
     "text": [
      "Epoch 3 Training: 100%|██████████| 797/797 [00:50<00:00, 15.84it/s]\n"
     ]
    },
    {
     "name": "stdout",
     "output_type": "stream",
     "text": [
      "Epoch 3, Train Loss: 0.515103535, Train Accuracy: 16.0910518%, Val Accuracy: 20.4081633%\n"
     ]
    },
    {
     "name": "stderr",
     "output_type": "stream",
     "text": [
      "Epoch 4 Training: 100%|██████████| 797/797 [00:51<00:00, 15.52it/s]\n"
     ]
    },
    {
     "name": "stdout",
     "output_type": "stream",
     "text": [
      "Epoch 4, Train Loss: 0.468289472, Train Accuracy: 18.2339089%, Val Accuracy: 20.1883830%\n"
     ]
    },
    {
     "name": "stderr",
     "output_type": "stream",
     "text": [
      "Epoch 5 Training: 100%|██████████| 797/797 [00:52<00:00, 15.29it/s]\n"
     ]
    },
    {
     "name": "stdout",
     "output_type": "stream",
     "text": [
      "Epoch 5, Train Loss: 0.435649848, Train Accuracy: 19.7802198%, Val Accuracy: 20.9733124%\n"
     ]
    },
    {
     "name": "stderr",
     "output_type": "stream",
     "text": [
      "Epoch 6 Training: 100%|██████████| 797/797 [00:50<00:00, 15.76it/s]\n"
     ]
    },
    {
     "name": "stdout",
     "output_type": "stream",
     "text": [
      "Epoch 6, Train Loss: 0.395407583, Train Accuracy: 22.0800628%, Val Accuracy: 19.4976452%\n"
     ]
    },
    {
     "name": "stderr",
     "output_type": "stream",
     "text": [
      "Epoch 7 Training: 100%|██████████| 797/797 [00:50<00:00, 15.76it/s]\n"
     ]
    },
    {
     "name": "stdout",
     "output_type": "stream",
     "text": [
      "Epoch 7, Train Loss: 0.365052952, Train Accuracy: 23.7676609%, Val Accuracy: 26.1224490%\n"
     ]
    },
    {
     "name": "stderr",
     "output_type": "stream",
     "text": [
      "Epoch 8 Training: 100%|██████████| 797/797 [00:50<00:00, 15.76it/s]\n"
     ]
    },
    {
     "name": "stdout",
     "output_type": "stream",
     "text": [
      "Epoch 8, Train Loss: 0.329615341, Train Accuracy: 26.8916797%, Val Accuracy: 23.4850863%\n"
     ]
    },
    {
     "name": "stderr",
     "output_type": "stream",
     "text": [
      "Epoch 9 Training: 100%|██████████| 797/797 [00:50<00:00, 15.71it/s]\n"
     ]
    },
    {
     "name": "stdout",
     "output_type": "stream",
     "text": [
      "Epoch 9, Train Loss: 0.293653153, Train Accuracy: 29.0894819%, Val Accuracy: 26.3422292%\n"
     ]
    },
    {
     "name": "stderr",
     "output_type": "stream",
     "text": [
      "Epoch 10 Training: 100%|██████████| 797/797 [00:50<00:00, 15.77it/s]\n"
     ]
    },
    {
     "name": "stdout",
     "output_type": "stream",
     "text": [
      "Epoch 10, Train Loss: 0.268701856, Train Accuracy: 32.0565149%, Val Accuracy: 28.3516484%\n"
     ]
    },
    {
     "name": "stderr",
     "output_type": "stream",
     "text": [
      "Epoch 11 Training: 100%|██████████| 797/797 [00:50<00:00, 15.78it/s]\n"
     ]
    },
    {
     "name": "stdout",
     "output_type": "stream",
     "text": [
      "Epoch 11, Train Loss: 0.241649671, Train Accuracy: 34.8508634%, Val Accuracy: 28.5086342%\n"
     ]
    },
    {
     "name": "stderr",
     "output_type": "stream",
     "text": [
      "Epoch 12 Training: 100%|██████████| 797/797 [00:50<00:00, 15.72it/s]\n"
     ]
    },
    {
     "name": "stdout",
     "output_type": "stream",
     "text": [
      "Epoch 12, Train Loss: 0.222048981, Train Accuracy: 37.6687598%, Val Accuracy: 27.7551020%\n"
     ]
    },
    {
     "name": "stderr",
     "output_type": "stream",
     "text": [
      "Epoch 13 Training: 100%|██████████| 797/797 [00:50<00:00, 15.71it/s]\n"
     ]
    },
    {
     "name": "stdout",
     "output_type": "stream",
     "text": [
      "Epoch 13, Train Loss: 0.200809343, Train Accuracy: 40.9105181%, Val Accuracy: 29.0423862%\n"
     ]
    },
    {
     "name": "stderr",
     "output_type": "stream",
     "text": [
      "Epoch 14 Training: 100%|██████████| 797/797 [00:50<00:00, 15.70it/s]\n"
     ]
    },
    {
     "name": "stdout",
     "output_type": "stream",
     "text": [
      "Epoch 14, Train Loss: 0.182056624, Train Accuracy: 42.8257457%, Val Accuracy: 29.7959184%\n"
     ]
    },
    {
     "name": "stderr",
     "output_type": "stream",
     "text": [
      "Epoch 15 Training: 100%|██████████| 797/797 [00:50<00:00, 15.79it/s]\n"
     ]
    },
    {
     "name": "stdout",
     "output_type": "stream",
     "text": [
      "Epoch 15, Train Loss: 0.162014895, Train Accuracy: 46.2637363%, Val Accuracy: 32.4646782%\n"
     ]
    },
    {
     "name": "stderr",
     "output_type": "stream",
     "text": [
      "Epoch 16 Training: 100%|██████████| 797/797 [00:50<00:00, 15.68it/s]\n"
     ]
    },
    {
     "name": "stdout",
     "output_type": "stream",
     "text": [
      "Epoch 16, Train Loss: 0.157607770, Train Accuracy: 47.5353218%, Val Accuracy: 31.5227630%\n"
     ]
    },
    {
     "name": "stderr",
     "output_type": "stream",
     "text": [
      "Epoch 17 Training: 100%|██████████| 797/797 [00:51<00:00, 15.46it/s]\n"
     ]
    },
    {
     "name": "stdout",
     "output_type": "stream",
     "text": [
      "Epoch 17, Train Loss: 0.144906337, Train Accuracy: 49.1915228%, Val Accuracy: 31.6797488%\n"
     ]
    },
    {
     "name": "stderr",
     "output_type": "stream",
     "text": [
      "Epoch 18 Training: 100%|██████████| 797/797 [00:50<00:00, 15.68it/s]\n"
     ]
    },
    {
     "name": "stdout",
     "output_type": "stream",
     "text": [
      "Epoch 18, Train Loss: 0.137829834, Train Accuracy: 50.6828885%, Val Accuracy: 34.2229199%\n"
     ]
    },
    {
     "name": "stderr",
     "output_type": "stream",
     "text": [
      "Epoch 19 Training: 100%|██████████| 797/797 [00:50<00:00, 15.75it/s]\n"
     ]
    },
    {
     "name": "stdout",
     "output_type": "stream",
     "text": [
      "Epoch 19, Train Loss: 0.120706261, Train Accuracy: 54.1758242%, Val Accuracy: 33.0612245%\n"
     ]
    },
    {
     "name": "stderr",
     "output_type": "stream",
     "text": [
      "Epoch 20 Training: 100%|██████████| 797/797 [00:50<00:00, 15.75it/s]\n"
     ]
    },
    {
     "name": "stdout",
     "output_type": "stream",
     "text": [
      "Epoch 20, Train Loss: 0.113381365, Train Accuracy: 55.8163265%, Val Accuracy: 33.1240188%\n"
     ]
    },
    {
     "name": "stderr",
     "output_type": "stream",
     "text": [
      "Epoch 21 Training: 100%|██████████| 797/797 [00:50<00:00, 15.71it/s]\n"
     ]
    },
    {
     "name": "stdout",
     "output_type": "stream",
     "text": [
      "Epoch 21, Train Loss: 0.105094896, Train Accuracy: 57.7551020%, Val Accuracy: 35.0706436%\n"
     ]
    },
    {
     "name": "stderr",
     "output_type": "stream",
     "text": [
      "Epoch 22 Training: 100%|██████████| 797/797 [00:50<00:00, 15.79it/s]\n"
     ]
    },
    {
     "name": "stdout",
     "output_type": "stream",
     "text": [
      "Epoch 22, Train Loss: 0.101817221, Train Accuracy: 59.3642072%, Val Accuracy: 33.3751962%\n"
     ]
    },
    {
     "name": "stderr",
     "output_type": "stream",
     "text": [
      "Epoch 23 Training: 100%|██████████| 797/797 [00:50<00:00, 15.66it/s]\n"
     ]
    },
    {
     "name": "stdout",
     "output_type": "stream",
     "text": [
      "Epoch 23, Train Loss: 0.090578566, Train Accuracy: 62.3704867%, Val Accuracy: 34.5054945%\n"
     ]
    },
    {
     "name": "stderr",
     "output_type": "stream",
     "text": [
      "Epoch 24 Training: 100%|██████████| 797/797 [00:50<00:00, 15.72it/s]\n"
     ]
    },
    {
     "name": "stdout",
     "output_type": "stream",
     "text": [
      "Epoch 24, Train Loss: 0.087822337, Train Accuracy: 62.8571429%, Val Accuracy: 33.7205651%\n"
     ]
    },
    {
     "name": "stderr",
     "output_type": "stream",
     "text": [
      "Epoch 25 Training: 100%|██████████| 797/797 [00:50<00:00, 15.78it/s]\n"
     ]
    },
    {
     "name": "stdout",
     "output_type": "stream",
     "text": [
      "Epoch 25, Train Loss: 0.084263493, Train Accuracy: 64.8273155%, Val Accuracy: 35.8869702%\n"
     ]
    },
    {
     "name": "stderr",
     "output_type": "stream",
     "text": [
      "Epoch 26 Training: 100%|██████████| 797/797 [00:50<00:00, 15.79it/s]\n"
     ]
    },
    {
     "name": "stdout",
     "output_type": "stream",
     "text": [
      "Epoch 26, Train Loss: 0.079517807, Train Accuracy: 65.9497645%, Val Accuracy: 35.5416013%\n"
     ]
    },
    {
     "name": "stderr",
     "output_type": "stream",
     "text": [
      "Epoch 27 Training: 100%|██████████| 797/797 [00:50<00:00, 15.75it/s]\n"
     ]
    },
    {
     "name": "stdout",
     "output_type": "stream",
     "text": [
      "Epoch 27, Train Loss: 0.073315605, Train Accuracy: 67.3312402%, Val Accuracy: 33.5007849%\n"
     ]
    },
    {
     "name": "stderr",
     "output_type": "stream",
     "text": [
      "Epoch 28 Training: 100%|██████████| 797/797 [00:50<00:00, 15.73it/s]\n"
     ]
    },
    {
     "name": "stdout",
     "output_type": "stream",
     "text": [
      "Epoch 28, Train Loss: 0.071167352, Train Accuracy: 68.6891680%, Val Accuracy: 34.3485086%\n"
     ]
    },
    {
     "name": "stderr",
     "output_type": "stream",
     "text": [
      "Epoch 29 Training: 100%|██████████| 797/797 [00:51<00:00, 15.50it/s]\n"
     ]
    },
    {
     "name": "stdout",
     "output_type": "stream",
     "text": [
      "Epoch 29, Train Loss: 0.069040264, Train Accuracy: 69.4505495%, Val Accuracy: 34.4427002%\n"
     ]
    },
    {
     "name": "stderr",
     "output_type": "stream",
     "text": [
      "Epoch 30 Training: 100%|██████████| 797/797 [00:50<00:00, 15.69it/s]\n"
     ]
    },
    {
     "name": "stdout",
     "output_type": "stream",
     "text": [
      "Epoch 30, Train Loss: 0.066672434, Train Accuracy: 70.1648352%, Val Accuracy: 34.5368917%\n"
     ]
    },
    {
     "name": "stderr",
     "output_type": "stream",
     "text": [
      "Epoch 31 Training: 100%|██████████| 797/797 [00:50<00:00, 15.79it/s]\n"
     ]
    },
    {
     "name": "stdout",
     "output_type": "stream",
     "text": [
      "Epoch 31, Train Loss: 0.060728243, Train Accuracy: 72.2370487%, Val Accuracy: 34.7880691%\n"
     ]
    },
    {
     "name": "stderr",
     "output_type": "stream",
     "text": [
      "Epoch 32 Training: 100%|██████████| 797/797 [00:50<00:00, 15.79it/s]\n"
     ]
    },
    {
     "name": "stdout",
     "output_type": "stream",
     "text": [
      "Epoch 32, Train Loss: 0.059836105, Train Accuracy: 72.7001570%, Val Accuracy: 35.1334380%\n"
     ]
    },
    {
     "name": "stderr",
     "output_type": "stream",
     "text": [
      "Epoch 33 Training: 100%|██████████| 797/797 [00:50<00:00, 15.71it/s]\n"
     ]
    },
    {
     "name": "stdout",
     "output_type": "stream",
     "text": [
      "Epoch 33, Train Loss: 0.057444024, Train Accuracy: 74.0345369%, Val Accuracy: 35.4160126%\n"
     ]
    },
    {
     "name": "stderr",
     "output_type": "stream",
     "text": [
      "Epoch 34 Training: 100%|██████████| 797/797 [00:50<00:00, 15.78it/s]\n"
     ]
    },
    {
     "name": "stdout",
     "output_type": "stream",
     "text": [
      "Epoch 34, Train Loss: 0.062094014, Train Accuracy: 73.6028257%, Val Accuracy: 35.2904239%\n"
     ]
    },
    {
     "name": "stderr",
     "output_type": "stream",
     "text": [
      "Epoch 35 Training: 100%|██████████| 797/797 [00:51<00:00, 15.50it/s]\n"
     ]
    },
    {
     "name": "stdout",
     "output_type": "stream",
     "text": [
      "Epoch 35, Train Loss: 0.052033866, Train Accuracy: 76.4128728%, Val Accuracy: 35.1334380%\n"
     ]
    },
    {
     "name": "stderr",
     "output_type": "stream",
     "text": [
      "Epoch 36 Training: 100%|██████████| 797/797 [00:53<00:00, 14.86it/s]\n"
     ]
    },
    {
     "name": "stdout",
     "output_type": "stream",
     "text": [
      "Epoch 36, Train Loss: 0.046491959, Train Accuracy: 78.1318681%, Val Accuracy: 35.4160126%\n"
     ]
    },
    {
     "name": "stderr",
     "output_type": "stream",
     "text": [
      "Epoch 37 Training: 100%|██████████| 797/797 [00:51<00:00, 15.55it/s]\n"
     ]
    },
    {
     "name": "stdout",
     "output_type": "stream",
     "text": [
      "Epoch 37, Train Loss: 0.045461572, Train Accuracy: 78.7048666%, Val Accuracy: 36.0753532%\n"
     ]
    },
    {
     "name": "stderr",
     "output_type": "stream",
     "text": [
      "Epoch 38 Training: 100%|██████████| 797/797 [00:51<00:00, 15.40it/s]\n"
     ]
    },
    {
     "name": "stdout",
     "output_type": "stream",
     "text": [
      "Epoch 38, Train Loss: 0.055158048, Train Accuracy: 77.4489796%, Val Accuracy: 35.6043956%\n"
     ]
    },
    {
     "name": "stderr",
     "output_type": "stream",
     "text": [
      "Epoch 39 Training: 100%|██████████| 797/797 [00:51<00:00, 15.52it/s]\n"
     ]
    },
    {
     "name": "stdout",
     "output_type": "stream",
     "text": [
      "Epoch 39, Train Loss: 0.052932277, Train Accuracy: 76.7268446%, Val Accuracy: 33.5949765%\n"
     ]
    },
    {
     "name": "stderr",
     "output_type": "stream",
     "text": [
      "Epoch 40 Training: 100%|██████████| 797/797 [00:51<00:00, 15.37it/s]\n"
     ]
    },
    {
     "name": "stdout",
     "output_type": "stream",
     "text": [
      "Epoch 40, Train Loss: 0.045700775, Train Accuracy: 79.6938776%, Val Accuracy: 35.5102041%\n"
     ]
    },
    {
     "name": "stderr",
     "output_type": "stream",
     "text": [
      "Epoch 41 Training: 100%|██████████| 797/797 [00:51<00:00, 15.45it/s]\n"
     ]
    },
    {
     "name": "stdout",
     "output_type": "stream",
     "text": [
      "Epoch 41, Train Loss: 0.038906135, Train Accuracy: 81.7425432%, Val Accuracy: 35.6671900%\n"
     ]
    },
    {
     "name": "stderr",
     "output_type": "stream",
     "text": [
      "Epoch 42 Training: 100%|██████████| 797/797 [00:52<00:00, 15.31it/s]\n"
     ]
    },
    {
     "name": "stdout",
     "output_type": "stream",
     "text": [
      "Epoch 42, Train Loss: 0.042754457, Train Accuracy: 81.7425432%, Val Accuracy: 36.0439560%\n"
     ]
    },
    {
     "name": "stderr",
     "output_type": "stream",
     "text": [
      "Epoch 43 Training: 100%|██████████| 797/797 [00:51<00:00, 15.57it/s]\n"
     ]
    },
    {
     "name": "stdout",
     "output_type": "stream",
     "text": [
      "Epoch 43, Train Loss: 0.036614978, Train Accuracy: 82.9199372%, Val Accuracy: 35.5102041%\n"
     ]
    },
    {
     "name": "stderr",
     "output_type": "stream",
     "text": [
      "Epoch 44 Training: 100%|██████████| 797/797 [00:51<00:00, 15.48it/s]\n"
     ]
    },
    {
     "name": "stdout",
     "output_type": "stream",
     "text": [
      "Epoch 44, Train Loss: 0.036560133, Train Accuracy: 83.8069074%, Val Accuracy: 35.4474097%\n"
     ]
    },
    {
     "name": "stderr",
     "output_type": "stream",
     "text": [
      "Epoch 45 Training: 100%|██████████| 797/797 [00:51<00:00, 15.55it/s]\n"
     ]
    },
    {
     "name": "stdout",
     "output_type": "stream",
     "text": [
      "Epoch 45, Train Loss: 0.040141146, Train Accuracy: 83.2967033%, Val Accuracy: 33.1868132%\n"
     ]
    },
    {
     "name": "stderr",
     "output_type": "stream",
     "text": [
      "Epoch 46 Training: 100%|██████████| 797/797 [00:51<00:00, 15.47it/s]\n"
     ]
    },
    {
     "name": "stdout",
     "output_type": "stream",
     "text": [
      "Epoch 46, Train Loss: 0.041790871, Train Accuracy: 82.0722135%, Val Accuracy: 32.3076923%\n"
     ]
    },
    {
     "name": "stderr",
     "output_type": "stream",
     "text": [
      "Epoch 47 Training: 100%|██████████| 797/797 [00:51<00:00, 15.43it/s]\n"
     ]
    },
    {
     "name": "stdout",
     "output_type": "stream",
     "text": [
      "Epoch 47, Train Loss: 0.034970976, Train Accuracy: 84.7880691%, Val Accuracy: 35.2276295%\n"
     ]
    },
    {
     "name": "stderr",
     "output_type": "stream",
     "text": [
      "Epoch 48 Training: 100%|██████████| 797/797 [00:51<00:00, 15.53it/s]\n"
     ]
    },
    {
     "name": "stdout",
     "output_type": "stream",
     "text": [
      "Epoch 48, Train Loss: 0.032167174, Train Accuracy: 85.9733124%, Val Accuracy: 32.8100471%\n"
     ]
    },
    {
     "name": "stderr",
     "output_type": "stream",
     "text": [
      "Epoch 49 Training: 100%|██████████| 797/797 [00:51<00:00, 15.53it/s]\n"
     ]
    },
    {
     "name": "stdout",
     "output_type": "stream",
     "text": [
      "Epoch 49, Train Loss: 0.032894714, Train Accuracy: 85.3532182%, Val Accuracy: 33.3751962%\n"
     ]
    },
    {
     "name": "stderr",
     "output_type": "stream",
     "text": [
      "Epoch 50 Training: 100%|██████████| 797/797 [00:51<00:00, 15.53it/s]\n"
     ]
    },
    {
     "name": "stdout",
     "output_type": "stream",
     "text": [
      "Epoch 50, Train Loss: 0.034733999, Train Accuracy: 85.2040816%, Val Accuracy: 34.8194662%\n",
      "[0.06334379905808478, 0.13296703296703297, 0.1609105180533752, 0.18233908948194663, 0.1978021978021978, 0.2208006279434851, 0.23767660910518054, 0.26891679748822606, 0.290894819466248, 0.3205651491365777, 0.34850863422291994, 0.37668759811616953, 0.40910518053375194, 0.4282574568288854, 0.46263736263736266, 0.4753532182103611, 0.49191522762951334, 0.506828885400314, 0.5417582417582417, 0.5581632653061225, 0.5775510204081633, 0.5936420722135007, 0.6237048665620094, 0.6285714285714286, 0.6482731554160126, 0.6594976452119309, 0.6733124018838305, 0.6868916797488226, 0.6945054945054945, 0.7016483516483516, 0.722370486656201, 0.7270015698587127, 0.7403453689167975, 0.7360282574568289, 0.7641287284144427, 0.7813186813186813, 0.7870486656200942, 0.7744897959183673, 0.7672684458398744, 0.7969387755102041, 0.817425431711146, 0.817425431711146, 0.829199372056515, 0.8380690737833595, 0.832967032967033, 0.8207221350078493, 0.8478806907378336, 0.8597331240188383, 0.8535321821036107, 0.8520408163265306]\n",
      "[0.29933604726065455, 0.3784144227758925, 0.4039624647683222, 0.425521610487392, 0.44758250933932947, 0.474539067727651, 0.4970311802910756, 0.525911757963124, 0.559985051116808, 0.5875311349934232, 0.614464620548335, 0.6383484804327118, 0.6635630892703152, 0.686213442377395, 0.7183529306256328, 0.7179403714182153, 0.7312077097521336, 0.7363337638382393, 0.7698711621056152, 0.7851718387632246, 0.7937938992299688, 0.7993436208654254, 0.8201370001171986, 0.8184831303205785, 0.8223571668674673, 0.8256893225106593, 0.8451588523639417, 0.8414719043968208, 0.8481810336102008, 0.8465300306282739, 0.8584817409864438, 0.8604838885603316, 0.8630380143255295, 0.8490773238200123, 0.8715059297729915, 0.8778887752234574, 0.8818047085384508, 0.8670127269973372, 0.8653823069664752, 0.8792969353912279, 0.8898253476620304, 0.8836503492531812, 0.8907447711761217, 0.8901394222127131, 0.885901432803224, 0.8776637327166672, 0.8943616256839668, 0.9005985625348633, 0.8971681304135215, 0.8939832506038945]\n",
      "[0.7449450733904863, 0.786267301106399, 0.8023219066975721, 0.8169258040298186, 0.8294923228903409, 0.8417911025162351, 0.8510617632515212, 0.8631581955075475, 0.8748275546856891, 0.8820167151551418, 0.8880228146819273, 0.8941370694306287, 0.8998188607950022, 0.9036673279513432, 0.9082107071826061, 0.9097307618387338, 0.9131079423533657, 0.9141772380083579, 0.9185493373625037, 0.9199120781484735, 0.922008227754348, 0.9214743739156553, 0.9253464330669783, 0.925633793139908, 0.9272250377003063, 0.9273958762838302, 0.9288049693785161, 0.9285770738258187, 0.9296971153128651, 0.9298570461595269, 0.931006174190943, 0.9319744013673826, 0.9321902288558052, 0.9308739590632039, 0.9344588332571541, 0.9354918271098533, 0.9355814949577809, 0.9344003088696733, 0.9336729987090908, 0.9358181452312445, 0.9374997594836042, 0.9372585625507919, 0.9380978000403637, 0.9384823200079381, 0.9380758892520283, 0.9369893671302348, 0.9390788817365301, 0.9396155278106699, 0.9395658490078461, 0.9395215693564613]\n",
      "[0.4056685790567127, 0.488135645133669, 0.5149753566511276, 0.5382471900149715, 0.5597855412922021, 0.587127794984025, 0.6091694101439115, 0.6369419144293471, 0.6687799472435063, 0.6933460026035105, 0.7158058753538075, 0.7359261290187602, 0.7549602199145794, 0.7728986378215589, 0.7957709670928502, 0.7963813499610449, 0.8066307356638575, 0.8100935171789237, 0.833995670784563, 0.8439041321388234, 0.8500488631621734, 0.8536310575995948, 0.8674249181673347, 0.8668040309001227, 0.8698023126610377, 0.8719818281820677, 0.8837114946022759, 0.8816232114194326, 0.8859355853691507, 0.8849084420232479, 0.8923893411774273, 0.8939084794035079, 0.8956732962135177, 0.8863239507785823, 0.9012995672156002, 0.9053292822293663, 0.9074124521433092, 0.8987943746570628, 0.8976510006697869, 0.9062101451300292, 0.9126604827401749, 0.9092698089610021, 0.9134740505573883, 0.9133095167590181, 0.910870674057857, 0.905792486720339, 0.9159146653064031, 0.9194590644677385, 0.9176543842049848, 0.915858459761237]\n",
      "[0.14065934065934066, 0.19403453689167974, 0.20408163265306123, 0.20188383045525904, 0.2097331240188383, 0.19497645211930925, 0.2612244897959184, 0.234850863422292, 0.2634222919937206, 0.2835164835164835, 0.2850863422291994, 0.27755102040816326, 0.2904238618524333, 0.2979591836734694, 0.3246467817896389, 0.3152276295133438, 0.31679748822605963, 0.34222919937205654, 0.3306122448979592, 0.33124018838304553, 0.35070643642072213, 0.3337519623233909, 0.34505494505494505, 0.3372056514913658, 0.35886970172684457, 0.3554160125588697, 0.3350078492935636, 0.3434850863422292, 0.3444270015698587, 0.3453689167974882, 0.3478806907378336, 0.35133437990580846, 0.35416012558869703, 0.3529042386185243, 0.35133437990580846, 0.35416012558869703, 0.3607535321821036, 0.35604395604395606, 0.3359497645211931, 0.3551020408163265, 0.3566718995290424, 0.36043956043956044, 0.3551020408163265, 0.3544740973312402, 0.33186813186813185, 0.3230769230769231, 0.352276295133438, 0.3281004709576138, 0.3337519623233909, 0.3481946624803768]\n",
      "[0.4027127790761571, 0.44330125023568484, 0.4496089577803981, 0.4427653787477574, 0.4680866734881965, 0.4711893726623891, 0.5072852209236335, 0.5108200419961789, 0.5265911850681316, 0.5400964113538776, 0.5517296906337912, 0.5608248455261623, 0.5375152670761484, 0.5456457811895578, 0.5977562810126424, 0.6117974890303834, 0.594034437419679, 0.589426928163651, 0.598914765246661, 0.5840738799908192, 0.627099348244601, 0.615180254959902, 0.6092164167660102, 0.6111993363877268, 0.6350421840862988, 0.6391195553144758, 0.6283471816132016, 0.6169750539104844, 0.6302985523798978, 0.6350003295564624, 0.6297503598061588, 0.6273817774667794, 0.6343656454989608, 0.6135407786235944, 0.6354466261470005, 0.6305382415528193, 0.6394238234536187, 0.6227181899068753, 0.6218039778570295, 0.6243920686893192, 0.6438073368179592, 0.6243268014896506, 0.6197394814416173, 0.6265824561945376, 0.6182297607069694, 0.6196440349296837, 0.6441603903311556, 0.6068781854959795, 0.6242347770807267, 0.6373356856120177]\n",
      "[0.7824470327088602, 0.7926434938312774, 0.7709739541240415, 0.8098518418981243, 0.7753203125163192, 0.7783002650697203, 0.7574605260690378, 0.7685679207672222, 0.7420766093159731, 0.7334196307365742, 0.7326112154143065, 0.7188451606556601, 0.7355929746344616, 0.7379671004462725, 0.7115799080707506, 0.7000660551908343, 0.7083949244052874, 0.6957028898397518, 0.6949049904425265, 0.7030245225514623, 0.6831266496045911, 0.6978130563135497, 0.6871871578977222, 0.6917985182017627, 0.6783464948518064, 0.6791190113887238, 0.6825575145833881, 0.6810690563078975, 0.6699070706645195, 0.6827888448599481, 0.6761587823582302, 0.6751542437622117, 0.67736489237225, 0.674181476892324, 0.6668146889496839, 0.6659074668842317, 0.6668873739229316, 0.6661299578807273, 0.6718962382066855, 0.6656655727765478, 0.6601740505402273, 0.6628596442906822, 0.6724845747022191, 0.6647632006520233, 0.6689339308266188, 0.6691428600932289, 0.6606804656583525, 0.6704160073366293, 0.6675721863772566, 0.6544381936869796]\n",
      "[0.4991673091123792, 0.5336414148820657, 0.5310053101582227, 0.5347358750530272, 0.5618962451786967, 0.5606201092882778, 0.5880024614455976, 0.5848555715847407, 0.5975572066088098, 0.6038264964049327, 0.6150294951672141, 0.6163909984677103, 0.6009708909521274, 0.6162283946497141, 0.6413278123525643, 0.6461063211550769, 0.6350781403751363, 0.632114674594713, 0.6392116481686362, 0.631500842733678, 0.6486091616468057, 0.6471095670423509, 0.6427204535251055, 0.6378832795368141, 0.652910905017761, 0.6533153125492669, 0.6497493110466575, 0.6432306313980259, 0.646178450096319, 0.6530514615564232, 0.6476439166803529, 0.6482084358918856, 0.6507794721776087, 0.6362652494946834, 0.6461987976682156, 0.645518625429134, 0.6501908534109814, 0.6397948722673816, 0.642142687738577, 0.6399752680140584, 0.6497538570708496, 0.6403791996839141, 0.641262264346174, 0.6420559568539272, 0.6383194200735002, 0.6393500019575691, 0.6495586106976716, 0.633855965773799, 0.6410536271757923, 0.6419598663537418]\n",
      "0.4\n",
      "combined_dropout_0_4\n",
      "using GPU\n"
     ]
    },
    {
     "name": "stderr",
     "output_type": "stream",
     "text": [
      "Epoch 1 Training: 100%|██████████| 797/797 [00:50<00:00, 15.67it/s]\n"
     ]
    },
    {
     "name": "stdout",
     "output_type": "stream",
     "text": [
      "Epoch 1, Train Loss: 0.754451278, Train Accuracy: 4.1522763%, Val Accuracy: 8.9795918%\n"
     ]
    },
    {
     "name": "stderr",
     "output_type": "stream",
     "text": [
      "Epoch 2 Training: 100%|██████████| 797/797 [00:50<00:00, 15.72it/s]\n"
     ]
    },
    {
     "name": "stdout",
     "output_type": "stream",
     "text": [
      "Epoch 2, Train Loss: 0.652044114, Train Accuracy: 8.6028257%, Val Accuracy: 12.7786499%\n"
     ]
    },
    {
     "name": "stderr",
     "output_type": "stream",
     "text": [
      "Epoch 3 Training: 100%|██████████| 797/797 [00:51<00:00, 15.58it/s]\n"
     ]
    },
    {
     "name": "stdout",
     "output_type": "stream",
     "text": [
      "Epoch 3, Train Loss: 0.598363767, Train Accuracy: 10.9105181%, Val Accuracy: 18.8069074%\n"
     ]
    },
    {
     "name": "stderr",
     "output_type": "stream",
     "text": [
      "Epoch 4 Training: 100%|██████████| 797/797 [00:50<00:00, 15.72it/s]\n"
     ]
    },
    {
     "name": "stdout",
     "output_type": "stream",
     "text": [
      "Epoch 4, Train Loss: 0.542254225, Train Accuracy: 13.7127159%, Val Accuracy: 17.6138148%\n"
     ]
    },
    {
     "name": "stderr",
     "output_type": "stream",
     "text": [
      "Epoch 5 Training: 100%|██████████| 797/797 [00:51<00:00, 15.59it/s]\n"
     ]
    },
    {
     "name": "stdout",
     "output_type": "stream",
     "text": [
      "Epoch 5, Train Loss: 0.518085525, Train Accuracy: 14.7017268%, Val Accuracy: 16.5149137%\n"
     ]
    },
    {
     "name": "stderr",
     "output_type": "stream",
     "text": [
      "Epoch 6 Training: 100%|██████████| 797/797 [00:50<00:00, 15.76it/s]\n"
     ]
    },
    {
     "name": "stdout",
     "output_type": "stream",
     "text": [
      "Epoch 6, Train Loss: 0.482211085, Train Accuracy: 16.0439560%, Val Accuracy: 19.5290424%\n"
     ]
    },
    {
     "name": "stderr",
     "output_type": "stream",
     "text": [
      "Epoch 7 Training: 100%|██████████| 797/797 [00:50<00:00, 15.71it/s]\n"
     ]
    },
    {
     "name": "stdout",
     "output_type": "stream",
     "text": [
      "Epoch 7, Train Loss: 0.456014298, Train Accuracy: 17.7786499%, Val Accuracy: 24.3328100%\n"
     ]
    },
    {
     "name": "stderr",
     "output_type": "stream",
     "text": [
      "Epoch 8 Training: 100%|██████████| 797/797 [00:50<00:00, 15.70it/s]\n"
     ]
    },
    {
     "name": "stdout",
     "output_type": "stream",
     "text": [
      "Epoch 8, Train Loss: 0.419223471, Train Accuracy: 19.0109890%, Val Accuracy: 20.0313972%\n"
     ]
    },
    {
     "name": "stderr",
     "output_type": "stream",
     "text": [
      "Epoch 9 Training: 100%|██████████| 797/797 [00:51<00:00, 15.54it/s]\n"
     ]
    },
    {
     "name": "stdout",
     "output_type": "stream",
     "text": [
      "Epoch 9, Train Loss: 0.388853715, Train Accuracy: 21.0282575%, Val Accuracy: 25.1805338%\n"
     ]
    },
    {
     "name": "stderr",
     "output_type": "stream",
     "text": [
      "Epoch 10 Training: 100%|██████████| 797/797 [00:51<00:00, 15.60it/s]\n"
     ]
    },
    {
     "name": "stdout",
     "output_type": "stream",
     "text": [
      "Epoch 10, Train Loss: 0.360692726, Train Accuracy: 23.7441130%, Val Accuracy: 24.6781790%\n"
     ]
    },
    {
     "name": "stderr",
     "output_type": "stream",
     "text": [
      "Epoch 11 Training: 100%|██████████| 797/797 [00:50<00:00, 15.70it/s]\n"
     ]
    },
    {
     "name": "stdout",
     "output_type": "stream",
     "text": [
      "Epoch 11, Train Loss: 0.332990274, Train Accuracy: 25.2354788%, Val Accuracy: 24.5525903%\n"
     ]
    },
    {
     "name": "stderr",
     "output_type": "stream",
     "text": [
      "Epoch 12 Training: 100%|██████████| 797/797 [00:50<00:00, 15.67it/s]\n"
     ]
    },
    {
     "name": "stdout",
     "output_type": "stream",
     "text": [
      "Epoch 12, Train Loss: 0.315037407, Train Accuracy: 27.4489796%, Val Accuracy: 26.1224490%\n"
     ]
    },
    {
     "name": "stderr",
     "output_type": "stream",
     "text": [
      "Epoch 13 Training: 100%|██████████| 797/797 [00:51<00:00, 15.51it/s]\n"
     ]
    },
    {
     "name": "stdout",
     "output_type": "stream",
     "text": [
      "Epoch 13, Train Loss: 0.287349037, Train Accuracy: 29.8430141%, Val Accuracy: 27.4725275%\n"
     ]
    },
    {
     "name": "stderr",
     "output_type": "stream",
     "text": [
      "Epoch 14 Training: 100%|██████████| 797/797 [00:50<00:00, 15.70it/s]\n"
     ]
    },
    {
     "name": "stdout",
     "output_type": "stream",
     "text": [
      "Epoch 14, Train Loss: 0.264768955, Train Accuracy: 31.8210361%, Val Accuracy: 28.9795918%\n"
     ]
    },
    {
     "name": "stderr",
     "output_type": "stream",
     "text": [
      "Epoch 15 Training: 100%|██████████| 797/797 [00:50<00:00, 15.69it/s]\n"
     ]
    },
    {
     "name": "stdout",
     "output_type": "stream",
     "text": [
      "Epoch 15, Train Loss: 0.249661570, Train Accuracy: 34.4897959%, Val Accuracy: 30.8320251%\n"
     ]
    },
    {
     "name": "stderr",
     "output_type": "stream",
     "text": [
      "Epoch 16 Training: 100%|██████████| 797/797 [00:50<00:00, 15.65it/s]\n"
     ]
    },
    {
     "name": "stdout",
     "output_type": "stream",
     "text": [
      "Epoch 16, Train Loss: 0.232379098, Train Accuracy: 36.7268446%, Val Accuracy: 31.1459969%\n"
     ]
    },
    {
     "name": "stderr",
     "output_type": "stream",
     "text": [
      "Epoch 17 Training: 100%|██████████| 797/797 [00:50<00:00, 15.74it/s]\n"
     ]
    },
    {
     "name": "stdout",
     "output_type": "stream",
     "text": [
      "Epoch 17, Train Loss: 0.217886254, Train Accuracy: 38.1004710%, Val Accuracy: 29.7331240%\n"
     ]
    },
    {
     "name": "stderr",
     "output_type": "stream",
     "text": [
      "Epoch 18 Training: 100%|██████████| 797/797 [00:50<00:00, 15.67it/s]\n"
     ]
    },
    {
     "name": "stdout",
     "output_type": "stream",
     "text": [
      "Epoch 18, Train Loss: 0.203642131, Train Accuracy: 40.1255887%, Val Accuracy: 31.3971743%\n"
     ]
    },
    {
     "name": "stderr",
     "output_type": "stream",
     "text": [
      "Epoch 19 Training: 100%|██████████| 797/797 [00:51<00:00, 15.62it/s]\n"
     ]
    },
    {
     "name": "stdout",
     "output_type": "stream",
     "text": [
      "Epoch 19, Train Loss: 0.184814127, Train Accuracy: 43.4536892%, Val Accuracy: 31.3657771%\n"
     ]
    },
    {
     "name": "stderr",
     "output_type": "stream",
     "text": [
      "Epoch 20 Training: 100%|██████████| 797/797 [00:50<00:00, 15.69it/s]\n"
     ]
    },
    {
     "name": "stdout",
     "output_type": "stream",
     "text": [
      "Epoch 20, Train Loss: 0.180544760, Train Accuracy: 44.5368917%, Val Accuracy: 30.5494505%\n"
     ]
    },
    {
     "name": "stderr",
     "output_type": "stream",
     "text": [
      "Epoch 21 Training: 100%|██████████| 797/797 [00:50<00:00, 15.70it/s]\n"
     ]
    },
    {
     "name": "stdout",
     "output_type": "stream",
     "text": [
      "Epoch 21, Train Loss: 0.170504237, Train Accuracy: 45.4317111%, Val Accuracy: 30.7692308%\n"
     ]
    },
    {
     "name": "stderr",
     "output_type": "stream",
     "text": [
      "Epoch 22 Training: 100%|██████████| 797/797 [00:50<00:00, 15.63it/s]\n"
     ]
    },
    {
     "name": "stdout",
     "output_type": "stream",
     "text": [
      "Epoch 22, Train Loss: 0.160379137, Train Accuracy: 48.3281005%, Val Accuracy: 32.0565149%\n"
     ]
    },
    {
     "name": "stderr",
     "output_type": "stream",
     "text": [
      "Epoch 23 Training: 100%|██████████| 797/797 [00:50<00:00, 15.72it/s]\n"
     ]
    },
    {
     "name": "stdout",
     "output_type": "stream",
     "text": [
      "Epoch 23, Train Loss: 0.155259426, Train Accuracy: 48.0141287%, Val Accuracy: 34.0973312%\n"
     ]
    },
    {
     "name": "stderr",
     "output_type": "stream",
     "text": [
      "Epoch 24 Training: 100%|██████████| 797/797 [00:51<00:00, 15.56it/s]\n"
     ]
    },
    {
     "name": "stdout",
     "output_type": "stream",
     "text": [
      "Epoch 24, Train Loss: 0.138442736, Train Accuracy: 51.0204082%, Val Accuracy: 33.0612245%\n"
     ]
    },
    {
     "name": "stderr",
     "output_type": "stream",
     "text": [
      "Epoch 25 Training: 100%|██████████| 797/797 [00:51<00:00, 15.57it/s]\n"
     ]
    },
    {
     "name": "stdout",
     "output_type": "stream",
     "text": [
      "Epoch 25, Train Loss: 0.133549032, Train Accuracy: 51.8288854%, Val Accuracy: 35.0078493%\n"
     ]
    },
    {
     "name": "stderr",
     "output_type": "stream",
     "text": [
      "Epoch 26 Training: 100%|██████████| 797/797 [00:50<00:00, 15.73it/s]\n"
     ]
    },
    {
     "name": "stdout",
     "output_type": "stream",
     "text": [
      "Epoch 26, Train Loss: 0.125668110, Train Accuracy: 53.6656201%, Val Accuracy: 31.8681319%\n"
     ]
    },
    {
     "name": "stderr",
     "output_type": "stream",
     "text": [
      "Epoch 27 Training: 100%|██████████| 797/797 [00:50<00:00, 15.65it/s]\n"
     ]
    },
    {
     "name": "stdout",
     "output_type": "stream",
     "text": [
      "Epoch 27, Train Loss: 0.124221891, Train Accuracy: 54.2778650%, Val Accuracy: 33.5007849%\n"
     ]
    },
    {
     "name": "stderr",
     "output_type": "stream",
     "text": [
      "Epoch 28 Training: 100%|██████████| 797/797 [00:51<00:00, 15.54it/s]\n"
     ]
    },
    {
     "name": "stdout",
     "output_type": "stream",
     "text": [
      "Epoch 28, Train Loss: 0.119574062, Train Accuracy: 54.7488226%, Val Accuracy: 34.4740973%\n"
     ]
    },
    {
     "name": "stderr",
     "output_type": "stream",
     "text": [
      "Epoch 29 Training: 100%|██████████| 797/797 [00:51<00:00, 15.61it/s]\n"
     ]
    },
    {
     "name": "stdout",
     "output_type": "stream",
     "text": [
      "Epoch 29, Train Loss: 0.119167912, Train Accuracy: 55.6593407%, Val Accuracy: 31.9623234%\n"
     ]
    },
    {
     "name": "stderr",
     "output_type": "stream",
     "text": [
      "Epoch 30 Training: 100%|██████████| 797/797 [00:51<00:00, 15.61it/s]\n"
     ]
    },
    {
     "name": "stdout",
     "output_type": "stream",
     "text": [
      "Epoch 30, Train Loss: 0.108186836, Train Accuracy: 57.4489796%, Val Accuracy: 34.4113030%\n"
     ]
    },
    {
     "name": "stderr",
     "output_type": "stream",
     "text": [
      "Epoch 31 Training: 100%|██████████| 797/797 [00:50<00:00, 15.68it/s]\n"
     ]
    },
    {
     "name": "stdout",
     "output_type": "stream",
     "text": [
      "Epoch 31, Train Loss: 0.107973884, Train Accuracy: 57.4332810%, Val Accuracy: 33.7519623%\n"
     ]
    },
    {
     "name": "stderr",
     "output_type": "stream",
     "text": [
      "Epoch 32 Training: 100%|██████████| 797/797 [00:50<00:00, 15.69it/s]\n"
     ]
    },
    {
     "name": "stdout",
     "output_type": "stream",
     "text": [
      "Epoch 32, Train Loss: 0.098068445, Train Accuracy: 60.3924647%, Val Accuracy: 34.6310832%\n"
     ]
    },
    {
     "name": "stderr",
     "output_type": "stream",
     "text": [
      "Epoch 33 Training: 100%|██████████| 797/797 [00:50<00:00, 15.71it/s]\n"
     ]
    },
    {
     "name": "stdout",
     "output_type": "stream",
     "text": [
      "Epoch 33, Train Loss: 0.099690202, Train Accuracy: 60.2119309%, Val Accuracy: 33.3437991%\n"
     ]
    },
    {
     "name": "stderr",
     "output_type": "stream",
     "text": [
      "Epoch 34 Training: 100%|██████████| 797/797 [00:50<00:00, 15.72it/s]\n"
     ]
    },
    {
     "name": "stdout",
     "output_type": "stream",
     "text": [
      "Epoch 34, Train Loss: 0.096285416, Train Accuracy: 60.7142857%, Val Accuracy: 35.4474097%\n"
     ]
    },
    {
     "name": "stderr",
     "output_type": "stream",
     "text": [
      "Epoch 35 Training: 100%|██████████| 797/797 [00:50<00:00, 15.69it/s]\n"
     ]
    },
    {
     "name": "stdout",
     "output_type": "stream",
     "text": [
      "Epoch 35, Train Loss: 0.085345971, Train Accuracy: 62.7943485%, Val Accuracy: 34.0659341%\n"
     ]
    },
    {
     "name": "stderr",
     "output_type": "stream",
     "text": [
      "Epoch 36 Training: 100%|██████████| 797/797 [00:50<00:00, 15.67it/s]\n"
     ]
    },
    {
     "name": "stdout",
     "output_type": "stream",
     "text": [
      "Epoch 36, Train Loss: 0.088787367, Train Accuracy: 62.5981162%, Val Accuracy: 35.1334380%\n"
     ]
    },
    {
     "name": "stderr",
     "output_type": "stream",
     "text": [
      "Epoch 37 Training: 100%|██████████| 797/797 [00:51<00:00, 15.58it/s]\n"
     ]
    },
    {
     "name": "stdout",
     "output_type": "stream",
     "text": [
      "Epoch 37, Train Loss: 0.095095327, Train Accuracy: 61.5541601%, Val Accuracy: 33.2810047%\n"
     ]
    },
    {
     "name": "stderr",
     "output_type": "stream",
     "text": [
      "Epoch 38 Training: 100%|██████████| 797/797 [00:50<00:00, 15.67it/s]\n"
     ]
    },
    {
     "name": "stdout",
     "output_type": "stream",
     "text": [
      "Epoch 38, Train Loss: 0.093574733, Train Accuracy: 62.5196232%, Val Accuracy: 35.3218210%\n"
     ]
    },
    {
     "name": "stderr",
     "output_type": "stream",
     "text": [
      "Epoch 39 Training: 100%|██████████| 797/797 [00:51<00:00, 15.49it/s]\n"
     ]
    },
    {
     "name": "stdout",
     "output_type": "stream",
     "text": [
      "Epoch 39, Train Loss: 0.083278555, Train Accuracy: 64.5211931%, Val Accuracy: 36.2323391%\n"
     ]
    },
    {
     "name": "stderr",
     "output_type": "stream",
     "text": [
      "Epoch 40 Training: 100%|██████████| 797/797 [00:50<00:00, 15.66it/s]\n"
     ]
    },
    {
     "name": "stdout",
     "output_type": "stream",
     "text": [
      "Epoch 40, Train Loss: 0.082595134, Train Accuracy: 64.4662480%, Val Accuracy: 34.5996860%\n"
     ]
    },
    {
     "name": "stderr",
     "output_type": "stream",
     "text": [
      "Epoch 41 Training: 100%|██████████| 797/797 [00:50<00:00, 15.65it/s]\n"
     ]
    },
    {
     "name": "stdout",
     "output_type": "stream",
     "text": [
      "Epoch 41, Train Loss: 0.078341622, Train Accuracy: 65.6750392%, Val Accuracy: 35.9497645%\n"
     ]
    },
    {
     "name": "stderr",
     "output_type": "stream",
     "text": [
      "Epoch 42 Training: 100%|██████████| 797/797 [00:50<00:00, 15.63it/s]\n"
     ]
    },
    {
     "name": "stdout",
     "output_type": "stream",
     "text": [
      "Epoch 42, Train Loss: 0.081762013, Train Accuracy: 65.8555730%, Val Accuracy: 35.1962323%\n"
     ]
    },
    {
     "name": "stderr",
     "output_type": "stream",
     "text": [
      "Epoch 43 Training: 100%|██████████| 797/797 [00:50<00:00, 15.66it/s]\n"
     ]
    },
    {
     "name": "stdout",
     "output_type": "stream",
     "text": [
      "Epoch 43, Train Loss: 0.075718297, Train Accuracy: 67.4175824%, Val Accuracy: 35.9183673%\n"
     ]
    },
    {
     "name": "stderr",
     "output_type": "stream",
     "text": [
      "Epoch 44 Training: 100%|██████████| 797/797 [00:51<00:00, 15.60it/s]\n"
     ]
    },
    {
     "name": "stdout",
     "output_type": "stream",
     "text": [
      "Epoch 44, Train Loss: 0.072541278, Train Accuracy: 67.9434851%, Val Accuracy: 35.5729984%\n"
     ]
    },
    {
     "name": "stderr",
     "output_type": "stream",
     "text": [
      "Epoch 45 Training: 100%|██████████| 797/797 [00:50<00:00, 15.66it/s]\n"
     ]
    },
    {
     "name": "stdout",
     "output_type": "stream",
     "text": [
      "Epoch 45, Train Loss: 0.073358902, Train Accuracy: 68.0455259%, Val Accuracy: 34.9450549%\n"
     ]
    },
    {
     "name": "stderr",
     "output_type": "stream",
     "text": [
      "Epoch 46 Training: 100%|██████████| 797/797 [00:51<00:00, 15.59it/s]\n"
     ]
    },
    {
     "name": "stdout",
     "output_type": "stream",
     "text": [
      "Epoch 46, Train Loss: 0.076541944, Train Accuracy: 67.5431711%, Val Accuracy: 33.8461538%\n"
     ]
    },
    {
     "name": "stderr",
     "output_type": "stream",
     "text": [
      "Epoch 47 Training: 100%|██████████| 797/797 [00:50<00:00, 15.65it/s]\n"
     ]
    },
    {
     "name": "stdout",
     "output_type": "stream",
     "text": [
      "Epoch 47, Train Loss: 0.077432798, Train Accuracy: 68.0533752%, Val Accuracy: 34.6938776%\n"
     ]
    },
    {
     "name": "stderr",
     "output_type": "stream",
     "text": [
      "Epoch 48 Training: 100%|██████████| 797/797 [00:50<00:00, 15.66it/s]\n"
     ]
    },
    {
     "name": "stdout",
     "output_type": "stream",
     "text": [
      "Epoch 48, Train Loss: 0.068968213, Train Accuracy: 69.9215071%, Val Accuracy: 36.7032967%\n"
     ]
    },
    {
     "name": "stderr",
     "output_type": "stream",
     "text": [
      "Epoch 49 Training: 100%|██████████| 797/797 [00:50<00:00, 15.71it/s]\n"
     ]
    },
    {
     "name": "stdout",
     "output_type": "stream",
     "text": [
      "Epoch 49, Train Loss: 0.067124527, Train Accuracy: 70.2354788%, Val Accuracy: 35.1334380%\n"
     ]
    },
    {
     "name": "stderr",
     "output_type": "stream",
     "text": [
      "Epoch 50 Training: 100%|██████████| 797/797 [00:51<00:00, 15.56it/s]\n"
     ]
    },
    {
     "name": "stdout",
     "output_type": "stream",
     "text": [
      "Epoch 50, Train Loss: 0.064427300, Train Accuracy: 70.4631083%, Val Accuracy: 35.4474097%\n",
      "[0.04152276295133438, 0.08602825745682889, 0.10910518053375197, 0.13712715855573, 0.14701726844583987, 0.16043956043956045, 0.17778649921507064, 0.1901098901098901, 0.21028257456828886, 0.23744113029827316, 0.2523547880690738, 0.27448979591836736, 0.2984301412872841, 0.31821036106750394, 0.3448979591836735, 0.3672684458398744, 0.38100470957613813, 0.40125588697017267, 0.43453689167974885, 0.44536891679748825, 0.4543171114599686, 0.48328100470957613, 0.4801412872841444, 0.5102040816326531, 0.5182888540031397, 0.5366562009419152, 0.542778649921507, 0.5474882260596546, 0.5565934065934066, 0.5744897959183674, 0.5743328100470958, 0.6039246467817896, 0.6021193092621664, 0.6071428571428571, 0.6279434850863422, 0.6259811616954474, 0.615541601255887, 0.6251962323390895, 0.6452119309262166, 0.6446624803767661, 0.6567503924646781, 0.6585557299843015, 0.6741758241758242, 0.6794348508634223, 0.6804552590266876, 0.6754317111459969, 0.6805337519623234, 0.6992150706436421, 0.7023547880690738, 0.7046310832025118]\n",
      "[0.28516899944533686, 0.3304679870291713, 0.3554076166902698, 0.3845224840259492, 0.39912922567653036, 0.4128199267857693, 0.42905405612165204, 0.4529983813724925, 0.47514549914178844, 0.4989014438008558, 0.5206053991968, 0.5368839501818892, 0.5632323020060563, 0.5845271883912168, 0.6019667123644439, 0.6187723524761377, 0.6363242522266536, 0.6507774355979808, 0.6731954013317599, 0.6772633470587816, 0.6912561885177018, 0.7031847691652134, 0.7087871241667024, 0.734424490869972, 0.7358773729444769, 0.7491342254235732, 0.7527682456375521, 0.7635181224640517, 0.7658176721183623, 0.77849200023765, 0.7749590893407196, 0.7931321202905721, 0.7978423985787219, 0.8059129941373595, 0.8211213918510074, 0.8133307857459743, 0.8024075950480264, 0.8022014206153136, 0.8211880452307166, 0.8183063208426744, 0.8278602493950773, 0.8222382784603074, 0.8316279561086899, 0.8364797561283925, 0.8380643952768961, 0.833263507661079, 0.8334331975889833, 0.8484333740381139, 0.8468609056732757, 0.8470390922835511]\n",
      "[0.7346762242519028, 0.762829750752867, 0.7805878224998546, 0.7964882443181486, 0.8053725885141801, 0.8169401721641929, 0.8257548448786013, 0.8359763343185659, 0.8465394318937718, 0.8559607795155235, 0.8651584991725205, 0.8696967730402665, 0.8790267323233408, 0.882356200342481, 0.8877019753661939, 0.890803186141777, 0.8941539346291227, 0.8975701835924415, 0.9046311709294926, 0.9045738174460013, 0.9068250661204649, 0.9100846515346959, 0.9108506898973637, 0.9136224788964299, 0.914142093357562, 0.9163867637494633, 0.9164341220974799, 0.9183015584383031, 0.9180224406597756, 0.920522262591974, 0.9197873110747579, 0.9224105175816907, 0.9222394124062155, 0.9227980922429865, 0.9257735745919603, 0.9254414454559047, 0.9226998781235123, 0.9235707308726853, 0.9255770692553594, 0.9263833833213447, 0.9269877928275007, 0.9271314498775111, 0.9275705199589356, 0.9278273891625147, 0.9280201661805707, 0.9270276814181476, 0.9272026705525025, 0.9299880852243095, 0.9291758992216109, 0.9304024375227928]\n",
      "[0.3893722530434555, 0.43936719813759634, 0.46744953638975334, 0.49675483269320325, 0.5120545630650565, 0.5279935899218382, 0.5441385860400919, 0.5683993819779353, 0.5909225494512625, 0.6132143658059185, 0.6339029603138001, 0.6484233267083662, 0.6730961163208953, 0.6911851704592127, 0.7067267667959058, 0.7197842051803595, 0.7344648887073564, 0.7457420658763834, 0.7643865664718513, 0.76684742718566, 0.777901227458664, 0.7866811114587994, 0.790778914956325, 0.8096743939641182, 0.81070435460779, 0.8204521702085491, 0.8230041299848069, 0.83016141573137, 0.8313485350223458, 0.8406272716057209, 0.838350147939975, 0.850479774283346, 0.8533189973532788, 0.8582945164580442, 0.8685954741959991, 0.863968477621777, 0.8565966486292539, 0.8565170990201577, 0.8687944285122016, 0.8672585545898618, 0.8732669774578096, 0.8701492921163526, 0.8754469531016822, 0.8784133228503714, 0.8796930637420143, 0.8763958441847621, 0.8766941668311522, 0.8865154445661808, 0.8850821716588226, 0.8859669559709921]\n",
      "[0.08979591836734693, 0.12778649921507065, 0.1880690737833595, 0.176138147566719, 0.165149136577708, 0.19529042386185244, 0.24332810047095763, 0.20031397174254317, 0.25180533751962325, 0.2467817896389325, 0.24552590266875982, 0.2612244897959184, 0.27472527472527475, 0.2897959183673469, 0.30832025117739403, 0.31145996860282577, 0.29733124018838303, 0.3139717425431711, 0.31365777080062796, 0.3054945054945055, 0.3076923076923077, 0.3205651491365777, 0.34097331240188383, 0.3306122448979592, 0.3500784929356358, 0.31868131868131866, 0.3350078492935636, 0.3447409733124019, 0.3196232339089482, 0.34411302982731556, 0.33751962323390894, 0.34631083202511775, 0.3334379905808477, 0.3544740973312402, 0.34065934065934067, 0.35133437990580846, 0.3328100470957614, 0.3532182103610675, 0.36232339089481946, 0.3459968602825746, 0.35949764521193095, 0.35196232339089484, 0.35918367346938773, 0.3557299843014129, 0.34945054945054943, 0.3384615384615385, 0.3469387755102041, 0.367032967032967, 0.35133437990580846, 0.3544740973312402]\n",
      "[0.3841707522416525, 0.3960931090364805, 0.4343445315104746, 0.43039169361076096, 0.43071061340130734, 0.41840328973908775, 0.47789206690879327, 0.43828986751556714, 0.504587463888714, 0.5032363827544536, 0.5203032568116251, 0.5199064009540504, 0.5385974230556813, 0.5359409756476122, 0.5655552092694469, 0.5518246991255105, 0.537156035709356, 0.5854890339329515, 0.5513766626784399, 0.573447038675357, 0.5940232689197493, 0.584004501362951, 0.6208978001095252, 0.568577387924341, 0.6079849935435497, 0.5838405881435633, 0.6346705806545054, 0.6223904318335667, 0.6082831603755798, 0.6339098147506629, 0.604144749195655, 0.6234871099767194, 0.642470288440782, 0.6164572497063837, 0.6170951567601943, 0.6270158711755821, 0.6305609652751155, 0.6415853002632111, 0.6254868764612828, 0.6361330945964639, 0.6429533144419238, 0.6403227407787245, 0.6473733303518376, 0.6329543620809553, 0.62856351574808, 0.6002803471297827, 0.6155839020842029, 0.6537007498166569, 0.6422300957103324, 0.638530469074025]\n",
      "[0.7702306336952354, 0.7795797726589031, 0.7819438040870434, 0.7587338859479841, 0.772310729837292, 0.7860542264983096, 0.7573821541852763, 0.7859364681958517, 0.7530723701314898, 0.7520352295671955, 0.7526297047381495, 0.7456917397792747, 0.7286741016817969, 0.726978972401865, 0.7186256162179987, 0.7236338546749045, 0.7281724035947748, 0.7138831762599934, 0.7113033335877039, 0.7079170718484896, 0.7022582766943506, 0.7055988084884686, 0.6870218682770818, 0.6995757746638617, 0.6892031339758239, 0.7000039298125741, 0.6866909656455357, 0.6991906899270582, 0.7002451841878575, 0.6865168867216562, 0.6951439778209443, 0.6908892021442512, 0.68455328637315, 0.6815939883513275, 0.6842686295481841, 0.6771154568763138, 0.6820197302110639, 0.6741317657892685, 0.6820324140269104, 0.6763751365634731, 0.681580996799022, 0.6860888013469759, 0.6802178001447823, 0.6828760782690734, 0.6789216165041702, 0.6883539775423181, 0.6794240169879324, 0.6654383827111524, 0.6788428884996337, 0.6826203590552641]\n",
      "[0.47428309689938297, 0.49625537026423605, 0.5256751958159388, 0.5199177668020883, 0.5254370392862411, 0.5216223940335922, 0.5677958973531881, 0.5439836098746751, 0.5863229054224011, 0.5870699047809711, 0.5948558923052696, 0.5959025005544544, 0.6013029997316911, 0.6046622579507458, 0.6173731386703795, 0.6178980163394275, 0.6029247397803813, 0.6327136350030858, 0.6083840885542782, 0.621334177224452, 0.6302653099203824, 0.6241339123624033, 0.6452242000681274, 0.6158890030626477, 0.6402482073067497, 0.6206055556230601, 0.6526386064888975, 0.652523653054159, 0.6363887137388081, 0.6546165454301403, 0.6418162422870665, 0.6501699991836312, 0.6572922455002755, 0.6431551214171268, 0.6436864724134546, 0.6475919825637483, 0.6488454047604852, 0.6522412528806987, 0.6465109543324193, 0.6500416030484961, 0.6570497732031487, 0.6575570871353661, 0.6602068389115444, 0.6537664956760526, 0.6482309224567147, 0.6357449526409965, 0.6425052623043979, 0.6573096749930499, 0.6565553987072326, 0.657631417054344]\n",
      "0.6\n",
      "combined_dropout_0_6\n",
      "using GPU\n"
     ]
    },
    {
     "name": "stderr",
     "output_type": "stream",
     "text": [
      "Epoch 1 Training: 100%|██████████| 797/797 [00:50<00:00, 15.75it/s]\n"
     ]
    },
    {
     "name": "stdout",
     "output_type": "stream",
     "text": [
      "Epoch 1, Train Loss: 0.747343151, Train Accuracy: 4.4662480%, Val Accuracy: 15.2904239%\n"
     ]
    },
    {
     "name": "stderr",
     "output_type": "stream",
     "text": [
      "Epoch 2 Training: 100%|██████████| 797/797 [00:51<00:00, 15.60it/s]\n"
     ]
    },
    {
     "name": "stdout",
     "output_type": "stream",
     "text": [
      "Epoch 2, Train Loss: 0.597431783, Train Accuracy: 11.3814757%, Val Accuracy: 18.1161695%\n"
     ]
    },
    {
     "name": "stderr",
     "output_type": "stream",
     "text": [
      "Epoch 3 Training: 100%|██████████| 797/797 [00:50<00:00, 15.68it/s]\n"
     ]
    },
    {
     "name": "stdout",
     "output_type": "stream",
     "text": [
      "Epoch 3, Train Loss: 0.540323696, Train Accuracy: 14.7645212%, Val Accuracy: 22.6687598%\n"
     ]
    },
    {
     "name": "stderr",
     "output_type": "stream",
     "text": [
      "Epoch 4 Training: 100%|██████████| 797/797 [00:50<00:00, 15.69it/s]\n"
     ]
    },
    {
     "name": "stdout",
     "output_type": "stream",
     "text": [
      "Epoch 4, Train Loss: 0.505103125, Train Accuracy: 16.4835165%, Val Accuracy: 23.3908948%\n"
     ]
    },
    {
     "name": "stderr",
     "output_type": "stream",
     "text": [
      "Epoch 5 Training: 100%|██████████| 797/797 [00:51<00:00, 15.58it/s]\n"
     ]
    },
    {
     "name": "stdout",
     "output_type": "stream",
     "text": [
      "Epoch 5, Train Loss: 0.474026341, Train Accuracy: 18.1004710%, Val Accuracy: 27.1899529%\n"
     ]
    },
    {
     "name": "stderr",
     "output_type": "stream",
     "text": [
      "Epoch 6 Training: 100%|██████████| 797/797 [00:50<00:00, 15.68it/s]\n"
     ]
    },
    {
     "name": "stdout",
     "output_type": "stream",
     "text": [
      "Epoch 6, Train Loss: 0.448322874, Train Accuracy: 19.4191523%, Val Accuracy: 27.3783359%\n"
     ]
    },
    {
     "name": "stderr",
     "output_type": "stream",
     "text": [
      "Epoch 7 Training: 100%|██████████| 797/797 [00:50<00:00, 15.66it/s]\n"
     ]
    },
    {
     "name": "stdout",
     "output_type": "stream",
     "text": [
      "Epoch 7, Train Loss: 0.419437890, Train Accuracy: 20.9340659%, Val Accuracy: 29.0423862%\n"
     ]
    },
    {
     "name": "stderr",
     "output_type": "stream",
     "text": [
      "Epoch 8 Training: 100%|██████████| 797/797 [00:51<00:00, 15.56it/s]\n"
     ]
    },
    {
     "name": "stdout",
     "output_type": "stream",
     "text": [
      "Epoch 8, Train Loss: 0.395297209, Train Accuracy: 22.6766091%, Val Accuracy: 27.3783359%\n"
     ]
    },
    {
     "name": "stderr",
     "output_type": "stream",
     "text": [
      "Epoch 9 Training: 100%|██████████| 797/797 [00:50<00:00, 15.64it/s]\n"
     ]
    },
    {
     "name": "stdout",
     "output_type": "stream",
     "text": [
      "Epoch 9, Train Loss: 0.360040882, Train Accuracy: 24.3799058%, Val Accuracy: 27.6609105%\n"
     ]
    },
    {
     "name": "stderr",
     "output_type": "stream",
     "text": [
      "Epoch 10 Training: 100%|██████████| 797/797 [00:51<00:00, 15.58it/s]\n"
     ]
    },
    {
     "name": "stdout",
     "output_type": "stream",
     "text": [
      "Epoch 10, Train Loss: 0.338822799, Train Accuracy: 26.0361068%, Val Accuracy: 31.1459969%\n"
     ]
    },
    {
     "name": "stderr",
     "output_type": "stream",
     "text": [
      "Epoch 11 Training: 100%|██████████| 797/797 [00:50<00:00, 15.65it/s]\n"
     ]
    },
    {
     "name": "stdout",
     "output_type": "stream",
     "text": [
      "Epoch 11, Train Loss: 0.317411387, Train Accuracy: 28.1161695%, Val Accuracy: 29.2307692%\n"
     ]
    },
    {
     "name": "stderr",
     "output_type": "stream",
     "text": [
      "Epoch 12 Training: 100%|██████████| 797/797 [00:51<00:00, 15.50it/s]\n"
     ]
    },
    {
     "name": "stdout",
     "output_type": "stream",
     "text": [
      "Epoch 12, Train Loss: 0.300878834, Train Accuracy: 29.1836735%, Val Accuracy: 30.9576138%\n"
     ]
    },
    {
     "name": "stderr",
     "output_type": "stream",
     "text": [
      "Epoch 13 Training: 100%|██████████| 797/797 [00:51<00:00, 15.63it/s]\n"
     ]
    },
    {
     "name": "stdout",
     "output_type": "stream",
     "text": [
      "Epoch 13, Train Loss: 0.282475793, Train Accuracy: 30.9968603%, Val Accuracy: 32.0879121%\n"
     ]
    },
    {
     "name": "stderr",
     "output_type": "stream",
     "text": [
      "Epoch 14 Training: 100%|██████████| 797/797 [00:51<00:00, 15.59it/s]\n"
     ]
    },
    {
     "name": "stdout",
     "output_type": "stream",
     "text": [
      "Epoch 14, Train Loss: 0.260985544, Train Accuracy: 32.4332810%, Val Accuracy: 32.9670330%\n"
     ]
    },
    {
     "name": "stderr",
     "output_type": "stream",
     "text": [
      "Epoch 15 Training: 100%|██████████| 797/797 [00:50<00:00, 15.70it/s]\n"
     ]
    },
    {
     "name": "stdout",
     "output_type": "stream",
     "text": [
      "Epoch 15, Train Loss: 0.247401143, Train Accuracy: 34.3328100%, Val Accuracy: 31.4599686%\n"
     ]
    },
    {
     "name": "stderr",
     "output_type": "stream",
     "text": [
      "Epoch 16 Training: 100%|██████████| 797/797 [00:51<00:00, 15.61it/s]\n"
     ]
    },
    {
     "name": "stdout",
     "output_type": "stream",
     "text": [
      "Epoch 16, Train Loss: 0.232366540, Train Accuracy: 36.1616954%, Val Accuracy: 32.2135008%\n"
     ]
    },
    {
     "name": "stderr",
     "output_type": "stream",
     "text": [
      "Epoch 17 Training: 100%|██████████| 797/797 [00:51<00:00, 15.56it/s]\n"
     ]
    },
    {
     "name": "stdout",
     "output_type": "stream",
     "text": [
      "Epoch 17, Train Loss: 0.222513128, Train Accuracy: 38.0926217%, Val Accuracy: 32.5274725%\n"
     ]
    },
    {
     "name": "stderr",
     "output_type": "stream",
     "text": [
      "Epoch 18 Training: 100%|██████████| 797/797 [00:50<00:00, 15.69it/s]\n"
     ]
    },
    {
     "name": "stdout",
     "output_type": "stream",
     "text": [
      "Epoch 18, Train Loss: 0.209217135, Train Accuracy: 39.1365777%, Val Accuracy: 31.9623234%\n"
     ]
    },
    {
     "name": "stderr",
     "output_type": "stream",
     "text": [
      "Epoch 19 Training: 100%|██████████| 797/797 [00:51<00:00, 15.60it/s]\n"
     ]
    },
    {
     "name": "stdout",
     "output_type": "stream",
     "text": [
      "Epoch 19, Train Loss: 0.193750374, Train Accuracy: 41.2244898%, Val Accuracy: 31.3343799%\n"
     ]
    },
    {
     "name": "stderr",
     "output_type": "stream",
     "text": [
      "Epoch 20 Training: 100%|██████████| 797/797 [00:51<00:00, 15.59it/s]\n"
     ]
    },
    {
     "name": "stdout",
     "output_type": "stream",
     "text": [
      "Epoch 20, Train Loss: 0.186552637, Train Accuracy: 41.4050235%, Val Accuracy: 33.7519623%\n"
     ]
    },
    {
     "name": "stderr",
     "output_type": "stream",
     "text": [
      "Epoch 21 Training: 100%|██████████| 797/797 [00:51<00:00, 15.52it/s]\n"
     ]
    },
    {
     "name": "stdout",
     "output_type": "stream",
     "text": [
      "Epoch 21, Train Loss: 0.181237153, Train Accuracy: 42.7237049%, Val Accuracy: 33.2496075%\n"
     ]
    },
    {
     "name": "stderr",
     "output_type": "stream",
     "text": [
      "Epoch 22 Training: 100%|██████████| 797/797 [00:51<00:00, 15.61it/s]\n"
     ]
    },
    {
     "name": "stdout",
     "output_type": "stream",
     "text": [
      "Epoch 22, Train Loss: 0.173230601, Train Accuracy: 43.3751962%, Val Accuracy: 34.2543171%\n"
     ]
    },
    {
     "name": "stderr",
     "output_type": "stream",
     "text": [
      "Epoch 23 Training: 100%|██████████| 797/797 [00:50<00:00, 15.63it/s]\n"
     ]
    },
    {
     "name": "stdout",
     "output_type": "stream",
     "text": [
      "Epoch 23, Train Loss: 0.159101248, Train Accuracy: 45.6750392%, Val Accuracy: 32.7472527%\n"
     ]
    },
    {
     "name": "stderr",
     "output_type": "stream",
     "text": [
      "Epoch 24 Training: 100%|██████████| 797/797 [00:50<00:00, 15.66it/s]\n"
     ]
    },
    {
     "name": "stdout",
     "output_type": "stream",
     "text": [
      "Epoch 24, Train Loss: 0.153254327, Train Accuracy: 46.9152276%, Val Accuracy: 35.6043956%\n"
     ]
    },
    {
     "name": "stderr",
     "output_type": "stream",
     "text": [
      "Epoch 25 Training: 100%|██████████| 797/797 [00:50<00:00, 15.70it/s]\n"
     ]
    },
    {
     "name": "stdout",
     "output_type": "stream",
     "text": [
      "Epoch 25, Train Loss: 0.154095316, Train Accuracy: 46.6875981%, Val Accuracy: 34.1287284%\n"
     ]
    },
    {
     "name": "stderr",
     "output_type": "stream",
     "text": [
      "Epoch 26 Training: 100%|██████████| 797/797 [00:51<00:00, 15.49it/s]\n"
     ]
    },
    {
     "name": "stdout",
     "output_type": "stream",
     "text": [
      "Epoch 26, Train Loss: 0.148343930, Train Accuracy: 48.4536892%, Val Accuracy: 34.6310832%\n"
     ]
    },
    {
     "name": "stderr",
     "output_type": "stream",
     "text": [
      "Epoch 27 Training: 100%|██████████| 797/797 [00:50<00:00, 15.66it/s]\n"
     ]
    },
    {
     "name": "stdout",
     "output_type": "stream",
     "text": [
      "Epoch 27, Train Loss: 0.141961937, Train Accuracy: 49.1993721%, Val Accuracy: 35.9811617%\n"
     ]
    },
    {
     "name": "stderr",
     "output_type": "stream",
     "text": [
      "Epoch 28 Training: 100%|██████████| 797/797 [00:50<00:00, 15.70it/s]\n"
     ]
    },
    {
     "name": "stdout",
     "output_type": "stream",
     "text": [
      "Epoch 28, Train Loss: 0.141405737, Train Accuracy: 50.0078493%, Val Accuracy: 35.2904239%\n"
     ]
    },
    {
     "name": "stderr",
     "output_type": "stream",
     "text": [
      "Epoch 29 Training: 100%|██████████| 797/797 [00:50<00:00, 15.70it/s]\n"
     ]
    },
    {
     "name": "stdout",
     "output_type": "stream",
     "text": [
      "Epoch 29, Train Loss: 0.132454544, Train Accuracy: 51.4285714%, Val Accuracy: 34.6310832%\n"
     ]
    },
    {
     "name": "stderr",
     "output_type": "stream",
     "text": [
      "Epoch 30 Training: 100%|██████████| 797/797 [00:50<00:00, 15.68it/s]\n"
     ]
    },
    {
     "name": "stdout",
     "output_type": "stream",
     "text": [
      "Epoch 30, Train Loss: 0.131661702, Train Accuracy: 51.4050235%, Val Accuracy: 33.5321821%\n"
     ]
    },
    {
     "name": "stderr",
     "output_type": "stream",
     "text": [
      "Epoch 31 Training: 100%|██████████| 797/797 [00:50<00:00, 15.69it/s]\n"
     ]
    },
    {
     "name": "stdout",
     "output_type": "stream",
     "text": [
      "Epoch 31, Train Loss: 0.123250046, Train Accuracy: 53.4144427%, Val Accuracy: 35.4160126%\n"
     ]
    },
    {
     "name": "stderr",
     "output_type": "stream",
     "text": [
      "Epoch 32 Training: 100%|██████████| 797/797 [00:50<00:00, 15.65it/s]\n"
     ]
    },
    {
     "name": "stdout",
     "output_type": "stream",
     "text": [
      "Epoch 32, Train Loss: 0.129167174, Train Accuracy: 52.2370487%, Val Accuracy: 33.5635793%\n"
     ]
    },
    {
     "name": "stderr",
     "output_type": "stream",
     "text": [
      "Epoch 33 Training: 100%|██████████| 797/797 [00:50<00:00, 15.65it/s]\n"
     ]
    },
    {
     "name": "stdout",
     "output_type": "stream",
     "text": [
      "Epoch 33, Train Loss: 0.125733077, Train Accuracy: 52.3312402%, Val Accuracy: 33.2810047%\n"
     ]
    },
    {
     "name": "stderr",
     "output_type": "stream",
     "text": [
      "Epoch 34 Training: 100%|██████████| 797/797 [00:50<00:00, 15.70it/s]\n"
     ]
    },
    {
     "name": "stdout",
     "output_type": "stream",
     "text": [
      "Epoch 34, Train Loss: 0.124532265, Train Accuracy: 53.5478807%, Val Accuracy: 35.3846154%\n"
     ]
    },
    {
     "name": "stderr",
     "output_type": "stream",
     "text": [
      "Epoch 35 Training: 100%|██████████| 797/797 [00:50<00:00, 15.71it/s]\n"
     ]
    },
    {
     "name": "stdout",
     "output_type": "stream",
     "text": [
      "Epoch 35, Train Loss: 0.112363356, Train Accuracy: 55.2511774%, Val Accuracy: 34.9136578%\n"
     ]
    },
    {
     "name": "stderr",
     "output_type": "stream",
     "text": [
      "Epoch 36 Training: 100%|██████████| 797/797 [00:51<00:00, 15.53it/s]\n"
     ]
    },
    {
     "name": "stdout",
     "output_type": "stream",
     "text": [
      "Epoch 36, Train Loss: 0.113346523, Train Accuracy: 55.4709576%, Val Accuracy: 35.5102041%\n"
     ]
    },
    {
     "name": "stderr",
     "output_type": "stream",
     "text": [
      "Epoch 37 Training: 100%|██████████| 797/797 [00:50<00:00, 15.72it/s]\n"
     ]
    },
    {
     "name": "stdout",
     "output_type": "stream",
     "text": [
      "Epoch 37, Train Loss: 0.110209119, Train Accuracy: 55.7221350%, Val Accuracy: 34.0031397%\n"
     ]
    },
    {
     "name": "stderr",
     "output_type": "stream",
     "text": [
      "Epoch 38 Training: 100%|██████████| 797/797 [00:51<00:00, 15.53it/s]\n"
     ]
    },
    {
     "name": "stdout",
     "output_type": "stream",
     "text": [
      "Epoch 38, Train Loss: 0.108421263, Train Accuracy: 56.2951334%, Val Accuracy: 35.5102041%\n"
     ]
    },
    {
     "name": "stderr",
     "output_type": "stream",
     "text": [
      "Epoch 39 Training: 100%|██████████| 797/797 [00:50<00:00, 15.71it/s]\n"
     ]
    },
    {
     "name": "stdout",
     "output_type": "stream",
     "text": [
      "Epoch 39, Train Loss: 0.113534384, Train Accuracy: 56.0989011%, Val Accuracy: 34.7880691%\n"
     ]
    },
    {
     "name": "stderr",
     "output_type": "stream",
     "text": [
      "Epoch 40 Training: 100%|██████████| 797/797 [00:50<00:00, 15.64it/s]\n"
     ]
    },
    {
     "name": "stdout",
     "output_type": "stream",
     "text": [
      "Epoch 40, Train Loss: 0.114591647, Train Accuracy: 56.4756672%, Val Accuracy: 34.4427002%\n"
     ]
    },
    {
     "name": "stderr",
     "output_type": "stream",
     "text": [
      "Epoch 41 Training: 100%|██████████| 797/797 [00:50<00:00, 15.69it/s]\n"
     ]
    },
    {
     "name": "stdout",
     "output_type": "stream",
     "text": [
      "Epoch 41, Train Loss: 0.107972045, Train Accuracy: 57.3704867%, Val Accuracy: 35.3846154%\n"
     ]
    },
    {
     "name": "stderr",
     "output_type": "stream",
     "text": [
      "Epoch 42 Training: 100%|██████████| 797/797 [00:51<00:00, 15.58it/s]\n"
     ]
    },
    {
     "name": "stdout",
     "output_type": "stream",
     "text": [
      "Epoch 42, Train Loss: 0.101970165, Train Accuracy: 58.5478807%, Val Accuracy: 35.0078493%\n"
     ]
    },
    {
     "name": "stderr",
     "output_type": "stream",
     "text": [
      "Epoch 43 Training: 100%|██████████| 797/797 [00:51<00:00, 15.54it/s]\n"
     ]
    },
    {
     "name": "stdout",
     "output_type": "stream",
     "text": [
      "Epoch 43, Train Loss: 0.096987457, Train Accuracy: 59.3877551%, Val Accuracy: 34.6310832%\n"
     ]
    },
    {
     "name": "stderr",
     "output_type": "stream",
     "text": [
      "Epoch 44 Training: 100%|██████████| 797/797 [00:50<00:00, 15.67it/s]\n"
     ]
    },
    {
     "name": "stdout",
     "output_type": "stream",
     "text": [
      "Epoch 44, Train Loss: 0.098941639, Train Accuracy: 59.4897959%, Val Accuracy: 34.4113030%\n"
     ]
    },
    {
     "name": "stderr",
     "output_type": "stream",
     "text": [
      "Epoch 45 Training: 100%|██████████| 797/797 [00:51<00:00, 15.58it/s]\n"
     ]
    },
    {
     "name": "stdout",
     "output_type": "stream",
     "text": [
      "Epoch 45, Train Loss: 0.106406725, Train Accuracy: 58.7833595%, Val Accuracy: 33.9403454%\n"
     ]
    },
    {
     "name": "stderr",
     "output_type": "stream",
     "text": [
      "Epoch 46 Training: 100%|██████████| 797/797 [00:50<00:00, 15.67it/s]\n"
     ]
    },
    {
     "name": "stdout",
     "output_type": "stream",
     "text": [
      "Epoch 46, Train Loss: 0.100457768, Train Accuracy: 59.8194662%, Val Accuracy: 35.6357928%\n"
     ]
    },
    {
     "name": "stderr",
     "output_type": "stream",
     "text": [
      "Epoch 47 Training: 100%|██████████| 797/797 [00:50<00:00, 15.66it/s]\n"
     ]
    },
    {
     "name": "stdout",
     "output_type": "stream",
     "text": [
      "Epoch 47, Train Loss: 0.095334754, Train Accuracy: 60.2040816%, Val Accuracy: 33.6891680%\n"
     ]
    },
    {
     "name": "stderr",
     "output_type": "stream",
     "text": [
      "Epoch 48 Training: 100%|██████████| 797/797 [00:51<00:00, 15.61it/s]\n"
     ]
    },
    {
     "name": "stdout",
     "output_type": "stream",
     "text": [
      "Epoch 48, Train Loss: 0.099424399, Train Accuracy: 60.4081633%, Val Accuracy: 33.5321821%\n"
     ]
    },
    {
     "name": "stderr",
     "output_type": "stream",
     "text": [
      "Epoch 49 Training: 100%|██████████| 797/797 [00:50<00:00, 15.69it/s]\n"
     ]
    },
    {
     "name": "stdout",
     "output_type": "stream",
     "text": [
      "Epoch 49, Train Loss: 0.093543767, Train Accuracy: 60.8006279%, Val Accuracy: 34.4427002%\n"
     ]
    },
    {
     "name": "stderr",
     "output_type": "stream",
     "text": [
      "Epoch 50 Training: 100%|██████████| 797/797 [00:50<00:00, 15.68it/s]\n"
     ]
    },
    {
     "name": "stdout",
     "output_type": "stream",
     "text": [
      "Epoch 50, Train Loss: 0.090922655, Train Accuracy: 61.5698587%, Val Accuracy: 35.0078493%\n",
      "[0.04466248037676609, 0.11381475667189953, 0.14764521193092622, 0.16483516483516483, 0.18100470957613815, 0.19419152276295135, 0.20934065934065935, 0.22676609105180534, 0.24379905808477237, 0.2603610675039246, 0.2811616954474097, 0.29183673469387755, 0.3099686028257457, 0.32433281004709574, 0.34332810047095763, 0.3616169544740973, 0.38092621664050236, 0.3913657770800628, 0.4122448979591837, 0.4140502354788069, 0.42723704866562007, 0.4337519623233909, 0.4567503924646782, 0.46915227629513345, 0.46687598116169543, 0.48453689167974884, 0.4919937205651491, 0.5000784929356358, 0.5142857142857142, 0.5140502354788069, 0.5341444270015698, 0.5223704866562009, 0.5233124018838304, 0.5354788069073784, 0.5525117739403453, 0.5547095761381475, 0.5572213500784929, 0.5629513343799059, 0.560989010989011, 0.564756671899529, 0.5737048665620095, 0.5854788069073783, 0.5938775510204082, 0.5948979591836735, 0.5878335949764522, 0.5981946624803768, 0.6020408163265306, 0.6040816326530613, 0.6080062794348509, 0.6156985871271585]\n",
      "[0.2842335798864539, 0.36821190569124396, 0.3973864189408248, 0.41461833792914476, 0.4304302097236027, 0.4514780188273353, 0.4656158808192818, 0.4883027983170309, 0.5142390956301081, 0.5329020875014686, 0.5493695217587103, 0.5661206649719128, 0.5805198215549666, 0.6056468052677031, 0.619045640826672, 0.6341541461126752, 0.6464407659454401, 0.660908818574895, 0.6827761083743782, 0.6876940707812365, 0.6912847774122287, 0.7060138155026516, 0.7231636067424516, 0.7275988460340741, 0.7271388248839885, 0.7303045593330914, 0.744236536451749, 0.7422982976198369, 0.7548305960527867, 0.7601148714136446, 0.7710196010108121, 0.7606980629379395, 0.7672101916202775, 0.7687643874929933, 0.7834839185872002, 0.7843578552774295, 0.7912197488030173, 0.7909995213082164, 0.7814335230658386, 0.7858858365107527, 0.7903737797757756, 0.804920447854865, 0.8093635986956784, 0.8054928657628242, 0.8004043723372234, 0.8025459873758065, 0.8142420365863386, 0.8113732872009554, 0.8134041536136432, 0.8201185379523604]\n",
      "[0.7362639519200828, 0.7802006129631831, 0.7984245479792534, 0.8080774099951495, 0.8168570601133367, 0.8277259144729281, 0.834603456431743, 0.8428784716372321, 0.8535354891125417, 0.8577999159489266, 0.8652868012268513, 0.8713466067830362, 0.8748483536085739, 0.8818855272527028, 0.8854801934914377, 0.8892015803028221, 0.8925621684073962, 0.8958796033145898, 0.899839163378764, 0.9014297727340078, 0.9026174730347999, 0.9045313024459494, 0.907699125730162, 0.9101012565185115, 0.9093861486640625, 0.9108603875202538, 0.9125801513272841, 0.912961854335712, 0.9148493317313046, 0.913076635726924, 0.9163751984219953, 0.9151155341299756, 0.9162287083155406, 0.9168139560483477, 0.9190912050191202, 0.9191926943249509, 0.9197687135746184, 0.9204714141444301, 0.9190496704196154, 0.9182614737073539, 0.919502815897164, 0.9223600075945186, 0.9236874125876188, 0.9229622421699564, 0.9213945832844437, 0.9218324420232725, 0.9234922563451545, 0.9227891235236105, 0.9234533756206398, 0.9238552421438307]\n",
      "[0.38922537511486976, 0.47767723683077046, 0.507318428133696, 0.5260611383206907, 0.5423786973128255, 0.5631691132715236, 0.5785777623019461, 0.5998506161766199, 0.6263406587338077, 0.6426757095252116, 0.6582276486552362, 0.6720494663912556, 0.6851371004997094, 0.7064027446362887, 0.7173057324979912, 0.7298859022432747, 0.7399126912542174, 0.7518587063645151, 0.7678589643140884, 0.772412922506064, 0.7754995629698819, 0.7865094333434136, 0.7991267308556902, 0.8029601343587595, 0.8022897818050111, 0.8052138086992804, 0.8150885484357046, 0.8139609640083038, 0.8226914910618481, 0.8256598938780829, 0.8335235350453464, 0.8272686773635547, 0.8315207091128053, 0.8325428324289949, 0.8426204183260121, 0.8434178436331796, 0.8477214694620855, 0.8480439365549747, 0.8417856577019428, 0.8441851172791303, 0.8474786411516899, 0.8572407500491677, 0.8605399395744954, 0.8580612326998653, 0.8540919189997838, 0.8559438785494486, 0.8634823660745972, 0.8614598072761921, 0.8628966867544848, 0.8670622379216402]\n",
      "[0.15290423861852434, 0.18116169544740973, 0.22668759811616954, 0.23390894819466249, 0.2718995290423862, 0.2737833594976452, 0.2904238618524333, 0.2737833594976452, 0.2766091051805338, 0.31145996860282577, 0.2923076923076923, 0.30957613814756674, 0.3208791208791209, 0.32967032967032966, 0.31459968602825744, 0.32213500784929355, 0.3252747252747253, 0.3196232339089482, 0.3133437990580848, 0.33751962323390894, 0.33249607535321823, 0.3425431711145997, 0.3274725274725275, 0.35604395604395606, 0.341287284144427, 0.34631083202511775, 0.3598116169544741, 0.3529042386185243, 0.34631083202511775, 0.33532182103610675, 0.35416012558869703, 0.3356357927786499, 0.3328100470957614, 0.35384615384615387, 0.34913657770800627, 0.3551020408163265, 0.3400313971742543, 0.3551020408163265, 0.3478806907378336, 0.3444270015698587, 0.35384615384615387, 0.3500784929356358, 0.34631083202511775, 0.34411302982731556, 0.33940345368916797, 0.3563579277864992, 0.3368916797488226, 0.33532182103610675, 0.3444270015698587, 0.3500784929356358]\n",
      "[0.4413651984913265, 0.47109942003159394, 0.4923106424400017, 0.503111475773623, 0.5043695249917148, 0.5181842460183657, 0.5215447924033721, 0.5056486068298378, 0.5278952063118946, 0.5460709747989071, 0.5581554259933725, 0.5640564496545108, 0.5645823019866959, 0.5914407473973693, 0.5998418429126948, 0.6004226733208423, 0.5855944407414149, 0.6106529522514254, 0.5957230859466026, 0.6114422955452629, 0.6184840838156078, 0.6130729323026438, 0.6203097280563319, 0.6358688388256319, 0.6044655559958397, 0.6340838356728582, 0.6208285893431003, 0.6286814478772502, 0.6434759885097108, 0.614116032999476, 0.6289144319077629, 0.6228126945851997, 0.6174549086015672, 0.6269922544514296, 0.6344664477561625, 0.6442192347297545, 0.6344734494020138, 0.6388353439637188, 0.6225861286919724, 0.6156682970998184, 0.6406297106758082, 0.6356789254680533, 0.6374492777228472, 0.6369055137088924, 0.6406760178295454, 0.6280766090495192, 0.62908721781924, 0.6113549546026772, 0.6366421829448626, 0.6504692994676338]\n",
      "[0.7931017657854297, 0.7940740070092176, 0.7905951501793433, 0.7931898312634518, 0.7773610555075079, 0.7724620718476479, 0.7636031761280924, 0.7764483793632909, 0.7598064465330158, 0.7414361549126517, 0.747684747425159, 0.7439997833378478, 0.7312590288495112, 0.7298660488895546, 0.7218111622429172, 0.717304904339462, 0.7262175348392814, 0.7207783210304866, 0.7149794690853042, 0.7061492570820963, 0.7120121432229961, 0.7176502446230784, 0.7135867015436923, 0.704918078726865, 0.7053488584824923, 0.6930088497984833, 0.6955194044107758, 0.6877743941605174, 0.69180725133184, 0.6943408760846971, 0.6987332031367657, 0.694856488418624, 0.688594283608654, 0.6852655979883703, 0.6829414322659836, 0.6750174077013651, 0.6908008458395194, 0.6849632681445886, 0.6849011502546288, 0.6854687956707873, 0.6818674034195865, 0.6796784935743423, 0.6925391866332687, 0.6901675037480758, 0.6856780366420331, 0.6827425592153311, 0.6819176365010011, 0.6838636088915566, 0.6854425061818243, 0.6811007618460727]\n",
      "[0.5341274919545915, 0.5424688048255802, 0.571371163567787, 0.5925911824025838, 0.5892406266761643, 0.5913759854891601, 0.5934722605231301, 0.5908075354944694, 0.5999635342244808, 0.6139809719039288, 0.6202529265441217, 0.6291263450560741, 0.6273203313431095, 0.640636214824844, 0.6438049487901655, 0.645166868831965, 0.6357157151938196, 0.6509009157971877, 0.6373015611838864, 0.6476623396154598, 0.654205499346697, 0.6544818201457264, 0.654485056511028, 0.6605188261460169, 0.646274694766138, 0.6565651918053179, 0.6505738391211239, 0.6528782578570514, 0.6618345380934443, 0.6439879568630997, 0.657343232458929, 0.6494731007047134, 0.6451576103131492, 0.6485321507034766, 0.6538905656453587, 0.6555328317606937, 0.6570202298139216, 0.6546756333577495, 0.6450405427440146, 0.6434360464889552, 0.6564623886027011, 0.6510530429495107, 0.6592975792770159, 0.6573574761857772, 0.6559781015756286, 0.6506814464102043, 0.6498849649327717, 0.638967850329973, 0.6562456206200632, 0.6612880667402801]\n",
      "0.8\n",
      "combined_dropout_0_8\n",
      "using GPU\n"
     ]
    },
    {
     "name": "stderr",
     "output_type": "stream",
     "text": [
      "Epoch 1 Training: 100%|██████████| 797/797 [00:50<00:00, 15.68it/s]\n"
     ]
    },
    {
     "name": "stdout",
     "output_type": "stream",
     "text": [
      "Epoch 1, Train Loss: 0.870846330, Train Accuracy: 1.5306122%, Val Accuracy: 8.3202512%\n"
     ]
    },
    {
     "name": "stderr",
     "output_type": "stream",
     "text": [
      "Epoch 2 Training: 100%|██████████| 797/797 [00:50<00:00, 15.66it/s]\n"
     ]
    },
    {
     "name": "stdout",
     "output_type": "stream",
     "text": [
      "Epoch 2, Train Loss: 0.770263936, Train Accuracy: 3.7598116%, Val Accuracy: 13.2810047%\n"
     ]
    },
    {
     "name": "stderr",
     "output_type": "stream",
     "text": [
      "Epoch 3 Training: 100%|██████████| 797/797 [00:50<00:00, 15.65it/s]\n"
     ]
    },
    {
     "name": "stdout",
     "output_type": "stream",
     "text": [
      "Epoch 3, Train Loss: 0.720709394, Train Accuracy: 5.3296703%, Val Accuracy: 11.8681319%\n"
     ]
    },
    {
     "name": "stderr",
     "output_type": "stream",
     "text": [
      "Epoch 4 Training: 100%|██████████| 797/797 [00:50<00:00, 15.68it/s]\n"
     ]
    },
    {
     "name": "stdout",
     "output_type": "stream",
     "text": [
      "Epoch 4, Train Loss: 0.660072093, Train Accuracy: 7.0094192%, Val Accuracy: 19.3406593%\n"
     ]
    },
    {
     "name": "stderr",
     "output_type": "stream",
     "text": [
      "Epoch 5 Training: 100%|██████████| 797/797 [00:51<00:00, 15.53it/s]\n"
     ]
    },
    {
     "name": "stdout",
     "output_type": "stream",
     "text": [
      "Epoch 5, Train Loss: 0.637018332, Train Accuracy: 8.1240188%, Val Accuracy: 18.5871272%\n"
     ]
    },
    {
     "name": "stderr",
     "output_type": "stream",
     "text": [
      "Epoch 6 Training: 100%|██████████| 797/797 [00:51<00:00, 15.50it/s]\n"
     ]
    },
    {
     "name": "stdout",
     "output_type": "stream",
     "text": [
      "Epoch 6, Train Loss: 0.613182267, Train Accuracy: 9.3956044%, Val Accuracy: 16.9544741%\n"
     ]
    },
    {
     "name": "stderr",
     "output_type": "stream",
     "text": [
      "Epoch 7 Training: 100%|██████████| 797/797 [00:50<00:00, 15.63it/s]\n"
     ]
    },
    {
     "name": "stdout",
     "output_type": "stream",
     "text": [
      "Epoch 7, Train Loss: 0.593571399, Train Accuracy: 10.0627943%, Val Accuracy: 19.0894819%\n"
     ]
    },
    {
     "name": "stderr",
     "output_type": "stream",
     "text": [
      "Epoch 8 Training: 100%|██████████| 797/797 [00:51<00:00, 15.55it/s]\n"
     ]
    },
    {
     "name": "stdout",
     "output_type": "stream",
     "text": [
      "Epoch 8, Train Loss: 0.569458698, Train Accuracy: 10.8712716%, Val Accuracy: 19.4348509%\n"
     ]
    },
    {
     "name": "stderr",
     "output_type": "stream",
     "text": [
      "Epoch 9 Training: 100%|██████████| 797/797 [00:51<00:00, 15.55it/s]\n"
     ]
    },
    {
     "name": "stdout",
     "output_type": "stream",
     "text": [
      "Epoch 9, Train Loss: 0.540446207, Train Accuracy: 12.0565149%, Val Accuracy: 19.3406593%\n"
     ]
    },
    {
     "name": "stderr",
     "output_type": "stream",
     "text": [
      "Epoch 10 Training: 100%|██████████| 797/797 [00:51<00:00, 15.48it/s]\n"
     ]
    },
    {
     "name": "stdout",
     "output_type": "stream",
     "text": [
      "Epoch 10, Train Loss: 0.520695159, Train Accuracy: 13.0847724%, Val Accuracy: 21.8838305%\n"
     ]
    },
    {
     "name": "stderr",
     "output_type": "stream",
     "text": [
      "Epoch 11 Training: 100%|██████████| 797/797 [00:51<00:00, 15.60it/s]\n"
     ]
    },
    {
     "name": "stdout",
     "output_type": "stream",
     "text": [
      "Epoch 11, Train Loss: 0.494799783, Train Accuracy: 14.0345369%, Val Accuracy: 21.7582418%\n"
     ]
    },
    {
     "name": "stderr",
     "output_type": "stream",
     "text": [
      "Epoch 12 Training: 100%|██████████| 797/797 [00:51<00:00, 15.53it/s]\n"
     ]
    },
    {
     "name": "stdout",
     "output_type": "stream",
     "text": [
      "Epoch 12, Train Loss: 0.472322881, Train Accuracy: 14.6075353%, Val Accuracy: 19.2464678%\n"
     ]
    },
    {
     "name": "stderr",
     "output_type": "stream",
     "text": [
      "Epoch 13 Training: 100%|██████████| 797/797 [00:51<00:00, 15.47it/s]\n"
     ]
    },
    {
     "name": "stdout",
     "output_type": "stream",
     "text": [
      "Epoch 13, Train Loss: 0.458601588, Train Accuracy: 15.8712716%, Val Accuracy: 26.0282575%\n"
     ]
    },
    {
     "name": "stderr",
     "output_type": "stream",
     "text": [
      "Epoch 14 Training: 100%|██████████| 797/797 [00:51<00:00, 15.57it/s]\n"
     ]
    },
    {
     "name": "stdout",
     "output_type": "stream",
     "text": [
      "Epoch 14, Train Loss: 0.437839803, Train Accuracy: 16.6483516%, Val Accuracy: 22.5745683%\n"
     ]
    },
    {
     "name": "stderr",
     "output_type": "stream",
     "text": [
      "Epoch 15 Training: 100%|██████████| 797/797 [00:51<00:00, 15.49it/s]\n"
     ]
    },
    {
     "name": "stdout",
     "output_type": "stream",
     "text": [
      "Epoch 15, Train Loss: 0.418045542, Train Accuracy: 18.6734694%, Val Accuracy: 24.4270016%\n"
     ]
    },
    {
     "name": "stderr",
     "output_type": "stream",
     "text": [
      "Epoch 16 Training: 100%|██████████| 797/797 [00:51<00:00, 15.40it/s]\n"
     ]
    },
    {
     "name": "stdout",
     "output_type": "stream",
     "text": [
      "Epoch 16, Train Loss: 0.396052267, Train Accuracy: 19.3092622%, Val Accuracy: 26.4992151%\n"
     ]
    },
    {
     "name": "stderr",
     "output_type": "stream",
     "text": [
      "Epoch 17 Training: 100%|██████████| 797/797 [00:51<00:00, 15.46it/s]\n"
     ]
    },
    {
     "name": "stdout",
     "output_type": "stream",
     "text": [
      "Epoch 17, Train Loss: 0.380392980, Train Accuracy: 21.2244898%, Val Accuracy: 25.6200942%\n"
     ]
    },
    {
     "name": "stderr",
     "output_type": "stream",
     "text": [
      "Epoch 18 Training: 100%|██████████| 797/797 [00:51<00:00, 15.50it/s]\n"
     ]
    },
    {
     "name": "stdout",
     "output_type": "stream",
     "text": [
      "Epoch 18, Train Loss: 0.373557847, Train Accuracy: 21.7739403%, Val Accuracy: 26.6875981%\n"
     ]
    },
    {
     "name": "stderr",
     "output_type": "stream",
     "text": [
      "Epoch 19 Training: 100%|██████████| 797/797 [00:51<00:00, 15.60it/s]\n"
     ]
    },
    {
     "name": "stdout",
     "output_type": "stream",
     "text": [
      "Epoch 19, Train Loss: 0.358517280, Train Accuracy: 22.7080063%, Val Accuracy: 28.9167975%\n"
     ]
    },
    {
     "name": "stderr",
     "output_type": "stream",
     "text": [
      "Epoch 20 Training: 100%|██████████| 797/797 [00:51<00:00, 15.49it/s]\n"
     ]
    },
    {
     "name": "stdout",
     "output_type": "stream",
     "text": [
      "Epoch 20, Train Loss: 0.348994689, Train Accuracy: 23.3830455%, Val Accuracy: 30.2982732%\n"
     ]
    },
    {
     "name": "stderr",
     "output_type": "stream",
     "text": [
      "Epoch 21 Training: 100%|██████████| 797/797 [00:51<00:00, 15.54it/s]\n"
     ]
    },
    {
     "name": "stdout",
     "output_type": "stream",
     "text": [
      "Epoch 21, Train Loss: 0.343719411, Train Accuracy: 24.0188383%, Val Accuracy: 28.5714286%\n"
     ]
    },
    {
     "name": "stderr",
     "output_type": "stream",
     "text": [
      "Epoch 22 Training: 100%|██████████| 797/797 [00:51<00:00, 15.38it/s]\n"
     ]
    },
    {
     "name": "stdout",
     "output_type": "stream",
     "text": [
      "Epoch 22, Train Loss: 0.327597623, Train Accuracy: 25.2982732%, Val Accuracy: 30.3924647%\n"
     ]
    },
    {
     "name": "stderr",
     "output_type": "stream",
     "text": [
      "Epoch 23 Training: 100%|██████████| 797/797 [00:51<00:00, 15.60it/s]\n"
     ]
    },
    {
     "name": "stdout",
     "output_type": "stream",
     "text": [
      "Epoch 23, Train Loss: 0.315738071, Train Accuracy: 26.2794349%, Val Accuracy: 29.1365777%\n"
     ]
    },
    {
     "name": "stderr",
     "output_type": "stream",
     "text": [
      "Epoch 24 Training: 100%|██████████| 797/797 [00:51<00:00, 15.63it/s]\n"
     ]
    },
    {
     "name": "stdout",
     "output_type": "stream",
     "text": [
      "Epoch 24, Train Loss: 0.308632809, Train Accuracy: 27.2919937%, Val Accuracy: 30.2040816%\n"
     ]
    },
    {
     "name": "stderr",
     "output_type": "stream",
     "text": [
      "Epoch 25 Training: 100%|██████████| 797/797 [00:51<00:00, 15.53it/s]\n"
     ]
    },
    {
     "name": "stdout",
     "output_type": "stream",
     "text": [
      "Epoch 25, Train Loss: 0.304460467, Train Accuracy: 28.0690738%, Val Accuracy: 30.8320251%\n"
     ]
    },
    {
     "name": "stderr",
     "output_type": "stream",
     "text": [
      "Epoch 26 Training: 100%|██████████| 797/797 [00:51<00:00, 15.42it/s]\n"
     ]
    },
    {
     "name": "stdout",
     "output_type": "stream",
     "text": [
      "Epoch 26, Train Loss: 0.292295481, Train Accuracy: 28.9560440%, Val Accuracy: 32.0251177%\n"
     ]
    },
    {
     "name": "stderr",
     "output_type": "stream",
     "text": [
      "Epoch 27 Training: 100%|██████████| 797/797 [00:51<00:00, 15.40it/s]\n"
     ]
    },
    {
     "name": "stdout",
     "output_type": "stream",
     "text": [
      "Epoch 27, Train Loss: 0.289820219, Train Accuracy: 29.5290424%, Val Accuracy: 32.1507064%\n"
     ]
    },
    {
     "name": "stderr",
     "output_type": "stream",
     "text": [
      "Epoch 28 Training: 100%|██████████| 797/797 [00:51<00:00, 15.59it/s]\n"
     ]
    },
    {
     "name": "stdout",
     "output_type": "stream",
     "text": [
      "Epoch 28, Train Loss: 0.279890799, Train Accuracy: 30.6043956%, Val Accuracy: 32.5588697%\n"
     ]
    },
    {
     "name": "stderr",
     "output_type": "stream",
     "text": [
      "Epoch 29 Training: 100%|██████████| 797/797 [00:50<00:00, 15.66it/s]\n"
     ]
    },
    {
     "name": "stdout",
     "output_type": "stream",
     "text": [
      "Epoch 29, Train Loss: 0.276680485, Train Accuracy: 31.6012559%, Val Accuracy: 31.3343799%\n"
     ]
    },
    {
     "name": "stderr",
     "output_type": "stream",
     "text": [
      "Epoch 30 Training: 100%|██████████| 797/797 [00:50<00:00, 15.66it/s]\n"
     ]
    },
    {
     "name": "stdout",
     "output_type": "stream",
     "text": [
      "Epoch 30, Train Loss: 0.268154425, Train Accuracy: 32.1428571%, Val Accuracy: 31.8367347%\n"
     ]
    },
    {
     "name": "stderr",
     "output_type": "stream",
     "text": [
      "Epoch 31 Training: 100%|██████████| 797/797 [00:51<00:00, 15.60it/s]\n"
     ]
    },
    {
     "name": "stdout",
     "output_type": "stream",
     "text": [
      "Epoch 31, Train Loss: 0.270859077, Train Accuracy: 32.3390895%, Val Accuracy: 32.1821036%\n"
     ]
    },
    {
     "name": "stderr",
     "output_type": "stream",
     "text": [
      "Epoch 32 Training: 100%|██████████| 797/797 [00:51<00:00, 15.55it/s]\n"
     ]
    },
    {
     "name": "stdout",
     "output_type": "stream",
     "text": [
      "Epoch 32, Train Loss: 0.258735948, Train Accuracy: 33.3281005%, Val Accuracy: 31.2401884%\n"
     ]
    },
    {
     "name": "stderr",
     "output_type": "stream",
     "text": [
      "Epoch 33 Training: 100%|██████████| 797/797 [00:51<00:00, 15.62it/s]\n"
     ]
    },
    {
     "name": "stdout",
     "output_type": "stream",
     "text": [
      "Epoch 33, Train Loss: 0.255770971, Train Accuracy: 34.2621664%, Val Accuracy: 31.9309262%\n"
     ]
    },
    {
     "name": "stderr",
     "output_type": "stream",
     "text": [
      "Epoch 34 Training: 100%|██████████| 797/797 [00:50<00:00, 15.64it/s]\n"
     ]
    },
    {
     "name": "stdout",
     "output_type": "stream",
     "text": [
      "Epoch 34, Train Loss: 0.257379870, Train Accuracy: 34.0737834%, Val Accuracy: 33.1554160%\n"
     ]
    },
    {
     "name": "stderr",
     "output_type": "stream",
     "text": [
      "Epoch 35 Training: 100%|██████████| 797/797 [00:51<00:00, 15.50it/s]\n"
     ]
    },
    {
     "name": "stdout",
     "output_type": "stream",
     "text": [
      "Epoch 35, Train Loss: 0.259639544, Train Accuracy: 33.5478807%, Val Accuracy: 32.2448980%\n"
     ]
    },
    {
     "name": "stderr",
     "output_type": "stream",
     "text": [
      "Epoch 36 Training: 100%|██████████| 797/797 [00:51<00:00, 15.54it/s]\n"
     ]
    },
    {
     "name": "stdout",
     "output_type": "stream",
     "text": [
      "Epoch 36, Train Loss: 0.241995462, Train Accuracy: 35.2982732%, Val Accuracy: 32.4960754%\n"
     ]
    },
    {
     "name": "stderr",
     "output_type": "stream",
     "text": [
      "Epoch 37 Training: 100%|██████████| 797/797 [00:51<00:00, 15.62it/s]\n"
     ]
    },
    {
     "name": "stdout",
     "output_type": "stream",
     "text": [
      "Epoch 37, Train Loss: 0.239869145, Train Accuracy: 35.6985871%, Val Accuracy: 31.5855573%\n"
     ]
    },
    {
     "name": "stderr",
     "output_type": "stream",
     "text": [
      "Epoch 38 Training: 100%|██████████| 797/797 [00:51<00:00, 15.61it/s]\n"
     ]
    },
    {
     "name": "stdout",
     "output_type": "stream",
     "text": [
      "Epoch 38, Train Loss: 0.231804758, Train Accuracy: 36.2637363%, Val Accuracy: 31.4599686%\n"
     ]
    },
    {
     "name": "stderr",
     "output_type": "stream",
     "text": [
      "Epoch 39 Training: 100%|██████████| 797/797 [00:51<00:00, 15.55it/s]\n"
     ]
    },
    {
     "name": "stdout",
     "output_type": "stream",
     "text": [
      "Epoch 39, Train Loss: 0.239561914, Train Accuracy: 36.2951334%, Val Accuracy: 32.9356358%\n"
     ]
    },
    {
     "name": "stderr",
     "output_type": "stream",
     "text": [
      "Epoch 40 Training: 100%|██████████| 797/797 [00:51<00:00, 15.53it/s]\n"
     ]
    },
    {
     "name": "stdout",
     "output_type": "stream",
     "text": [
      "Epoch 40, Train Loss: 0.232790129, Train Accuracy: 37.0251177%, Val Accuracy: 32.1821036%\n"
     ]
    },
    {
     "name": "stderr",
     "output_type": "stream",
     "text": [
      "Epoch 41 Training: 100%|██████████| 797/797 [00:51<00:00, 15.50it/s]\n"
     ]
    },
    {
     "name": "stdout",
     "output_type": "stream",
     "text": [
      "Epoch 41, Train Loss: 0.225829472, Train Accuracy: 38.0062794%, Val Accuracy: 32.7158556%\n"
     ]
    },
    {
     "name": "stderr",
     "output_type": "stream",
     "text": [
      "Epoch 42 Training: 100%|██████████| 797/797 [00:51<00:00, 15.42it/s]\n"
     ]
    },
    {
     "name": "stdout",
     "output_type": "stream",
     "text": [
      "Epoch 42, Train Loss: 0.226581034, Train Accuracy: 37.6923077%, Val Accuracy: 32.3076923%\n"
     ]
    },
    {
     "name": "stderr",
     "output_type": "stream",
     "text": [
      "Epoch 43 Training: 100%|██████████| 797/797 [00:51<00:00, 15.53it/s]\n"
     ]
    },
    {
     "name": "stdout",
     "output_type": "stream",
     "text": [
      "Epoch 43, Train Loss: 0.223026183, Train Accuracy: 37.8728414%, Val Accuracy: 30.2354788%\n"
     ]
    },
    {
     "name": "stderr",
     "output_type": "stream",
     "text": [
      "Epoch 44 Training: 100%|██████████| 797/797 [00:51<00:00, 15.46it/s]\n"
     ]
    },
    {
     "name": "stdout",
     "output_type": "stream",
     "text": [
      "Epoch 44, Train Loss: 0.213612694, Train Accuracy: 39.1287284%, Val Accuracy: 31.2087912%\n"
     ]
    },
    {
     "name": "stderr",
     "output_type": "stream",
     "text": [
      "Epoch 45 Training: 100%|██████████| 797/797 [00:51<00:00, 15.59it/s]\n"
     ]
    },
    {
     "name": "stdout",
     "output_type": "stream",
     "text": [
      "Epoch 45, Train Loss: 0.208978989, Train Accuracy: 40.0392465%, Val Accuracy: 33.2810047%\n"
     ]
    },
    {
     "name": "stderr",
     "output_type": "stream",
     "text": [
      "Epoch 46 Training: 100%|██████████| 797/797 [00:51<00:00, 15.51it/s]\n"
     ]
    },
    {
     "name": "stdout",
     "output_type": "stream",
     "text": [
      "Epoch 46, Train Loss: 0.215133909, Train Accuracy: 39.4583987%, Val Accuracy: 32.6216641%\n"
     ]
    },
    {
     "name": "stderr",
     "output_type": "stream",
     "text": [
      "Epoch 47 Training: 100%|██████████| 797/797 [00:50<00:00, 15.65it/s]\n"
     ]
    },
    {
     "name": "stdout",
     "output_type": "stream",
     "text": [
      "Epoch 47, Train Loss: 0.220895300, Train Accuracy: 39.3014129%, Val Accuracy: 33.8461538%\n"
     ]
    },
    {
     "name": "stderr",
     "output_type": "stream",
     "text": [
      "Epoch 48 Training: 100%|██████████| 797/797 [00:51<00:00, 15.45it/s]\n"
     ]
    },
    {
     "name": "stdout",
     "output_type": "stream",
     "text": [
      "Epoch 48, Train Loss: 0.210662780, Train Accuracy: 40.7613815%, Val Accuracy: 33.3124019%\n"
     ]
    },
    {
     "name": "stderr",
     "output_type": "stream",
     "text": [
      "Epoch 49 Training: 100%|██████████| 797/797 [00:51<00:00, 15.51it/s]\n"
     ]
    },
    {
     "name": "stdout",
     "output_type": "stream",
     "text": [
      "Epoch 49, Train Loss: 0.214129025, Train Accuracy: 41.0282575%, Val Accuracy: 32.7158556%\n"
     ]
    },
    {
     "name": "stderr",
     "output_type": "stream",
     "text": [
      "Epoch 50 Training: 100%|██████████| 797/797 [00:51<00:00, 15.50it/s]\n"
     ]
    },
    {
     "name": "stdout",
     "output_type": "stream",
     "text": [
      "Epoch 50, Train Loss: 0.208197825, Train Accuracy: 40.9026688%, Val Accuracy: 33.5949765%\n",
      "[0.015306122448979591, 0.03759811616954474, 0.053296703296703295, 0.07009419152276296, 0.08124018838304553, 0.09395604395604396, 0.10062794348508634, 0.108712715855573, 0.1205651491365777, 0.13084772370486655, 0.1403453689167975, 0.14607535321821036, 0.158712715855573, 0.16648351648351647, 0.186734693877551, 0.19309262166405022, 0.21224489795918366, 0.21773940345368917, 0.2270800627943485, 0.23383045525902668, 0.2401883830455259, 0.2529827315541601, 0.2627943485086342, 0.2729199372056515, 0.280690737833595, 0.2895604395604396, 0.29529042386185245, 0.30604395604395607, 0.31601255886970175, 0.32142857142857145, 0.32339089481946626, 0.3332810047095761, 0.3426216640502355, 0.34073783359497645, 0.33547880690737836, 0.3529827315541601, 0.35698587127158554, 0.3626373626373626, 0.3629513343799058, 0.3702511773940345, 0.38006279434850865, 0.3769230769230769, 0.37872841444270017, 0.391287284144427, 0.40039246467817896, 0.3945839874411303, 0.39301412872841446, 0.4076138147566719, 0.41028257456828887, 0.40902668759811617]\n",
      "[0.23344368286102332, 0.2779937922471053, 0.30132862026154833, 0.3237499102269019, 0.3375618094336463, 0.3493852404319242, 0.3587630085899561, 0.37244323861695344, 0.38192616456980416, 0.39779441664986764, 0.412859644559251, 0.42418820168913757, 0.4338922767526822, 0.44808925261842225, 0.4612505295849262, 0.47513519297776863, 0.4892194435211172, 0.4945664074900591, 0.5087788810581576, 0.5161028530791155, 0.5232769118489957, 0.5347512941225595, 0.544023825500578, 0.5526500336734234, 0.5595291963596459, 0.5668678718523331, 0.5724961559284758, 0.577464127208496, 0.5842352923462059, 0.5888943414855206, 0.5928047167336209, 0.6013561940190987, 0.6039736873262826, 0.6073204339200687, 0.5997079520465153, 0.6199573974048268, 0.6169936013270073, 0.6264410078543976, 0.62207759150506, 0.628779569644335, 0.635394233776012, 0.6351285034523552, 0.6373536223479989, 0.6471506287996963, 0.6536009417211335, 0.6490370171444431, 0.6515811608101625, 0.6521742820062248, 0.6598183741816096, 0.6576414383469334]\n",
      "[0.7040388713145826, 0.7363552277454805, 0.7515761949958589, 0.7709836752911282, 0.7795932876479995, 0.7820659965958172, 0.7922144614465862, 0.7953553110498035, 0.8045703118952259, 0.8120530333397178, 0.8179334736628594, 0.8265411731512967, 0.828824442545399, 0.8326650835265323, 0.8392856236663726, 0.8467837639423926, 0.8487898094975024, 0.8528463143603343, 0.8564362912817699, 0.8596184938139093, 0.8620052892963996, 0.8654934656167972, 0.8716866726306406, 0.8720350322833338, 0.8718251916012897, 0.8755839006485978, 0.875579946221309, 0.8763885580855643, 0.8776427481894494, 0.8816848901845763, 0.8815809878771492, 0.8839678208115008, 0.8856180428537277, 0.8870295875060074, 0.8847828205770913, 0.8894350399996013, 0.8890249441355947, 0.8899522252211503, 0.888684647067416, 0.8921956320267896, 0.8934530913841726, 0.8923593338706712, 0.8946988961084498, 0.8964982915532024, 0.8983138174464902, 0.8959823098851544, 0.89616984948772, 0.8960816499626348, 0.8960677035629572, 0.8981963126119922]\n",
      "[0.33028078017020407, 0.38320059161611786, 0.410003220884071, 0.435735663952166, 0.4502834171368607, 0.46184262697239253, 0.47288088047374366, 0.48625749611891433, 0.4973162518395591, 0.5126000831149219, 0.5288203985763941, 0.5413141891646068, 0.5509782363450291, 0.5652833571325774, 0.5782155340847979, 0.5925818486832322, 0.6044983357107413, 0.6100432144129092, 0.6230591595738684, 0.6301414194571039, 0.6374748263679444, 0.64742462305614, 0.6565654270229496, 0.6638723023465157, 0.669226574439465, 0.6764691167573791, 0.6804671577824289, 0.6845879685413189, 0.6898713435563186, 0.6949703695053987, 0.6986106809939369, 0.7057041459643695, 0.7082532860677385, 0.7112734992635699, 0.704734046518605, 0.721918137533861, 0.7192140262560173, 0.7265526237147281, 0.7231374806909071, 0.7292400032714527, 0.7343438764952944, 0.7336115353979223, 0.7363997748046331, 0.7437886821330539, 0.7487293249186595, 0.7449352467332664, 0.7469034856528797, 0.7470392969257431, 0.7524312638025563, 0.7517943087820336]\n",
      "[0.08320251177394035, 0.13281004709576139, 0.11868131868131868, 0.1934065934065934, 0.1858712715855573, 0.1695447409733124, 0.19089481946624803, 0.19434850863422293, 0.1934065934065934, 0.21883830455259026, 0.2175824175824176, 0.1924646781789639, 0.26028257456828885, 0.22574568288854002, 0.24427001569858714, 0.26499215070643645, 0.25620094191522763, 0.2668759811616955, 0.2891679748822606, 0.3029827315541601, 0.2857142857142857, 0.30392464678178965, 0.2913657770800628, 0.3020408163265306, 0.30832025117739403, 0.3202511773940345, 0.32150706436420723, 0.32558869701726845, 0.3133437990580848, 0.3183673469387755, 0.3218210361067504, 0.31240188383045525, 0.31930926216640504, 0.3315541601255887, 0.3224489795918367, 0.3249607535321821, 0.31585557299843015, 0.31459968602825744, 0.3293563579277865, 0.3218210361067504, 0.3271585557299843, 0.3230769230769231, 0.3023547880690738, 0.3120879120879121, 0.3328100470957614, 0.32621664050235477, 0.3384615384615385, 0.33312401883830456, 0.3271585557299843, 0.3359497645211931]\n",
      "[0.3636141826931643, 0.4303425863703728, 0.4102217622796328, 0.4370049978405138, 0.4649248069277163, 0.43355053405094696, 0.4510593049765221, 0.47856279045054606, 0.4723504618489369, 0.5146131205611492, 0.4717899762481526, 0.4870382692817057, 0.5146872731836515, 0.4945545239164826, 0.5176456116084843, 0.5301825909265779, 0.5421426592987441, 0.5477109613192775, 0.5464929415990085, 0.5487586778657227, 0.535093995091706, 0.5529739810701442, 0.568136315329233, 0.5833393031316039, 0.5747562021144602, 0.5966794359318651, 0.5831980942811795, 0.5801905650928674, 0.569327672102814, 0.598474386214191, 0.594665325944877, 0.5826253783238498, 0.5810244808336441, 0.5930983633126785, 0.57431746048924, 0.6028673140179803, 0.5867417157501641, 0.5889756392357002, 0.5870875118448527, 0.6129440937501784, 0.6002527725164132, 0.5885721539422267, 0.5769990721251924, 0.5832958582590408, 0.6048771802108295, 0.6204780377532845, 0.6215096567234962, 0.6239098003955582, 0.6017355509854515, 0.6125520023343846]\n",
      "[0.7993775173625662, 0.7481401480478845, 0.781397610210898, 0.7790505379140885, 0.7585998028297988, 0.7928752410555154, 0.7859560119894341, 0.7776815116226545, 0.7739816641285374, 0.7675796960804397, 0.7873730174381608, 0.7801917745978163, 0.7538397098241779, 0.7753034674622447, 0.7601810681528434, 0.7485917806694452, 0.7550040848288818, 0.7418868830059281, 0.7380141788713986, 0.7379404530252194, 0.7419041451551935, 0.7386962527397373, 0.7334524033325319, 0.7377574238167158, 0.7226966540431795, 0.7204538232268328, 0.7213140511278929, 0.7159377236426174, 0.7224279952283438, 0.7130425370613491, 0.7144399984076063, 0.7174964239645995, 0.7229258226810893, 0.704939469066246, 0.7189581937647611, 0.7156114346883481, 0.7071443460079695, 0.7075049592414914, 0.7068611170257292, 0.7038274468618797, 0.6963893047638536, 0.7023953385360575, 0.7143982552111408, 0.7015225593506308, 0.6990285529008937, 0.6960830977740626, 0.6904804585722433, 0.6930641202440503, 0.6971867845079907, 0.6964526388190639]\n",
      "[0.47290098902107675, 0.5117562964451355, 0.512589542526047, 0.5397048252135307, 0.5524567439512817, 0.5316826679321248, 0.5431740238481986, 0.5650181758521509, 0.5585028454836246, 0.592916350029887, 0.5652010914958201, 0.5701119372420916, 0.5942870733983007, 0.5805828433986515, 0.596297990608517, 0.6010679068896704, 0.6121411778788811, 0.6117807373054962, 0.6140862631882207, 0.6133444163621979, 0.6045339103582326, 0.6172819518292547, 0.6251444590280696, 0.6358324288902164, 0.6276477144993035, 0.6422625511901348, 0.6350683463194962, 0.6314472534474149, 0.6264864587092766, 0.6390991225978174, 0.6378636307156886, 0.630948991027824, 0.6272811456272677, 0.6334733098490323, 0.6307766236366015, 0.6430744140926635, 0.6297787642065049, 0.6310267731108016, 0.6311978556325828, 0.6466731166712042, 0.6375639296226931, 0.6305842859572272, 0.6268754607374379, 0.6240898414706638, 0.6383977084309397, 0.6464554894820089, 0.646770634864506, 0.6475942120418552, 0.6354519365939559, 0.6439753492652733]\n"
     ]
    }
   ],
   "source": [
    "EPOCHS = 50\n",
    "N_CLASSES = 19\n",
    "THRESHOLD = 0.5\n",
    "\n",
    "dropout_rates = [0.2, 0.4, 0.6, 0.8]\n",
    "model_names = [\n",
    "\t\"combined_dropout_0_2\",\n",
    "\t\"combined_dropout_0_4\",\n",
    "\t\"combined_dropout_0_6\",\n",
    "\t\"combined_dropout_0_8\",\n",
    "]\n",
    "for dropout_rate, model_name in zip(dropout_rates, model_names):\n",
    "\tprint(dropout_rate)\n",
    "\tprint(model_name)\n",
    "\n",
    "\tmodel = CombinedModel(\n",
    "\t\tchoice=\"regnet_x_1_6gf\",\n",
    "\t\tpretrained=True, \t\t# if pretrained is False, then freeze should also be False\n",
    "\t\tfreeze=True,\n",
    "\t\tcnn_n_out=256,\n",
    "\t\tno_layers=2,\n",
    "\t\tvocab_size=len(vocab), \t# already added by 1\n",
    "\t\tembedding_dim=64,\n",
    "\t\tlstm_hidden_dim=256,\n",
    "\t\tlstm_n_out=128,\n",
    "\t\tlstm_dropout=0.3,\n",
    "\t\tfc_dropout=dropout_rate,\n",
    "\t)\n",
    "\t# utilise GPU\n",
    "\tif torch.cuda.is_available():\n",
    "\t\tprint('using GPU')\n",
    "\t\tmodel = model.to('cuda')\n",
    "\n",
    "\tloss_fn = nn.BCEWithLogitsLoss(pos_weight=pos_weights)\n",
    "\toptimizer = torch.optim.Adam(\n",
    "\t\tparams=model.parameters(),\n",
    "\t\tlr=0.001,\n",
    "\t)\n",
    "\n",
    "\tmodel, results = train_and_val(\n",
    "\t\tmodel=model,\n",
    "\t\tepochs=EPOCHS,\n",
    "\t\tn_classes=N_CLASSES,\n",
    "\t\toptimizer=optimizer,\n",
    "\t\tloss_fn=loss_fn,\n",
    "\t\tthreshold=THRESHOLD,\n",
    "\t\tbatch_size=BATCH_SIZE\n",
    "\t)\n",
    "\ttorch.save(model.state_dict(), '../saved_models/' + model_name)\n",
    "\tresults = pd.DataFrame(results)\n",
    "\tresults.to_csv(f\"../logs/{model_name}.csv\", index=False)"
   ]
  },
  {
   "cell_type": "markdown",
   "metadata": {},
   "source": [
    "## Hyperparameter Analysis (Learning Rate)"
   ]
  },
  {
   "cell_type": "code",
   "execution_count": 14,
   "metadata": {},
   "outputs": [
    {
     "name": "stdout",
     "output_type": "stream",
     "text": [
      "0.01\n",
      "combined_lr_0_01\n",
      "using GPU\n"
     ]
    },
    {
     "name": "stderr",
     "output_type": "stream",
     "text": [
      "Epoch 1 Training: 100%|██████████| 797/797 [00:50<00:00, 15.90it/s]\n"
     ]
    },
    {
     "name": "stdout",
     "output_type": "stream",
     "text": [
      "Epoch 1, Train Loss: 3.087514913, Train Accuracy: 1.1616954%, Val Accuracy: 4.7723705%\n"
     ]
    },
    {
     "name": "stderr",
     "output_type": "stream",
     "text": [
      "Epoch 2 Training: 100%|██████████| 797/797 [00:50<00:00, 15.84it/s]\n"
     ]
    },
    {
     "name": "stdout",
     "output_type": "stream",
     "text": [
      "Epoch 2, Train Loss: 3.500149600, Train Accuracy: 1.6954474%, Val Accuracy: 1.5698587%\n"
     ]
    },
    {
     "name": "stderr",
     "output_type": "stream",
     "text": [
      "Epoch 3 Training: 100%|██████████| 797/797 [00:50<00:00, 15.85it/s]\n"
     ]
    },
    {
     "name": "stdout",
     "output_type": "stream",
     "text": [
      "Epoch 3, Train Loss: 3.843614704, Train Accuracy: 2.0565149%, Val Accuracy: 7.6295133%\n"
     ]
    },
    {
     "name": "stderr",
     "output_type": "stream",
     "text": [
      "Epoch 4 Training: 100%|██████████| 797/797 [00:50<00:00, 15.79it/s]\n"
     ]
    },
    {
     "name": "stdout",
     "output_type": "stream",
     "text": [
      "Epoch 4, Train Loss: 4.157617993, Train Accuracy: 1.9466248%, Val Accuracy: 4.7095761%\n"
     ]
    },
    {
     "name": "stderr",
     "output_type": "stream",
     "text": [
      "Epoch 5 Training: 100%|██████████| 797/797 [00:50<00:00, 15.89it/s]\n"
     ]
    },
    {
     "name": "stdout",
     "output_type": "stream",
     "text": [
      "Epoch 5, Train Loss: 4.243321317, Train Accuracy: 1.9466248%, Val Accuracy: 6.9701727%\n"
     ]
    },
    {
     "name": "stderr",
     "output_type": "stream",
     "text": [
      "Epoch 6 Training: 100%|██████████| 797/797 [00:50<00:00, 15.91it/s]\n"
     ]
    },
    {
     "name": "stdout",
     "output_type": "stream",
     "text": [
      "Epoch 6, Train Loss: 4.444371160, Train Accuracy: 2.5117739%, Val Accuracy: 5.8712716%\n"
     ]
    },
    {
     "name": "stderr",
     "output_type": "stream",
     "text": [
      "Epoch 7 Training: 100%|██████████| 797/797 [00:50<00:00, 15.75it/s]\n"
     ]
    },
    {
     "name": "stdout",
     "output_type": "stream",
     "text": [
      "Epoch 7, Train Loss: 4.557903552, Train Accuracy: 2.6373626%, Val Accuracy: 5.2747253%\n"
     ]
    },
    {
     "name": "stderr",
     "output_type": "stream",
     "text": [
      "Epoch 8 Training: 100%|██████████| 797/797 [00:50<00:00, 15.67it/s]\n"
     ]
    },
    {
     "name": "stdout",
     "output_type": "stream",
     "text": [
      "Epoch 8, Train Loss: 4.645163753, Train Accuracy: 2.7551020%, Val Accuracy: 10.1412873%\n"
     ]
    },
    {
     "name": "stderr",
     "output_type": "stream",
     "text": [
      "Epoch 9 Training: 100%|██████████| 797/797 [00:50<00:00, 15.74it/s]\n"
     ]
    },
    {
     "name": "stdout",
     "output_type": "stream",
     "text": [
      "Epoch 9, Train Loss: 4.807151642, Train Accuracy: 2.7551020%, Val Accuracy: 10.1412873%\n"
     ]
    },
    {
     "name": "stderr",
     "output_type": "stream",
     "text": [
      "Epoch 10 Training: 100%|██████████| 797/797 [00:51<00:00, 15.61it/s]\n"
     ]
    },
    {
     "name": "stdout",
     "output_type": "stream",
     "text": [
      "Epoch 10, Train Loss: 4.757802762, Train Accuracy: 2.9670330%, Val Accuracy: 5.0549451%\n"
     ]
    },
    {
     "name": "stderr",
     "output_type": "stream",
     "text": [
      "Epoch 11 Training: 100%|██████████| 797/797 [00:50<00:00, 15.81it/s]\n"
     ]
    },
    {
     "name": "stdout",
     "output_type": "stream",
     "text": [
      "Epoch 11, Train Loss: 4.910774945, Train Accuracy: 2.6059655%, Val Accuracy: 6.7503925%\n"
     ]
    },
    {
     "name": "stderr",
     "output_type": "stream",
     "text": [
      "Epoch 12 Training: 100%|██████████| 797/797 [00:50<00:00, 15.89it/s]\n"
     ]
    },
    {
     "name": "stdout",
     "output_type": "stream",
     "text": [
      "Epoch 12, Train Loss: 5.045777617, Train Accuracy: 2.5981162%, Val Accuracy: 8.4772370%\n"
     ]
    },
    {
     "name": "stderr",
     "output_type": "stream",
     "text": [
      "Epoch 13 Training: 100%|██████████| 797/797 [00:50<00:00, 15.88it/s]\n"
     ]
    },
    {
     "name": "stdout",
     "output_type": "stream",
     "text": [
      "Epoch 13, Train Loss: 5.066875107, Train Accuracy: 2.8335950%, Val Accuracy: 3.9560440%\n"
     ]
    },
    {
     "name": "stderr",
     "output_type": "stream",
     "text": [
      "Epoch 14 Training: 100%|██████████| 797/797 [00:50<00:00, 15.84it/s]\n"
     ]
    },
    {
     "name": "stdout",
     "output_type": "stream",
     "text": [
      "Epoch 14, Train Loss: 5.047596573, Train Accuracy: 2.7943485%, Val Accuracy: 7.3469388%\n"
     ]
    },
    {
     "name": "stderr",
     "output_type": "stream",
     "text": [
      "Epoch 15 Training: 100%|██████████| 797/797 [00:50<00:00, 15.74it/s]\n"
     ]
    },
    {
     "name": "stdout",
     "output_type": "stream",
     "text": [
      "Epoch 15, Train Loss: 5.119250908, Train Accuracy: 3.0376766%, Val Accuracy: 5.6514914%\n"
     ]
    },
    {
     "name": "stderr",
     "output_type": "stream",
     "text": [
      "Epoch 16 Training: 100%|██████████| 797/797 [00:50<00:00, 15.87it/s]\n"
     ]
    },
    {
     "name": "stdout",
     "output_type": "stream",
     "text": [
      "Epoch 16, Train Loss: 5.238813785, Train Accuracy: 3.1632653%, Val Accuracy: 6.4050235%\n"
     ]
    },
    {
     "name": "stderr",
     "output_type": "stream",
     "text": [
      "Epoch 17 Training: 100%|██████████| 797/797 [00:50<00:00, 15.79it/s]\n"
     ]
    },
    {
     "name": "stdout",
     "output_type": "stream",
     "text": [
      "Epoch 17, Train Loss: 5.292149269, Train Accuracy: 2.9984301%, Val Accuracy: 13.3751962%\n"
     ]
    },
    {
     "name": "stderr",
     "output_type": "stream",
     "text": [
      "Epoch 18 Training: 100%|██████████| 797/797 [00:50<00:00, 15.73it/s]\n"
     ]
    },
    {
     "name": "stdout",
     "output_type": "stream",
     "text": [
      "Epoch 18, Train Loss: 5.183041437, Train Accuracy: 3.0690738%, Val Accuracy: 8.7284144%\n"
     ]
    },
    {
     "name": "stderr",
     "output_type": "stream",
     "text": [
      "Epoch 19 Training: 100%|██████████| 797/797 [00:50<00:00, 15.74it/s]\n"
     ]
    },
    {
     "name": "stdout",
     "output_type": "stream",
     "text": [
      "Epoch 19, Train Loss: 5.400143433, Train Accuracy: 3.2653061%, Val Accuracy: 11.4599686%\n"
     ]
    },
    {
     "name": "stderr",
     "output_type": "stream",
     "text": [
      "Epoch 20 Training: 100%|██████████| 797/797 [00:50<00:00, 15.88it/s]\n"
     ]
    },
    {
     "name": "stdout",
     "output_type": "stream",
     "text": [
      "Epoch 20, Train Loss: 5.385418652, Train Accuracy: 2.8649922%, Val Accuracy: 5.0235479%\n"
     ]
    },
    {
     "name": "stderr",
     "output_type": "stream",
     "text": [
      "Epoch 21 Training: 100%|██████████| 797/797 [00:50<00:00, 15.90it/s]\n"
     ]
    },
    {
     "name": "stdout",
     "output_type": "stream",
     "text": [
      "Epoch 21, Train Loss: 5.346797848, Train Accuracy: 3.1083203%, Val Accuracy: 4.9607535%\n"
     ]
    },
    {
     "name": "stderr",
     "output_type": "stream",
     "text": [
      "Epoch 22 Training: 100%|██████████| 797/797 [00:50<00:00, 15.85it/s]\n"
     ]
    },
    {
     "name": "stdout",
     "output_type": "stream",
     "text": [
      "Epoch 22, Train Loss: 5.403876498, Train Accuracy: 2.7864992%, Val Accuracy: 9.5447410%\n"
     ]
    },
    {
     "name": "stderr",
     "output_type": "stream",
     "text": [
      "Epoch 23 Training: 100%|██████████| 797/797 [00:50<00:00, 15.86it/s]\n"
     ]
    },
    {
     "name": "stdout",
     "output_type": "stream",
     "text": [
      "Epoch 23, Train Loss: 5.458999618, Train Accuracy: 3.1240188%, Val Accuracy: 6.6562009%\n"
     ]
    },
    {
     "name": "stderr",
     "output_type": "stream",
     "text": [
      "Epoch 24 Training: 100%|██████████| 797/797 [00:50<00:00, 15.84it/s]\n"
     ]
    },
    {
     "name": "stdout",
     "output_type": "stream",
     "text": [
      "Epoch 24, Train Loss: 5.360033447, Train Accuracy: 3.0926217%, Val Accuracy: 6.1538462%\n"
     ]
    },
    {
     "name": "stderr",
     "output_type": "stream",
     "text": [
      "Epoch 25 Training: 100%|██████████| 797/797 [00:50<00:00, 15.89it/s]\n"
     ]
    },
    {
     "name": "stdout",
     "output_type": "stream",
     "text": [
      "Epoch 25, Train Loss: 5.535570881, Train Accuracy: 2.8885400%, Val Accuracy: 5.4003140%\n"
     ]
    },
    {
     "name": "stderr",
     "output_type": "stream",
     "text": [
      "Epoch 26 Training: 100%|██████████| 797/797 [00:50<00:00, 15.79it/s]\n"
     ]
    },
    {
     "name": "stdout",
     "output_type": "stream",
     "text": [
      "Epoch 26, Train Loss: 5.461893717, Train Accuracy: 2.6609105%, Val Accuracy: 5.8712716%\n"
     ]
    },
    {
     "name": "stderr",
     "output_type": "stream",
     "text": [
      "Epoch 27 Training: 100%|██████████| 797/797 [00:50<00:00, 15.76it/s]\n"
     ]
    },
    {
     "name": "stdout",
     "output_type": "stream",
     "text": [
      "Epoch 27, Train Loss: 5.619872525, Train Accuracy: 3.0769231%, Val Accuracy: 5.6514914%\n"
     ]
    },
    {
     "name": "stderr",
     "output_type": "stream",
     "text": [
      "Epoch 28 Training: 100%|██████████| 797/797 [00:50<00:00, 15.92it/s]\n"
     ]
    },
    {
     "name": "stdout",
     "output_type": "stream",
     "text": [
      "Epoch 28, Train Loss: 5.644394963, Train Accuracy: 3.2496075%, Val Accuracy: 7.6609105%\n"
     ]
    },
    {
     "name": "stderr",
     "output_type": "stream",
     "text": [
      "Epoch 29 Training: 100%|██████████| 797/797 [00:50<00:00, 15.76it/s]\n"
     ]
    },
    {
     "name": "stdout",
     "output_type": "stream",
     "text": [
      "Epoch 29, Train Loss: 5.494750712, Train Accuracy: 3.3673469%, Val Accuracy: 3.3594976%\n"
     ]
    },
    {
     "name": "stderr",
     "output_type": "stream",
     "text": [
      "Epoch 30 Training: 100%|██████████| 797/797 [00:50<00:00, 15.86it/s]\n"
     ]
    },
    {
     "name": "stdout",
     "output_type": "stream",
     "text": [
      "Epoch 30, Train Loss: 5.785074359, Train Accuracy: 3.0847724%, Val Accuracy: 9.4819466%\n"
     ]
    },
    {
     "name": "stderr",
     "output_type": "stream",
     "text": [
      "Epoch 31 Training: 100%|██████████| 797/797 [00:50<00:00, 15.87it/s]\n"
     ]
    },
    {
     "name": "stdout",
     "output_type": "stream",
     "text": [
      "Epoch 31, Train Loss: 5.566615740, Train Accuracy: 3.1789639%, Val Accuracy: 10.1098901%\n"
     ]
    },
    {
     "name": "stderr",
     "output_type": "stream",
     "text": [
      "Epoch 32 Training: 100%|██████████| 797/797 [00:50<00:00, 15.88it/s]\n"
     ]
    },
    {
     "name": "stdout",
     "output_type": "stream",
     "text": [
      "Epoch 32, Train Loss: 5.706257985, Train Accuracy: 3.3202512%, Val Accuracy: 5.8084772%\n"
     ]
    },
    {
     "name": "stderr",
     "output_type": "stream",
     "text": [
      "Epoch 33 Training: 100%|██████████| 797/797 [00:50<00:00, 15.84it/s]\n"
     ]
    },
    {
     "name": "stdout",
     "output_type": "stream",
     "text": [
      "Epoch 33, Train Loss: 5.737991730, Train Accuracy: 3.1632653%, Val Accuracy: 7.9748823%\n"
     ]
    },
    {
     "name": "stderr",
     "output_type": "stream",
     "text": [
      "Epoch 34 Training: 100%|██████████| 797/797 [00:50<00:00, 15.80it/s]\n"
     ]
    },
    {
     "name": "stdout",
     "output_type": "stream",
     "text": [
      "Epoch 34, Train Loss: 5.755120869, Train Accuracy: 3.3124019%, Val Accuracy: 5.4003140%\n"
     ]
    },
    {
     "name": "stderr",
     "output_type": "stream",
     "text": [
      "Epoch 35 Training: 100%|██████████| 797/797 [00:50<00:00, 15.87it/s]\n"
     ]
    },
    {
     "name": "stdout",
     "output_type": "stream",
     "text": [
      "Epoch 35, Train Loss: 5.889910364, Train Accuracy: 2.9591837%, Val Accuracy: 5.3061224%\n"
     ]
    },
    {
     "name": "stderr",
     "output_type": "stream",
     "text": [
      "Epoch 36 Training: 100%|██████████| 797/797 [00:50<00:00, 15.89it/s]\n"
     ]
    },
    {
     "name": "stdout",
     "output_type": "stream",
     "text": [
      "Epoch 36, Train Loss: 5.734841069, Train Accuracy: 3.5871272%, Val Accuracy: 7.3783359%\n"
     ]
    },
    {
     "name": "stderr",
     "output_type": "stream",
     "text": [
      "Epoch 37 Training: 100%|██████████| 797/797 [00:50<00:00, 15.89it/s]\n"
     ]
    },
    {
     "name": "stdout",
     "output_type": "stream",
     "text": [
      "Epoch 37, Train Loss: 5.537043731, Train Accuracy: 3.1946625%, Val Accuracy: 9.1993721%\n"
     ]
    },
    {
     "name": "stderr",
     "output_type": "stream",
     "text": [
      "Epoch 38 Training: 100%|██████████| 797/797 [00:50<00:00, 15.82it/s]\n"
     ]
    },
    {
     "name": "stdout",
     "output_type": "stream",
     "text": [
      "Epoch 38, Train Loss: 5.645003534, Train Accuracy: 3.2417582%, Val Accuracy: 9.4819466%\n"
     ]
    },
    {
     "name": "stderr",
     "output_type": "stream",
     "text": [
      "Epoch 39 Training: 100%|██████████| 797/797 [00:50<00:00, 15.81it/s]\n"
     ]
    },
    {
     "name": "stdout",
     "output_type": "stream",
     "text": [
      "Epoch 39, Train Loss: 5.904815663, Train Accuracy: 2.9748823%, Val Accuracy: 9.8273155%\n"
     ]
    },
    {
     "name": "stderr",
     "output_type": "stream",
     "text": [
      "Epoch 40 Training: 100%|██████████| 797/797 [00:50<00:00, 15.80it/s]\n"
     ]
    },
    {
     "name": "stdout",
     "output_type": "stream",
     "text": [
      "Epoch 40, Train Loss: 5.855116303, Train Accuracy: 3.1789639%, Val Accuracy: 2.3233909%\n"
     ]
    },
    {
     "name": "stderr",
     "output_type": "stream",
     "text": [
      "Epoch 41 Training: 100%|██████████| 797/797 [00:50<00:00, 15.90it/s]\n"
     ]
    },
    {
     "name": "stdout",
     "output_type": "stream",
     "text": [
      "Epoch 41, Train Loss: 5.838017327, Train Accuracy: 3.2810047%, Val Accuracy: 11.6483516%\n"
     ]
    },
    {
     "name": "stderr",
     "output_type": "stream",
     "text": [
      "Epoch 42 Training: 100%|██████████| 797/797 [00:51<00:00, 15.50it/s]\n"
     ]
    },
    {
     "name": "stdout",
     "output_type": "stream",
     "text": [
      "Epoch 42, Train Loss: 5.849349610, Train Accuracy: 3.1868132%, Val Accuracy: 4.2072214%\n"
     ]
    },
    {
     "name": "stderr",
     "output_type": "stream",
     "text": [
      "Epoch 43 Training: 100%|██████████| 797/797 [00:50<00:00, 15.85it/s]\n"
     ]
    },
    {
     "name": "stdout",
     "output_type": "stream",
     "text": [
      "Epoch 43, Train Loss: 5.893720718, Train Accuracy: 3.1397174%, Val Accuracy: 7.0957614%\n"
     ]
    },
    {
     "name": "stderr",
     "output_type": "stream",
     "text": [
      "Epoch 44 Training: 100%|██████████| 797/797 [00:50<00:00, 15.90it/s]\n"
     ]
    },
    {
     "name": "stdout",
     "output_type": "stream",
     "text": [
      "Epoch 44, Train Loss: 5.771412952, Train Accuracy: 3.3516484%, Val Accuracy: 6.5620094%\n"
     ]
    },
    {
     "name": "stderr",
     "output_type": "stream",
     "text": [
      "Epoch 45 Training: 100%|██████████| 797/797 [00:50<00:00, 15.89it/s]\n"
     ]
    },
    {
     "name": "stdout",
     "output_type": "stream",
     "text": [
      "Epoch 45, Train Loss: 5.967454590, Train Accuracy: 3.1711146%, Val Accuracy: 9.0109890%\n"
     ]
    },
    {
     "name": "stderr",
     "output_type": "stream",
     "text": [
      "Epoch 46 Training: 100%|██████████| 797/797 [00:50<00:00, 15.85it/s]\n"
     ]
    },
    {
     "name": "stdout",
     "output_type": "stream",
     "text": [
      "Epoch 46, Train Loss: 6.005466315, Train Accuracy: 3.1397174%, Val Accuracy: 10.7064364%\n"
     ]
    },
    {
     "name": "stderr",
     "output_type": "stream",
     "text": [
      "Epoch 47 Training: 100%|██████████| 797/797 [00:50<00:00, 15.86it/s]\n"
     ]
    },
    {
     "name": "stdout",
     "output_type": "stream",
     "text": [
      "Epoch 47, Train Loss: 5.944389550, Train Accuracy: 3.2182104%, Val Accuracy: 8.6028257%\n"
     ]
    },
    {
     "name": "stderr",
     "output_type": "stream",
     "text": [
      "Epoch 48 Training: 100%|██████████| 797/797 [00:51<00:00, 15.58it/s]\n"
     ]
    },
    {
     "name": "stdout",
     "output_type": "stream",
     "text": [
      "Epoch 48, Train Loss: 5.957690460, Train Accuracy: 3.3751962%, Val Accuracy: 5.6200942%\n"
     ]
    },
    {
     "name": "stderr",
     "output_type": "stream",
     "text": [
      "Epoch 49 Training: 100%|██████████| 797/797 [00:50<00:00, 15.87it/s]\n"
     ]
    },
    {
     "name": "stdout",
     "output_type": "stream",
     "text": [
      "Epoch 49, Train Loss: 5.873273333, Train Accuracy: 3.2810047%, Val Accuracy: 10.8948195%\n"
     ]
    },
    {
     "name": "stderr",
     "output_type": "stream",
     "text": [
      "Epoch 50 Training: 100%|██████████| 797/797 [00:50<00:00, 15.86it/s]\n"
     ]
    },
    {
     "name": "stdout",
     "output_type": "stream",
     "text": [
      "Epoch 50, Train Loss: 6.116763283, Train Accuracy: 3.5714286%, Val Accuracy: 6.2480377%\n",
      "[0.011616954474097331, 0.01695447409733124, 0.02056514913657771, 0.01946624803767661, 0.01946624803767661, 0.02511773940345369, 0.026373626373626374, 0.027551020408163266, 0.027551020408163266, 0.02967032967032967, 0.0260596546310832, 0.02598116169544741, 0.028335949764521192, 0.02794348508634223, 0.030376766091051804, 0.03163265306122449, 0.02998430141287284, 0.030690737833594977, 0.0326530612244898, 0.028649921507064365, 0.03108320251177394, 0.027864992150706435, 0.031240188383045524, 0.030926216640502355, 0.028885400313971743, 0.026609105180533752, 0.03076923076923077, 0.03249607535321821, 0.0336734693877551, 0.03084772370486656, 0.031789638932496075, 0.033202511773940346, 0.03163265306122449, 0.033124018838304556, 0.02959183673469388, 0.0358712715855573, 0.03194662480376766, 0.03241758241758242, 0.029748822605965463, 0.031789638932496075, 0.03281004709576138, 0.031868131868131866, 0.03139717425431711, 0.033516483516483515, 0.031711145996860285, 0.03139717425431711, 0.03218210361067504, 0.033751962323390894, 0.03281004709576138, 0.03571428571428571]\n",
      "[0.2187115042918947, 0.2404543963925479, 0.24696863620574017, 0.25044665917372777, 0.2510055229747188, 0.2570754053570427, 0.2583312223779755, 0.2607368491259412, 0.2626503423343875, 0.2649755852487028, 0.2637045508041718, 0.26343977743858543, 0.265329798603831, 0.2671393090680622, 0.2709227662742915, 0.266728983152819, 0.2661705874563057, 0.2691431028211668, 0.2699617377957773, 0.27180177056591553, 0.2726473052721947, 0.2712362038709723, 0.2734959749747682, 0.2746634671615286, 0.27185348334852755, 0.2742301240871475, 0.2735463239807346, 0.2741991190178163, 0.2757102530580151, 0.2726672297213285, 0.2758985177888757, 0.27543867724203175, 0.27545223999904705, 0.27760242813486924, 0.27436442729801486, 0.278721741431616, 0.2787230607995464, 0.280159921967073, 0.2785701380739397, 0.27661216669272176, 0.27862043141500153, 0.27695512101947095, 0.2774905612239092, 0.28281514064858604, 0.27752786559173837, 0.2793313694408549, 0.2784490883327366, 0.277495597985314, 0.28282928680989716, 0.27946408196995093]\n",
      "[0.6676183733676381, 0.6882723805903336, 0.6946987537573502, 0.6959547004188196, 0.6996038448362154, 0.7019426777329835, 0.7054506172559016, 0.7049102285183534, 0.7086655475783742, 0.7094244554990597, 0.7080808185010785, 0.7096570965773948, 0.7076781551780833, 0.7144158816848696, 0.7135036318524942, 0.7113690804701197, 0.7134915295237578, 0.7147956968160595, 0.714201526080216, 0.7158255661231101, 0.7194095277437146, 0.7143823380247439, 0.715637626590388, 0.7178123114260713, 0.7166902434277752, 0.7163875285112316, 0.7154717147000385, 0.7189258257975881, 0.7186202015922651, 0.7155696056842001, 0.7206532820126131, 0.7168600538322978, 0.7186802207830908, 0.7188132809490406, 0.7151873349775032, 0.7184187061289825, 0.7203789841985414, 0.7247482731865779, 0.7237174590514671, 0.71987646413267, 0.7214578578237376, 0.720486627703353, 0.7203002049104316, 0.723623928960473, 0.719094042945281, 0.7221991682544702, 0.721908639546863, 0.7201625390493652, 0.7221392426923178, 0.7199729971159633]\n",
      "[0.31093578150427076, 0.33791187562687025, 0.3465678796028425, 0.35020952386840665, 0.35183358500088807, 0.3588473942553257, 0.36082060337780103, 0.36361095160635065, 0.366239292000885, 0.3690150609463996, 0.3669209216150411, 0.3673237332936515, 0.3691618744692726, 0.3715543503960544, 0.375671409308742, 0.3707594715160474, 0.3709232167221684, 0.3745518617151506, 0.37528556209729225, 0.3779337622777974, 0.37925047262964495, 0.37686039160091456, 0.37919290042414416, 0.380848218277418, 0.37730558185456436, 0.3800053003699288, 0.37928727825639086, 0.3799218959581285, 0.3824983061814445, 0.3776894185978518, 0.3828349033212998, 0.38133239663425, 0.3817768555060198, 0.3841977950993047, 0.38015823959729317, 0.3854967401431816, 0.3859209993514244, 0.3877816731293025, 0.3860178482680797, 0.3834626645866257, 0.38573477962123187, 0.38414278452566114, 0.38426420473665407, 0.3909317733775135, 0.38392370765899164, 0.3871918042943461, 0.38528266820598783, 0.38503937875813504, 0.39043738846796666, 0.3867512031277929]\n",
      "[0.04772370486656201, 0.015698587127158554, 0.07629513343799058, 0.04709576138147567, 0.06970172684458399, 0.058712715855573, 0.05274725274725275, 0.10141287284144428, 0.10141287284144428, 0.05054945054945055, 0.06750392464678179, 0.0847723704866562, 0.03956043956043956, 0.07346938775510205, 0.0565149136577708, 0.06405023547880691, 0.1337519623233909, 0.08728414442700157, 0.11459968602825746, 0.05023547880690738, 0.049607535321821036, 0.09544740973312402, 0.06656200941915227, 0.06153846153846154, 0.05400313971742543, 0.058712715855573, 0.0565149136577708, 0.07660910518053375, 0.033594976452119306, 0.09481946624803768, 0.1010989010989011, 0.058084772370486655, 0.07974882260596547, 0.05400313971742543, 0.053061224489795916, 0.07378335949764521, 0.09199372056514914, 0.09481946624803768, 0.09827315541601256, 0.023233908948194663, 0.11648351648351649, 0.04207221350078493, 0.07095761381475667, 0.06562009419152276, 0.09010989010989011, 0.10706436420722135, 0.08602825745682889, 0.05620094191522763, 0.10894819466248037, 0.06248037676609105]\n",
      "[0.3539115602373239, 0.3129975928273519, 0.39449725829495286, 0.3181340603867852, 0.3657100964076852, 0.3382959832631441, 0.35816015178524074, 0.4005210963671789, 0.37866976834036836, 0.3344697603871613, 0.31915467109551154, 0.3606637418202429, 0.32829161402660845, 0.40417884906956997, 0.3359333562096302, 0.34646517800582943, 0.4403113875356103, 0.36128636667840697, 0.38247161158436177, 0.32991401426421835, 0.36066890163407034, 0.36169035625252793, 0.35871697511751366, 0.3392859178681961, 0.38135633013197434, 0.3572448447377308, 0.3259465723736742, 0.37781149898093697, 0.3291326627522471, 0.3475675691491189, 0.4034246172076375, 0.3088018561833219, 0.36551873428518084, 0.3261891999867587, 0.3211664769948509, 0.3353379647781227, 0.3853574432151417, 0.35823040449343085, 0.38147793899188903, 0.3100148541975207, 0.4076509339504906, 0.34866855098617683, 0.35797657828603974, 0.34039752005691526, 0.4162310554040515, 0.40963426006421955, 0.33275462997504834, 0.35200316370479146, 0.3772095457236684, 0.3240174795322022]\n",
      "[0.697851504074086, 0.7696874922906395, 0.684117837601207, 0.752195895618629, 0.6712369369769268, 0.7747570443368129, 0.7439493503946073, 0.6887747731827186, 0.7520295425203244, 0.7297096779964493, 0.7391401783944859, 0.7248491391737842, 0.7961185530065296, 0.6880705593653454, 0.7406990768463995, 0.7295976311596906, 0.6335558878838135, 0.7088239993006459, 0.6636058949253176, 0.7356926332879855, 0.7574290663180067, 0.708997503428787, 0.7143306378272681, 0.7433876395406908, 0.7280536367261033, 0.7471444395445878, 0.7615940521277925, 0.7054081305479958, 0.7303931556303342, 0.7149662589169749, 0.6975986249857051, 0.738758139461667, 0.6792248796243212, 0.7465328575197926, 0.7480039488856923, 0.7468588616225691, 0.719018757244353, 0.7276984406146131, 0.6779245984564605, 0.7583495971103579, 0.6930638506894046, 0.7277606532264191, 0.6902410981148875, 0.7437278382104807, 0.6927664396265423, 0.6734768200039409, 0.7373641225533656, 0.746108268339511, 0.6903918003672557, 0.7604171730624416]\n",
      "[0.40717946811183414, 0.401538667107346, 0.46571103931913105, 0.4210562253769891, 0.42670655209442576, 0.43539352566639183, 0.4517779644857213, 0.4722555756442024, 0.467004476418973, 0.4174329794179172, 0.40985554759800086, 0.4618644384112149, 0.42547134020855104, 0.45303463946413886, 0.43349174834991094, 0.41964648128010573, 0.48328941976113393, 0.4431234960991784, 0.45560578359878096, 0.430601825844213, 0.45769101924476724, 0.45753180244063624, 0.44537976290203113, 0.43429851136905573, 0.4689070279076449, 0.43441709246510607, 0.41982029509663366, 0.4625217696829419, 0.42388705278013955, 0.44378625504579555, 0.47742882367088085, 0.41098129510210796, 0.4309406842059506, 0.426734859843501, 0.42908289943192623, 0.4380372835233894, 0.47925759713713545, 0.45266159594171024, 0.46498328731708133, 0.41388840397973076, 0.49394756023972913, 0.4365220614516094, 0.43171010394405746, 0.4389646593910514, 0.4900732295183926, 0.477594474776024, 0.4354558020249491, 0.4498418536521079, 0.4710965808088532, 0.4195480642888201]\n",
      "0.005\n",
      "combined_lr_0_005\n",
      "using GPU\n"
     ]
    },
    {
     "name": "stderr",
     "output_type": "stream",
     "text": [
      "Epoch 1 Training: 100%|██████████| 797/797 [00:50<00:00, 15.67it/s]\n"
     ]
    },
    {
     "name": "stdout",
     "output_type": "stream",
     "text": [
      "Epoch 1, Train Loss: 1.215568931, Train Accuracy: 1.8445840%, Val Accuracy: 1.5384615%\n"
     ]
    },
    {
     "name": "stderr",
     "output_type": "stream",
     "text": [
      "Epoch 2 Training: 100%|██████████| 797/797 [00:52<00:00, 15.18it/s]\n"
     ]
    },
    {
     "name": "stdout",
     "output_type": "stream",
     "text": [
      "Epoch 2, Train Loss: 1.288566281, Train Accuracy: 2.7708006%, Val Accuracy: 5.1805338%\n"
     ]
    },
    {
     "name": "stderr",
     "output_type": "stream",
     "text": [
      "Epoch 3 Training: 100%|██████████| 797/797 [00:51<00:00, 15.52it/s]\n"
     ]
    },
    {
     "name": "stdout",
     "output_type": "stream",
     "text": [
      "Epoch 3, Train Loss: 1.309268250, Train Accuracy: 3.1789639%, Val Accuracy: 11.9937206%\n"
     ]
    },
    {
     "name": "stderr",
     "output_type": "stream",
     "text": [
      "Epoch 4 Training: 100%|██████████| 797/797 [00:50<00:00, 15.63it/s]\n"
     ]
    },
    {
     "name": "stdout",
     "output_type": "stream",
     "text": [
      "Epoch 4, Train Loss: 1.344045612, Train Accuracy: 3.1554160%, Val Accuracy: 13.1554160%\n"
     ]
    },
    {
     "name": "stderr",
     "output_type": "stream",
     "text": [
      "Epoch 5 Training: 100%|██████████| 797/797 [00:51<00:00, 15.61it/s]\n"
     ]
    },
    {
     "name": "stdout",
     "output_type": "stream",
     "text": [
      "Epoch 5, Train Loss: 1.356614833, Train Accuracy: 3.1711146%, Val Accuracy: 4.6467818%\n"
     ]
    },
    {
     "name": "stderr",
     "output_type": "stream",
     "text": [
      "Epoch 6 Training: 100%|██████████| 797/797 [00:50<00:00, 15.63it/s]\n"
     ]
    },
    {
     "name": "stdout",
     "output_type": "stream",
     "text": [
      "Epoch 6, Train Loss: 1.385292814, Train Accuracy: 3.3437991%, Val Accuracy: 8.3516484%\n"
     ]
    },
    {
     "name": "stderr",
     "output_type": "stream",
     "text": [
      "Epoch 7 Training: 100%|██████████| 797/797 [00:51<00:00, 15.55it/s]\n"
     ]
    },
    {
     "name": "stdout",
     "output_type": "stream",
     "text": [
      "Epoch 7, Train Loss: 1.428364566, Train Accuracy: 3.4615385%, Val Accuracy: 12.1821036%\n"
     ]
    },
    {
     "name": "stderr",
     "output_type": "stream",
     "text": [
      "Epoch 8 Training: 100%|██████████| 797/797 [00:51<00:00, 15.57it/s]\n"
     ]
    },
    {
     "name": "stdout",
     "output_type": "stream",
     "text": [
      "Epoch 8, Train Loss: 1.446160746, Train Accuracy: 3.9403454%, Val Accuracy: 6.9073783%\n"
     ]
    },
    {
     "name": "stderr",
     "output_type": "stream",
     "text": [
      "Epoch 9 Training: 100%|██████████| 797/797 [00:51<00:00, 15.54it/s]\n"
     ]
    },
    {
     "name": "stdout",
     "output_type": "stream",
     "text": [
      "Epoch 9, Train Loss: 1.465272320, Train Accuracy: 3.6028257%, Val Accuracy: 9.6389325%\n"
     ]
    },
    {
     "name": "stderr",
     "output_type": "stream",
     "text": [
      "Epoch 10 Training: 100%|██████████| 797/797 [00:51<00:00, 15.58it/s]\n"
     ]
    },
    {
     "name": "stdout",
     "output_type": "stream",
     "text": [
      "Epoch 10, Train Loss: 1.460233476, Train Accuracy: 4.1522763%, Val Accuracy: 7.6609105%\n"
     ]
    },
    {
     "name": "stderr",
     "output_type": "stream",
     "text": [
      "Epoch 11 Training: 100%|██████████| 797/797 [00:50<00:00, 15.64it/s]\n"
     ]
    },
    {
     "name": "stdout",
     "output_type": "stream",
     "text": [
      "Epoch 11, Train Loss: 1.481799094, Train Accuracy: 3.2967033%, Val Accuracy: 7.6609105%\n"
     ]
    },
    {
     "name": "stderr",
     "output_type": "stream",
     "text": [
      "Epoch 12 Training: 100%|██████████| 797/797 [00:51<00:00, 15.56it/s]\n"
     ]
    },
    {
     "name": "stdout",
     "output_type": "stream",
     "text": [
      "Epoch 12, Train Loss: 1.506800946, Train Accuracy: 3.6106750%, Val Accuracy: 8.0690738%\n"
     ]
    },
    {
     "name": "stderr",
     "output_type": "stream",
     "text": [
      "Epoch 13 Training: 100%|██████████| 797/797 [00:50<00:00, 15.67it/s]\n"
     ]
    },
    {
     "name": "stdout",
     "output_type": "stream",
     "text": [
      "Epoch 13, Train Loss: 1.518796842, Train Accuracy: 3.8618524%, Val Accuracy: 12.4646782%\n"
     ]
    },
    {
     "name": "stderr",
     "output_type": "stream",
     "text": [
      "Epoch 14 Training: 100%|██████████| 797/797 [00:51<00:00, 15.58it/s]\n"
     ]
    },
    {
     "name": "stdout",
     "output_type": "stream",
     "text": [
      "Epoch 14, Train Loss: 1.515637645, Train Accuracy: 3.9795918%, Val Accuracy: 5.7456829%\n"
     ]
    },
    {
     "name": "stderr",
     "output_type": "stream",
     "text": [
      "Epoch 15 Training: 100%|██████████| 797/797 [00:50<00:00, 15.63it/s]\n"
     ]
    },
    {
     "name": "stdout",
     "output_type": "stream",
     "text": [
      "Epoch 15, Train Loss: 1.620846512, Train Accuracy: 3.9560440%, Val Accuracy: 14.8194662%\n"
     ]
    },
    {
     "name": "stderr",
     "output_type": "stream",
     "text": [
      "Epoch 16 Training: 100%|██████████| 797/797 [00:50<00:00, 15.69it/s]\n"
     ]
    },
    {
     "name": "stdout",
     "output_type": "stream",
     "text": [
      "Epoch 16, Train Loss: 1.554540272, Train Accuracy: 4.0973312%, Val Accuracy: 17.2370487%\n"
     ]
    },
    {
     "name": "stderr",
     "output_type": "stream",
     "text": [
      "Epoch 17 Training: 100%|██████████| 797/797 [00:50<00:00, 15.71it/s]\n"
     ]
    },
    {
     "name": "stdout",
     "output_type": "stream",
     "text": [
      "Epoch 17, Train Loss: 1.582282441, Train Accuracy: 4.8430141%, Val Accuracy: 6.4364207%\n"
     ]
    },
    {
     "name": "stderr",
     "output_type": "stream",
     "text": [
      "Epoch 18 Training: 100%|██████████| 797/797 [00:50<00:00, 15.71it/s]\n"
     ]
    },
    {
     "name": "stdout",
     "output_type": "stream",
     "text": [
      "Epoch 18, Train Loss: 1.489562992, Train Accuracy: 5.0549451%, Val Accuracy: 11.3971743%\n"
     ]
    },
    {
     "name": "stderr",
     "output_type": "stream",
     "text": [
      "Epoch 19 Training: 100%|██████████| 797/797 [00:50<00:00, 15.67it/s]\n"
     ]
    },
    {
     "name": "stdout",
     "output_type": "stream",
     "text": [
      "Epoch 19, Train Loss: 1.505244207, Train Accuracy: 5.6043956%, Val Accuracy: 8.2574568%\n"
     ]
    },
    {
     "name": "stderr",
     "output_type": "stream",
     "text": [
      "Epoch 20 Training: 100%|██████████| 797/797 [00:51<00:00, 15.45it/s]\n"
     ]
    },
    {
     "name": "stdout",
     "output_type": "stream",
     "text": [
      "Epoch 20, Train Loss: 1.540072256, Train Accuracy: 5.6985871%, Val Accuracy: 8.6656201%\n"
     ]
    },
    {
     "name": "stderr",
     "output_type": "stream",
     "text": [
      "Epoch 21 Training: 100%|██████████| 797/797 [00:51<00:00, 15.48it/s]\n"
     ]
    },
    {
     "name": "stdout",
     "output_type": "stream",
     "text": [
      "Epoch 21, Train Loss: 1.547352124, Train Accuracy: 6.2323391%, Val Accuracy: 16.7032967%\n"
     ]
    },
    {
     "name": "stderr",
     "output_type": "stream",
     "text": [
      "Epoch 22 Training: 100%|██████████| 797/797 [00:51<00:00, 15.62it/s]\n"
     ]
    },
    {
     "name": "stdout",
     "output_type": "stream",
     "text": [
      "Epoch 22, Train Loss: 1.518560997, Train Accuracy: 6.1773940%, Val Accuracy: 10.6122449%\n"
     ]
    },
    {
     "name": "stderr",
     "output_type": "stream",
     "text": [
      "Epoch 23 Training: 100%|██████████| 797/797 [00:50<00:00, 15.67it/s]\n"
     ]
    },
    {
     "name": "stdout",
     "output_type": "stream",
     "text": [
      "Epoch 23, Train Loss: 1.496379908, Train Accuracy: 6.3893250%, Val Accuracy: 14.9764521%\n"
     ]
    },
    {
     "name": "stderr",
     "output_type": "stream",
     "text": [
      "Epoch 24 Training: 100%|██████████| 797/797 [00:50<00:00, 15.63it/s]\n"
     ]
    },
    {
     "name": "stdout",
     "output_type": "stream",
     "text": [
      "Epoch 24, Train Loss: 1.537276596, Train Accuracy: 7.1036107%, Val Accuracy: 13.0298273%\n"
     ]
    },
    {
     "name": "stderr",
     "output_type": "stream",
     "text": [
      "Epoch 25 Training: 100%|██████████| 797/797 [00:50<00:00, 15.66it/s]\n"
     ]
    },
    {
     "name": "stdout",
     "output_type": "stream",
     "text": [
      "Epoch 25, Train Loss: 1.489407222, Train Accuracy: 7.1114600%, Val Accuracy: 11.3657771%\n"
     ]
    },
    {
     "name": "stderr",
     "output_type": "stream",
     "text": [
      "Epoch 26 Training: 100%|██████████| 797/797 [00:51<00:00, 15.62it/s]\n"
     ]
    },
    {
     "name": "stdout",
     "output_type": "stream",
     "text": [
      "Epoch 26, Train Loss: 1.528661456, Train Accuracy: 6.7896389%, Val Accuracy: 14.3171115%\n"
     ]
    },
    {
     "name": "stderr",
     "output_type": "stream",
     "text": [
      "Epoch 27 Training: 100%|██████████| 797/797 [00:51<00:00, 15.58it/s]\n"
     ]
    },
    {
     "name": "stdout",
     "output_type": "stream",
     "text": [
      "Epoch 27, Train Loss: 1.515923943, Train Accuracy: 6.6797488%, Val Accuracy: 14.2543171%\n"
     ]
    },
    {
     "name": "stderr",
     "output_type": "stream",
     "text": [
      "Epoch 28 Training: 100%|██████████| 797/797 [00:51<00:00, 15.58it/s]\n"
     ]
    },
    {
     "name": "stdout",
     "output_type": "stream",
     "text": [
      "Epoch 28, Train Loss: 1.499876691, Train Accuracy: 7.6766091%, Val Accuracy: 12.9356358%\n"
     ]
    },
    {
     "name": "stderr",
     "output_type": "stream",
     "text": [
      "Epoch 29 Training: 100%|██████████| 797/797 [00:51<00:00, 15.51it/s]\n"
     ]
    },
    {
     "name": "stdout",
     "output_type": "stream",
     "text": [
      "Epoch 29, Train Loss: 1.551859117, Train Accuracy: 7.1664050%, Val Accuracy: 14.2229199%\n"
     ]
    },
    {
     "name": "stderr",
     "output_type": "stream",
     "text": [
      "Epoch 30 Training: 100%|██████████| 797/797 [00:51<00:00, 15.61it/s]\n"
     ]
    },
    {
     "name": "stdout",
     "output_type": "stream",
     "text": [
      "Epoch 30, Train Loss: 1.555494407, Train Accuracy: 7.7472527%, Val Accuracy: 12.8100471%\n"
     ]
    },
    {
     "name": "stderr",
     "output_type": "stream",
     "text": [
      "Epoch 31 Training: 100%|██████████| 797/797 [00:50<00:00, 15.64it/s]\n"
     ]
    },
    {
     "name": "stdout",
     "output_type": "stream",
     "text": [
      "Epoch 31, Train Loss: 1.492786626, Train Accuracy: 7.9905808%, Val Accuracy: 10.9576138%\n"
     ]
    },
    {
     "name": "stderr",
     "output_type": "stream",
     "text": [
      "Epoch 32 Training: 100%|██████████| 797/797 [00:51<00:00, 15.61it/s]\n"
     ]
    },
    {
     "name": "stdout",
     "output_type": "stream",
     "text": [
      "Epoch 32, Train Loss: 1.480785554, Train Accuracy: 7.9356358%, Val Accuracy: 9.4191523%\n"
     ]
    },
    {
     "name": "stderr",
     "output_type": "stream",
     "text": [
      "Epoch 33 Training: 100%|██████████| 797/797 [00:51<00:00, 15.62it/s]\n"
     ]
    },
    {
     "name": "stdout",
     "output_type": "stream",
     "text": [
      "Epoch 33, Train Loss: 1.500697772, Train Accuracy: 8.5949765%, Val Accuracy: 17.2998430%\n"
     ]
    },
    {
     "name": "stderr",
     "output_type": "stream",
     "text": [
      "Epoch 34 Training: 100%|██████████| 797/797 [00:55<00:00, 14.39it/s]\n"
     ]
    },
    {
     "name": "stdout",
     "output_type": "stream",
     "text": [
      "Epoch 34, Train Loss: 1.490620508, Train Accuracy: 8.4693878%, Val Accuracy: 18.3987441%\n"
     ]
    },
    {
     "name": "stderr",
     "output_type": "stream",
     "text": [
      "Epoch 35 Training: 100%|██████████| 797/797 [00:53<00:00, 14.89it/s]\n"
     ]
    },
    {
     "name": "stdout",
     "output_type": "stream",
     "text": [
      "Epoch 35, Train Loss: 1.485474283, Train Accuracy: 8.4301413%, Val Accuracy: 13.4065934%\n"
     ]
    },
    {
     "name": "stderr",
     "output_type": "stream",
     "text": [
      "Epoch 36 Training: 100%|██████████| 797/797 [00:52<00:00, 15.19it/s]\n"
     ]
    },
    {
     "name": "stdout",
     "output_type": "stream",
     "text": [
      "Epoch 36, Train Loss: 1.501922416, Train Accuracy: 8.4065934%, Val Accuracy: 14.0659341%\n"
     ]
    },
    {
     "name": "stderr",
     "output_type": "stream",
     "text": [
      "Epoch 37 Training: 100%|██████████| 797/797 [00:52<00:00, 15.27it/s]\n"
     ]
    },
    {
     "name": "stdout",
     "output_type": "stream",
     "text": [
      "Epoch 37, Train Loss: 1.564419921, Train Accuracy: 9.0659341%, Val Accuracy: 16.4521193%\n"
     ]
    },
    {
     "name": "stderr",
     "output_type": "stream",
     "text": [
      "Epoch 38 Training: 100%|██████████| 797/797 [00:51<00:00, 15.41it/s]\n"
     ]
    },
    {
     "name": "stdout",
     "output_type": "stream",
     "text": [
      "Epoch 38, Train Loss: 1.566314097, Train Accuracy: 9.0894819%, Val Accuracy: 17.5510204%\n"
     ]
    },
    {
     "name": "stderr",
     "output_type": "stream",
     "text": [
      "Epoch 39 Training: 100%|██████████| 797/797 [00:51<00:00, 15.34it/s]\n"
     ]
    },
    {
     "name": "stdout",
     "output_type": "stream",
     "text": [
      "Epoch 39, Train Loss: 1.547981883, Train Accuracy: 8.9795918%, Val Accuracy: 15.6671900%\n"
     ]
    },
    {
     "name": "stderr",
     "output_type": "stream",
     "text": [
      "Epoch 40 Training: 100%|██████████| 797/797 [00:51<00:00, 15.40it/s]\n"
     ]
    },
    {
     "name": "stdout",
     "output_type": "stream",
     "text": [
      "Epoch 40, Train Loss: 1.573185944, Train Accuracy: 8.5321821%, Val Accuracy: 18.5557300%\n"
     ]
    },
    {
     "name": "stderr",
     "output_type": "stream",
     "text": [
      "Epoch 41 Training: 100%|██████████| 797/797 [00:51<00:00, 15.37it/s]\n"
     ]
    },
    {
     "name": "stdout",
     "output_type": "stream",
     "text": [
      "Epoch 41, Train Loss: 1.516015946, Train Accuracy: 8.7519623%, Val Accuracy: 13.3124019%\n"
     ]
    },
    {
     "name": "stderr",
     "output_type": "stream",
     "text": [
      "Epoch 42 Training: 100%|██████████| 797/797 [00:51<00:00, 15.39it/s]\n"
     ]
    },
    {
     "name": "stdout",
     "output_type": "stream",
     "text": [
      "Epoch 42, Train Loss: 1.549194220, Train Accuracy: 8.7205651%, Val Accuracy: 15.0078493%\n"
     ]
    },
    {
     "name": "stderr",
     "output_type": "stream",
     "text": [
      "Epoch 43 Training: 100%|██████████| 797/797 [00:51<00:00, 15.44it/s]\n"
     ]
    },
    {
     "name": "stdout",
     "output_type": "stream",
     "text": [
      "Epoch 43, Train Loss: 1.513924314, Train Accuracy: 9.4505495%, Val Accuracy: 15.0392465%\n"
     ]
    },
    {
     "name": "stderr",
     "output_type": "stream",
     "text": [
      "Epoch 44 Training: 100%|██████████| 797/797 [00:51<00:00, 15.35it/s]\n"
     ]
    },
    {
     "name": "stdout",
     "output_type": "stream",
     "text": [
      "Epoch 44, Train Loss: 1.537592074, Train Accuracy: 9.1365777%, Val Accuracy: 17.2998430%\n"
     ]
    },
    {
     "name": "stderr",
     "output_type": "stream",
     "text": [
      "Epoch 45 Training: 100%|██████████| 797/797 [00:51<00:00, 15.36it/s]\n"
     ]
    },
    {
     "name": "stdout",
     "output_type": "stream",
     "text": [
      "Epoch 45, Train Loss: 1.554671455, Train Accuracy: 9.5211931%, Val Accuracy: 15.5102041%\n"
     ]
    },
    {
     "name": "stderr",
     "output_type": "stream",
     "text": [
      "Epoch 46 Training: 100%|██████████| 797/797 [00:51<00:00, 15.38it/s]\n"
     ]
    },
    {
     "name": "stdout",
     "output_type": "stream",
     "text": [
      "Epoch 46, Train Loss: 1.549377860, Train Accuracy: 9.2307692%, Val Accuracy: 10.7378336%\n"
     ]
    },
    {
     "name": "stderr",
     "output_type": "stream",
     "text": [
      "Epoch 47 Training: 100%|██████████| 797/797 [00:51<00:00, 15.44it/s]\n"
     ]
    },
    {
     "name": "stdout",
     "output_type": "stream",
     "text": [
      "Epoch 47, Train Loss: 1.584130777, Train Accuracy: 10.0000000%, Val Accuracy: 12.8728414%\n"
     ]
    },
    {
     "name": "stderr",
     "output_type": "stream",
     "text": [
      "Epoch 48 Training: 100%|██████████| 797/797 [00:51<00:00, 15.36it/s]\n"
     ]
    },
    {
     "name": "stdout",
     "output_type": "stream",
     "text": [
      "Epoch 48, Train Loss: 1.516632038, Train Accuracy: 9.3249608%, Val Accuracy: 11.6169545%\n"
     ]
    },
    {
     "name": "stderr",
     "output_type": "stream",
     "text": [
      "Epoch 49 Training: 100%|██████████| 797/797 [00:51<00:00, 15.41it/s]\n"
     ]
    },
    {
     "name": "stdout",
     "output_type": "stream",
     "text": [
      "Epoch 49, Train Loss: 1.540986429, Train Accuracy: 9.5682889%, Val Accuracy: 16.8916797%\n"
     ]
    },
    {
     "name": "stderr",
     "output_type": "stream",
     "text": [
      "Epoch 50 Training: 100%|██████████| 797/797 [00:51<00:00, 15.45it/s]\n"
     ]
    },
    {
     "name": "stdout",
     "output_type": "stream",
     "text": [
      "Epoch 50, Train Loss: 1.590082780, Train Accuracy: 9.3249608%, Val Accuracy: 16.1067504%\n",
      "[0.018445839874411302, 0.02770800627943485, 0.031789638932496075, 0.0315541601255887, 0.031711145996860285, 0.033437990580847725, 0.03461538461538462, 0.03940345368916798, 0.03602825745682889, 0.04152276295133438, 0.03296703296703297, 0.03610675039246468, 0.038618524332810045, 0.03979591836734694, 0.03956043956043956, 0.04097331240188383, 0.048430141287284144, 0.05054945054945055, 0.056043956043956046, 0.05698587127158556, 0.06232339089481947, 0.06177394034536891, 0.06389324960753533, 0.07103610675039246, 0.07111459968602826, 0.06789638932496075, 0.06679748822605966, 0.07676609105180533, 0.07166405023547881, 0.07747252747252747, 0.07990580847723705, 0.0793563579277865, 0.08594976452119309, 0.08469387755102041, 0.08430141287284144, 0.08406593406593407, 0.09065934065934066, 0.09089481946624804, 0.08979591836734693, 0.08532182103610675, 0.08751962323390895, 0.08720565149136578, 0.0945054945054945, 0.0913657770800628, 0.09521193092621665, 0.09230769230769231, 0.1, 0.09324960753532183, 0.0956828885400314, 0.09324960753532183]\n",
      "[0.23902608465649422, 0.2546617385428006, 0.2635432931882844, 0.2667143229229143, 0.26851584193107547, 0.2706092970317809, 0.27519782769693046, 0.2790343903438937, 0.27904096419986757, 0.2821745699771853, 0.27749107052557354, 0.2791511405687755, 0.28130984724131275, 0.2850031046238994, 0.2834625275783087, 0.28881496778871224, 0.2886845868882669, 0.29987652332871556, 0.30309263998834085, 0.30788130426961585, 0.31476624352893845, 0.3154630501886939, 0.32315773190218233, 0.32224017662842336, 0.3268821351185708, 0.3284230636470233, 0.3295191448828033, 0.33611766953577865, 0.331444268375352, 0.337352045651002, 0.33813147193297377, 0.3394298374119891, 0.3424005649369759, 0.3450637329502148, 0.3443713794865612, 0.34290631615810624, 0.3506978369661139, 0.3484510270788691, 0.3464562354998976, 0.3455439275299737, 0.35390775716856043, 0.35192148371008186, 0.3558266538389783, 0.3570524630203158, 0.3550656521157071, 0.35551624769272133, 0.3577281189844893, 0.35771926505003965, 0.3612065787849728, 0.3612922203310922]\n",
      "[0.6991865766584555, 0.7139570229992447, 0.7222079879127753, 0.7208950387020989, 0.7195505604211044, 0.7216729072426012, 0.7218698184893063, 0.725375830656286, 0.7267870441766473, 0.7271396620506211, 0.7238111697090822, 0.7265980496672387, 0.728349098858325, 0.7308638602988659, 0.7254393595278351, 0.7300561793822847, 0.7336098119626379, 0.7411769801019416, 0.7437265830912874, 0.7441103787692369, 0.7478114465390913, 0.7498154614869733, 0.7539462473624154, 0.7525219957032027, 0.7558137705572889, 0.7558499890780942, 0.7571109938491857, 0.7598364907070903, 0.7575885821104729, 0.7611777090213936, 0.761280166621921, 0.7636790027620918, 0.7615745230118464, 0.7671759770038323, 0.764322180797041, 0.7639192174539549, 0.7679459667597804, 0.7632005333146409, 0.7654160869595655, 0.7667406494999596, 0.7694070393042408, 0.7674560180242086, 0.7702681063159776, 0.7704129012647389, 0.7678255176776507, 0.7716496235761308, 0.7694323703418682, 0.7725954484476223, 0.7733509841172223, 0.7744363692284876]\n",
      "[0.33618549576706735, 0.35627274127953834, 0.3675142260751545, 0.3709902363460697, 0.3723926920200588, 0.3759738546315239, 0.3806545779221107, 0.3849689713178629, 0.3855746477769781, 0.3894213439159128, 0.38382468779375073, 0.3860207065327753, 0.3889582573574423, 0.3925635020637967, 0.3905686387450437, 0.397150011333896, 0.39754639315691237, 0.4103708448611182, 0.41381389827940623, 0.41785532082445875, 0.42574983109908315, 0.42703257611616946, 0.43550560266521865, 0.4342645834616718, 0.4396294226903558, 0.4408888601703666, 0.44175839325591326, 0.44871280518806544, 0.4439817581813205, 0.44992846547321735, 0.45205902393023606, 0.45372727005308877, 0.45554638426684485, 0.4584529042800689, 0.4574997277926969, 0.45698387228640425, 0.4646071249300854, 0.46192675017463974, 0.4601649871256733, 0.4590119107386144, 0.46801068826053, 0.4660369016659458, 0.47043435784509424, 0.47086395500865624, 0.469422338419609, 0.47122845022554544, 0.4721745729869317, 0.4727387096588069, 0.47638487400656165, 0.47605869860329686]\n",
      "[0.015384615384615385, 0.05180533751962323, 0.11993720565149137, 0.1315541601255887, 0.046467817896389325, 0.08351648351648351, 0.1218210361067504, 0.06907378335949764, 0.09638932496075353, 0.07660910518053375, 0.07660910518053375, 0.08069073783359498, 0.12464678178963894, 0.05745682888540032, 0.14819466248037677, 0.17237048665620094, 0.06436420722135008, 0.11397174254317112, 0.082574568288854, 0.08665620094191523, 0.16703296703296702, 0.10612244897959183, 0.1497645211930926, 0.130298273155416, 0.11365777080062794, 0.14317111459968604, 0.1425431711145997, 0.1293563579277865, 0.14222919937205653, 0.12810047095761382, 0.10957613814756671, 0.09419152276295134, 0.1729984301412873, 0.18398744113029827, 0.13406593406593406, 0.14065934065934066, 0.16452119309262167, 0.17551020408163265, 0.1566718995290424, 0.18555729984301414, 0.13312401883830455, 0.1500784929356358, 0.15039246467817896, 0.1729984301412873, 0.15510204081632653, 0.10737833594976452, 0.12872841444270017, 0.11616954474097331, 0.16891679748822605, 0.16106750392464678]\n",
      "[0.2949324539368532, 0.39598241339559775, 0.3904087109857811, 0.409837790571191, 0.3538353273995976, 0.37393297832052985, 0.4060092200662918, 0.3121384078239896, 0.37550270106575295, 0.3727381340057135, 0.3530736562884565, 0.3671882520905133, 0.41263275184622766, 0.3929980755363356, 0.3957526602066685, 0.4454422158504056, 0.3710264999733761, 0.3709885341897552, 0.40315387514261114, 0.38631950361131295, 0.4372986611194878, 0.4218541792565964, 0.4278758368655095, 0.38848761881345756, 0.3659980730419862, 0.4059982929017735, 0.4346151989813149, 0.4068428501935991, 0.406564244673061, 0.3836501991874594, 0.39871127165680215, 0.3592739049310843, 0.4401854833441715, 0.44466139682685224, 0.4064534439041335, 0.4207956285250274, 0.42552443249846317, 0.46633486353383324, 0.44813873693244205, 0.4541264633277108, 0.4080559398839907, 0.4395787660085424, 0.4130274959309655, 0.4462343106960633, 0.48048288619121876, 0.41157655309852015, 0.3831113046044175, 0.3908129011141968, 0.4557339175102334, 0.47331075275479195]\n",
      "[0.7534797844836395, 0.7084084395078868, 0.6981893966429346, 0.6959294778859458, 0.7419251508142747, 0.7238985948271447, 0.6902146366628271, 0.7575662474923569, 0.7167192687365241, 0.7463548170249857, 0.7526615700766517, 0.718870251146647, 0.6840173158938442, 0.7315966055368759, 0.7209670983063837, 0.6603234534994598, 0.7293202388506986, 0.7376568222570071, 0.7561885958619857, 0.7509988472180645, 0.6936974932857903, 0.7202020670751716, 0.7393085589708805, 0.7245347565180034, 0.7470091778279573, 0.7271445924794693, 0.7288557858892091, 0.7191223907994306, 0.7061146024057687, 0.7516696984436986, 0.7556699237434692, 0.7692244064737771, 0.7010272179215168, 0.7070433633993968, 0.7201976304858456, 0.7410208605060934, 0.7128263577037781, 0.7050272926909144, 0.7117095016260108, 0.7077908652171493, 0.7452172278190928, 0.6934435558611438, 0.7268794220086154, 0.7022590526949198, 0.7200046550197942, 0.7497437621078878, 0.7504411884031712, 0.7505459887378129, 0.704857939615478, 0.7018854694916035]\n",
      "[0.3889803666098182, 0.4675253671901257, 0.47458177507793703, 0.48590276957336154, 0.44722224550565887, 0.46071380373255694, 0.48778503658667516, 0.41399628954556583, 0.4650958208931406, 0.4589368334982226, 0.45135991585562757, 0.44168949341222397, 0.49342459016490253, 0.47053448164726863, 0.4873825156669819, 0.518986253550449, 0.4639698097607188, 0.4622994955049601, 0.48897420971371364, 0.47474241716833054, 0.5062313868887186, 0.4869555475332956, 0.4990938608017177, 0.4926782022949778, 0.46631327181274, 0.4835444248198693, 0.524036265092969, 0.4911650548267541, 0.4850249181616871, 0.48690336902515424, 0.4906153861746369, 0.46146834769953315, 0.5152410211296398, 0.5254567956742214, 0.49054150546927866, 0.5118847512923698, 0.5159918741548507, 0.5324771954688332, 0.5216522576463191, 0.5370661868420519, 0.5017410987834944, 0.507695848604454, 0.4943225980862678, 0.5184589398225635, 0.555907670309316, 0.5096500879858705, 0.4782846206503874, 0.4798866695104432, 0.5198459979361371, 0.5357872849547339]\n",
      "0.001\n",
      "combined_lr_0_001\n",
      "using GPU\n"
     ]
    },
    {
     "name": "stderr",
     "output_type": "stream",
     "text": [
      "Epoch 1 Training: 100%|██████████| 797/797 [00:51<00:00, 15.50it/s]\n"
     ]
    },
    {
     "name": "stdout",
     "output_type": "stream",
     "text": [
      "Epoch 1, Train Loss: 0.725653906, Train Accuracy: 6.3029827%, Val Accuracy: 10.6436421%\n"
     ]
    },
    {
     "name": "stderr",
     "output_type": "stream",
     "text": [
      "Epoch 2 Training: 100%|██████████| 797/797 [00:51<00:00, 15.53it/s]\n"
     ]
    },
    {
     "name": "stdout",
     "output_type": "stream",
     "text": [
      "Epoch 2, Train Loss: 0.585949450, Train Accuracy: 12.7080063%, Val Accuracy: 18.3045526%\n"
     ]
    },
    {
     "name": "stderr",
     "output_type": "stream",
     "text": [
      "Epoch 3 Training: 100%|██████████| 797/797 [00:51<00:00, 15.44it/s]\n"
     ]
    },
    {
     "name": "stdout",
     "output_type": "stream",
     "text": [
      "Epoch 3, Train Loss: 0.521964563, Train Accuracy: 17.1899529%, Val Accuracy: 29.2621664%\n"
     ]
    },
    {
     "name": "stderr",
     "output_type": "stream",
     "text": [
      "Epoch 4 Training: 100%|██████████| 797/797 [00:51<00:00, 15.55it/s]\n"
     ]
    },
    {
     "name": "stdout",
     "output_type": "stream",
     "text": [
      "Epoch 4, Train Loss: 0.483081245, Train Accuracy: 18.8383046%, Val Accuracy: 25.8398744%\n"
     ]
    },
    {
     "name": "stderr",
     "output_type": "stream",
     "text": [
      "Epoch 5 Training: 100%|██████████| 797/797 [00:51<00:00, 15.61it/s]\n"
     ]
    },
    {
     "name": "stdout",
     "output_type": "stream",
     "text": [
      "Epoch 5, Train Loss: 0.445487003, Train Accuracy: 20.9811617%, Val Accuracy: 25.9026688%\n"
     ]
    },
    {
     "name": "stderr",
     "output_type": "stream",
     "text": [
      "Epoch 6 Training: 100%|██████████| 797/797 [00:51<00:00, 15.50it/s]\n"
     ]
    },
    {
     "name": "stdout",
     "output_type": "stream",
     "text": [
      "Epoch 6, Train Loss: 0.417248550, Train Accuracy: 22.3469388%, Val Accuracy: 25.1805338%\n"
     ]
    },
    {
     "name": "stderr",
     "output_type": "stream",
     "text": [
      "Epoch 7 Training: 100%|██████████| 797/797 [00:51<00:00, 15.59it/s]\n"
     ]
    },
    {
     "name": "stdout",
     "output_type": "stream",
     "text": [
      "Epoch 7, Train Loss: 0.386405282, Train Accuracy: 24.1758242%, Val Accuracy: 25.6828885%\n"
     ]
    },
    {
     "name": "stderr",
     "output_type": "stream",
     "text": [
      "Epoch 8 Training: 100%|██████████| 797/797 [00:51<00:00, 15.48it/s]\n"
     ]
    },
    {
     "name": "stdout",
     "output_type": "stream",
     "text": [
      "Epoch 8, Train Loss: 0.360024073, Train Accuracy: 25.5023548%, Val Accuracy: 26.6875981%\n"
     ]
    },
    {
     "name": "stderr",
     "output_type": "stream",
     "text": [
      "Epoch 9 Training: 100%|██████████| 797/797 [00:51<00:00, 15.52it/s]\n"
     ]
    },
    {
     "name": "stdout",
     "output_type": "stream",
     "text": [
      "Epoch 9, Train Loss: 0.326799210, Train Accuracy: 27.2370487%, Val Accuracy: 28.9167975%\n"
     ]
    },
    {
     "name": "stderr",
     "output_type": "stream",
     "text": [
      "Epoch 10 Training: 100%|██████████| 797/797 [00:51<00:00, 15.43it/s]\n"
     ]
    },
    {
     "name": "stdout",
     "output_type": "stream",
     "text": [
      "Epoch 10, Train Loss: 0.305578968, Train Accuracy: 29.7252747%, Val Accuracy: 29.3249608%\n"
     ]
    },
    {
     "name": "stderr",
     "output_type": "stream",
     "text": [
      "Epoch 11 Training: 100%|██████████| 797/797 [00:51<00:00, 15.49it/s]\n"
     ]
    },
    {
     "name": "stdout",
     "output_type": "stream",
     "text": [
      "Epoch 11, Train Loss: 0.283563381, Train Accuracy: 30.7692308%, Val Accuracy: 29.6389325%\n"
     ]
    },
    {
     "name": "stderr",
     "output_type": "stream",
     "text": [
      "Epoch 12 Training: 100%|██████████| 797/797 [00:51<00:00, 15.41it/s]\n"
     ]
    },
    {
     "name": "stdout",
     "output_type": "stream",
     "text": [
      "Epoch 12, Train Loss: 0.261591800, Train Accuracy: 33.6106750%, Val Accuracy: 32.8414443%\n"
     ]
    },
    {
     "name": "stderr",
     "output_type": "stream",
     "text": [
      "Epoch 13 Training: 100%|██████████| 797/797 [00:51<00:00, 15.44it/s]\n"
     ]
    },
    {
     "name": "stdout",
     "output_type": "stream",
     "text": [
      "Epoch 13, Train Loss: 0.239658390, Train Accuracy: 35.4003140%, Val Accuracy: 32.9670330%\n"
     ]
    },
    {
     "name": "stderr",
     "output_type": "stream",
     "text": [
      "Epoch 14 Training: 100%|██████████| 797/797 [00:52<00:00, 15.31it/s]\n"
     ]
    },
    {
     "name": "stdout",
     "output_type": "stream",
     "text": [
      "Epoch 14, Train Loss: 0.225438986, Train Accuracy: 37.0015699%, Val Accuracy: 31.1145997%\n"
     ]
    },
    {
     "name": "stderr",
     "output_type": "stream",
     "text": [
      "Epoch 15 Training: 100%|██████████| 797/797 [00:51<00:00, 15.60it/s]\n"
     ]
    },
    {
     "name": "stdout",
     "output_type": "stream",
     "text": [
      "Epoch 15, Train Loss: 0.212635558, Train Accuracy: 39.0423862%, Val Accuracy: 33.3124019%\n"
     ]
    },
    {
     "name": "stderr",
     "output_type": "stream",
     "text": [
      "Epoch 16 Training: 100%|██████████| 797/797 [00:51<00:00, 15.46it/s]\n"
     ]
    },
    {
     "name": "stdout",
     "output_type": "stream",
     "text": [
      "Epoch 16, Train Loss: 0.195782809, Train Accuracy: 41.2087912%, Val Accuracy: 34.4740973%\n"
     ]
    },
    {
     "name": "stderr",
     "output_type": "stream",
     "text": [
      "Epoch 17 Training: 100%|██████████| 797/797 [00:51<00:00, 15.44it/s]\n"
     ]
    },
    {
     "name": "stdout",
     "output_type": "stream",
     "text": [
      "Epoch 17, Train Loss: 0.179979276, Train Accuracy: 43.2810047%, Val Accuracy: 33.6891680%\n"
     ]
    },
    {
     "name": "stderr",
     "output_type": "stream",
     "text": [
      "Epoch 18 Training: 100%|██████████| 797/797 [00:51<00:00, 15.41it/s]\n"
     ]
    },
    {
     "name": "stdout",
     "output_type": "stream",
     "text": [
      "Epoch 18, Train Loss: 0.175365024, Train Accuracy: 44.1993721%, Val Accuracy: 31.8053375%\n"
     ]
    },
    {
     "name": "stderr",
     "output_type": "stream",
     "text": [
      "Epoch 19 Training: 100%|██████████| 797/797 [00:52<00:00, 15.28it/s]\n"
     ]
    },
    {
     "name": "stdout",
     "output_type": "stream",
     "text": [
      "Epoch 19, Train Loss: 0.164513207, Train Accuracy: 45.8948195%, Val Accuracy: 36.1695447%\n"
     ]
    },
    {
     "name": "stderr",
     "output_type": "stream",
     "text": [
      "Epoch 20 Training: 100%|██████████| 797/797 [00:51<00:00, 15.44it/s]\n"
     ]
    },
    {
     "name": "stdout",
     "output_type": "stream",
     "text": [
      "Epoch 20, Train Loss: 0.153935948, Train Accuracy: 47.5431711%, Val Accuracy: 35.1334380%\n"
     ]
    },
    {
     "name": "stderr",
     "output_type": "stream",
     "text": [
      "Epoch 21 Training: 100%|██████████| 797/797 [00:51<00:00, 15.55it/s]\n"
     ]
    },
    {
     "name": "stdout",
     "output_type": "stream",
     "text": [
      "Epoch 21, Train Loss: 0.144370617, Train Accuracy: 49.1287284%, Val Accuracy: 33.5321821%\n"
     ]
    },
    {
     "name": "stderr",
     "output_type": "stream",
     "text": [
      "Epoch 22 Training: 100%|██████████| 797/797 [00:51<00:00, 15.55it/s]\n"
     ]
    },
    {
     "name": "stdout",
     "output_type": "stream",
     "text": [
      "Epoch 22, Train Loss: 0.142942775, Train Accuracy: 49.0894819%, Val Accuracy: 34.5054945%\n"
     ]
    },
    {
     "name": "stderr",
     "output_type": "stream",
     "text": [
      "Epoch 23 Training: 100%|██████████| 797/797 [00:51<00:00, 15.47it/s]\n"
     ]
    },
    {
     "name": "stdout",
     "output_type": "stream",
     "text": [
      "Epoch 23, Train Loss: 0.130365528, Train Accuracy: 51.1773940%, Val Accuracy: 33.2810047%\n"
     ]
    },
    {
     "name": "stderr",
     "output_type": "stream",
     "text": [
      "Epoch 24 Training: 100%|██████████| 797/797 [00:52<00:00, 15.28it/s]\n"
     ]
    },
    {
     "name": "stdout",
     "output_type": "stream",
     "text": [
      "Epoch 24, Train Loss: 0.127425356, Train Accuracy: 52.1742543%, Val Accuracy: 33.9089482%\n"
     ]
    },
    {
     "name": "stderr",
     "output_type": "stream",
     "text": [
      "Epoch 25 Training: 100%|██████████| 797/797 [00:51<00:00, 15.47it/s]\n"
     ]
    },
    {
     "name": "stdout",
     "output_type": "stream",
     "text": [
      "Epoch 25, Train Loss: 0.123129238, Train Accuracy: 53.4772370%, Val Accuracy: 33.5321821%\n"
     ]
    },
    {
     "name": "stderr",
     "output_type": "stream",
     "text": [
      "Epoch 26 Training: 100%|██████████| 797/797 [00:51<00:00, 15.46it/s]\n"
     ]
    },
    {
     "name": "stdout",
     "output_type": "stream",
     "text": [
      "Epoch 26, Train Loss: 0.125119934, Train Accuracy: 53.5007849%, Val Accuracy: 35.7299843%\n"
     ]
    },
    {
     "name": "stderr",
     "output_type": "stream",
     "text": [
      "Epoch 27 Training: 100%|██████████| 797/797 [00:51<00:00, 15.60it/s]\n"
     ]
    },
    {
     "name": "stdout",
     "output_type": "stream",
     "text": [
      "Epoch 27, Train Loss: 0.110487598, Train Accuracy: 55.9419152%, Val Accuracy: 34.0345369%\n"
     ]
    },
    {
     "name": "stderr",
     "output_type": "stream",
     "text": [
      "Epoch 28 Training: 100%|██████████| 797/797 [00:51<00:00, 15.51it/s]\n"
     ]
    },
    {
     "name": "stdout",
     "output_type": "stream",
     "text": [
      "Epoch 28, Train Loss: 0.108874567, Train Accuracy: 56.8367347%, Val Accuracy: 35.8241758%\n"
     ]
    },
    {
     "name": "stderr",
     "output_type": "stream",
     "text": [
      "Epoch 29 Training: 100%|██████████| 797/797 [00:51<00:00, 15.61it/s]\n"
     ]
    },
    {
     "name": "stdout",
     "output_type": "stream",
     "text": [
      "Epoch 29, Train Loss: 0.104239649, Train Accuracy: 57.8021978%, Val Accuracy: 37.1428571%\n"
     ]
    },
    {
     "name": "stderr",
     "output_type": "stream",
     "text": [
      "Epoch 30 Training: 100%|██████████| 797/797 [00:51<00:00, 15.49it/s]\n"
     ]
    },
    {
     "name": "stdout",
     "output_type": "stream",
     "text": [
      "Epoch 30, Train Loss: 0.104118462, Train Accuracy: 58.7519623%, Val Accuracy: 35.7613815%\n"
     ]
    },
    {
     "name": "stderr",
     "output_type": "stream",
     "text": [
      "Epoch 31 Training: 100%|██████████| 797/797 [00:51<00:00, 15.58it/s]\n"
     ]
    },
    {
     "name": "stdout",
     "output_type": "stream",
     "text": [
      "Epoch 31, Train Loss: 0.098721703, Train Accuracy: 59.4034537%, Val Accuracy: 36.8916797%\n"
     ]
    },
    {
     "name": "stderr",
     "output_type": "stream",
     "text": [
      "Epoch 32 Training: 100%|██████████| 797/797 [00:51<00:00, 15.56it/s]\n"
     ]
    },
    {
     "name": "stdout",
     "output_type": "stream",
     "text": [
      "Epoch 32, Train Loss: 0.099523896, Train Accuracy: 59.1679749%, Val Accuracy: 35.1334380%\n"
     ]
    },
    {
     "name": "stderr",
     "output_type": "stream",
     "text": [
      "Epoch 33 Training: 100%|██████████| 797/797 [00:51<00:00, 15.58it/s]\n"
     ]
    },
    {
     "name": "stdout",
     "output_type": "stream",
     "text": [
      "Epoch 33, Train Loss: 0.097145962, Train Accuracy: 59.9921507%, Val Accuracy: 35.5416013%\n"
     ]
    },
    {
     "name": "stderr",
     "output_type": "stream",
     "text": [
      "Epoch 34 Training: 100%|██████████| 797/797 [00:51<00:00, 15.43it/s]\n"
     ]
    },
    {
     "name": "stdout",
     "output_type": "stream",
     "text": [
      "Epoch 34, Train Loss: 0.093911215, Train Accuracy: 60.6828885%, Val Accuracy: 36.2323391%\n"
     ]
    },
    {
     "name": "stderr",
     "output_type": "stream",
     "text": [
      "Epoch 35 Training: 100%|██████████| 797/797 [00:52<00:00, 15.16it/s]\n"
     ]
    },
    {
     "name": "stdout",
     "output_type": "stream",
     "text": [
      "Epoch 35, Train Loss: 0.090958761, Train Accuracy: 61.0204082%, Val Accuracy: 35.6671900%\n"
     ]
    },
    {
     "name": "stderr",
     "output_type": "stream",
     "text": [
      "Epoch 36 Training: 100%|██████████| 797/797 [00:51<00:00, 15.51it/s]\n"
     ]
    },
    {
     "name": "stdout",
     "output_type": "stream",
     "text": [
      "Epoch 36, Train Loss: 0.091356789, Train Accuracy: 62.0486656%, Val Accuracy: 35.0392465%\n"
     ]
    },
    {
     "name": "stderr",
     "output_type": "stream",
     "text": [
      "Epoch 37 Training: 100%|██████████| 797/797 [00:51<00:00, 15.38it/s]\n"
     ]
    },
    {
     "name": "stdout",
     "output_type": "stream",
     "text": [
      "Epoch 37, Train Loss: 0.086987598, Train Accuracy: 62.8885400%, Val Accuracy: 36.4521193%\n"
     ]
    },
    {
     "name": "stderr",
     "output_type": "stream",
     "text": [
      "Epoch 38 Training: 100%|██████████| 797/797 [00:51<00:00, 15.58it/s]\n"
     ]
    },
    {
     "name": "stdout",
     "output_type": "stream",
     "text": [
      "Epoch 38, Train Loss: 0.089726252, Train Accuracy: 62.3233909%, Val Accuracy: 35.4160126%\n"
     ]
    },
    {
     "name": "stderr",
     "output_type": "stream",
     "text": [
      "Epoch 39 Training: 100%|██████████| 797/797 [00:51<00:00, 15.38it/s]\n"
     ]
    },
    {
     "name": "stdout",
     "output_type": "stream",
     "text": [
      "Epoch 39, Train Loss: 0.088473988, Train Accuracy: 62.7864992%, Val Accuracy: 34.6938776%\n"
     ]
    },
    {
     "name": "stderr",
     "output_type": "stream",
     "text": [
      "Epoch 40 Training: 100%|██████████| 797/797 [00:53<00:00, 14.96it/s]\n"
     ]
    },
    {
     "name": "stdout",
     "output_type": "stream",
     "text": [
      "Epoch 40, Train Loss: 0.076432274, Train Accuracy: 65.0078493%, Val Accuracy: 36.6091052%\n"
     ]
    },
    {
     "name": "stderr",
     "output_type": "stream",
     "text": [
      "Epoch 41 Training: 100%|██████████| 797/797 [00:51<00:00, 15.39it/s]\n"
     ]
    },
    {
     "name": "stdout",
     "output_type": "stream",
     "text": [
      "Epoch 41, Train Loss: 0.073266306, Train Accuracy: 66.4207221%, Val Accuracy: 36.7346939%\n"
     ]
    },
    {
     "name": "stderr",
     "output_type": "stream",
     "text": [
      "Epoch 42 Training: 100%|██████████| 797/797 [00:51<00:00, 15.45it/s]\n"
     ]
    },
    {
     "name": "stdout",
     "output_type": "stream",
     "text": [
      "Epoch 42, Train Loss: 0.073077760, Train Accuracy: 66.6169545%, Val Accuracy: 36.4835165%\n"
     ]
    },
    {
     "name": "stderr",
     "output_type": "stream",
     "text": [
      "Epoch 43 Training: 100%|██████████| 797/797 [00:51<00:00, 15.39it/s]\n"
     ]
    },
    {
     "name": "stdout",
     "output_type": "stream",
     "text": [
      "Epoch 43, Train Loss: 0.080337564, Train Accuracy: 65.0470958%, Val Accuracy: 35.8555730%\n"
     ]
    },
    {
     "name": "stderr",
     "output_type": "stream",
     "text": [
      "Epoch 44 Training: 100%|██████████| 797/797 [00:51<00:00, 15.40it/s]\n"
     ]
    },
    {
     "name": "stdout",
     "output_type": "stream",
     "text": [
      "Epoch 44, Train Loss: 0.082742906, Train Accuracy: 65.5729984%, Val Accuracy: 37.1114600%\n"
     ]
    },
    {
     "name": "stderr",
     "output_type": "stream",
     "text": [
      "Epoch 45 Training: 100%|██████████| 797/797 [00:51<00:00, 15.35it/s]\n"
     ]
    },
    {
     "name": "stdout",
     "output_type": "stream",
     "text": [
      "Epoch 45, Train Loss: 0.075175279, Train Accuracy: 67.0722135%, Val Accuracy: 34.9136578%\n"
     ]
    },
    {
     "name": "stderr",
     "output_type": "stream",
     "text": [
      "Epoch 46 Training: 100%|██████████| 797/797 [00:51<00:00, 15.49it/s]\n"
     ]
    },
    {
     "name": "stdout",
     "output_type": "stream",
     "text": [
      "Epoch 46, Train Loss: 0.075409242, Train Accuracy: 67.1585557%, Val Accuracy: 34.5682889%\n"
     ]
    },
    {
     "name": "stderr",
     "output_type": "stream",
     "text": [
      "Epoch 47 Training: 100%|██████████| 797/797 [00:51<00:00, 15.43it/s]\n"
     ]
    },
    {
     "name": "stdout",
     "output_type": "stream",
     "text": [
      "Epoch 47, Train Loss: 0.073259060, Train Accuracy: 67.0172684%, Val Accuracy: 36.4521193%\n"
     ]
    },
    {
     "name": "stderr",
     "output_type": "stream",
     "text": [
      "Epoch 48 Training: 100%|██████████| 797/797 [00:51<00:00, 15.39it/s]\n"
     ]
    },
    {
     "name": "stdout",
     "output_type": "stream",
     "text": [
      "Epoch 48, Train Loss: 0.068435336, Train Accuracy: 68.6656201%, Val Accuracy: 34.9450549%\n"
     ]
    },
    {
     "name": "stderr",
     "output_type": "stream",
     "text": [
      "Epoch 49 Training: 100%|██████████| 797/797 [00:51<00:00, 15.44it/s]\n"
     ]
    },
    {
     "name": "stdout",
     "output_type": "stream",
     "text": [
      "Epoch 49, Train Loss: 0.062643739, Train Accuracy: 70.7142857%, Val Accuracy: 35.8241758%\n"
     ]
    },
    {
     "name": "stderr",
     "output_type": "stream",
     "text": [
      "Epoch 50 Training: 100%|██████████| 797/797 [00:51<00:00, 15.52it/s]\n"
     ]
    },
    {
     "name": "stdout",
     "output_type": "stream",
     "text": [
      "Epoch 50, Train Loss: 0.071959969, Train Accuracy: 68.8069074%, Val Accuracy: 35.9183673%\n",
      "[0.0630298273155416, 0.1270800627943485, 0.17189952904238617, 0.18838304552590268, 0.2098116169544741, 0.22346938775510203, 0.24175824175824176, 0.25502354788069076, 0.27237048665620095, 0.29725274725274725, 0.3076923076923077, 0.3361067503924647, 0.3540031397174254, 0.3700156985871272, 0.3904238618524333, 0.41208791208791207, 0.4328100470957614, 0.44199372056514913, 0.4589481946624804, 0.47543171114599686, 0.491287284144427, 0.490894819466248, 0.5117739403453689, 0.5217425431711146, 0.5347723704866562, 0.5350078492935636, 0.5594191522762951, 0.5683673469387756, 0.578021978021978, 0.5875196232339089, 0.5940345368916797, 0.591679748822606, 0.5999215070643642, 0.606828885400314, 0.610204081632653, 0.6204866562009419, 0.6288854003139718, 0.6232339089481946, 0.6278649921507065, 0.6500784929356358, 0.6642072213500785, 0.6661695447409733, 0.6504709576138148, 0.6557299843014128, 0.6707221350078493, 0.671585557299843, 0.6701726844583987, 0.6866562009419153, 0.7071428571428572, 0.6880690737833595]\n",
      "[0.29699561758649723, 0.37307708443229304, 0.41090101986122973, 0.433741157976508, 0.453996055868061, 0.4743602643240819, 0.49639837161143746, 0.5181285949652835, 0.5447532713184953, 0.5641248802739414, 0.580600555802171, 0.6088069808544253, 0.6337122284964201, 0.6440967359782512, 0.6617591304530585, 0.6764504701726652, 0.7048765526129023, 0.7009821687932998, 0.7134146660617591, 0.7304761802107389, 0.739643774586838, 0.7415238495327328, 0.7612811686748869, 0.766063721745161, 0.7675424776587407, 0.7643082014525389, 0.7876461711527231, 0.7937500154467013, 0.7998669376434484, 0.803265239099364, 0.8066161127937965, 0.803537028086292, 0.8057197252228097, 0.8091791632791298, 0.8175545344753573, 0.819468043084956, 0.8272855149545619, 0.8210160907934917, 0.8179722711075952, 0.8402011644281591, 0.8437505231058846, 0.8434016449335395, 0.8332641862115535, 0.8312866709110488, 0.8449347173899523, 0.8358558294332933, 0.8389418271384302, 0.8503656646295262, 0.8626849542639613, 0.8419550175776326]\n",
      "[0.7407658447515733, 0.7811644646655533, 0.8021487954030944, 0.8138428109160298, 0.8243782358871007, 0.8343616828753215, 0.8429397944672143, 0.8521314393027467, 0.8592498262577628, 0.8661036529637948, 0.8735540997020872, 0.8786177454816798, 0.8865967018214033, 0.8886032170588313, 0.8930250899526747, 0.897699316496289, 0.9027329711063257, 0.9031776758604296, 0.9067409978059293, 0.9089258103639178, 0.9117990810834196, 0.9110799318114859, 0.9143010185438314, 0.914666160940496, 0.9166049157133213, 0.9158571467839535, 0.9194989006504132, 0.9194599427525268, 0.9206873384764492, 0.9202926204054753, 0.9220595438910514, 0.921854668511957, 0.9215319192792157, 0.9223451266739712, 0.9240665840700508, 0.9231651943704191, 0.9249260847449952, 0.9238068515179879, 0.9244676793389511, 0.9274450002089731, 0.9277141355592515, 0.9278174063707127, 0.925848898292343, 0.9263480247571613, 0.9283286203265398, 0.9270880132125395, 0.9278636079518341, 0.9284610561822023, 0.9306284859209052, 0.9289727007172689]\n",
      "[0.40271979182896755, 0.4823095817065102, 0.520220142621896, 0.5422742820840336, 0.5642759574617416, 0.5837439774319293, 0.6040145824279384, 0.625625642010814, 0.6511779500022538, 0.6681925074045698, 0.6837620588128585, 0.7064143568076069, 0.728065733147084, 0.7372611087007575, 0.7502877290524016, 0.7630690026688779, 0.7842193803032558, 0.7819154472064369, 0.7918517064943087, 0.8044433724713722, 0.8111595507173458, 0.812972700577015, 0.8264980681899057, 0.8299102392557792, 0.8318251103448795, 0.8293526601025245, 0.8452201448728678, 0.8491165995178306, 0.8532547067468746, 0.8548177866641091, 0.8578876464033696, 0.856367595391569, 0.8575680105733156, 0.8598390058499913, 0.8655315685776597, 0.8664897522135245, 0.8717539505972831, 0.8676223817279684, 0.8662440042974842, 0.8803893486947448, 0.8825815885328433, 0.8824072678055334, 0.8758414534721128, 0.874941361071678, 0.883657151268895, 0.8778025329042156, 0.8799722507782263, 0.8868023605887483, 0.8945013499551149, 0.8819248573892441]\n",
      "[0.10643642072213501, 0.18304552590266876, 0.2926216640502355, 0.2583987441130298, 0.25902668759811615, 0.25180533751962325, 0.25682888540031396, 0.2668759811616955, 0.2891679748822606, 0.2932496075353218, 0.29638932496075354, 0.32841444270015696, 0.32967032967032966, 0.31114599686028255, 0.33312401883830456, 0.3447409733124019, 0.3368916797488226, 0.31805337519623234, 0.36169544740973314, 0.35133437990580846, 0.33532182103610675, 0.34505494505494505, 0.3328100470957614, 0.3390894819466248, 0.33532182103610675, 0.3572998430141287, 0.3403453689167975, 0.35824175824175825, 0.37142857142857144, 0.3576138147566719, 0.36891679748822603, 0.35133437990580846, 0.3554160125588697, 0.36232339089481946, 0.3566718995290424, 0.35039246467817897, 0.36452119309262165, 0.35416012558869703, 0.3469387755102041, 0.3660910518053375, 0.3673469387755102, 0.3648351648351648, 0.3585557299843014, 0.3711145996860283, 0.34913657770800627, 0.3456828885400314, 0.36452119309262165, 0.34945054945054943, 0.35824175824175825, 0.35918367346938773]\n",
      "[0.3771135928482862, 0.4480459002085404, 0.5060701472048194, 0.5091376267883208, 0.5001595590099965, 0.5197363740785039, 0.5208817220643702, 0.5327001530201856, 0.5425963574390315, 0.5788919216616744, 0.5668878481617871, 0.6023034777645399, 0.5880109843198877, 0.5852693770572366, 0.6119667612649639, 0.6192833414624851, 0.6233546048340471, 0.602713467981025, 0.6465660459651457, 0.6103601872597976, 0.6141723721043559, 0.6224224958963518, 0.6250697088050218, 0.6529849440579344, 0.6289654734105042, 0.6437610736411389, 0.6345794754412536, 0.6397029470776958, 0.6697871694540618, 0.6276105441873628, 0.65781565888336, 0.6430636908034613, 0.6413263408779949, 0.6523858488468139, 0.6386503263089005, 0.6454090914649456, 0.6486287847443546, 0.6438565243212354, 0.6374428080366629, 0.6556686787094589, 0.6629561442720401, 0.6586751910098572, 0.6230198626611845, 0.6644840894807263, 0.6426925115805225, 0.6366970340177577, 0.6685921253224825, 0.6283839251505221, 0.6554264734444504, 0.6463070120300203]\n",
      "[0.8294285646759706, 0.803249810108388, 0.7632236742935448, 0.7834818519209311, 0.7718244240122002, 0.7711607349120982, 0.7665964930624315, 0.755569273499382, 0.7563964273226591, 0.7427400951322062, 0.7494945780288985, 0.7255659133296324, 0.7293043586705139, 0.7270347290375664, 0.7176343972131725, 0.7109662346074805, 0.7131994416225141, 0.7189958416903771, 0.6980807757478743, 0.705459906017781, 0.7183541430944347, 0.7014889108745315, 0.7067232276889606, 0.7029542156300641, 0.6937503160682584, 0.6896659458041764, 0.6986112111268232, 0.6976448864175228, 0.6832624027381197, 0.6983235626688856, 0.6810438510657267, 0.6855828355893938, 0.68702043538314, 0.6929918509135768, 0.685385603595063, 0.6937635830089512, 0.6826370099556461, 0.6902496115223127, 0.6848349526360572, 0.6823438115443198, 0.6732012297108231, 0.6773187557528628, 0.685960206995053, 0.6738189496286279, 0.6778209350289912, 0.6859858159443564, 0.6757514347214045, 0.6833462414378374, 0.6766177453472808, 0.6836012887538959]\n",
      "[0.4806345331810634, 0.5338385562600364, 0.5813654036650724, 0.5825643764277584, 0.5815559741450007, 0.5999935733301113, 0.5919393994382532, 0.6004460971523287, 0.6151565364306366, 0.634651131451308, 0.6222383390877715, 0.6490064143021396, 0.6376265750541872, 0.6345666305890671, 0.6529478864000401, 0.6555761371336576, 0.6577927051787164, 0.6447520126118388, 0.6657325943050818, 0.6412345278148345, 0.6514579762638882, 0.6534604712450319, 0.6576519592916249, 0.6705791025485195, 0.6542348772773368, 0.6609577069485549, 0.6587449555175986, 0.6626445206756105, 0.6741738788871884, 0.6554087858832094, 0.666720440099047, 0.6614506270891222, 0.6592545361340391, 0.668821719870785, 0.6556272079129524, 0.6649975736037039, 0.66251045895225, 0.6625775914116655, 0.6565652732776037, 0.6659383400623411, 0.6654895561769797, 0.6659369224929723, 0.6476218884615698, 0.6658500404950343, 0.6572053683345537, 0.6567021589059977, 0.6682801967215034, 0.6506715816497497, 0.6620307111990563, 0.6619332521014695]\n"
     ]
    }
   ],
   "source": [
    "EPOCHS = 50\n",
    "N_CLASSES = 19\n",
    "THRESHOLD = 0.5\n",
    "\n",
    "learning_rates = [0.01, 0.005, 0.001]\n",
    "model_names = [\n",
    "\t\"combined_lr_0_01\",\n",
    "\t\"combined_lr_0_005\",\n",
    "\t\"combined_lr_0_001\",\n",
    "]\n",
    "for lr, model_name in zip(learning_rates, model_names):\n",
    "\tprint(lr)\n",
    "\tprint(model_name)\n",
    "\t\n",
    "\tmodel = CombinedModel(\n",
    "\t\tchoice=\"regnet_x_1_6gf\",\n",
    "\t\tpretrained=True, \t\t# if pretrained is False, then freeze should also be False\n",
    "\t\tfreeze=True,\n",
    "\t\tcnn_n_out=256,\n",
    "\t\tno_layers=2,\n",
    "\t\tvocab_size=len(vocab), \t# already added by 1\n",
    "\t\tembedding_dim=64,\n",
    "\t\tlstm_hidden_dim=256,\n",
    "\t\tlstm_n_out=128,\n",
    "\t\tlstm_dropout=0.3,\n",
    "\t\tfc_dropout=0.5,\n",
    "\t)\n",
    "\t# utilise GPU\n",
    "\tif torch.cuda.is_available():\n",
    "\t\tprint('using GPU')\n",
    "\t\tmodel = model.to('cuda')\n",
    "\t\n",
    "\tloss_fn = nn.BCEWithLogitsLoss(pos_weight=pos_weights)\n",
    "\toptimizer = torch.optim.Adam(\n",
    "\t\tparams=model.parameters(),\n",
    "\t\tlr=lr,\n",
    "\t)\n",
    "\n",
    "\tmodel, results = train_and_val(\n",
    "\t\tmodel=model,\n",
    "\t\tepochs=EPOCHS,\n",
    "\t\tn_classes=N_CLASSES,\n",
    "\t\toptimizer=optimizer,\n",
    "\t\tloss_fn=loss_fn,\n",
    "\t\tthreshold=THRESHOLD,\n",
    "\t\tbatch_size=BATCH_SIZE\n",
    "\t)\n",
    "\ttorch.save(model.state_dict(), '../saved_models/' + model_name)\n",
    "\tresults = pd.DataFrame(results)\n",
    "\tresults.to_csv(f\"../logs/{model_name}.csv\", index=False)\n",
    "\t"
   ]
  }
 ],
 "metadata": {
  "kernelspec": {
   "display_name": "Python 3",
   "language": "python",
   "name": "python3"
  },
  "language_info": {
   "codemirror_mode": {
    "name": "ipython",
    "version": 3
   },
   "file_extension": ".py",
   "mimetype": "text/x-python",
   "name": "python",
   "nbconvert_exporter": "python",
   "pygments_lexer": "ipython3",
   "version": "3.10.12"
  }
 },
 "nbformat": 4,
 "nbformat_minor": 2
}
