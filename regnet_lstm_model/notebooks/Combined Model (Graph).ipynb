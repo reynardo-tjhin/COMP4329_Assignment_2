{
 "cells": [
  {
   "cell_type": "markdown",
   "metadata": {},
   "source": [
    "# Combining Image Classification and NLP Models Together"
   ]
  },
  {
   "cell_type": "markdown",
   "metadata": {},
   "source": [
    "## Import Libraries"
   ]
  },
  {
   "cell_type": "code",
   "execution_count": 1,
   "metadata": {},
   "outputs": [],
   "source": [
    "# change the python's path to the parent directory\n",
    "import sys\n",
    "sys.path.append(\"../\")"
   ]
  },
  {
   "cell_type": "code",
   "execution_count": 2,
   "metadata": {},
   "outputs": [
    {
     "name": "stderr",
     "output_type": "stream",
     "text": [
      "/home/reynardo/.local/lib/python3.10/site-packages/tqdm/auto.py:21: TqdmWarning: IProgress not found. Please update jupyter and ipywidgets. See https://ipywidgets.readthedocs.io/en/stable/user_install.html\n",
      "  from .autonotebook import tqdm as notebook_tqdm\n"
     ]
    }
   ],
   "source": [
    "import pandas as pd\n",
    "import torch\n",
    "import torch.nn as nn\n",
    "import torch.nn.functional as F\n",
    "import gc\n",
    "import numpy as np\n",
    "\n",
    "from models.popular_models import PopularModels\n",
    "from models.lstm import LSTM\n",
    "from torchvision import transforms\n",
    "from tqdm import tqdm\n",
    "from data.dataset import MultiLabelDataset\n",
    "from tools.tools import get_data, load_data, tokenize, remove_class, count_class, calculate_pos_weights\n",
    "from torch.utils.data import DataLoader\n",
    "from sklearn.feature_extraction.text import CountVectorizer\n",
    "from sklearn.metrics import (\n",
    "    accuracy_score,\n",
    "    precision_score,\n",
    "    recall_score,\n",
    "    f1_score\n",
    ")\n",
    "from sklearn.model_selection import train_test_split"
   ]
  },
  {
   "cell_type": "markdown",
   "metadata": {},
   "source": [
    "## Remove unused memory in GPU"
   ]
  },
  {
   "cell_type": "code",
   "execution_count": 4,
   "metadata": {},
   "outputs": [],
   "source": [
    "gc.collect()\n",
    "torch.cuda.empty_cache()"
   ]
  },
  {
   "cell_type": "markdown",
   "metadata": {},
   "source": [
    "## Load the Data"
   ]
  },
  {
   "cell_type": "code",
   "execution_count": 11,
   "metadata": {},
   "outputs": [],
   "source": [
    "# import data\n",
    "train_data = get_data(\"../dataset/train.csv\")\n",
    "test_data = get_data(\"../dataset/test.csv\")\n",
    "\n",
    "# perform text cleaning and get the pandas' dataframe\n",
    "train_data = load_data(train_data)\n",
    "test_data = load_data(test_data, has_label=False)\n",
    "\n",
    "# remove an imbalanced class\n",
    "train_data = remove_class(train_data, class_no=1)\n",
    "\n",
    "# split into training and validating sets\n",
    "X = train_data.iloc[:, 0:2]\n",
    "y = train_data.iloc[:, 2:]\n",
    "X_train, X_test, y_train, y_test = train_test_split(X, y, test_size=0.2)\n",
    "\n",
    "train_data = pd.concat([X_train, y_train], axis=1)\n",
    "val_data = pd.concat([X_test, y_test], axis=1)\n",
    "\n",
    "# join the data together\n",
    "for_nlp_data = pd.concat((train_data['caption'], val_data['caption'], test_data['caption']), ignore_index=True)"
   ]
  },
  {
   "cell_type": "code",
   "execution_count": 12,
   "metadata": {},
   "outputs": [
    {
     "name": "stdout",
     "output_type": "stream",
     "text": [
      "(12740, 21)\n",
      "(3185, 21)\n",
      "(10000, 2)\n"
     ]
    }
   ],
   "source": [
    "print(train_data.shape)\n",
    "print(val_data.shape)\n",
    "print(test_data.shape)"
   ]
  },
  {
   "cell_type": "code",
   "execution_count": 13,
   "metadata": {},
   "outputs": [
    {
     "name": "stdout",
     "output_type": "stream",
     "text": [
      "Number of training instances: \t12740\n",
      "Number of validation instances: 3185\n",
      "Number of testing instances:  \t10000\n"
     ]
    }
   ],
   "source": [
    "print(f\"Number of training instances: \t{train_data.shape[0]}\")\n",
    "print(f\"Number of validation instances: {val_data.shape[0]}\")\n",
    "print(f\"Number of testing instances:  \t{test_data.shape[0]}\")"
   ]
  },
  {
   "cell_type": "markdown",
   "metadata": {},
   "source": [
    "## Preprocessing for Images and Caption"
   ]
  },
  {
   "cell_type": "code",
   "execution_count": 14,
   "metadata": {},
   "outputs": [
    {
     "name": "stdout",
     "output_type": "stream",
     "text": [
      "Max Sentence Length: 28\n",
      "(25925, 28)\n",
      "(12740, 28)\n",
      "(3185, 28)\n",
      "(10000, 28)\n"
     ]
    }
   ],
   "source": [
    "# define the image transformation: currently following resnet18\n",
    "transform = transforms.Compose([\n",
    "\ttransforms.Resize((232, 232)),\n",
    "\ttransforms.CenterCrop(224),\n",
    "\ttransforms.ToTensor(), # converts images to [0, 1]\n",
    "\ttransforms.Normalize(\n",
    "\t\tmean=[0.485, 0.456, 0.406],\n",
    "\t\tstd=[0.229, 0.224, 0.225],\n",
    "\t)\n",
    "])\n",
    "\n",
    "# tokenize the data\n",
    "final_list, vocab = tokenize(for_nlp_data)\n",
    "X_train_vec = final_list[:train_data.shape[0], :]\n",
    "X_val_vec = final_list[train_data.shape[0]:train_data.shape[0]+val_data.shape[0], :]\n",
    "X_test_vec = final_list[train_data.shape[0]+val_data.shape[0]:, :]\n",
    "\n",
    "print(final_list.shape)\n",
    "print(X_train_vec.shape)\n",
    "print(X_val_vec.shape)\n",
    "print(X_test_vec.shape)"
   ]
  },
  {
   "cell_type": "markdown",
   "metadata": {},
   "source": [
    "## Create Dataset and DataLoader"
   ]
  },
  {
   "cell_type": "code",
   "execution_count": 15,
   "metadata": {},
   "outputs": [],
   "source": [
    "# initialize the dataset\n",
    "train_dataset = MultiLabelDataset(\n",
    "\tcsv_file=train_data,\n",
    "\troot_dir='../dataset/data/',\n",
    "\tvectorizer=None,\n",
    "\ttransform=transform,\n",
    "\tuse_caption_vec=True,\n",
    "\tcaption_vec=X_train_vec,\n",
    "\tis_test=False,\n",
    ")\n",
    "val_dataset = MultiLabelDataset(\n",
    "    csv_file=val_data,\n",
    "    root_dir='../dataset/data/',\n",
    "    vectorizer=None,\n",
    "\ttransform=transform,\n",
    "\tuse_caption_vec=True,\n",
    "\tcaption_vec=X_val_vec,\n",
    "\tis_test=False,\n",
    ")\n",
    "test_dataset = MultiLabelDataset(\n",
    "\tcsv_file=test_data,\n",
    "\troot_dir='../dataset/data/',\n",
    "\tvectorizer=None,\n",
    "\ttransform=transform,\n",
    "\tuse_caption_vec=True,\n",
    "\tcaption_vec=X_test_vec,\n",
    "\tis_test=True,\n",
    ")\n",
    "\n",
    "BATCH_SIZE=16\n",
    "\n",
    "# load the dataset into batches \n",
    "train_dataloader = DataLoader(\n",
    "\tdataset=train_dataset,\n",
    "\tbatch_size=BATCH_SIZE,\n",
    "\tshuffle=True,\n",
    ")\n",
    "val_dataloader = DataLoader(\n",
    "    dataset=val_dataset,\n",
    "\tbatch_size=BATCH_SIZE,\n",
    "\tshuffle=True,\n",
    ")\n",
    "test_dataloader = DataLoader(\n",
    "\tdataset=test_dataset,\n",
    "\tbatch_size=BATCH_SIZE,\n",
    "\tshuffle=False,\n",
    ")"
   ]
  },
  {
   "cell_type": "markdown",
   "metadata": {},
   "source": [
    "## Create the Combined Model"
   ]
  },
  {
   "cell_type": "code",
   "execution_count": 16,
   "metadata": {},
   "outputs": [],
   "source": [
    "class CombinedModel(nn.Module):\n",
    "\n",
    "\tdef __init__(\n",
    "\t\t\tself, \n",
    "\t\t\tchoice: str, \n",
    "\t\t\tpretrained: bool, \n",
    "\t\t\tfreeze: bool, \n",
    "\t\t\tcnn_n_out: int,\n",
    "\t\t\tno_layers: int,\n",
    "\t\t\tvocab_size: int,\n",
    "\t\t\tembedding_dim: int,\n",
    "\t\t\tlstm_hidden_dim: int,\n",
    "\t\t\tlstm_n_out: int,\n",
    "\t\t\tlstm_dropout: float = 0.5,\n",
    "\t\t\tfc_dropout: float = 0.5,\n",
    "\t\t) -> None:\n",
    "\t\tsuper(CombinedModel, self).__init__()\n",
    "\n",
    "\t\t# get the CNN model for image classification\n",
    "\t\tself.cnn_model = PopularModels(\n",
    "\t\t\tchoice=choice,\n",
    "\t\t\tpretrained=pretrained,\n",
    "\t\t\tfreeze=freeze,\n",
    "\t\t\tn_out=cnn_n_out,\n",
    "\t\t).get_model()\n",
    "\n",
    "\t\t# get the LSTM model for text classification\n",
    "\t\tself.lstm_model = LSTM(\n",
    "\t\t\tno_layers=no_layers,\n",
    "\t\t\tvocab_size=vocab_size + 1,\n",
    "\t\t\tembedding_dim=embedding_dim,\n",
    "\t\t\thidden_dim=lstm_hidden_dim,\n",
    "\t\t\toutput_dim=lstm_n_out,\n",
    "\t\t\tdropout=lstm_dropout,\n",
    "\t\t)\n",
    "\t\t\n",
    "\t\t# create the final fully connected layer\n",
    "\t\tself.last_layer = nn.Linear(cnn_n_out + lstm_n_out, 19)\n",
    "\t\t\n",
    "\t\t# prevent overfitting\n",
    "\t\tself.dropout_layer = nn.Dropout(p=fc_dropout, inplace=True)\n",
    "\n",
    "\tdef forward(self, x, y, hidden):\n",
    "\t\tx = self.cnn_model(x)\n",
    "\t\ty, hidden = self.lstm_model(y, hidden)\n",
    "\t\t\n",
    "\t\toutput = torch.cat((x, y), dim=1)\n",
    "\t\toutput = self.dropout_layer(output)\n",
    "\t\toutput = self.last_layer(output)\n",
    "\n",
    "\t\treturn output, hidden"
   ]
  },
  {
   "cell_type": "markdown",
   "metadata": {},
   "source": [
    "## Define the model"
   ]
  },
  {
   "cell_type": "code",
   "execution_count": 17,
   "metadata": {},
   "outputs": [],
   "source": [
    "class_counts = list(count_class(train_data).values())\n",
    "pos_weights = calculate_pos_weights(class_counts, train_data)\n",
    "if torch.cuda.is_available():\n",
    "\tpos_weights = pos_weights.to('cuda')"
   ]
  },
  {
   "cell_type": "code",
   "execution_count": 18,
   "metadata": {},
   "outputs": [
    {
     "name": "stdout",
     "output_type": "stream",
     "text": [
      "using GPU\n"
     ]
    }
   ],
   "source": [
    "EPOCHS = 50\n",
    "THRESHOLD = 0.5\n",
    "N_CLASSES = 19\n",
    "\n",
    "model = CombinedModel(\n",
    "\tchoice=\"regnet_x_1_6gf\",\n",
    "\tpretrained=True, \t\t# if pretrained is False, then freeze should also be False\n",
    "\tfreeze=True,\n",
    "\tcnn_n_out=256,\n",
    "\tno_layers=2,\n",
    "\tvocab_size=len(vocab), \t# already added by 1\n",
    "\tembedding_dim=64,\n",
    "\tlstm_hidden_dim=256,\n",
    "\tlstm_n_out=128,\n",
    "\tlstm_dropout=0.3,\n",
    "\tfc_dropout=0.5,\n",
    ")\n",
    "loss_fn = nn.BCEWithLogitsLoss(pos_weight=pos_weights)\n",
    "optimizer = torch.optim.Adam(\n",
    "\tparams=model.parameters(),\n",
    "\tlr=0.001,\n",
    ")\n",
    "\n",
    "# utilise GPU\n",
    "if torch.cuda.is_available():\n",
    "\tprint('using GPU')\n",
    "\tmodel = model.to('cuda')"
   ]
  },
  {
   "cell_type": "markdown",
   "metadata": {},
   "source": [
    "## Train the combined model"
   ]
  },
  {
   "cell_type": "code",
   "execution_count": 19,
   "metadata": {},
   "outputs": [
    {
     "name": "stderr",
     "output_type": "stream",
     "text": [
      "Epoch 1 Training: 100%|██████████| 797/797 [00:52<00:00, 15.13it/s]\n"
     ]
    },
    {
     "name": "stdout",
     "output_type": "stream",
     "text": [
      "Epoch 1, Train Loss: 0.718787902, Train Accuracy: 5.6279435%\tVal Accuracy: 14.9136578%\n"
     ]
    },
    {
     "name": "stderr",
     "output_type": "stream",
     "text": [
      "Epoch 2 Training: 100%|██████████| 797/797 [00:52<00:00, 15.15it/s]\n"
     ]
    },
    {
     "name": "stdout",
     "output_type": "stream",
     "text": [
      "Epoch 2, Train Loss: 0.582069074, Train Accuracy: 12.5117739%\tVal Accuracy: 20.6279435%\n"
     ]
    },
    {
     "name": "stderr",
     "output_type": "stream",
     "text": [
      "Epoch 3 Training: 100%|██████████| 797/797 [00:52<00:00, 15.25it/s]\n"
     ]
    },
    {
     "name": "stdout",
     "output_type": "stream",
     "text": [
      "Epoch 3, Train Loss: 0.526792892, Train Accuracy: 15.9968603%\tVal Accuracy: 22.7629513%\n"
     ]
    },
    {
     "name": "stderr",
     "output_type": "stream",
     "text": [
      "Epoch 4 Training: 100%|██████████| 797/797 [00:52<00:00, 15.29it/s]\n"
     ]
    },
    {
     "name": "stdout",
     "output_type": "stream",
     "text": [
      "Epoch 4, Train Loss: 0.485678897, Train Accuracy: 17.9120879%\tVal Accuracy: 22.8885400%\n"
     ]
    },
    {
     "name": "stderr",
     "output_type": "stream",
     "text": [
      "Epoch 5 Training: 100%|██████████| 797/797 [00:52<00:00, 15.24it/s]\n"
     ]
    },
    {
     "name": "stdout",
     "output_type": "stream",
     "text": [
      "Epoch 5, Train Loss: 0.447155872, Train Accuracy: 19.7566719%\tVal Accuracy: 23.4536892%\n"
     ]
    },
    {
     "name": "stderr",
     "output_type": "stream",
     "text": [
      "Epoch 6 Training: 100%|██████████| 797/797 [00:52<00:00, 15.12it/s]\n"
     ]
    },
    {
     "name": "stdout",
     "output_type": "stream",
     "text": [
      "Epoch 6, Train Loss: 0.421279138, Train Accuracy: 21.0832025%\tVal Accuracy: 25.9340659%\n"
     ]
    },
    {
     "name": "stderr",
     "output_type": "stream",
     "text": [
      "Epoch 7 Training: 100%|██████████| 797/797 [00:52<00:00, 15.15it/s]\n"
     ]
    },
    {
     "name": "stdout",
     "output_type": "stream",
     "text": [
      "Epoch 7, Train Loss: 0.393711277, Train Accuracy: 22.6373626%\tVal Accuracy: 27.5981162%\n"
     ]
    },
    {
     "name": "stderr",
     "output_type": "stream",
     "text": [
      "Epoch 8 Training: 100%|██████████| 797/797 [00:53<00:00, 14.86it/s]\n"
     ]
    },
    {
     "name": "stdout",
     "output_type": "stream",
     "text": [
      "Epoch 8, Train Loss: 0.367870224, Train Accuracy: 23.9167975%\tVal Accuracy: 27.5353218%\n"
     ]
    },
    {
     "name": "stderr",
     "output_type": "stream",
     "text": [
      "Epoch 9 Training: 100%|██████████| 797/797 [00:54<00:00, 14.68it/s]\n"
     ]
    },
    {
     "name": "stdout",
     "output_type": "stream",
     "text": [
      "Epoch 9, Train Loss: 0.331081805, Train Accuracy: 26.4050235%\tVal Accuracy: 31.8995290%\n"
     ]
    },
    {
     "name": "stderr",
     "output_type": "stream",
     "text": [
      "Epoch 10 Training: 100%|██████████| 797/797 [00:52<00:00, 15.28it/s]\n"
     ]
    },
    {
     "name": "stdout",
     "output_type": "stream",
     "text": [
      "Epoch 10, Train Loss: 0.314583161, Train Accuracy: 28.1397174%\tVal Accuracy: 29.0737834%\n"
     ]
    },
    {
     "name": "stderr",
     "output_type": "stream",
     "text": [
      "Epoch 11 Training: 100%|██████████| 797/797 [00:51<00:00, 15.34it/s]\n"
     ]
    },
    {
     "name": "stdout",
     "output_type": "stream",
     "text": [
      "Epoch 11, Train Loss: 0.294377037, Train Accuracy: 30.2747253%\tVal Accuracy: 26.9073783%\n"
     ]
    },
    {
     "name": "stderr",
     "output_type": "stream",
     "text": [
      "Epoch 12 Training: 100%|██████████| 797/797 [00:52<00:00, 15.25it/s]\n"
     ]
    },
    {
     "name": "stdout",
     "output_type": "stream",
     "text": [
      "Epoch 12, Train Loss: 0.271719510, Train Accuracy: 32.0957614%\tVal Accuracy: 31.3029827%\n"
     ]
    },
    {
     "name": "stderr",
     "output_type": "stream",
     "text": [
      "Epoch 13 Training: 100%|██████████| 797/797 [00:52<00:00, 15.19it/s]\n"
     ]
    },
    {
     "name": "stdout",
     "output_type": "stream",
     "text": [
      "Epoch 13, Train Loss: 0.253700137, Train Accuracy: 34.1130298%\tVal Accuracy: 30.5808477%\n"
     ]
    },
    {
     "name": "stderr",
     "output_type": "stream",
     "text": [
      "Epoch 14 Training: 100%|██████████| 797/797 [00:52<00:00, 15.26it/s]\n"
     ]
    },
    {
     "name": "stdout",
     "output_type": "stream",
     "text": [
      "Epoch 14, Train Loss: 0.236289437, Train Accuracy: 35.8163265%\tVal Accuracy: 28.7912088%\n"
     ]
    },
    {
     "name": "stderr",
     "output_type": "stream",
     "text": [
      "Epoch 15 Training: 100%|██████████| 797/797 [00:52<00:00, 15.20it/s]\n"
     ]
    },
    {
     "name": "stdout",
     "output_type": "stream",
     "text": [
      "Epoch 15, Train Loss: 0.219874241, Train Accuracy: 37.6373626%\tVal Accuracy: 31.9937206%\n"
     ]
    },
    {
     "name": "stderr",
     "output_type": "stream",
     "text": [
      "Epoch 16 Training: 100%|██████████| 797/797 [00:52<00:00, 15.20it/s]\n"
     ]
    },
    {
     "name": "stdout",
     "output_type": "stream",
     "text": [
      "Epoch 16, Train Loss: 0.202841603, Train Accuracy: 39.4819466%\tVal Accuracy: 30.0784929%\n"
     ]
    },
    {
     "name": "stderr",
     "output_type": "stream",
     "text": [
      "Epoch 17 Training: 100%|██████████| 797/797 [00:52<00:00, 15.28it/s]\n"
     ]
    },
    {
     "name": "stdout",
     "output_type": "stream",
     "text": [
      "Epoch 17, Train Loss: 0.192820826, Train Accuracy: 40.6436421%\tVal Accuracy: 30.8006279%\n"
     ]
    },
    {
     "name": "stderr",
     "output_type": "stream",
     "text": [
      "Epoch 18 Training: 100%|██████████| 797/797 [00:52<00:00, 15.27it/s]\n"
     ]
    },
    {
     "name": "stdout",
     "output_type": "stream",
     "text": [
      "Epoch 18, Train Loss: 0.182282702, Train Accuracy: 43.1161695%\tVal Accuracy: 32.0565149%\n"
     ]
    },
    {
     "name": "stderr",
     "output_type": "stream",
     "text": [
      "Epoch 19 Training: 100%|██████████| 797/797 [00:52<00:00, 15.28it/s]\n"
     ]
    },
    {
     "name": "stdout",
     "output_type": "stream",
     "text": [
      "Epoch 19, Train Loss: 0.166995479, Train Accuracy: 44.6546311%\tVal Accuracy: 33.3124019%\n"
     ]
    },
    {
     "name": "stderr",
     "output_type": "stream",
     "text": [
      "Epoch 20 Training: 100%|██████████| 797/797 [00:52<00:00, 15.30it/s]\n"
     ]
    },
    {
     "name": "stdout",
     "output_type": "stream",
     "text": [
      "Epoch 20, Train Loss: 0.161556505, Train Accuracy: 46.2244898%\tVal Accuracy: 32.9356358%\n"
     ]
    },
    {
     "name": "stderr",
     "output_type": "stream",
     "text": [
      "Epoch 21 Training: 100%|██████████| 797/797 [00:52<00:00, 15.32it/s]\n"
     ]
    },
    {
     "name": "stdout",
     "output_type": "stream",
     "text": [
      "Epoch 21, Train Loss: 0.149390483, Train Accuracy: 47.5117739%\tVal Accuracy: 34.6310832%\n"
     ]
    },
    {
     "name": "stderr",
     "output_type": "stream",
     "text": [
      "Epoch 22 Training: 100%|██████████| 797/797 [00:52<00:00, 15.31it/s]\n"
     ]
    },
    {
     "name": "stdout",
     "output_type": "stream",
     "text": [
      "Epoch 22, Train Loss: 0.151143785, Train Accuracy: 48.0062794%\tVal Accuracy: 34.1287284%\n"
     ]
    },
    {
     "name": "stderr",
     "output_type": "stream",
     "text": [
      "Epoch 23 Training: 100%|██████████| 797/797 [00:52<00:00, 15.22it/s]\n"
     ]
    },
    {
     "name": "stdout",
     "output_type": "stream",
     "text": [
      "Epoch 23, Train Loss: 0.142069921, Train Accuracy: 49.8194662%\tVal Accuracy: 35.3218210%\n"
     ]
    },
    {
     "name": "stderr",
     "output_type": "stream",
     "text": [
      "Epoch 24 Training: 100%|██████████| 797/797 [00:52<00:00, 15.31it/s]\n"
     ]
    },
    {
     "name": "stdout",
     "output_type": "stream",
     "text": [
      "Epoch 24, Train Loss: 0.130337912, Train Accuracy: 51.7739403%\tVal Accuracy: 35.4474097%\n"
     ]
    },
    {
     "name": "stderr",
     "output_type": "stream",
     "text": [
      "Epoch 25 Training: 100%|██████████| 797/797 [00:51<00:00, 15.33it/s]\n"
     ]
    },
    {
     "name": "stdout",
     "output_type": "stream",
     "text": [
      "Epoch 25, Train Loss: 0.127417106, Train Accuracy: 52.4803768%\tVal Accuracy: 33.8775510%\n"
     ]
    },
    {
     "name": "stderr",
     "output_type": "stream",
     "text": [
      "Epoch 26 Training: 100%|██████████| 797/797 [00:51<00:00, 15.33it/s]\n"
     ]
    },
    {
     "name": "stdout",
     "output_type": "stream",
     "text": [
      "Epoch 26, Train Loss: 0.121815448, Train Accuracy: 53.4222920%\tVal Accuracy: 32.1507064%\n"
     ]
    },
    {
     "name": "stderr",
     "output_type": "stream",
     "text": [
      "Epoch 27 Training: 100%|██████████| 797/797 [00:52<00:00, 15.23it/s]\n"
     ]
    },
    {
     "name": "stdout",
     "output_type": "stream",
     "text": [
      "Epoch 27, Train Loss: 0.120495070, Train Accuracy: 53.4772370%\tVal Accuracy: 35.0078493%\n"
     ]
    },
    {
     "name": "stderr",
     "output_type": "stream",
     "text": [
      "Epoch 28 Training: 100%|██████████| 797/797 [00:53<00:00, 14.92it/s]\n"
     ]
    },
    {
     "name": "stdout",
     "output_type": "stream",
     "text": [
      "Epoch 28, Train Loss: 0.114088753, Train Accuracy: 55.7692308%\tVal Accuracy: 33.9717425%\n"
     ]
    },
    {
     "name": "stderr",
     "output_type": "stream",
     "text": [
      "Epoch 29 Training: 100%|██████████| 797/797 [00:52<00:00, 15.31it/s]\n"
     ]
    },
    {
     "name": "stdout",
     "output_type": "stream",
     "text": [
      "Epoch 29, Train Loss: 0.110149529, Train Accuracy: 56.3186813%\tVal Accuracy: 33.0926217%\n"
     ]
    },
    {
     "name": "stderr",
     "output_type": "stream",
     "text": [
      "Epoch 30 Training: 100%|██████████| 797/797 [00:51<00:00, 15.44it/s]\n"
     ]
    },
    {
     "name": "stdout",
     "output_type": "stream",
     "text": [
      "Epoch 30, Train Loss: 0.104856148, Train Accuracy: 57.6138148%\tVal Accuracy: 35.1020408%\n"
     ]
    },
    {
     "name": "stderr",
     "output_type": "stream",
     "text": [
      "Epoch 31 Training: 100%|██████████| 797/797 [00:52<00:00, 15.31it/s]\n"
     ]
    },
    {
     "name": "stdout",
     "output_type": "stream",
     "text": [
      "Epoch 31, Train Loss: 0.102832954, Train Accuracy: 58.0062794%\tVal Accuracy: 33.2496075%\n"
     ]
    },
    {
     "name": "stderr",
     "output_type": "stream",
     "text": [
      "Epoch 32 Training: 100%|██████████| 797/797 [00:51<00:00, 15.41it/s]\n"
     ]
    },
    {
     "name": "stdout",
     "output_type": "stream",
     "text": [
      "Epoch 32, Train Loss: 0.097560656, Train Accuracy: 59.1915228%\tVal Accuracy: 34.1287284%\n"
     ]
    },
    {
     "name": "stderr",
     "output_type": "stream",
     "text": [
      "Epoch 33 Training: 100%|██████████| 797/797 [00:52<00:00, 15.32it/s]\n"
     ]
    },
    {
     "name": "stdout",
     "output_type": "stream",
     "text": [
      "Epoch 33, Train Loss: 0.100036442, Train Accuracy: 59.4270016%\tVal Accuracy: 35.7927786%\n"
     ]
    },
    {
     "name": "stderr",
     "output_type": "stream",
     "text": [
      "Epoch 34 Training: 100%|██████████| 797/797 [00:52<00:00, 15.18it/s]\n"
     ]
    },
    {
     "name": "stdout",
     "output_type": "stream",
     "text": [
      "Epoch 34, Train Loss: 0.096227418, Train Accuracy: 60.6436421%\tVal Accuracy: 34.9450549%\n"
     ]
    },
    {
     "name": "stderr",
     "output_type": "stream",
     "text": [
      "Epoch 35 Training: 100%|██████████| 797/797 [00:52<00:00, 15.25it/s]\n"
     ]
    },
    {
     "name": "stdout",
     "output_type": "stream",
     "text": [
      "Epoch 35, Train Loss: 0.088621922, Train Accuracy: 61.6248038%\tVal Accuracy: 35.7927786%\n"
     ]
    },
    {
     "name": "stderr",
     "output_type": "stream",
     "text": [
      "Epoch 36 Training: 100%|██████████| 797/797 [00:52<00:00, 15.26it/s]\n"
     ]
    },
    {
     "name": "stdout",
     "output_type": "stream",
     "text": [
      "Epoch 36, Train Loss: 0.086772378, Train Accuracy: 62.7237049%\tVal Accuracy: 35.1334380%\n"
     ]
    },
    {
     "name": "stderr",
     "output_type": "stream",
     "text": [
      "Epoch 37 Training: 100%|██████████| 797/797 [00:52<00:00, 15.20it/s]\n"
     ]
    },
    {
     "name": "stdout",
     "output_type": "stream",
     "text": [
      "Epoch 37, Train Loss: 0.090711542, Train Accuracy: 62.7394035%\tVal Accuracy: 36.1067504%\n"
     ]
    },
    {
     "name": "stderr",
     "output_type": "stream",
     "text": [
      "Epoch 38 Training: 100%|██████████| 797/797 [00:52<00:00, 15.26it/s]\n"
     ]
    },
    {
     "name": "stdout",
     "output_type": "stream",
     "text": [
      "Epoch 38, Train Loss: 0.086561468, Train Accuracy: 62.8178964%\tVal Accuracy: 33.1554160%\n"
     ]
    },
    {
     "name": "stderr",
     "output_type": "stream",
     "text": [
      "Epoch 39 Training: 100%|██████████| 797/797 [00:52<00:00, 15.32it/s]\n"
     ]
    },
    {
     "name": "stdout",
     "output_type": "stream",
     "text": [
      "Epoch 39, Train Loss: 0.080696263, Train Accuracy: 64.2621664%\tVal Accuracy: 35.8869702%\n"
     ]
    },
    {
     "name": "stderr",
     "output_type": "stream",
     "text": [
      "Epoch 40 Training: 100%|██████████| 797/797 [00:51<00:00, 15.42it/s]\n"
     ]
    },
    {
     "name": "stdout",
     "output_type": "stream",
     "text": [
      "Epoch 40, Train Loss: 0.084687170, Train Accuracy: 64.5525903%\tVal Accuracy: 34.6938776%\n"
     ]
    },
    {
     "name": "stderr",
     "output_type": "stream",
     "text": [
      "Epoch 41 Training: 100%|██████████| 797/797 [00:52<00:00, 15.29it/s]\n"
     ]
    },
    {
     "name": "stdout",
     "output_type": "stream",
     "text": [
      "Epoch 41, Train Loss: 0.084329602, Train Accuracy: 64.2464678%\tVal Accuracy: 34.0973312%\n"
     ]
    },
    {
     "name": "stderr",
     "output_type": "stream",
     "text": [
      "Epoch 42 Training: 100%|██████████| 797/797 [00:52<00:00, 15.30it/s]\n"
     ]
    },
    {
     "name": "stdout",
     "output_type": "stream",
     "text": [
      "Epoch 42, Train Loss: 0.083361201, Train Accuracy: 65.3218210%\tVal Accuracy: 34.5682889%\n"
     ]
    },
    {
     "name": "stderr",
     "output_type": "stream",
     "text": [
      "Epoch 43 Training: 100%|██████████| 797/797 [00:52<00:00, 15.15it/s]\n"
     ]
    },
    {
     "name": "stdout",
     "output_type": "stream",
     "text": [
      "Epoch 43, Train Loss: 0.077803017, Train Accuracy: 66.7425432%\tVal Accuracy: 35.7299843%\n"
     ]
    },
    {
     "name": "stderr",
     "output_type": "stream",
     "text": [
      "Epoch 44 Training: 100%|██████████| 797/797 [00:52<00:00, 15.32it/s]\n"
     ]
    },
    {
     "name": "stdout",
     "output_type": "stream",
     "text": [
      "Epoch 44, Train Loss: 0.071001719, Train Accuracy: 67.8335950%\tVal Accuracy: 35.7613815%\n"
     ]
    },
    {
     "name": "stderr",
     "output_type": "stream",
     "text": [
      "Epoch 45 Training: 100%|██████████| 797/797 [00:52<00:00, 15.28it/s]\n"
     ]
    },
    {
     "name": "stdout",
     "output_type": "stream",
     "text": [
      "Epoch 45, Train Loss: 0.073956555, Train Accuracy: 66.8367347%\tVal Accuracy: 36.1381476%\n"
     ]
    },
    {
     "name": "stderr",
     "output_type": "stream",
     "text": [
      "Epoch 46 Training: 100%|██████████| 797/797 [00:52<00:00, 15.12it/s]\n"
     ]
    },
    {
     "name": "stdout",
     "output_type": "stream",
     "text": [
      "Epoch 46, Train Loss: 0.080222938, Train Accuracy: 66.4835165%\tVal Accuracy: 33.9403454%\n"
     ]
    },
    {
     "name": "stderr",
     "output_type": "stream",
     "text": [
      "Epoch 47 Training: 100%|██████████| 797/797 [00:52<00:00, 15.18it/s]\n"
     ]
    },
    {
     "name": "stdout",
     "output_type": "stream",
     "text": [
      "Epoch 47, Train Loss: 0.070780052, Train Accuracy: 68.5478807%\tVal Accuracy: 35.5416013%\n"
     ]
    },
    {
     "name": "stderr",
     "output_type": "stream",
     "text": [
      "Epoch 48 Training: 100%|██████████| 797/797 [00:52<00:00, 15.16it/s]\n"
     ]
    },
    {
     "name": "stdout",
     "output_type": "stream",
     "text": [
      "Epoch 48, Train Loss: 0.074698429, Train Accuracy: 68.0690738%\tVal Accuracy: 34.9136578%\n"
     ]
    },
    {
     "name": "stderr",
     "output_type": "stream",
     "text": [
      "Epoch 49 Training: 100%|██████████| 797/797 [00:52<00:00, 15.24it/s]\n"
     ]
    },
    {
     "name": "stdout",
     "output_type": "stream",
     "text": [
      "Epoch 49, Train Loss: 0.068741509, Train Accuracy: 69.0894819%\tVal Accuracy: 36.5463108%\n"
     ]
    },
    {
     "name": "stderr",
     "output_type": "stream",
     "text": [
      "Epoch 50 Training: 100%|██████████| 797/797 [00:52<00:00, 15.23it/s]\n"
     ]
    },
    {
     "name": "stdout",
     "output_type": "stream",
     "text": [
      "Epoch 50, Train Loss: 0.074096818, Train Accuracy: 68.8932496%\tVal Accuracy: 34.5682889%\n"
     ]
    }
   ],
   "source": [
    "clip = 5 # for exploding gradient problem\n",
    "train_losses = []\n",
    "train_accs = []\n",
    "sk_val_accs = []\n",
    "sk_train_accs = []\n",
    "for epoch in range(EPOCHS):\n",
    "\n",
    "\t# initialize the hidden state\n",
    "\thidden = model.lstm_model.init_hidden(batch_size=BATCH_SIZE)\n",
    "\n",
    "\tstart = 0 # index\n",
    "\ty_true = np.zeros((train_data.shape[0], N_CLASSES))\n",
    "\ty_preds = np.zeros((train_data.shape[0], N_CLASSES))\n",
    "\tn_total = 0\n",
    "\tn_correct = 0\n",
    "\ttrain_loss = 0.\n",
    "\tmodel.train()\n",
    "\tfor image_names, images, captions, labels in tqdm(train_dataloader, desc=f\"Epoch {epoch+1} Training: \"):\n",
    "\n",
    "\t\tif torch.cuda.is_available():\n",
    "\t\t\timages = images.to('cuda')\n",
    "\t\t\tcaptions = captions.to('cuda')\n",
    "\t\t\tlabels = labels.to('cuda')\n",
    "\t\t\n",
    "\t\t# creating new variables for the hidden state, otherwise\n",
    "\t\t# we'd backprop through the entire training history\n",
    "\t\thidden = tuple([each.data for each in hidden])\n",
    "\n",
    "\t\toptimizer.zero_grad()\n",
    "\t\ty_pred, hidden = model(images, captions, hidden)\n",
    "\n",
    "\t\t# backward\n",
    "\t\tloss = loss_fn(y_pred, labels)\n",
    "\t\tloss.backward()\n",
    "\n",
    "\t\t# clip_grad_norm helps prevent the exploding gradient problem in RNNs/LSTMs\n",
    "\t\tnn.utils.clip_grad_norm_(model.parameters(), clip)\n",
    "\n",
    "\t\t# update\n",
    "\t\toptimizer.step()\n",
    "\n",
    "\t\t# compare\n",
    "\t\tpredicted = (F.sigmoid(y_pred) > THRESHOLD).int()\n",
    "\n",
    "\t\tn = images.shape[0]\n",
    "\t\ty_true[start:start+n] = labels.cpu().numpy()\n",
    "\t\ty_preds[start:start+n] = predicted.cpu().numpy()\n",
    "\t\tstart = start + n\n",
    "\n",
    "\t\ttrain_loss += loss.item()\n",
    "\t\tn_correct += torch.all(torch.eq(predicted, labels), dim=1).sum()\n",
    "\t\tn_total += labels.shape[0]\n",
    "\n",
    "\ttrain_losses.append(train_loss / len(train_dataloader))\n",
    "\ttrain_accs.append(n_correct / n_total)\n",
    "\tsk_train_accs.append(accuracy_score(y_true, y_preds))\n",
    "\n",
    "\tprint(\"Epoch {:d}, Train Loss: {:.9f}, Train Accuracy: {:.7f}%\".format(epoch+1, \n",
    "\t\t\t\t\t\t\t\t\t\t\t\t\t\t\t\t\t\ttrain_losses[-1], \n",
    "\t\t\t\t\t\t\t\t\t\t\t\t\t\t\t\t\t\taccuracy_score(y_true, y_preds)*100), end=\"\")\n",
    "\t\n",
    "\t# initialize the hidden state\n",
    "\tval_hidden = model.lstm_model.init_hidden(batch_size=BATCH_SIZE)\n",
    "\n",
    "\tstart = 0 # index\n",
    "\ty_true = np.zeros((val_data.shape[0], N_CLASSES))\n",
    "\ty_preds = np.zeros((val_data.shape[0], N_CLASSES))\n",
    "\tmodel.eval()\n",
    "\tfor (_, images, captions, labels) in val_dataloader:\n",
    "\n",
    "\t\t# creating new variables for the hidden state, otherwise\n",
    "\t\t# we'd backprop through the entire training history\n",
    "\t\tval_hidden = tuple([each.data for each in val_hidden])\n",
    "\t\t\n",
    "\t\tif torch.cuda.is_available():\n",
    "\t\t\timages = images.to('cuda')\n",
    "\t\t\tcaptions = captions.to('cuda')\n",
    "\t\t\tlabels = labels.to('cuda')\n",
    "\t\t\n",
    "\t\toutputs, _ = model(images, captions, val_hidden)\n",
    "\t\tpredicted = (F.sigmoid(outputs) > THRESHOLD).int()\n",
    "\n",
    "\t\tn = images.shape[0]\n",
    "\t\ty_true[start:start+n] = labels.cpu().numpy()\n",
    "\t\ty_preds[start:start+n] = predicted.cpu().numpy()\n",
    "\t\tstart = start + n\n",
    "\t\n",
    "\tsk_val_accs.append(accuracy_score(y_true, y_preds))\n",
    "\tprint(\"\\tVal Accuracy: {:.7f}%\".format(accuracy_score(y_true, y_preds)*100))"
   ]
  },
  {
   "cell_type": "code",
   "execution_count": 20,
   "metadata": {},
   "outputs": [
    {
     "name": "stdout",
     "output_type": "stream",
     "text": [
      "[0.14913657770800628, 0.20627943485086342, 0.22762951334379905, 0.22888540031397175, 0.2345368916797488, 0.25934065934065936, 0.2759811616954474, 0.2753532182103611, 0.3189952904238619, 0.29073783359497646, 0.26907378335949766, 0.3130298273155416, 0.3058084772370487, 0.2879120879120879, 0.31993720565149136, 0.3007849293563579, 0.30800627943485087, 0.3205651491365777, 0.33312401883830456, 0.3293563579277865, 0.34631083202511775, 0.341287284144427, 0.3532182103610675, 0.3544740973312402, 0.33877551020408164, 0.32150706436420723, 0.3500784929356358, 0.33971742543171113, 0.33092621664050237, 0.3510204081632653, 0.33249607535321823, 0.341287284144427, 0.3579277864992151, 0.34945054945054943, 0.3579277864992151, 0.35133437990580846, 0.36106750392464676, 0.3315541601255887, 0.35886970172684457, 0.3469387755102041, 0.34097331240188383, 0.3456828885400314, 0.3572998430141287, 0.3576138147566719, 0.36138147566719, 0.33940345368916797, 0.3554160125588697, 0.34913657770800627, 0.3654631083202512, 0.3456828885400314]\n",
      "[0.056279434850863425, 0.1251177394034537, 0.15996860282574568, 0.17912087912087912, 0.19756671899529044, 0.2108320251177394, 0.22637362637362637, 0.2391679748822606, 0.2640502354788069, 0.2813971742543171, 0.3027472527472527, 0.3209576138147567, 0.34113029827315544, 0.35816326530612247, 0.37637362637362637, 0.39481946624803765, 0.406436420722135, 0.43116169544740973, 0.4465463108320251, 0.46224489795918366, 0.4751177394034537, 0.4800627943485086, 0.49819466248037675, 0.5177394034536892, 0.5248037676609105, 0.5342229199372056, 0.5347723704866562, 0.5576923076923077, 0.5631868131868132, 0.576138147566719, 0.5800627943485086, 0.5919152276295133, 0.5942700156985872, 0.606436420722135, 0.6162480376766091, 0.6272370486656201, 0.6273940345368917, 0.6281789638932496, 0.6426216640502355, 0.6455259026687599, 0.6424646781789639, 0.6532182103610675, 0.667425431711146, 0.6783359497645212, 0.6683673469387755, 0.6648351648351648, 0.6854788069073784, 0.680690737833595, 0.6908948194662481, 0.6889324960753532]\n",
      "[0.7187879017672245, 0.5820690740456097, 0.5267928924173154, 0.48567889726147, 0.44715587213317604, 0.4212791380312392, 0.39371127686656104, 0.36787022371663053, 0.3310818052856506, 0.31458316079645865, 0.29437703657965436, 0.2717195097333664, 0.25370013696074933, 0.23628943650007547, 0.2198742411404362, 0.20284160258835052, 0.1928208260148427, 0.18228270207885816, 0.16699547860000186, 0.16155650527210652, 0.14939048326804466, 0.15114378547728285, 0.14206992109379774, 0.13033791198167327, 0.12741710639639361, 0.12181544758687952, 0.1204950702768123, 0.11408875314483753, 0.11014952892472633, 0.10485614846499083, 0.10283295420866688, 0.09756065555935821, 0.10003644165114373, 0.09622741841163061, 0.0886219223164293, 0.08677237796383341, 0.09071154242271612, 0.08656146806177485, 0.08069626295908706, 0.08468716979491872, 0.08432960186569649, 0.08336120076159687, 0.07780301676411065, 0.07100171911900623, 0.07395655483736598, 0.08022293830325493, 0.07078005237460436, 0.07469842895290521, 0.06874150916153432, 0.07409681770845387]\n"
     ]
    },
    {
     "ename": "",
     "evalue": "",
     "output_type": "error",
     "traceback": [
      "\u001b[1;31mThe Kernel crashed while executing code in the current cell or a previous cell. \n",
      "\u001b[1;31mPlease review the code in the cell(s) to identify a possible cause of the failure. \n",
      "\u001b[1;31mClick <a href='https://aka.ms/vscodeJupyterKernelCrash'>here</a> for more info. \n",
      "\u001b[1;31mView Jupyter <a href='command:jupyter.viewOutput'>log</a> for further details."
     ]
    }
   ],
   "source": [
    "print(sk_val_accs)\n",
    "print(sk_train_accs)\n",
    "print(train_losses)"
   ]
  },
  {
   "cell_type": "markdown",
   "metadata": {},
   "source": [
    "## Trained standalone CNN models"
   ]
  },
  {
   "cell_type": "code",
   "execution_count": 14,
   "metadata": {},
   "outputs": [
    {
     "name": "stdout",
     "output_type": "stream",
     "text": [
      "Training using mobilenet_v3_large\n",
      "using GPU\n"
     ]
    },
    {
     "name": "stderr",
     "output_type": "stream",
     "text": [
      "Epoch 1 Training: 100%|██████████| 797/797 [00:33<00:00, 24.13it/s]\n"
     ]
    },
    {
     "name": "stdout",
     "output_type": "stream",
     "text": [
      "Epoch 1, Train Loss: 0.746159702, Train Accuracy: 3.6577708%\tVal Accuracy: 8.6656201%\n"
     ]
    },
    {
     "name": "stderr",
     "output_type": "stream",
     "text": [
      "Epoch 2 Training: 100%|██████████| 797/797 [00:33<00:00, 24.14it/s]\n"
     ]
    },
    {
     "name": "stdout",
     "output_type": "stream",
     "text": [
      "Epoch 2, Train Loss: 0.632567421, Train Accuracy: 7.8492936%\tVal Accuracy: 9.5447410%\n"
     ]
    },
    {
     "name": "stderr",
     "output_type": "stream",
     "text": [
      "Epoch 3 Training: 100%|██████████| 797/797 [00:32<00:00, 24.18it/s]\n"
     ]
    },
    {
     "name": "stdout",
     "output_type": "stream",
     "text": [
      "Epoch 3, Train Loss: 0.578935947, Train Accuracy: 9.4034537%\tVal Accuracy: 12.2762951%\n"
     ]
    },
    {
     "name": "stderr",
     "output_type": "stream",
     "text": [
      "Epoch 4 Training: 100%|██████████| 797/797 [00:33<00:00, 24.15it/s]\n"
     ]
    },
    {
     "name": "stdout",
     "output_type": "stream",
     "text": [
      "Epoch 4, Train Loss: 0.536691599, Train Accuracy: 11.6718995%\tVal Accuracy: 15.0392465%\n"
     ]
    },
    {
     "name": "stderr",
     "output_type": "stream",
     "text": [
      "Epoch 5 Training: 100%|██████████| 797/797 [00:32<00:00, 24.31it/s]\n"
     ]
    },
    {
     "name": "stdout",
     "output_type": "stream",
     "text": [
      "Epoch 5, Train Loss: 0.486227503, Train Accuracy: 14.0580848%\tVal Accuracy: 13.6577708%\n"
     ]
    },
    {
     "name": "stderr",
     "output_type": "stream",
     "text": [
      "Epoch 6 Training: 100%|██████████| 797/797 [00:33<00:00, 24.03it/s]\n"
     ]
    },
    {
     "name": "stdout",
     "output_type": "stream",
     "text": [
      "Epoch 6, Train Loss: 0.445118950, Train Accuracy: 15.2590267%\tVal Accuracy: 13.3124019%\n"
     ]
    },
    {
     "name": "stderr",
     "output_type": "stream",
     "text": [
      "Epoch 7 Training: 100%|██████████| 797/797 [00:32<00:00, 24.33it/s]\n"
     ]
    },
    {
     "name": "stdout",
     "output_type": "stream",
     "text": [
      "Epoch 7, Train Loss: 0.405421660, Train Accuracy: 17.7786499%\tVal Accuracy: 18.2731554%\n"
     ]
    },
    {
     "name": "stderr",
     "output_type": "stream",
     "text": [
      "Epoch 8 Training: 100%|██████████| 797/797 [00:32<00:00, 24.38it/s]\n"
     ]
    },
    {
     "name": "stdout",
     "output_type": "stream",
     "text": [
      "Epoch 8, Train Loss: 0.379998009, Train Accuracy: 19.9607535%\tVal Accuracy: 18.7441130%\n"
     ]
    },
    {
     "name": "stderr",
     "output_type": "stream",
     "text": [
      "Epoch 9 Training: 100%|██████████| 797/797 [00:32<00:00, 24.21it/s]\n"
     ]
    },
    {
     "name": "stdout",
     "output_type": "stream",
     "text": [
      "Epoch 9, Train Loss: 0.348730687, Train Accuracy: 21.9230769%\tVal Accuracy: 18.2417582%\n"
     ]
    },
    {
     "name": "stderr",
     "output_type": "stream",
     "text": [
      "Epoch 10 Training: 100%|██████████| 797/797 [00:33<00:00, 24.11it/s]\n"
     ]
    },
    {
     "name": "stdout",
     "output_type": "stream",
     "text": [
      "Epoch 10, Train Loss: 0.331489691, Train Accuracy: 23.1554160%\tVal Accuracy: 19.4976452%\n"
     ]
    },
    {
     "name": "stderr",
     "output_type": "stream",
     "text": [
      "Epoch 11 Training: 100%|██████████| 797/797 [00:32<00:00, 24.20it/s]\n"
     ]
    },
    {
     "name": "stdout",
     "output_type": "stream",
     "text": [
      "Epoch 11, Train Loss: 0.309785575, Train Accuracy: 25.3689168%\tVal Accuracy: 22.9199372%\n"
     ]
    },
    {
     "name": "stderr",
     "output_type": "stream",
     "text": [
      "Epoch 12 Training: 100%|██████████| 797/797 [00:32<00:00, 24.18it/s]\n"
     ]
    },
    {
     "name": "stdout",
     "output_type": "stream",
     "text": [
      "Epoch 12, Train Loss: 0.295165996, Train Accuracy: 26.9780220%\tVal Accuracy: 21.5070644%\n"
     ]
    },
    {
     "name": "stderr",
     "output_type": "stream",
     "text": [
      "Epoch 13 Training: 100%|██████████| 797/797 [00:33<00:00, 24.12it/s]\n"
     ]
    },
    {
     "name": "stdout",
     "output_type": "stream",
     "text": [
      "Epoch 13, Train Loss: 0.291978997, Train Accuracy: 27.2605965%\tVal Accuracy: 22.1978022%\n"
     ]
    },
    {
     "name": "stderr",
     "output_type": "stream",
     "text": [
      "Epoch 14 Training: 100%|██████████| 797/797 [00:33<00:00, 24.12it/s]\n"
     ]
    },
    {
     "name": "stdout",
     "output_type": "stream",
     "text": [
      "Epoch 14, Train Loss: 0.274946991, Train Accuracy: 29.0345369%\tVal Accuracy: 19.8744113%\n"
     ]
    },
    {
     "name": "stderr",
     "output_type": "stream",
     "text": [
      "Epoch 15 Training: 100%|██████████| 797/797 [00:32<00:00, 24.22it/s]\n"
     ]
    },
    {
     "name": "stdout",
     "output_type": "stream",
     "text": [
      "Epoch 15, Train Loss: 0.251519331, Train Accuracy: 31.4913658%\tVal Accuracy: 25.5259027%\n"
     ]
    },
    {
     "name": "stderr",
     "output_type": "stream",
     "text": [
      "Epoch 16 Training: 100%|██████████| 797/797 [00:32<00:00, 24.21it/s]\n"
     ]
    },
    {
     "name": "stdout",
     "output_type": "stream",
     "text": [
      "Epoch 16, Train Loss: 0.239850980, Train Accuracy: 32.9905808%\tVal Accuracy: 24.6153846%\n"
     ]
    },
    {
     "name": "stderr",
     "output_type": "stream",
     "text": [
      "Epoch 17 Training: 100%|██████████| 797/797 [00:32<00:00, 24.27it/s]\n"
     ]
    },
    {
     "name": "stdout",
     "output_type": "stream",
     "text": [
      "Epoch 17, Train Loss: 0.234864332, Train Accuracy: 33.9638932%\tVal Accuracy: 22.0408163%\n"
     ]
    },
    {
     "name": "stderr",
     "output_type": "stream",
     "text": [
      "Epoch 18 Training: 100%|██████████| 797/797 [00:32<00:00, 24.33it/s]\n"
     ]
    },
    {
     "name": "stdout",
     "output_type": "stream",
     "text": [
      "Epoch 18, Train Loss: 0.228062431, Train Accuracy: 35.4081633%\tVal Accuracy: 24.7095761%\n"
     ]
    },
    {
     "name": "stderr",
     "output_type": "stream",
     "text": [
      "Epoch 19 Training: 100%|██████████| 797/797 [00:32<00:00, 24.24it/s]\n"
     ]
    },
    {
     "name": "stdout",
     "output_type": "stream",
     "text": [
      "Epoch 19, Train Loss: 0.223581372, Train Accuracy: 35.8398744%\tVal Accuracy: 23.2967033%\n"
     ]
    },
    {
     "name": "stderr",
     "output_type": "stream",
     "text": [
      "Epoch 20 Training: 100%|██████████| 797/797 [00:32<00:00, 24.21it/s]\n"
     ]
    },
    {
     "name": "stdout",
     "output_type": "stream",
     "text": [
      "Epoch 20, Train Loss: 0.218002639, Train Accuracy: 37.0329670%\tVal Accuracy: 23.8618524%\n",
      "Training using resnet18\n",
      "using GPU\n"
     ]
    },
    {
     "name": "stderr",
     "output_type": "stream",
     "text": [
      "Epoch 1 Training: 100%|██████████| 797/797 [00:32<00:00, 24.35it/s]\n"
     ]
    },
    {
     "name": "stdout",
     "output_type": "stream",
     "text": [
      "Epoch 1, Train Loss: 0.785741976, Train Accuracy: 2.1428571%\tVal Accuracy: 3.2653061%\n"
     ]
    },
    {
     "name": "stderr",
     "output_type": "stream",
     "text": [
      "Epoch 2 Training: 100%|██████████| 797/797 [00:33<00:00, 24.05it/s]\n"
     ]
    },
    {
     "name": "stdout",
     "output_type": "stream",
     "text": [
      "Epoch 2, Train Loss: 0.676410273, Train Accuracy: 4.6781790%\tVal Accuracy: 5.2747253%\n"
     ]
    },
    {
     "name": "stderr",
     "output_type": "stream",
     "text": [
      "Epoch 3 Training: 100%|██████████| 797/797 [00:33<00:00, 23.94it/s]\n"
     ]
    },
    {
     "name": "stdout",
     "output_type": "stream",
     "text": [
      "Epoch 3, Train Loss: 0.653669088, Train Accuracy: 5.8241758%\tVal Accuracy: 3.9560440%\n"
     ]
    },
    {
     "name": "stderr",
     "output_type": "stream",
     "text": [
      "Epoch 4 Training: 100%|██████████| 797/797 [00:33<00:00, 24.14it/s]\n"
     ]
    },
    {
     "name": "stdout",
     "output_type": "stream",
     "text": [
      "Epoch 4, Train Loss: 0.637740845, Train Accuracy: 6.1145997%\tVal Accuracy: 8.4144427%\n"
     ]
    },
    {
     "name": "stderr",
     "output_type": "stream",
     "text": [
      "Epoch 5 Training: 100%|██████████| 797/797 [00:32<00:00, 24.18it/s]\n"
     ]
    },
    {
     "name": "stdout",
     "output_type": "stream",
     "text": [
      "Epoch 5, Train Loss: 0.634398988, Train Accuracy: 6.5227630%\tVal Accuracy: 5.3375196%\n"
     ]
    },
    {
     "name": "stderr",
     "output_type": "stream",
     "text": [
      "Epoch 6 Training: 100%|██████████| 797/797 [00:32<00:00, 24.34it/s]\n"
     ]
    },
    {
     "name": "stdout",
     "output_type": "stream",
     "text": [
      "Epoch 6, Train Loss: 0.625847368, Train Accuracy: 6.6797488%\tVal Accuracy: 5.0863422%\n"
     ]
    },
    {
     "name": "stderr",
     "output_type": "stream",
     "text": [
      "Epoch 7 Training: 100%|██████████| 797/797 [00:32<00:00, 24.37it/s]\n"
     ]
    },
    {
     "name": "stdout",
     "output_type": "stream",
     "text": [
      "Epoch 7, Train Loss: 0.624034950, Train Accuracy: 7.1036107%\tVal Accuracy: 6.2480377%\n"
     ]
    },
    {
     "name": "stderr",
     "output_type": "stream",
     "text": [
      "Epoch 8 Training: 100%|██████████| 797/797 [00:32<00:00, 24.30it/s]\n"
     ]
    },
    {
     "name": "stdout",
     "output_type": "stream",
     "text": [
      "Epoch 8, Train Loss: 0.615195446, Train Accuracy: 7.2056515%\tVal Accuracy: 6.7189953%\n"
     ]
    },
    {
     "name": "stderr",
     "output_type": "stream",
     "text": [
      "Epoch 9 Training: 100%|██████████| 797/797 [00:32<00:00, 24.22it/s]\n"
     ]
    },
    {
     "name": "stdout",
     "output_type": "stream",
     "text": [
      "Epoch 9, Train Loss: 0.617090309, Train Accuracy: 7.1664050%\tVal Accuracy: 5.9026688%\n"
     ]
    },
    {
     "name": "stderr",
     "output_type": "stream",
     "text": [
      "Epoch 10 Training: 100%|██████████| 797/797 [00:32<00:00, 24.23it/s]\n"
     ]
    },
    {
     "name": "stdout",
     "output_type": "stream",
     "text": [
      "Epoch 10, Train Loss: 0.606170725, Train Accuracy: 7.4411303%\tVal Accuracy: 3.9246468%\n"
     ]
    },
    {
     "name": "stderr",
     "output_type": "stream",
     "text": [
      "Epoch 11 Training: 100%|██████████| 797/797 [00:32<00:00, 24.16it/s]\n"
     ]
    },
    {
     "name": "stdout",
     "output_type": "stream",
     "text": [
      "Epoch 11, Train Loss: 0.605488871, Train Accuracy: 7.5431711%\tVal Accuracy: 6.6562009%\n"
     ]
    },
    {
     "name": "stderr",
     "output_type": "stream",
     "text": [
      "Epoch 12 Training: 100%|██████████| 797/797 [00:32<00:00, 24.33it/s]\n"
     ]
    },
    {
     "name": "stdout",
     "output_type": "stream",
     "text": [
      "Epoch 12, Train Loss: 0.605782924, Train Accuracy: 7.2213501%\tVal Accuracy: 9.6075353%\n"
     ]
    },
    {
     "name": "stderr",
     "output_type": "stream",
     "text": [
      "Epoch 13 Training: 100%|██████████| 797/797 [00:33<00:00, 24.13it/s]\n"
     ]
    },
    {
     "name": "stdout",
     "output_type": "stream",
     "text": [
      "Epoch 13, Train Loss: 0.602011929, Train Accuracy: 7.7237049%\tVal Accuracy: 8.7912088%\n"
     ]
    },
    {
     "name": "stderr",
     "output_type": "stream",
     "text": [
      "Epoch 14 Training: 100%|██████████| 797/797 [00:32<00:00, 24.28it/s]\n"
     ]
    },
    {
     "name": "stdout",
     "output_type": "stream",
     "text": [
      "Epoch 14, Train Loss: 0.602553552, Train Accuracy: 7.3390895%\tVal Accuracy: 8.8226060%\n"
     ]
    },
    {
     "name": "stderr",
     "output_type": "stream",
     "text": [
      "Epoch 15 Training: 100%|██████████| 797/797 [00:33<00:00, 24.15it/s]\n"
     ]
    },
    {
     "name": "stdout",
     "output_type": "stream",
     "text": [
      "Epoch 15, Train Loss: 0.594834883, Train Accuracy: 7.8806907%\tVal Accuracy: 6.9701727%\n"
     ]
    },
    {
     "name": "stderr",
     "output_type": "stream",
     "text": [
      "Epoch 16 Training: 100%|██████████| 797/797 [00:32<00:00, 24.31it/s]\n"
     ]
    },
    {
     "name": "stdout",
     "output_type": "stream",
     "text": [
      "Epoch 16, Train Loss: 0.592891203, Train Accuracy: 7.9984301%\tVal Accuracy: 7.9434851%\n"
     ]
    },
    {
     "name": "stderr",
     "output_type": "stream",
     "text": [
      "Epoch 17 Training: 100%|██████████| 797/797 [00:32<00:00, 24.58it/s]\n"
     ]
    },
    {
     "name": "stdout",
     "output_type": "stream",
     "text": [
      "Epoch 17, Train Loss: 0.600546683, Train Accuracy: 7.8100471%\tVal Accuracy: 4.6781790%\n"
     ]
    },
    {
     "name": "stderr",
     "output_type": "stream",
     "text": [
      "Epoch 18 Training: 100%|██████████| 797/797 [00:32<00:00, 24.16it/s]\n"
     ]
    },
    {
     "name": "stdout",
     "output_type": "stream",
     "text": [
      "Epoch 18, Train Loss: 0.600830119, Train Accuracy: 7.5981162%\tVal Accuracy: 5.9654631%\n"
     ]
    },
    {
     "name": "stderr",
     "output_type": "stream",
     "text": [
      "Epoch 19 Training: 100%|██████████| 797/797 [00:32<00:00, 24.16it/s]\n"
     ]
    },
    {
     "name": "stdout",
     "output_type": "stream",
     "text": [
      "Epoch 19, Train Loss: 0.594359225, Train Accuracy: 7.9042386%\tVal Accuracy: 7.2527473%\n"
     ]
    },
    {
     "name": "stderr",
     "output_type": "stream",
     "text": [
      "Epoch 20 Training: 100%|██████████| 797/797 [00:33<00:00, 23.81it/s]\n"
     ]
    },
    {
     "name": "stdout",
     "output_type": "stream",
     "text": [
      "Epoch 20, Train Loss: 0.592439440, Train Accuracy: 7.6216641%\tVal Accuracy: 6.8445840%\n",
      "Training using efficientnet_b2\n",
      "using GPU\n"
     ]
    },
    {
     "name": "stderr",
     "output_type": "stream",
     "text": [
      "Epoch 1 Training: 100%|██████████| 797/797 [00:50<00:00, 15.84it/s]\n"
     ]
    },
    {
     "name": "stdout",
     "output_type": "stream",
     "text": [
      "Epoch 1, Train Loss: 0.837020049, Train Accuracy: 1.9309262%\tVal Accuracy: 2.5431711%\n"
     ]
    },
    {
     "name": "stderr",
     "output_type": "stream",
     "text": [
      "Epoch 2 Training: 100%|██████████| 797/797 [00:49<00:00, 16.02it/s]\n"
     ]
    },
    {
     "name": "stdout",
     "output_type": "stream",
     "text": [
      "Epoch 2, Train Loss: 0.726371497, Train Accuracy: 3.9560440%\tVal Accuracy: 5.0549451%\n"
     ]
    },
    {
     "name": "stderr",
     "output_type": "stream",
     "text": [
      "Epoch 3 Training: 100%|██████████| 797/797 [00:49<00:00, 16.01it/s]\n"
     ]
    },
    {
     "name": "stdout",
     "output_type": "stream",
     "text": [
      "Epoch 3, Train Loss: 0.704185709, Train Accuracy: 5.3453689%\tVal Accuracy: 5.4631083%\n"
     ]
    },
    {
     "name": "stderr",
     "output_type": "stream",
     "text": [
      "Epoch 4 Training: 100%|██████████| 797/797 [00:50<00:00, 15.92it/s]\n"
     ]
    },
    {
     "name": "stdout",
     "output_type": "stream",
     "text": [
      "Epoch 4, Train Loss: 0.692639415, Train Accuracy: 5.0941915%\tVal Accuracy: 6.3108320%\n"
     ]
    },
    {
     "name": "stderr",
     "output_type": "stream",
     "text": [
      "Epoch 5 Training: 100%|██████████| 797/797 [00:50<00:00, 15.93it/s]\n"
     ]
    },
    {
     "name": "stdout",
     "output_type": "stream",
     "text": [
      "Epoch 5, Train Loss: 0.684196013, Train Accuracy: 5.2904239%\tVal Accuracy: 7.3469388%\n"
     ]
    },
    {
     "name": "stderr",
     "output_type": "stream",
     "text": [
      "Epoch 6 Training: 100%|██████████| 797/797 [00:50<00:00, 15.92it/s]\n"
     ]
    },
    {
     "name": "stdout",
     "output_type": "stream",
     "text": [
      "Epoch 6, Train Loss: 0.677104460, Train Accuracy: 5.9497645%\tVal Accuracy: 7.1899529%\n"
     ]
    },
    {
     "name": "stderr",
     "output_type": "stream",
     "text": [
      "Epoch 7 Training: 100%|██████████| 797/797 [00:49<00:00, 16.10it/s]\n"
     ]
    },
    {
     "name": "stdout",
     "output_type": "stream",
     "text": [
      "Epoch 7, Train Loss: 0.675224178, Train Accuracy: 5.9419152%\tVal Accuracy: 8.0062794%\n"
     ]
    },
    {
     "name": "stderr",
     "output_type": "stream",
     "text": [
      "Epoch 8 Training: 100%|██████████| 797/797 [00:50<00:00, 15.83it/s]\n"
     ]
    },
    {
     "name": "stdout",
     "output_type": "stream",
     "text": [
      "Epoch 8, Train Loss: 0.671014956, Train Accuracy: 5.7849294%\tVal Accuracy: 5.9968603%\n"
     ]
    },
    {
     "name": "stderr",
     "output_type": "stream",
     "text": [
      "Epoch 9 Training: 100%|██████████| 797/797 [00:50<00:00, 15.83it/s]\n"
     ]
    },
    {
     "name": "stdout",
     "output_type": "stream",
     "text": [
      "Epoch 9, Train Loss: 0.672681091, Train Accuracy: 5.8398744%\tVal Accuracy: 7.0957614%\n"
     ]
    },
    {
     "name": "stderr",
     "output_type": "stream",
     "text": [
      "Epoch 10 Training: 100%|██████████| 797/797 [00:49<00:00, 16.10it/s]\n"
     ]
    },
    {
     "name": "stdout",
     "output_type": "stream",
     "text": [
      "Epoch 10, Train Loss: 0.669424198, Train Accuracy: 5.9262166%\tVal Accuracy: 8.0690738%\n"
     ]
    },
    {
     "name": "stderr",
     "output_type": "stream",
     "text": [
      "Epoch 11 Training: 100%|██████████| 797/797 [00:49<00:00, 16.08it/s]\n"
     ]
    },
    {
     "name": "stdout",
     "output_type": "stream",
     "text": [
      "Epoch 11, Train Loss: 0.665014851, Train Accuracy: 5.9890110%\tVal Accuracy: 7.3469388%\n"
     ]
    },
    {
     "name": "stderr",
     "output_type": "stream",
     "text": [
      "Epoch 12 Training: 100%|██████████| 797/797 [00:50<00:00, 15.74it/s]\n"
     ]
    },
    {
     "name": "stdout",
     "output_type": "stream",
     "text": [
      "Epoch 12, Train Loss: 0.657522331, Train Accuracy: 5.9890110%\tVal Accuracy: 8.2260597%\n"
     ]
    },
    {
     "name": "stderr",
     "output_type": "stream",
     "text": [
      "Epoch 13 Training: 100%|██████████| 797/797 [00:49<00:00, 16.02it/s]\n"
     ]
    },
    {
     "name": "stdout",
     "output_type": "stream",
     "text": [
      "Epoch 13, Train Loss: 0.667984914, Train Accuracy: 6.0675039%\tVal Accuracy: 7.3155416%\n"
     ]
    },
    {
     "name": "stderr",
     "output_type": "stream",
     "text": [
      "Epoch 14 Training: 100%|██████████| 797/797 [00:50<00:00, 15.91it/s]\n"
     ]
    },
    {
     "name": "stdout",
     "output_type": "stream",
     "text": [
      "Epoch 14, Train Loss: 0.661596581, Train Accuracy: 6.1538462%\tVal Accuracy: 7.0643642%\n"
     ]
    },
    {
     "name": "stderr",
     "output_type": "stream",
     "text": [
      "Epoch 15 Training: 100%|██████████| 797/797 [00:49<00:00, 15.94it/s]\n"
     ]
    },
    {
     "name": "stdout",
     "output_type": "stream",
     "text": [
      "Epoch 15, Train Loss: 0.668994183, Train Accuracy: 5.6593407%\tVal Accuracy: 8.1632653%\n"
     ]
    },
    {
     "name": "stderr",
     "output_type": "stream",
     "text": [
      "Epoch 16 Training: 100%|██████████| 797/797 [00:50<00:00, 15.90it/s]\n"
     ]
    },
    {
     "name": "stdout",
     "output_type": "stream",
     "text": [
      "Epoch 16, Train Loss: 0.658481819, Train Accuracy: 6.2637363%\tVal Accuracy: 8.3202512%\n"
     ]
    },
    {
     "name": "stderr",
     "output_type": "stream",
     "text": [
      "Epoch 17 Training: 100%|██████████| 797/797 [00:49<00:00, 15.97it/s]\n"
     ]
    },
    {
     "name": "stdout",
     "output_type": "stream",
     "text": [
      "Epoch 17, Train Loss: 0.658311009, Train Accuracy: 6.0753532%\tVal Accuracy: 7.6923077%\n"
     ]
    },
    {
     "name": "stderr",
     "output_type": "stream",
     "text": [
      "Epoch 18 Training: 100%|██████████| 797/797 [00:49<00:00, 16.10it/s]\n"
     ]
    },
    {
     "name": "stdout",
     "output_type": "stream",
     "text": [
      "Epoch 18, Train Loss: 0.663264881, Train Accuracy: 5.8791209%\tVal Accuracy: 8.0062794%\n"
     ]
    },
    {
     "name": "stderr",
     "output_type": "stream",
     "text": [
      "Epoch 19 Training: 100%|██████████| 797/797 [00:49<00:00, 16.05it/s]\n"
     ]
    },
    {
     "name": "stdout",
     "output_type": "stream",
     "text": [
      "Epoch 19, Train Loss: 0.661622376, Train Accuracy: 5.9654631%\tVal Accuracy: 7.9434851%\n"
     ]
    },
    {
     "name": "stderr",
     "output_type": "stream",
     "text": [
      "Epoch 20 Training: 100%|██████████| 797/797 [00:50<00:00, 15.91it/s]\n"
     ]
    },
    {
     "name": "stdout",
     "output_type": "stream",
     "text": [
      "Epoch 20, Train Loss: 0.658466102, Train Accuracy: 5.8477237%\tVal Accuracy: 7.7864992%\n",
      "Training using densenet121\n",
      "using GPU\n"
     ]
    },
    {
     "name": "stderr",
     "output_type": "stream",
     "text": [
      "Epoch 1 Training: 100%|██████████| 797/797 [01:04<00:00, 12.42it/s]\n"
     ]
    },
    {
     "name": "stdout",
     "output_type": "stream",
     "text": [
      "Epoch 1, Train Loss: 0.766703818, Train Accuracy: 2.6216641%\tVal Accuracy: 6.2794349%\n"
     ]
    },
    {
     "name": "stderr",
     "output_type": "stream",
     "text": [
      "Epoch 2 Training: 100%|██████████| 797/797 [01:02<00:00, 12.67it/s]\n"
     ]
    },
    {
     "name": "stdout",
     "output_type": "stream",
     "text": [
      "Epoch 2, Train Loss: 0.643663986, Train Accuracy: 6.4364207%\tVal Accuracy: 7.4097331%\n"
     ]
    },
    {
     "name": "stderr",
     "output_type": "stream",
     "text": [
      "Epoch 3 Training: 100%|██████████| 797/797 [01:02<00:00, 12.67it/s]\n"
     ]
    },
    {
     "name": "stdout",
     "output_type": "stream",
     "text": [
      "Epoch 3, Train Loss: 0.621615988, Train Accuracy: 7.7551020%\tVal Accuracy: 8.7598116%\n"
     ]
    },
    {
     "name": "stderr",
     "output_type": "stream",
     "text": [
      "Epoch 4 Training: 100%|██████████| 797/797 [01:04<00:00, 12.43it/s]\n"
     ]
    },
    {
     "name": "stdout",
     "output_type": "stream",
     "text": [
      "Epoch 4, Train Loss: 0.605963099, Train Accuracy: 8.3908948%\tVal Accuracy: 6.7503925%\n"
     ]
    },
    {
     "name": "stderr",
     "output_type": "stream",
     "text": [
      "Epoch 5 Training: 100%|██████████| 797/797 [01:03<00:00, 12.52it/s]\n"
     ]
    },
    {
     "name": "stdout",
     "output_type": "stream",
     "text": [
      "Epoch 5, Train Loss: 0.595526986, Train Accuracy: 8.9874411%\tVal Accuracy: 11.9937206%\n"
     ]
    },
    {
     "name": "stderr",
     "output_type": "stream",
     "text": [
      "Epoch 6 Training: 100%|██████████| 797/797 [01:02<00:00, 12.66it/s]\n"
     ]
    },
    {
     "name": "stdout",
     "output_type": "stream",
     "text": [
      "Epoch 6, Train Loss: 0.587848598, Train Accuracy: 9.5211931%\tVal Accuracy: 12.1821036%\n"
     ]
    },
    {
     "name": "stderr",
     "output_type": "stream",
     "text": [
      "Epoch 7 Training: 100%|██████████| 797/797 [01:03<00:00, 12.64it/s]\n"
     ]
    },
    {
     "name": "stdout",
     "output_type": "stream",
     "text": [
      "Epoch 7, Train Loss: 0.576593302, Train Accuracy: 9.6703297%\tVal Accuracy: 8.0690738%\n"
     ]
    },
    {
     "name": "stderr",
     "output_type": "stream",
     "text": [
      "Epoch 8 Training: 100%|██████████| 797/797 [01:02<00:00, 12.65it/s]\n"
     ]
    },
    {
     "name": "stdout",
     "output_type": "stream",
     "text": [
      "Epoch 8, Train Loss: 0.577122462, Train Accuracy: 9.1758242%\tVal Accuracy: 9.4505495%\n"
     ]
    },
    {
     "name": "stderr",
     "output_type": "stream",
     "text": [
      "Epoch 9 Training: 100%|██████████| 797/797 [01:03<00:00, 12.52it/s]\n"
     ]
    },
    {
     "name": "stdout",
     "output_type": "stream",
     "text": [
      "Epoch 9, Train Loss: 0.569181612, Train Accuracy: 9.5682889%\tVal Accuracy: 12.1507064%\n"
     ]
    },
    {
     "name": "stderr",
     "output_type": "stream",
     "text": [
      "Epoch 10 Training: 100%|██████████| 797/797 [01:03<00:00, 12.59it/s]\n"
     ]
    },
    {
     "name": "stdout",
     "output_type": "stream",
     "text": [
      "Epoch 10, Train Loss: 0.561902448, Train Accuracy: 10.1726845%\tVal Accuracy: 10.5494505%\n"
     ]
    },
    {
     "name": "stderr",
     "output_type": "stream",
     "text": [
      "Epoch 11 Training: 100%|██████████| 797/797 [01:02<00:00, 12.66it/s]\n"
     ]
    },
    {
     "name": "stdout",
     "output_type": "stream",
     "text": [
      "Epoch 11, Train Loss: 0.565147202, Train Accuracy: 9.8116170%\tVal Accuracy: 10.6122449%\n"
     ]
    },
    {
     "name": "stderr",
     "output_type": "stream",
     "text": [
      "Epoch 12 Training: 100%|██████████| 797/797 [01:03<00:00, 12.50it/s]\n"
     ]
    },
    {
     "name": "stdout",
     "output_type": "stream",
     "text": [
      "Epoch 12, Train Loss: 0.563439235, Train Accuracy: 9.9529042%\tVal Accuracy: 9.7645212%\n"
     ]
    },
    {
     "name": "stderr",
     "output_type": "stream",
     "text": [
      "Epoch 13 Training: 100%|██████████| 797/797 [01:02<00:00, 12.71it/s]\n"
     ]
    },
    {
     "name": "stdout",
     "output_type": "stream",
     "text": [
      "Epoch 13, Train Loss: 0.560432475, Train Accuracy: 9.9529042%\tVal Accuracy: 8.8226060%\n"
     ]
    },
    {
     "name": "stderr",
     "output_type": "stream",
     "text": [
      "Epoch 14 Training: 100%|██████████| 797/797 [01:03<00:00, 12.64it/s]\n"
     ]
    },
    {
     "name": "stdout",
     "output_type": "stream",
     "text": [
      "Epoch 14, Train Loss: 0.561648242, Train Accuracy: 9.9686028%\tVal Accuracy: 10.2982732%\n"
     ]
    },
    {
     "name": "stderr",
     "output_type": "stream",
     "text": [
      "Epoch 15 Training: 100%|██████████| 797/797 [01:03<00:00, 12.61it/s]\n"
     ]
    },
    {
     "name": "stdout",
     "output_type": "stream",
     "text": [
      "Epoch 15, Train Loss: 0.555104563, Train Accuracy: 10.3296703%\tVal Accuracy: 11.3343799%\n"
     ]
    },
    {
     "name": "stderr",
     "output_type": "stream",
     "text": [
      "Epoch 16 Training: 100%|██████████| 797/797 [01:03<00:00, 12.53it/s]\n"
     ]
    },
    {
     "name": "stdout",
     "output_type": "stream",
     "text": [
      "Epoch 16, Train Loss: 0.557683876, Train Accuracy: 9.6232339%\tVal Accuracy: 10.5180534%\n"
     ]
    },
    {
     "name": "stderr",
     "output_type": "stream",
     "text": [
      "Epoch 17 Training: 100%|██████████| 797/797 [01:03<00:00, 12.63it/s]\n"
     ]
    },
    {
     "name": "stdout",
     "output_type": "stream",
     "text": [
      "Epoch 17, Train Loss: 0.551567143, Train Accuracy: 9.8822606%\tVal Accuracy: 12.0879121%\n"
     ]
    },
    {
     "name": "stderr",
     "output_type": "stream",
     "text": [
      "Epoch 18 Training: 100%|██████████| 797/797 [01:03<00:00, 12.63it/s]\n"
     ]
    },
    {
     "name": "stdout",
     "output_type": "stream",
     "text": [
      "Epoch 18, Train Loss: 0.551360711, Train Accuracy: 10.1883830%\tVal Accuracy: 10.5180534%\n"
     ]
    },
    {
     "name": "stderr",
     "output_type": "stream",
     "text": [
      "Epoch 19 Training: 100%|██████████| 797/797 [01:03<00:00, 12.57it/s]\n"
     ]
    },
    {
     "name": "stdout",
     "output_type": "stream",
     "text": [
      "Epoch 19, Train Loss: 0.552581322, Train Accuracy: 10.2433281%\tVal Accuracy: 9.3563579%\n"
     ]
    },
    {
     "name": "stderr",
     "output_type": "stream",
     "text": [
      "Epoch 20 Training: 100%|██████████| 797/797 [01:02<00:00, 12.66it/s]\n"
     ]
    },
    {
     "name": "stdout",
     "output_type": "stream",
     "text": [
      "Epoch 20, Train Loss: 0.547688370, Train Accuracy: 9.7488226%\tVal Accuracy: 8.5086342%\n",
      "Training using mnasnet1_3\n",
      "using GPU\n"
     ]
    },
    {
     "name": "stderr",
     "output_type": "stream",
     "text": [
      "Epoch 1 Training: 100%|██████████| 797/797 [00:38<00:00, 20.50it/s]\n"
     ]
    },
    {
     "name": "stdout",
     "output_type": "stream",
     "text": [
      "Epoch 1, Train Loss: 0.783015925, Train Accuracy: 2.9748823%\tVal Accuracy: 4.8037677%\n"
     ]
    },
    {
     "name": "stderr",
     "output_type": "stream",
     "text": [
      "Epoch 2 Training: 100%|██████████| 797/797 [00:39<00:00, 20.23it/s]\n"
     ]
    },
    {
     "name": "stdout",
     "output_type": "stream",
     "text": [
      "Epoch 2, Train Loss: 0.658318509, Train Accuracy: 6.7111460%\tVal Accuracy: 8.0376766%\n"
     ]
    },
    {
     "name": "stderr",
     "output_type": "stream",
     "text": [
      "Epoch 3 Training: 100%|██████████| 797/797 [00:38<00:00, 20.49it/s]\n"
     ]
    },
    {
     "name": "stdout",
     "output_type": "stream",
     "text": [
      "Epoch 3, Train Loss: 0.637590214, Train Accuracy: 7.9984301%\tVal Accuracy: 8.0376766%\n"
     ]
    },
    {
     "name": "stderr",
     "output_type": "stream",
     "text": [
      "Epoch 4 Training: 100%|██████████| 797/797 [00:39<00:00, 20.31it/s]\n"
     ]
    },
    {
     "name": "stdout",
     "output_type": "stream",
     "text": [
      "Epoch 4, Train Loss: 0.616452646, Train Accuracy: 8.7598116%\tVal Accuracy: 9.6703297%\n"
     ]
    },
    {
     "name": "stderr",
     "output_type": "stream",
     "text": [
      "Epoch 5 Training: 100%|██████████| 797/797 [00:39<00:00, 20.15it/s]\n"
     ]
    },
    {
     "name": "stdout",
     "output_type": "stream",
     "text": [
      "Epoch 5, Train Loss: 0.608605027, Train Accuracy: 9.1836735%\tVal Accuracy: 10.4238619%\n"
     ]
    },
    {
     "name": "stderr",
     "output_type": "stream",
     "text": [
      "Epoch 6 Training: 100%|██████████| 797/797 [00:39<00:00, 20.34it/s]\n"
     ]
    },
    {
     "name": "stdout",
     "output_type": "stream",
     "text": [
      "Epoch 6, Train Loss: 0.598080441, Train Accuracy: 9.5447410%\tVal Accuracy: 9.8587127%\n"
     ]
    },
    {
     "name": "stderr",
     "output_type": "stream",
     "text": [
      "Epoch 7 Training: 100%|██████████| 797/797 [00:38<00:00, 20.47it/s]\n"
     ]
    },
    {
     "name": "stdout",
     "output_type": "stream",
     "text": [
      "Epoch 7, Train Loss: 0.594929312, Train Accuracy: 9.4740973%\tVal Accuracy: 10.6436421%\n"
     ]
    },
    {
     "name": "stderr",
     "output_type": "stream",
     "text": [
      "Epoch 8 Training: 100%|██████████| 797/797 [00:38<00:00, 20.44it/s]\n"
     ]
    },
    {
     "name": "stdout",
     "output_type": "stream",
     "text": [
      "Epoch 8, Train Loss: 0.583476816, Train Accuracy: 9.9607535%\tVal Accuracy: 10.1726845%\n"
     ]
    },
    {
     "name": "stderr",
     "output_type": "stream",
     "text": [
      "Epoch 9 Training: 100%|██████████| 797/797 [00:38<00:00, 20.45it/s]\n"
     ]
    },
    {
     "name": "stdout",
     "output_type": "stream",
     "text": [
      "Epoch 9, Train Loss: 0.581868867, Train Accuracy: 9.9607535%\tVal Accuracy: 9.7331240%\n"
     ]
    },
    {
     "name": "stderr",
     "output_type": "stream",
     "text": [
      "Epoch 10 Training: 100%|██████████| 797/797 [00:38<00:00, 20.45it/s]\n"
     ]
    },
    {
     "name": "stdout",
     "output_type": "stream",
     "text": [
      "Epoch 10, Train Loss: 0.576803679, Train Accuracy: 10.1098901%\tVal Accuracy: 11.0832025%\n"
     ]
    },
    {
     "name": "stderr",
     "output_type": "stream",
     "text": [
      "Epoch 11 Training: 100%|██████████| 797/797 [00:39<00:00, 20.43it/s]\n"
     ]
    },
    {
     "name": "stdout",
     "output_type": "stream",
     "text": [
      "Epoch 11, Train Loss: 0.575278402, Train Accuracy: 10.0235479%\tVal Accuracy: 12.2448980%\n"
     ]
    },
    {
     "name": "stderr",
     "output_type": "stream",
     "text": [
      "Epoch 12 Training: 100%|██████████| 797/797 [00:38<00:00, 20.55it/s]\n"
     ]
    },
    {
     "name": "stdout",
     "output_type": "stream",
     "text": [
      "Epoch 12, Train Loss: 0.577830784, Train Accuracy: 9.9293564%\tVal Accuracy: 10.9576138%\n"
     ]
    },
    {
     "name": "stderr",
     "output_type": "stream",
     "text": [
      "Epoch 13 Training: 100%|██████████| 797/797 [00:38<00:00, 20.47it/s]\n"
     ]
    },
    {
     "name": "stdout",
     "output_type": "stream",
     "text": [
      "Epoch 13, Train Loss: 0.570414960, Train Accuracy: 10.3139717%\tVal Accuracy: 12.3076923%\n"
     ]
    },
    {
     "name": "stderr",
     "output_type": "stream",
     "text": [
      "Epoch 14 Training: 100%|██████████| 797/797 [00:39<00:00, 20.27it/s]\n"
     ]
    },
    {
     "name": "stdout",
     "output_type": "stream",
     "text": [
      "Epoch 14, Train Loss: 0.572730184, Train Accuracy: 10.1334380%\tVal Accuracy: 10.6750392%\n"
     ]
    },
    {
     "name": "stderr",
     "output_type": "stream",
     "text": [
      "Epoch 15 Training: 100%|██████████| 797/797 [00:39<00:00, 20.42it/s]\n"
     ]
    },
    {
     "name": "stdout",
     "output_type": "stream",
     "text": [
      "Epoch 15, Train Loss: 0.574207703, Train Accuracy: 10.3924647%\tVal Accuracy: 11.3029827%\n"
     ]
    },
    {
     "name": "stderr",
     "output_type": "stream",
     "text": [
      "Epoch 16 Training: 100%|██████████| 797/797 [00:38<00:00, 20.55it/s]\n"
     ]
    },
    {
     "name": "stdout",
     "output_type": "stream",
     "text": [
      "Epoch 16, Train Loss: 0.568936917, Train Accuracy: 10.0706436%\tVal Accuracy: 11.8995290%\n"
     ]
    },
    {
     "name": "stderr",
     "output_type": "stream",
     "text": [
      "Epoch 17 Training: 100%|██████████| 797/797 [00:38<00:00, 20.48it/s]\n"
     ]
    },
    {
     "name": "stdout",
     "output_type": "stream",
     "text": [
      "Epoch 17, Train Loss: 0.561023416, Train Accuracy: 10.1962323%\tVal Accuracy: 11.0832025%\n"
     ]
    },
    {
     "name": "stderr",
     "output_type": "stream",
     "text": [
      "Epoch 18 Training: 100%|██████████| 797/797 [00:38<00:00, 20.47it/s]\n"
     ]
    },
    {
     "name": "stdout",
     "output_type": "stream",
     "text": [
      "Epoch 18, Train Loss: 0.569099100, Train Accuracy: 10.3689168%\tVal Accuracy: 11.2087912%\n"
     ]
    },
    {
     "name": "stderr",
     "output_type": "stream",
     "text": [
      "Epoch 19 Training: 100%|██████████| 797/797 [00:39<00:00, 20.39it/s]\n"
     ]
    },
    {
     "name": "stdout",
     "output_type": "stream",
     "text": [
      "Epoch 19, Train Loss: 0.566392839, Train Accuracy: 9.9136578%\tVal Accuracy: 9.6389325%\n"
     ]
    },
    {
     "name": "stderr",
     "output_type": "stream",
     "text": [
      "Epoch 20 Training: 100%|██████████| 797/797 [00:38<00:00, 20.48it/s]\n"
     ]
    },
    {
     "name": "stdout",
     "output_type": "stream",
     "text": [
      "Epoch 20, Train Loss: 0.567122950, Train Accuracy: 9.8744113%\tVal Accuracy: 11.5227630%\n",
      "Training using regnet_x_1_6gf\n",
      "using GPU\n"
     ]
    },
    {
     "name": "stderr",
     "output_type": "stream",
     "text": [
      "Epoch 1 Training: 100%|██████████| 797/797 [00:47<00:00, 16.76it/s]\n"
     ]
    },
    {
     "name": "stdout",
     "output_type": "stream",
     "text": [
      "Epoch 1, Train Loss: 0.754651474, Train Accuracy: 3.5635793%\tVal Accuracy: 9.4819466%\n"
     ]
    },
    {
     "name": "stderr",
     "output_type": "stream",
     "text": [
      "Epoch 2 Training: 100%|██████████| 797/797 [00:47<00:00, 16.63it/s]\n"
     ]
    },
    {
     "name": "stdout",
     "output_type": "stream",
     "text": [
      "Epoch 2, Train Loss: 0.617589850, Train Accuracy: 9.2307692%\tVal Accuracy: 11.3343799%\n"
     ]
    },
    {
     "name": "stderr",
     "output_type": "stream",
     "text": [
      "Epoch 3 Training: 100%|██████████| 797/797 [00:47<00:00, 16.74it/s]\n"
     ]
    },
    {
     "name": "stdout",
     "output_type": "stream",
     "text": [
      "Epoch 3, Train Loss: 0.582325246, Train Accuracy: 11.2951334%\tVal Accuracy: 12.9356358%\n"
     ]
    },
    {
     "name": "stderr",
     "output_type": "stream",
     "text": [
      "Epoch 4 Training: 100%|██████████| 797/797 [00:47<00:00, 16.70it/s]\n"
     ]
    },
    {
     "name": "stdout",
     "output_type": "stream",
     "text": [
      "Epoch 4, Train Loss: 0.562821779, Train Accuracy: 12.1428571%\tVal Accuracy: 13.5007849%\n"
     ]
    },
    {
     "name": "stderr",
     "output_type": "stream",
     "text": [
      "Epoch 5 Training: 100%|██████████| 797/797 [00:48<00:00, 16.58it/s]\n"
     ]
    },
    {
     "name": "stdout",
     "output_type": "stream",
     "text": [
      "Epoch 5, Train Loss: 0.543171417, Train Accuracy: 12.9827316%\tVal Accuracy: 14.4113030%\n"
     ]
    },
    {
     "name": "stderr",
     "output_type": "stream",
     "text": [
      "Epoch 6 Training: 100%|██████████| 797/797 [00:48<00:00, 16.60it/s]\n"
     ]
    },
    {
     "name": "stdout",
     "output_type": "stream",
     "text": [
      "Epoch 6, Train Loss: 0.530828554, Train Accuracy: 13.8147567%\tVal Accuracy: 16.2637363%\n"
     ]
    },
    {
     "name": "stderr",
     "output_type": "stream",
     "text": [
      "Epoch 7 Training: 100%|██████████| 797/797 [00:47<00:00, 16.72it/s]\n"
     ]
    },
    {
     "name": "stdout",
     "output_type": "stream",
     "text": [
      "Epoch 7, Train Loss: 0.521104634, Train Accuracy: 14.6938776%\tVal Accuracy: 15.2904239%\n"
     ]
    },
    {
     "name": "stderr",
     "output_type": "stream",
     "text": [
      "Epoch 8 Training: 100%|██████████| 797/797 [00:48<00:00, 16.55it/s]\n"
     ]
    },
    {
     "name": "stdout",
     "output_type": "stream",
     "text": [
      "Epoch 8, Train Loss: 0.515093175, Train Accuracy: 14.6232339%\tVal Accuracy: 15.3218210%\n"
     ]
    },
    {
     "name": "stderr",
     "output_type": "stream",
     "text": [
      "Epoch 9 Training: 100%|██████████| 797/797 [00:48<00:00, 16.29it/s]\n"
     ]
    },
    {
     "name": "stdout",
     "output_type": "stream",
     "text": [
      "Epoch 9, Train Loss: 0.506824656, Train Accuracy: 14.8744113%\tVal Accuracy: 14.7252747%\n"
     ]
    },
    {
     "name": "stderr",
     "output_type": "stream",
     "text": [
      "Epoch 10 Training: 100%|██████████| 797/797 [00:47<00:00, 16.63it/s]\n"
     ]
    },
    {
     "name": "stdout",
     "output_type": "stream",
     "text": [
      "Epoch 10, Train Loss: 0.505836795, Train Accuracy: 14.6703297%\tVal Accuracy: 15.8241758%\n"
     ]
    },
    {
     "name": "stderr",
     "output_type": "stream",
     "text": [
      "Epoch 11 Training: 100%|██████████| 797/797 [00:48<00:00, 16.56it/s]\n"
     ]
    },
    {
     "name": "stdout",
     "output_type": "stream",
     "text": [
      "Epoch 11, Train Loss: 0.497279517, Train Accuracy: 15.4160126%\tVal Accuracy: 15.5729984%\n"
     ]
    },
    {
     "name": "stderr",
     "output_type": "stream",
     "text": [
      "Epoch 12 Training: 100%|██████████| 797/797 [00:47<00:00, 16.74it/s]\n"
     ]
    },
    {
     "name": "stdout",
     "output_type": "stream",
     "text": [
      "Epoch 12, Train Loss: 0.491518339, Train Accuracy: 15.2433281%\tVal Accuracy: 16.0439560%\n"
     ]
    },
    {
     "name": "stderr",
     "output_type": "stream",
     "text": [
      "Epoch 13 Training: 100%|██████████| 797/797 [00:48<00:00, 16.59it/s]\n"
     ]
    },
    {
     "name": "stdout",
     "output_type": "stream",
     "text": [
      "Epoch 13, Train Loss: 0.489120623, Train Accuracy: 15.7692308%\tVal Accuracy: 15.6043956%\n"
     ]
    },
    {
     "name": "stderr",
     "output_type": "stream",
     "text": [
      "Epoch 14 Training: 100%|██████████| 797/797 [00:47<00:00, 16.67it/s]\n"
     ]
    },
    {
     "name": "stdout",
     "output_type": "stream",
     "text": [
      "Epoch 14, Train Loss: 0.483205099, Train Accuracy: 15.8477237%\tVal Accuracy: 17.3312402%\n"
     ]
    },
    {
     "name": "stderr",
     "output_type": "stream",
     "text": [
      "Epoch 15 Training: 100%|██████████| 797/797 [00:48<00:00, 16.58it/s]\n"
     ]
    },
    {
     "name": "stdout",
     "output_type": "stream",
     "text": [
      "Epoch 15, Train Loss: 0.480276965, Train Accuracy: 15.7613815%\tVal Accuracy: 17.0800628%\n"
     ]
    },
    {
     "name": "stderr",
     "output_type": "stream",
     "text": [
      "Epoch 16 Training: 100%|██████████| 797/797 [00:47<00:00, 16.69it/s]\n"
     ]
    },
    {
     "name": "stdout",
     "output_type": "stream",
     "text": [
      "Epoch 16, Train Loss: 0.480121398, Train Accuracy: 15.5023548%\tVal Accuracy: 17.3626374%\n"
     ]
    },
    {
     "name": "stderr",
     "output_type": "stream",
     "text": [
      "Epoch 17 Training: 100%|██████████| 797/797 [00:47<00:00, 16.69it/s]\n"
     ]
    },
    {
     "name": "stdout",
     "output_type": "stream",
     "text": [
      "Epoch 17, Train Loss: 0.478392664, Train Accuracy: 15.5572998%\tVal Accuracy: 14.7880691%\n"
     ]
    },
    {
     "name": "stderr",
     "output_type": "stream",
     "text": [
      "Epoch 18 Training: 100%|██████████| 797/797 [00:47<00:00, 16.73it/s]\n"
     ]
    },
    {
     "name": "stdout",
     "output_type": "stream",
     "text": [
      "Epoch 18, Train Loss: 0.473803224, Train Accuracy: 15.6671900%\tVal Accuracy: 16.2323391%\n"
     ]
    },
    {
     "name": "stderr",
     "output_type": "stream",
     "text": [
      "Epoch 19 Training: 100%|██████████| 797/797 [00:47<00:00, 16.73it/s]\n"
     ]
    },
    {
     "name": "stdout",
     "output_type": "stream",
     "text": [
      "Epoch 19, Train Loss: 0.473433698, Train Accuracy: 15.8398744%\tVal Accuracy: 15.0078493%\n"
     ]
    },
    {
     "name": "stderr",
     "output_type": "stream",
     "text": [
      "Epoch 20 Training: 100%|██████████| 797/797 [00:48<00:00, 16.57it/s]\n"
     ]
    },
    {
     "name": "stdout",
     "output_type": "stream",
     "text": [
      "Epoch 20, Train Loss: 0.474110210, Train Accuracy: 15.9262166%\tVal Accuracy: 16.8916797%\n"
     ]
    }
   ],
   "source": [
    "models = [\n",
    "    \"mobilenet_v3_large\",\n",
    "\t\"resnet18\",\n",
    "\t\"efficientnet_b2\",\n",
    "\t\"densenet121\",\n",
    "\t\"mnasnet1_3\",\n",
    "\t\"regnet_x_1_6gf\",\n",
    "]\n",
    "val_accs = {}\n",
    "train_accs = {}\n",
    "losses = {}\n",
    "\n",
    "EPOCHS=20\n",
    "THRESHOLD = 0.5\n",
    "N_CLASSES = 19\n",
    "\n",
    "# train each model\n",
    "for model_name in models:\n",
    "\n",
    "\tprint(\"Training using\", model_name)\n",
    "\n",
    "\t# define model\n",
    "\tmodel = PopularModels(\n",
    "\t\tchoice=model_name,\n",
    "\t\tpretrained=True,\n",
    "\t\tfreeze=True,\n",
    "\t\tn_out=N_CLASSES,\n",
    "\t).get_model()\n",
    "\n",
    "\t# define loss function and optimizer\n",
    "\tloss_fn = nn.BCEWithLogitsLoss(pos_weight=pos_weights)\n",
    "\toptimizer = torch.optim.Adam(\n",
    "\t\tparams=model.parameters(),\n",
    "\t\tlr=0.001,\n",
    "\t)\n",
    "\n",
    "\t# utilise GPU\n",
    "\tif torch.cuda.is_available():\n",
    "\t\tprint('using GPU')\n",
    "\t\tmodel = model.to('cuda')\n",
    "\n",
    "\t# train the model\n",
    "\ttrain_losses = []\n",
    "\tsk_val_accs = []\n",
    "\tsk_train_accs = []\n",
    "\tfor epoch in range(EPOCHS):\n",
    "\n",
    "\t\tstart = 0 # index\n",
    "\t\ty_true = np.zeros((train_data.shape[0], N_CLASSES))\n",
    "\t\ty_preds = np.zeros((train_data.shape[0], N_CLASSES))\n",
    "\t\ttrain_loss = 0.\n",
    "\t\tmodel.train()\n",
    "\t\tfor image_names, images, _, labels in tqdm(train_dataloader, desc=f\"Epoch {epoch+1} Training: \"):\n",
    "\n",
    "\t\t\tif torch.cuda.is_available():\n",
    "\t\t\t\timages = images.to('cuda')\n",
    "\t\t\t\tlabels = labels.to('cuda')\n",
    "\n",
    "\t\t\toptimizer.zero_grad()\n",
    "\t\t\ty_pred = model(images)\n",
    "\n",
    "\t\t\t# backward\n",
    "\t\t\tloss = loss_fn(y_pred, labels)\n",
    "\t\t\tloss.backward()\n",
    "\n",
    "\t\t\t# update\n",
    "\t\t\toptimizer.step()\n",
    "\n",
    "\t\t\t# compare\n",
    "\t\t\tpredicted = (F.sigmoid(y_pred) > THRESHOLD).int()\n",
    "\n",
    "\t\t\tn = images.shape[0]\n",
    "\t\t\ty_true[start:start+n] = labels.cpu().numpy()\n",
    "\t\t\ty_preds[start:start+n] = predicted.cpu().numpy()\n",
    "\t\t\tstart = start + n\n",
    "\n",
    "\t\t\ttrain_loss += loss.item()\n",
    "\n",
    "\t\ttrain_losses.append(train_loss / len(train_dataloader))\n",
    "\t\tsk_train_accs.append(accuracy_score(y_true, y_preds))\n",
    "\t\tprint(\"Epoch {:d}, Train Loss: {:.9f}, Train Accuracy: {:.7f}%\".format(epoch+1, \n",
    "\t\t\t\t\t\t\t\t\t\t\t\t\t\t\t\t\t\t\ttrain_losses[-1], \n",
    "\t\t\t\t\t\t\t\t\t\t\t\t\t\t\t\t\t\t\taccuracy_score(y_true, y_preds)*100), end=\"\")\n",
    "\n",
    "\t\tstart = 0 # index\n",
    "\t\ty_true = np.zeros((val_data.shape[0], N_CLASSES))\n",
    "\t\ty_preds = np.zeros((val_data.shape[0], N_CLASSES))\n",
    "\t\tmodel.eval()\n",
    "\t\tfor (_, images, _, labels) in val_dataloader:\n",
    "\t\t\t\n",
    "\t\t\tif torch.cuda.is_available():\n",
    "\t\t\t\timages = images.to('cuda')\n",
    "\t\t\t\tlabels = labels.to('cuda')\n",
    "\t\t\t\n",
    "\t\t\toutputs = model(images)\n",
    "\t\t\tpredicted = (F.sigmoid(outputs) > THRESHOLD).int()\n",
    "\n",
    "\t\t\tn = images.shape[0]\n",
    "\t\t\ty_true[start:start+n] = labels.cpu().numpy()\n",
    "\t\t\ty_preds[start:start+n] = predicted.cpu().numpy()\n",
    "\t\t\tstart = start + n\n",
    "\t\t\n",
    "\t\tsk_val_accs.append(accuracy_score(y_true, y_preds))\n",
    "\t\tprint(\"\\tVal Accuracy: {:.7f}%\".format(accuracy_score(y_true, y_preds)*100))\n",
    "\n",
    "\t# add the accs and losses\n",
    "\ttrain_accs[model_name] = sk_train_accs\n",
    "\tval_accs[model_name] = sk_val_accs\n",
    "\tlosses[model_name] = train_losses"
   ]
  },
  {
   "cell_type": "code",
   "execution_count": 20,
   "metadata": {},
   "outputs": [
    {
     "ename": "",
     "evalue": "",
     "output_type": "error",
     "traceback": [
      "\u001b[1;31mThe Kernel crashed while executing code in the current cell or a previous cell. \n",
      "\u001b[1;31mPlease review the code in the cell(s) to identify a possible cause of the failure. \n",
      "\u001b[1;31mClick <a href='https://aka.ms/vscodeJupyterKernelCrash'>here</a> for more info. \n",
      "\u001b[1;31mView Jupyter <a href='command:jupyter.viewOutput'>log</a> for further details."
     ]
    }
   ],
   "source": [
    "pd.DataFrame(train_accs).to_csv(\"../logs/cnn_only_models_train_accuracies\", index=False)\n",
    "pd.DataFrame(val_accs).to_csv(\"../logs/cnn_only_models_val_accuracies\", index=False)\n",
    "pd.DataFrame(losses).to_csv(\"../logs/cnn_only_models_losses\", index=False)"
   ]
  },
  {
   "cell_type": "markdown",
   "metadata": {},
   "source": [
    "## Graphs and Evaluation"
   ]
  },
  {
   "cell_type": "code",
   "execution_count": null,
   "metadata": {},
   "outputs": [],
   "source": [
    "import matplotlib.pyplot as plt"
   ]
  },
  {
   "cell_type": "code",
   "execution_count": null,
   "metadata": {},
   "outputs": [],
   "source": [
    "plt.title(\"Training Losses vs Epoch\")\n",
    "plt.plot(train_losses)\n",
    "plt.ylabel(\"Epoch\")\n",
    "plt.xlabel(\"Loss\")\n",
    "plt.show()"
   ]
  },
  {
   "cell_type": "code",
   "execution_count": null,
   "metadata": {},
   "outputs": [],
   "source": [
    "new_train_accs = []\n",
    "for train_acc in train_accs:\n",
    "    new_train_accs.append(train_acc.item())\n",
    "\n",
    "plt.title(\"Training Accuracies vs Epoch\")\n",
    "plt.plot(new_train_accs)\n",
    "plt.ylabel(\"Accuracy\")\n",
    "plt.xlabel(\"Loss\")\n",
    "plt.show()"
   ]
  },
  {
   "cell_type": "markdown",
   "metadata": {},
   "source": [
    "## Save, Test and Load Model"
   ]
  },
  {
   "cell_type": "code",
   "execution_count": null,
   "metadata": {},
   "outputs": [],
   "source": [
    "torch.save(model.state_dict(), '../combined_model.pth')"
   ]
  },
  {
   "cell_type": "code",
   "execution_count": null,
   "metadata": {},
   "outputs": [],
   "source": [
    "model = CombinedModel(\n",
    "\tchoice=\"regnet_x_1_6gf\",\n",
    "\tpretrained=True, \t\t# if pretrained is False, then freeze should also be False\n",
    "\tfreeze=True,\n",
    "\tcnn_n_out=256,\n",
    "\tno_layers=2,\n",
    "\tvocab_size=len(vocab), \t# already added by 1\n",
    "\tembedding_dim=64,\n",
    "\tlstm_hidden_dim=256,\n",
    "\tlstm_n_out=128,\n",
    ")\n",
    "model.load_state_dict(torch.load('../combined_model.pth'))"
   ]
  },
  {
   "cell_type": "code",
   "execution_count": null,
   "metadata": {},
   "outputs": [],
   "source": [
    "# create a file for test submission\n",
    "f = open('../submission_combined.csv', \"w\")\n",
    "f.write(\"ImageID,Labels\\n\")\n",
    "\n",
    "# utilise GPU\n",
    "if torch.cuda.is_available():\n",
    "\tprint('using GPU')\n",
    "\tmodel = model.to('cuda')\n",
    "\n",
    "# initialize the hidden state\n",
    "hidden = model.lstm_model.init_hidden(batch_size=BATCH_SIZE)\n",
    "\n",
    "# idx = 0\n",
    "model.eval()\n",
    "for (image_names, images, captions) in test_dataloader:\n",
    "\n",
    "\t# creating new variables for the hidden state, otherwise\n",
    "\t# we'd backprop through the entire training history\n",
    "\thidden = tuple([each.data for each in hidden])\n",
    "\t\n",
    "\tif torch.cuda.is_available():\n",
    "\t\timages = images.to('cuda')\n",
    "\t\tcaptions = captions.to('cuda')\n",
    "\t\n",
    "\toutputs, _ = model(images, captions, hidden)\n",
    "\tpredicted = (F.sigmoid(outputs) > THRESHOLD).int()\n",
    "\n",
    "\t# NOTE: add 1 to the output of predicted!\n",
    "\t# write the output\n",
    "\tfor i, predicted_label in enumerate(predicted):\n",
    "\t\tlabel = (predicted_label == torch.max(predicted_label)).nonzero().flatten()\n",
    "\t\tlabel += 1\n",
    "\t\tlabel = label.tolist()\n",
    "\t\tlabel = \" \".join(str(x) for x in label)\n",
    "\n",
    "\t\tf.write(image_names[i].split(\"/\")[-1] + \",\" + str(label) +\"\\n\")\n",
    "\n",
    "f.close()"
   ]
  },
  {
   "cell_type": "code",
   "execution_count": null,
   "metadata": {},
   "outputs": [],
   "source": [
    "# create a file for test submission\n",
    "f = open('../train_combined.csv', \"w\")\n",
    "f.write(\"ImageID,Labels\\n\")\n",
    "\n",
    "# utilise GPU\n",
    "if torch.cuda.is_available():\n",
    "\tprint('using GPU')\n",
    "\tmodel = model.to('cuda')\n",
    "\n",
    "# initialize the hidden state\n",
    "hidden = model.lstm_model.init_hidden(batch_size=BATCH_SIZE)\n",
    "\n",
    "# idx = 0\n",
    "model.eval()\n",
    "for (image_names, images, captions, _) in train_dataloader:\n",
    "\n",
    "\t# creating new variables for the hidden state, otherwise\n",
    "\t# we'd backprop through the entire training history\n",
    "\thidden = tuple([each.data for each in hidden])\n",
    "\t\n",
    "\tif torch.cuda.is_available():\n",
    "\t\timages = images.to('cuda')\n",
    "\t\tcaptions = captions.to('cuda')\n",
    "\t\n",
    "\toutputs, _ = model(images, captions, hidden)\n",
    "\tpredicted = (F.sigmoid(outputs) > THRESHOLD).int()\n",
    "\n",
    "\t# NOTE: add 1 to the output of predicted!\n",
    "\t# write the output\n",
    "\tfor i, predicted_label in enumerate(predicted):\n",
    "\t\tlabel = (predicted_label == torch.max(predicted_label)).nonzero().flatten()\n",
    "\t\tlabel += 1\n",
    "\t\tlabel = label.tolist()\n",
    "\t\tlabel = \" \".join(str(x) for x in label)\n",
    "\n",
    "\t\tf.write(image_names[i].split(\"/\")[-1] + \",\" + str(label) +\"\\n\")\n",
    "\n",
    "f.close()"
   ]
  }
 ],
 "metadata": {
  "kernelspec": {
   "display_name": "Python 3",
   "language": "python",
   "name": "python3"
  },
  "language_info": {
   "codemirror_mode": {
    "name": "ipython",
    "version": 3
   },
   "file_extension": ".py",
   "mimetype": "text/x-python",
   "name": "python",
   "nbconvert_exporter": "python",
   "pygments_lexer": "ipython3",
   "version": "3.10.12"
  }
 },
 "nbformat": 4,
 "nbformat_minor": 2
}
