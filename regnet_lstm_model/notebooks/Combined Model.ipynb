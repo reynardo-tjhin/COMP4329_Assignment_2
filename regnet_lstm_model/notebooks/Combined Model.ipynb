{
 "cells": [
  {
   "cell_type": "markdown",
   "metadata": {},
   "source": [
    "# Combining Image Classification and NLP Models Together"
   ]
  },
  {
   "cell_type": "markdown",
   "metadata": {},
   "source": [
    "## Import Libraries"
   ]
  },
  {
   "cell_type": "code",
   "execution_count": 1,
   "metadata": {},
   "outputs": [],
   "source": [
    "# change the python's path to the parent directory\n",
    "import sys\n",
    "sys.path.append(\"../\")"
   ]
  },
  {
   "cell_type": "code",
   "execution_count": 2,
   "metadata": {},
   "outputs": [
    {
     "name": "stderr",
     "output_type": "stream",
     "text": [
      "/home/reynardo/.local/lib/python3.10/site-packages/tqdm/auto.py:21: TqdmWarning: IProgress not found. Please update jupyter and ipywidgets. See https://ipywidgets.readthedocs.io/en/stable/user_install.html\n",
      "  from .autonotebook import tqdm as notebook_tqdm\n"
     ]
    }
   ],
   "source": [
    "import pandas as pd\n",
    "import torch\n",
    "import torch.nn as nn\n",
    "import torch.nn.functional as F\n",
    "import gc\n",
    "import numpy as np\n",
    "\n",
    "from models.popular_models import PopularModels\n",
    "from models.lstm import LSTM\n",
    "from torchvision import transforms\n",
    "from tqdm import tqdm\n",
    "from data.dataset import MultiLabelDataset\n",
    "from tools.tools import get_data, load_data, tokenize, remove_class, count_class, calculate_pos_weights\n",
    "from torch.utils.data import DataLoader\n",
    "from sklearn.feature_extraction.text import CountVectorizer\n",
    "from sklearn.metrics import accuracy_score\n",
    "from sklearn.model_selection import train_test_split"
   ]
  },
  {
   "cell_type": "markdown",
   "metadata": {},
   "source": [
    "## Remove unused memory in GPU"
   ]
  },
  {
   "cell_type": "code",
   "execution_count": 3,
   "metadata": {},
   "outputs": [],
   "source": [
    "gc.collect()\n",
    "torch.cuda.empty_cache()"
   ]
  },
  {
   "cell_type": "markdown",
   "metadata": {},
   "source": [
    "## Load the Data"
   ]
  },
  {
   "cell_type": "code",
   "execution_count": 4,
   "metadata": {},
   "outputs": [],
   "source": [
    "# import data\n",
    "train_data = get_data(\"../dataset/train.csv\")\n",
    "test_data = get_data(\"../dataset/test.csv\")\n",
    "\n",
    "# perform text cleaning and get the pandas' dataframe\n",
    "train_data = load_data(train_data)\n",
    "test_data = load_data(test_data, has_label=False)\n",
    "\n",
    "# remove an imbalanced class\n",
    "train_data = remove_class(train_data, class_no=1)\n",
    "\n",
    "# split into training and validating sets\n",
    "X = train_data.iloc[:, 0:2]\n",
    "y = train_data.iloc[:, 2:]\n",
    "X_train, X_test, y_train, y_test = train_test_split(X, y, test_size=0.2)\n",
    "\n",
    "train_data = pd.concat([X_train, y_train], axis=1)\n",
    "val_data = pd.concat([X_test, y_test], axis=1)\n",
    "\n",
    "# join the data together\n",
    "for_nlp_data = pd.concat((train_data['caption'], val_data['caption'], test_data['caption']), ignore_index=True)"
   ]
  },
  {
   "cell_type": "code",
   "execution_count": 5,
   "metadata": {},
   "outputs": [
    {
     "name": "stdout",
     "output_type": "stream",
     "text": [
      "(12740, 21)\n",
      "(3185, 21)\n",
      "(10000, 2)\n"
     ]
    }
   ],
   "source": [
    "print(train_data.shape)\n",
    "print(val_data.shape)\n",
    "print(test_data.shape)"
   ]
  },
  {
   "cell_type": "code",
   "execution_count": 6,
   "metadata": {},
   "outputs": [
    {
     "name": "stdout",
     "output_type": "stream",
     "text": [
      "Number of training instances: \t12740\n",
      "Number of validation instances: 3185\n",
      "Number of testing instances:  \t10000\n"
     ]
    }
   ],
   "source": [
    "print(f\"Number of training instances: \t{train_data.shape[0]}\")\n",
    "print(f\"Number of validation instances: {val_data.shape[0]}\")\n",
    "print(f\"Number of testing instances:  \t{test_data.shape[0]}\")"
   ]
  },
  {
   "cell_type": "markdown",
   "metadata": {},
   "source": [
    "## Preprocessing for Images and Caption"
   ]
  },
  {
   "cell_type": "code",
   "execution_count": 7,
   "metadata": {},
   "outputs": [
    {
     "name": "stdout",
     "output_type": "stream",
     "text": [
      "Max Sentence Length: 28\n",
      "(25925, 28)\n",
      "(12740, 28)\n",
      "(3185, 28)\n",
      "(10000, 28)\n"
     ]
    }
   ],
   "source": [
    "# define the image transformation: currently following resnet18\n",
    "transform = transforms.Compose([\n",
    "\ttransforms.Resize((232, 232)),\n",
    "\ttransforms.CenterCrop(224),\n",
    "\ttransforms.ToTensor(), # converts images to [0, 1]\n",
    "\ttransforms.Normalize(\n",
    "\t\tmean=[0.485, 0.456, 0.406],\n",
    "\t\tstd=[0.229, 0.224, 0.225],\n",
    "\t)\n",
    "])\n",
    "\n",
    "# tokenize the data\n",
    "final_list, vocab = tokenize(for_nlp_data)\n",
    "X_train_vec = final_list[:train_data.shape[0], :]\n",
    "X_val_vec = final_list[train_data.shape[0]:train_data.shape[0]+val_data.shape[0], :]\n",
    "X_test_vec = final_list[train_data.shape[0]+val_data.shape[0]:, :]\n",
    "\n",
    "print(final_list.shape)\n",
    "print(X_train_vec.shape)\n",
    "print(X_val_vec.shape)\n",
    "print(X_test_vec.shape)"
   ]
  },
  {
   "cell_type": "markdown",
   "metadata": {},
   "source": [
    "## Create Dataset and DataLoader"
   ]
  },
  {
   "cell_type": "code",
   "execution_count": 8,
   "metadata": {},
   "outputs": [],
   "source": [
    "# initialize the dataset\n",
    "train_dataset = MultiLabelDataset(\n",
    "\tcsv_file=train_data,\n",
    "\troot_dir='../dataset/data/',\n",
    "\tvectorizer=None,\n",
    "\ttransform=transform,\n",
    "\tuse_caption_vec=True,\n",
    "\tcaption_vec=X_train_vec,\n",
    "\tis_test=False,\n",
    ")\n",
    "val_dataset = MultiLabelDataset(\n",
    "    csv_file=val_data,\n",
    "    root_dir='../dataset/data/',\n",
    "    vectorizer=None,\n",
    "\ttransform=transform,\n",
    "\tuse_caption_vec=True,\n",
    "\tcaption_vec=X_val_vec,\n",
    "\tis_test=False,\n",
    ")\n",
    "test_dataset = MultiLabelDataset(\n",
    "\tcsv_file=test_data,\n",
    "\troot_dir='../dataset/data/',\n",
    "\tvectorizer=None,\n",
    "\ttransform=transform,\n",
    "\tuse_caption_vec=True,\n",
    "\tcaption_vec=X_test_vec,\n",
    "\tis_test=True,\n",
    ")\n",
    "\n",
    "BATCH_SIZE=16\n",
    "\n",
    "# load the dataset into batches \n",
    "train_dataloader = DataLoader(\n",
    "\tdataset=train_dataset,\n",
    "\tbatch_size=BATCH_SIZE,\n",
    "\tshuffle=True,\n",
    ")\n",
    "val_dataloader = DataLoader(\n",
    "    dataset=val_dataset,\n",
    "\tbatch_size=BATCH_SIZE,\n",
    "\tshuffle=True,\n",
    ")\n",
    "test_dataloader = DataLoader(\n",
    "\tdataset=test_dataset,\n",
    "\tbatch_size=BATCH_SIZE,\n",
    "\tshuffle=False,\n",
    ")"
   ]
  },
  {
   "cell_type": "markdown",
   "metadata": {},
   "source": [
    "## Create the Combined Model"
   ]
  },
  {
   "cell_type": "code",
   "execution_count": 9,
   "metadata": {},
   "outputs": [],
   "source": [
    "class CombinedModel(nn.Module):\n",
    "\n",
    "\tdef __init__(\n",
    "\t\t\tself, \n",
    "\t\t\tchoice: str, \n",
    "\t\t\tpretrained: bool, \n",
    "\t\t\tfreeze: bool, \n",
    "\t\t\tcnn_n_out: int,\n",
    "\t\t\tno_layers: int,\n",
    "\t\t\tvocab_size: int,\n",
    "\t\t\tembedding_dim: int,\n",
    "\t\t\tlstm_hidden_dim: int,\n",
    "\t\t\tlstm_n_out: int,\n",
    "\t\t\tlstm_dropout: float = 0.5,\n",
    "\t\t\tfc_dropout: float = 0.5,\n",
    "\t\t) -> None:\n",
    "\t\tsuper(CombinedModel, self).__init__()\n",
    "\n",
    "\t\t# get the CNN model for image classification\n",
    "\t\tself.cnn_model = PopularModels(\n",
    "\t\t\tchoice=choice,\n",
    "\t\t\tpretrained=pretrained,\n",
    "\t\t\tfreeze=freeze,\n",
    "\t\t\tn_out=cnn_n_out,\n",
    "\t\t).get_model()\n",
    "\n",
    "\t\t# get the LSTM model for text classification\n",
    "\t\tself.lstm_model = LSTM(\n",
    "\t\t\tno_layers=no_layers,\n",
    "\t\t\tvocab_size=vocab_size + 1,\n",
    "\t\t\tembedding_dim=embedding_dim,\n",
    "\t\t\thidden_dim=lstm_hidden_dim,\n",
    "\t\t\toutput_dim=lstm_n_out,\n",
    "\t\t\tdropout=lstm_dropout,\n",
    "\t\t)\n",
    "\t\t\n",
    "\t\t# create the final fully connected layer\n",
    "\t\tself.last_layer = nn.Linear(cnn_n_out + lstm_n_out, 19)\n",
    "\t\t\n",
    "\t\t# prevent overfitting\n",
    "\t\tself.dropout_layer = nn.Dropout(p=fc_dropout, inplace=True)\n",
    "\n",
    "\tdef forward(self, x, y, hidden):\n",
    "\t\tx = self.cnn_model(x)\n",
    "\t\ty, hidden = self.lstm_model(y, hidden)\n",
    "\t\t\n",
    "\t\toutput = torch.cat((x, y), dim=1)\n",
    "\t\toutput = self.dropout_layer(output)\n",
    "\t\toutput = self.last_layer(output)\n",
    "\n",
    "\t\treturn output, hidden"
   ]
  },
  {
   "cell_type": "markdown",
   "metadata": {},
   "source": [
    "## Define the model"
   ]
  },
  {
   "cell_type": "code",
   "execution_count": 10,
   "metadata": {},
   "outputs": [],
   "source": [
    "class_counts = list(count_class(train_data).values())\n",
    "pos_weights = calculate_pos_weights(class_counts, train_data)\n",
    "if torch.cuda.is_available():\n",
    "\tpos_weights = pos_weights.to('cuda')"
   ]
  },
  {
   "cell_type": "code",
   "execution_count": 11,
   "metadata": {},
   "outputs": [
    {
     "name": "stdout",
     "output_type": "stream",
     "text": [
      "using GPU\n"
     ]
    }
   ],
   "source": [
    "EPOCHS = 20\n",
    "THRESHOLD = 0.7\n",
    "N_CLASSES = 19\n",
    "\n",
    "model = CombinedModel(\n",
    "\tchoice=\"regnet_x_1_6gf\",\n",
    "\tpretrained=True, \t\t# if pretrained is False, then freeze should also be False\n",
    "\tfreeze=True,\n",
    "\tcnn_n_out=256,\n",
    "\tno_layers=2,\n",
    "\tvocab_size=len(vocab), \t# already added by 1\n",
    "\tembedding_dim=64,\n",
    "\tlstm_hidden_dim=256,\n",
    "\tlstm_n_out=128,\n",
    "\tlstm_dropout=0,\n",
    "\tfc_dropout=0,\n",
    ")\n",
    "loss_fn = nn.BCEWithLogitsLoss(pos_weight=pos_weights)\n",
    "optimizer = torch.optim.Adam(\n",
    "\tparams=model.parameters(),\n",
    "\tlr=0.001,\n",
    ")\n",
    "\n",
    "# utilise GPU\n",
    "if torch.cuda.is_available():\n",
    "\tprint('using GPU')\n",
    "\tmodel = model.to('cuda')"
   ]
  },
  {
   "cell_type": "markdown",
   "metadata": {},
   "source": [
    "## Train the model"
   ]
  },
  {
   "cell_type": "code",
   "execution_count": 12,
   "metadata": {},
   "outputs": [
    {
     "name": "stderr",
     "output_type": "stream",
     "text": [
      "Epoch 1 Training: 100%|██████████| 797/797 [00:52<00:00, 15.17it/s]\n"
     ]
    },
    {
     "name": "stdout",
     "output_type": "stream",
     "text": [
      "Epoch 1, Train Loss: 0.747995133, Train Accuracy: 14.3014129%\tVal Accuracy: 21.7896389%\n"
     ]
    },
    {
     "name": "stderr",
     "output_type": "stream",
     "text": [
      "Epoch 2 Training: 100%|██████████| 797/797 [00:52<00:00, 15.26it/s]\n"
     ]
    },
    {
     "name": "stdout",
     "output_type": "stream",
     "text": [
      "Epoch 2, Train Loss: 0.637372481, Train Accuracy: 19.0894819%\tVal Accuracy: 25.0235479%\n"
     ]
    },
    {
     "name": "stderr",
     "output_type": "stream",
     "text": [
      "Epoch 3 Training: 100%|██████████| 797/797 [00:52<00:00, 15.10it/s]\n"
     ]
    },
    {
     "name": "stdout",
     "output_type": "stream",
     "text": [
      "Epoch 3, Train Loss: 0.571555710, Train Accuracy: 22.6059655%\tVal Accuracy: 27.9434851%\n"
     ]
    },
    {
     "name": "stderr",
     "output_type": "stream",
     "text": [
      "Epoch 4 Training: 100%|██████████| 797/797 [00:52<00:00, 15.18it/s]\n"
     ]
    },
    {
     "name": "stdout",
     "output_type": "stream",
     "text": [
      "Epoch 4, Train Loss: 0.530594808, Train Accuracy: 24.9136578%\tVal Accuracy: 27.9748823%\n"
     ]
    },
    {
     "name": "stderr",
     "output_type": "stream",
     "text": [
      "Epoch 5 Training: 100%|██████████| 797/797 [00:52<00:00, 15.13it/s]\n"
     ]
    },
    {
     "name": "stdout",
     "output_type": "stream",
     "text": [
      "Epoch 5, Train Loss: 0.486675895, Train Accuracy: 26.6405024%\tVal Accuracy: 31.5855573%\n"
     ]
    },
    {
     "name": "stderr",
     "output_type": "stream",
     "text": [
      "Epoch 6 Training: 100%|██████████| 797/797 [00:52<00:00, 15.29it/s]\n"
     ]
    },
    {
     "name": "stdout",
     "output_type": "stream",
     "text": [
      "Epoch 6, Train Loss: 0.459753255, Train Accuracy: 27.8963893%\tVal Accuracy: 31.8367347%\n"
     ]
    },
    {
     "name": "stderr",
     "output_type": "stream",
     "text": [
      "Epoch 7 Training: 100%|██████████| 797/797 [00:52<00:00, 15.09it/s]\n"
     ]
    },
    {
     "name": "stdout",
     "output_type": "stream",
     "text": [
      "Epoch 7, Train Loss: 0.423219732, Train Accuracy: 29.3092622%\tVal Accuracy: 30.6436421%\n"
     ]
    },
    {
     "name": "stderr",
     "output_type": "stream",
     "text": [
      "Epoch 8 Training: 100%|██████████| 797/797 [00:52<00:00, 15.22it/s]\n"
     ]
    },
    {
     "name": "stdout",
     "output_type": "stream",
     "text": [
      "Epoch 8, Train Loss: 0.399483617, Train Accuracy: 30.6514914%\tVal Accuracy: 32.4646782%\n"
     ]
    },
    {
     "name": "stderr",
     "output_type": "stream",
     "text": [
      "Epoch 9 Training: 100%|██████████| 797/797 [00:52<00:00, 15.15it/s]\n"
     ]
    },
    {
     "name": "stdout",
     "output_type": "stream",
     "text": [
      "Epoch 9, Train Loss: 0.363181516, Train Accuracy: 33.6028257%\tVal Accuracy: 32.3390895%\n"
     ]
    },
    {
     "name": "stderr",
     "output_type": "stream",
     "text": [
      "Epoch 10 Training: 100%|██████████| 797/797 [00:52<00:00, 15.26it/s]\n"
     ]
    },
    {
     "name": "stdout",
     "output_type": "stream",
     "text": [
      "Epoch 10, Train Loss: 0.330392322, Train Accuracy: 35.2354788%\tVal Accuracy: 32.4018838%\n"
     ]
    },
    {
     "name": "stderr",
     "output_type": "stream",
     "text": [
      "Epoch 11 Training: 100%|██████████| 797/797 [00:52<00:00, 15.04it/s]\n"
     ]
    },
    {
     "name": "stdout",
     "output_type": "stream",
     "text": [
      "Epoch 11, Train Loss: 0.308158069, Train Accuracy: 37.0251177%\tVal Accuracy: 33.4379906%\n"
     ]
    },
    {
     "name": "stderr",
     "output_type": "stream",
     "text": [
      "Epoch 12 Training: 100%|██████████| 797/797 [00:52<00:00, 15.13it/s]\n"
     ]
    },
    {
     "name": "stdout",
     "output_type": "stream",
     "text": [
      "Epoch 12, Train Loss: 0.280136377, Train Accuracy: 39.2621664%\tVal Accuracy: 34.2229199%\n"
     ]
    },
    {
     "name": "stderr",
     "output_type": "stream",
     "text": [
      "Epoch 13 Training: 100%|██████████| 797/797 [00:52<00:00, 15.12it/s]\n"
     ]
    },
    {
     "name": "stdout",
     "output_type": "stream",
     "text": [
      "Epoch 13, Train Loss: 0.263209036, Train Accuracy: 40.3846154%\tVal Accuracy: 36.0439560%\n"
     ]
    },
    {
     "name": "stderr",
     "output_type": "stream",
     "text": [
      "Epoch 14 Training: 100%|██████████| 797/797 [00:52<00:00, 15.28it/s]\n"
     ]
    },
    {
     "name": "stdout",
     "output_type": "stream",
     "text": [
      "Epoch 14, Train Loss: 0.241321156, Train Accuracy: 42.2762951%\tVal Accuracy: 35.0078493%\n"
     ]
    },
    {
     "name": "stderr",
     "output_type": "stream",
     "text": [
      "Epoch 15 Training: 100%|██████████| 797/797 [00:52<00:00, 15.26it/s]\n"
     ]
    },
    {
     "name": "stdout",
     "output_type": "stream",
     "text": [
      "Epoch 15, Train Loss: 0.219401173, Train Accuracy: 44.4583987%\tVal Accuracy: 33.7833595%\n"
     ]
    },
    {
     "name": "stderr",
     "output_type": "stream",
     "text": [
      "Epoch 16 Training: 100%|██████████| 797/797 [00:52<00:00, 15.23it/s]\n"
     ]
    },
    {
     "name": "stdout",
     "output_type": "stream",
     "text": [
      "Epoch 16, Train Loss: 0.205463350, Train Accuracy: 45.7770801%\tVal Accuracy: 35.0078493%\n"
     ]
    },
    {
     "name": "stderr",
     "output_type": "stream",
     "text": [
      "Epoch 17 Training: 100%|██████████| 797/797 [00:52<00:00, 15.17it/s]\n"
     ]
    },
    {
     "name": "stdout",
     "output_type": "stream",
     "text": [
      "Epoch 17, Train Loss: 0.194049203, Train Accuracy: 47.3940345%\tVal Accuracy: 34.8822606%\n"
     ]
    },
    {
     "name": "stderr",
     "output_type": "stream",
     "text": [
      "Epoch 18 Training: 100%|██████████| 797/797 [00:52<00:00, 15.19it/s]\n"
     ]
    },
    {
     "name": "stdout",
     "output_type": "stream",
     "text": [
      "Epoch 18, Train Loss: 0.180857333, Train Accuracy: 48.3124019%\tVal Accuracy: 36.1067504%\n"
     ]
    },
    {
     "name": "stderr",
     "output_type": "stream",
     "text": [
      "Epoch 19 Training: 100%|██████████| 797/797 [00:53<00:00, 15.04it/s]\n"
     ]
    },
    {
     "name": "stdout",
     "output_type": "stream",
     "text": [
      "Epoch 19, Train Loss: 0.171881274, Train Accuracy: 50.1805338%\tVal Accuracy: 34.1915228%\n"
     ]
    },
    {
     "name": "stderr",
     "output_type": "stream",
     "text": [
      "Epoch 20 Training: 100%|██████████| 797/797 [00:51<00:00, 15.36it/s]\n"
     ]
    },
    {
     "name": "stdout",
     "output_type": "stream",
     "text": [
      "Epoch 20, Train Loss: 0.162499706, Train Accuracy: 51.2009419%\tVal Accuracy: 32.3390895%\n"
     ]
    }
   ],
   "source": [
    "clip = 5 # for exploding gradient problem\n",
    "train_losses = []\n",
    "train_accs = []\n",
    "sk_val_accs = []\n",
    "sk_train_accs = []\n",
    "for epoch in range(EPOCHS):\n",
    "\n",
    "\t# initialize the hidden state\n",
    "\thidden = model.lstm_model.init_hidden(batch_size=BATCH_SIZE)\n",
    "\n",
    "\tstart = 0 # index\n",
    "\ty_true = np.zeros((train_data.shape[0], N_CLASSES))\n",
    "\ty_preds = np.zeros((train_data.shape[0], N_CLASSES))\n",
    "\tn_total = 0\n",
    "\tn_correct = 0\n",
    "\ttrain_loss = 0.\n",
    "\tmodel.train()\n",
    "\tfor image_names, images, captions, labels in tqdm(train_dataloader, desc=f\"Epoch {epoch+1} Training: \"):\n",
    "\n",
    "\t\tif torch.cuda.is_available():\n",
    "\t\t\timages = images.to('cuda')\n",
    "\t\t\tcaptions = captions.to('cuda')\n",
    "\t\t\tlabels = labels.to('cuda')\n",
    "\t\t\n",
    "\t\t# creating new variables for the hidden state, otherwise\n",
    "\t\t# we'd backprop through the entire training history\n",
    "\t\thidden = tuple([each.data for each in hidden])\n",
    "\n",
    "\t\toptimizer.zero_grad()\n",
    "\t\ty_pred, hidden = model(images, captions, hidden)\n",
    "\n",
    "\t\t# backward\n",
    "\t\tloss = loss_fn(y_pred, labels)\n",
    "\t\tloss.backward()\n",
    "\n",
    "\t\t# clip_grad_norm helps prevent the exploding gradient problem in RNNs/LSTMs\n",
    "\t\tnn.utils.clip_grad_norm_(model.parameters(), clip)\n",
    "\n",
    "\t\t# update\n",
    "\t\toptimizer.step()\n",
    "\n",
    "\t\t# compare\n",
    "\t\tpredicted = (F.sigmoid(y_pred) > THRESHOLD).int()\n",
    "\n",
    "\t\tn = images.shape[0]\n",
    "\t\ty_true[start:start+n] = labels.cpu().numpy()\n",
    "\t\ty_preds[start:start+n] = predicted.cpu().numpy()\n",
    "\t\tstart = start + n\n",
    "\n",
    "\t\ttrain_loss += loss.item()\n",
    "\t\tn_correct += torch.all(torch.eq(predicted, labels), dim=1).sum()\n",
    "\t\tn_total += labels.shape[0]\n",
    "\n",
    "\ttrain_losses.append(train_loss / len(train_dataloader))\n",
    "\ttrain_accs.append(n_correct / n_total)\n",
    "\tsk_train_accs.append(accuracy_score(y_true, y_preds))\n",
    "\n",
    "\tprint(\"Epoch {:d}, Train Loss: {:.9f}, Train Accuracy: {:.7f}%\".format(epoch+1, \n",
    "\t\t\t\t\t\t\t\t\t\t\t\t\t\t\t\t\t\ttrain_losses[-1], \n",
    "\t\t\t\t\t\t\t\t\t\t\t\t\t\t\t\t\t\taccuracy_score(y_true, y_preds)*100), end=\"\")\n",
    "\t\n",
    "\t# initialize the hidden state\n",
    "\tval_hidden = model.lstm_model.init_hidden(batch_size=BATCH_SIZE)\n",
    "\n",
    "\tstart = 0 # index\n",
    "\ty_true = np.zeros((val_data.shape[0], N_CLASSES))\n",
    "\ty_preds = np.zeros((val_data.shape[0], N_CLASSES))\n",
    "\tmodel.eval()\n",
    "\tfor (_, images, captions, labels) in val_dataloader:\n",
    "\n",
    "\t\t# creating new variables for the hidden state, otherwise\n",
    "\t\t# we'd backprop through the entire training history\n",
    "\t\tval_hidden = tuple([each.data for each in val_hidden])\n",
    "\t\t\n",
    "\t\tif torch.cuda.is_available():\n",
    "\t\t\timages = images.to('cuda')\n",
    "\t\t\tcaptions = captions.to('cuda')\n",
    "\t\t\tlabels = labels.to('cuda')\n",
    "\t\t\n",
    "\t\toutputs, _ = model(images, captions, val_hidden)\n",
    "\t\tpredicted = (F.sigmoid(outputs) > THRESHOLD).int()\n",
    "\n",
    "\t\tn = images.shape[0]\n",
    "\t\ty_true[start:start+n] = labels.cpu().numpy()\n",
    "\t\ty_preds[start:start+n] = predicted.cpu().numpy()\n",
    "\t\tstart = start + n\n",
    "\t\n",
    "\tsk_val_accs.append(accuracy_score(y_true, y_preds))\n",
    "\tprint(\"\\tVal Accuracy: {:.7f}%\".format(accuracy_score(y_true, y_preds)*100))"
   ]
  },
  {
   "cell_type": "markdown",
   "metadata": {},
   "source": [
    "## Graphs and Evaluation"
   ]
  },
  {
   "cell_type": "code",
   "execution_count": 13,
   "metadata": {},
   "outputs": [],
   "source": [
    "import matplotlib.pyplot as plt"
   ]
  },
  {
   "cell_type": "code",
   "execution_count": 14,
   "metadata": {},
   "outputs": [
    {
     "data": {
      "image/png": "[encoded data removed]",
      "text/plain": [
       "<Figure size 640x480 with 1 Axes>"
      ]
     },
     "metadata": {},
     "output_type": "display_data"
    }
   ],
   "source": [
    "plt.title(\"Training Losses vs Epoch\")\n",
    "plt.plot(train_losses)\n",
    "plt.ylabel(\"Epoch\")\n",
    "plt.xlabel(\"Loss\")\n",
    "plt.show()"
   ]
  },
  {
   "cell_type": "code",
   "execution_count": 15,
   "metadata": {},
   "outputs": [
    {
     "data": {
      "image/png": "[encoded data removed]",
      "text/plain": [
       "<Figure size 640x480 with 1 Axes>"
      ]
     },
     "metadata": {},
     "output_type": "display_data"
    }
   ],
   "source": [
    "new_train_accs = []\n",
    "for train_acc in train_accs:\n",
    "    new_train_accs.append(train_acc.item())\n",
    "\n",
    "plt.title(\"Training Accuracies vs Epoch\")\n",
    "plt.plot(new_train_accs)\n",
    "plt.ylabel(\"Accuracy\")\n",
    "plt.xlabel(\"Loss\")\n",
    "plt.show()"
   ]
  },
  {
   "cell_type": "markdown",
   "metadata": {},
   "source": [
    "## Save, Test and Load Model"
   ]
  },
  {
   "cell_type": "code",
   "execution_count": 16,
   "metadata": {},
   "outputs": [],
   "source": [
    "torch.save(model.state_dict(), '../combined_model_1.pth')"
   ]
  },
  {
   "cell_type": "code",
   "execution_count": 17,
   "metadata": {},
   "outputs": [
    {
     "data": {
      "text/plain": [
       "<All keys matched successfully>"
      ]
     },
     "execution_count": 17,
     "metadata": {},
     "output_type": "execute_result"
    }
   ],
   "source": [
    "model = CombinedModel(\n",
    "\tchoice=\"regnet_x_1_6gf\",\n",
    "\tpretrained=True, \t\t# if pretrained is False, then freeze should also be False\n",
    "\tfreeze=True,\n",
    "\tcnn_n_out=256,\n",
    "\tno_layers=2,\n",
    "\tvocab_size=len(vocab), \t# already added by 1\n",
    "\tembedding_dim=64,\n",
    "\tlstm_hidden_dim=256,\n",
    "\tlstm_n_out=128,\n",
    ")\n",
    "model.load_state_dict(torch.load('../combined_model_1.pth'))"
   ]
  },
  {
   "cell_type": "code",
   "execution_count": 18,
   "metadata": {},
   "outputs": [
    {
     "name": "stdout",
     "output_type": "stream",
     "text": [
      "using GPU\n"
     ]
    }
   ],
   "source": [
    "# create a file for test submission\n",
    "f = open('../submission_combined.csv', \"w\")\n",
    "f.write(\"ImageID,Labels\\n\")\n",
    "\n",
    "# utilise GPU\n",
    "if torch.cuda.is_available():\n",
    "\tprint('using GPU')\n",
    "\tmodel = model.to('cuda')\n",
    "\n",
    "# initialize the hidden state\n",
    "hidden = model.lstm_model.init_hidden(batch_size=BATCH_SIZE)\n",
    "\n",
    "# idx = 0\n",
    "model.eval()\n",
    "for (image_names, images, captions) in test_dataloader:\n",
    "\n",
    "\t# creating new variables for the hidden state, otherwise\n",
    "\t# we'd backprop through the entire training history\n",
    "\thidden = tuple([each.data for each in hidden])\n",
    "\t\n",
    "\tif torch.cuda.is_available():\n",
    "\t\timages = images.to('cuda')\n",
    "\t\tcaptions = captions.to('cuda')\n",
    "\t\n",
    "\toutputs, _ = model(images, captions, hidden)\n",
    "\tpredicted = (F.sigmoid(outputs) > THRESHOLD).int()\n",
    "\n",
    "\t# NOTE: add 1 to the output of predicted!\n",
    "\t# write the output\n",
    "\tfor i, predicted_label in enumerate(predicted):\n",
    "\t\tlabel = (predicted_label == torch.max(predicted_label)).nonzero().flatten()\n",
    "\t\tlabel += 1\n",
    "\t\tlabel = label.tolist()\n",
    "\t\tlabel = \" \".join(str(x) for x in label)\n",
    "\n",
    "\t\tf.write(image_names[i].split(\"/\")[-1] + \",\" + str(label) +\"\\n\")\n",
    "\n",
    "f.close()"
   ]
  },
  {
   "cell_type": "code",
   "execution_count": 19,
   "metadata": {},
   "outputs": [
    {
     "name": "stdout",
     "output_type": "stream",
     "text": [
      "using GPU\n"
     ]
    }
   ],
   "source": [
    "# create a file for test submission\n",
    "f = open('../train_combined.csv', \"w\")\n",
    "f.write(\"ImageID,Labels\\n\")\n",
    "\n",
    "# utilise GPU\n",
    "if torch.cuda.is_available():\n",
    "\tprint('using GPU')\n",
    "\tmodel = model.to('cuda')\n",
    "\n",
    "# initialize the hidden state\n",
    "hidden = model.lstm_model.init_hidden(batch_size=BATCH_SIZE)\n",
    "\n",
    "# idx = 0\n",
    "model.eval()\n",
    "for (image_names, images, captions, _) in train_dataloader:\n",
    "\n",
    "\t# creating new variables for the hidden state, otherwise\n",
    "\t# we'd backprop through the entire training history\n",
    "\thidden = tuple([each.data for each in hidden])\n",
    "\t\n",
    "\tif torch.cuda.is_available():\n",
    "\t\timages = images.to('cuda')\n",
    "\t\tcaptions = captions.to('cuda')\n",
    "\t\n",
    "\toutputs, _ = model(images, captions, hidden)\n",
    "\tpredicted = (F.sigmoid(outputs) > THRESHOLD).int()\n",
    "\n",
    "\t# NOTE: add 1 to the output of predicted!\n",
    "\t# write the output\n",
    "\tfor i, predicted_label in enumerate(predicted):\n",
    "\t\tlabel = (predicted_label == torch.max(predicted_label)).nonzero().flatten()\n",
    "\t\tlabel += 1\n",
    "\t\tlabel = label.tolist()\n",
    "\t\tlabel = \" \".join(str(x) for x in label)\n",
    "\n",
    "\t\tf.write(image_names[i].split(\"/\")[-1] + \",\" + str(label) +\"\\n\")\n",
    "\n",
    "f.close()"
   ]
  }
 ],
 "metadata": {
  "kernelspec": {
   "display_name": "Python 3",
   "language": "python",
   "name": "python3"
  },
  "language_info": {
   "codemirror_mode": {
    "name": "ipython",
    "version": 3
   },
   "file_extension": ".py",
   "mimetype": "text/x-python",
   "name": "python",
   "nbconvert_exporter": "python",
   "pygments_lexer": "ipython3",
   "version": "3.10.12"
  }
 },
 "nbformat": 4,
 "nbformat_minor": 2
}
